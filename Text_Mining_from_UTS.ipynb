{
  "metadata": {
    "colab": {
      "provenance": [],
      "gpuType": "T4",
      "include_colab_link": true
    },
    "kernelspec": {
      "name": "python3",
      "display_name": "Python 3"
    },
    "language_info": {
      "name": "python",
      "version": "3.10.13",
      "mimetype": "text/x-python",
      "codemirror_mode": {
        "name": "ipython",
        "version": 3
      },
      "pygments_lexer": "ipython3",
      "nbconvert_exporter": "python",
      "file_extension": ".py"
    },
    "kaggle": {
      "accelerator": "none",
      "dataSources": [],
      "dockerImageVersionId": 30702,
      "isInternetEnabled": true,
      "language": "python",
      "sourceType": "notebook",
      "isGpuEnabled": false
    },
    "accelerator": "GPU"
  },
  "nbformat_minor": 0,
  "nbformat": 4,
  "cells": [
    {
      "cell_type": "markdown",
      "metadata": {
        "id": "view-in-github",
        "colab_type": "text"
      },
      "source": [
        "<a href=\"https://colab.research.google.com/github/metiyu/textmining/blob/main/Text_Mining_from_UTS.ipynb\" target=\"_parent\"><img src=\"https://colab.research.google.com/assets/colab-badge.svg\" alt=\"Open In Colab\"/></a>"
      ]
    },
    {
      "cell_type": "markdown",
      "source": [
        "###Text Mining using **SVM** and **Random Forest** with **TF-IDF** and **Word2Vec** taken from **Web Scrapping news website** in Indonesia"
      ],
      "metadata": {
        "id": "j67W_6J-bkXU"
      }
    },
    {
      "cell_type": "code",
      "source": [
        "import requests\n",
        "from bs4 import BeautifulSoup\n",
        "import pandas as pd\n",
        "import numpy as np"
      ],
      "metadata": {
        "id": "fUrYCTHP35x_",
        "execution": {
          "iopub.status.busy": "2024-04-22T11:33:27.910728Z",
          "iopub.execute_input": "2024-04-22T11:33:27.911220Z",
          "iopub.status.idle": "2024-04-22T11:33:29.417489Z",
          "shell.execute_reply.started": "2024-04-22T11:33:27.911185Z",
          "shell.execute_reply": "2024-04-22T11:33:29.416319Z"
        },
        "trusted": true
      },
      "execution_count": 1,
      "outputs": []
    },
    {
      "cell_type": "markdown",
      "source": [
        "### Web Scrapping\n",
        "To collect news text data using the **web scrapping** method, we will use the websites **Liputan 6**, **CNN Indonesia**, and **Tempo**. On each website, **4 different categories** will be taken (meaning there are 4 different website pages) according to the category. The categories consist of **Politics**, **Sports**, **Business** and **Entertainment**. So to adjust the differences in each website, each **user-defined** function will be created.\n",
        "\n",
        "Web scrapping will use the **Beutiful Soup** library. Beautiful Soup is a library that makes it easy to scrape information from web pages. It sits on top of an HTML or XML parser, providing Python idioms for iterating, searching, and modifying the parsing tree."
      ],
      "metadata": {
        "id": "buIlSU_RcJLH"
      }
    },
    {
      "cell_type": "code",
      "source": [
        "# Example of web scrapping using Beautiful Soup\n",
        "response = requests.get(\"https://www.liputan6.com\")\n",
        "# Retrieve website page and parse with html\n",
        "soup = BeautifulSoup(response.content, 'html.parser')\n",
        "# Need to retrieve the class of the desired html component, in this case the article class\n",
        "articles = soup.select(\".articles--iridescent-list article\")\n",
        "print(articles)"
      ],
      "metadata": {
        "id": "LJjvqpCVfl3f",
        "execution": {
          "iopub.status.busy": "2024-04-22T11:33:29.419413Z",
          "iopub.execute_input": "2024-04-22T11:33:29.419944Z",
          "iopub.status.idle": "2024-04-22T11:33:29.773598Z",
          "shell.execute_reply.started": "2024-04-22T11:33:29.419913Z",
          "shell.execute_reply": "2024-04-22T11:33:29.772566Z"
        },
        "trusted": true,
        "colab": {
          "base_uri": "https://localhost:8080/"
        },
        "outputId": "a8bdb46d-19e6-4fe3-d8dc-7c87c3778f83"
      },
      "execution_count": 2,
      "outputs": [
        {
          "output_type": "stream",
          "name": "stdout",
          "text": [
            "[<article class=\"articles--iridescent-list--item articles--iridescent-list--text-item\" data-article-id=\"5588070\" data-category=\"Infografis\" data-channel=\"News\" data-component-name=\"desktop:articles:iridescent-list:text-item\" data-slug=\"infografis-timnas-indonesia-u-23-berburu-tiket-terakhir-olimpiade-paris-2024-harapan-dan-head-to-head-lawan-guinea\" data-template-name=\"article-iridescent-list-text\" data-template-var=\"container\" data-title=\"Infografis Timnas Indonesia U-23 Berburu Tiket Terakhir Olimpiade Paris 2024, Harapan, dan Head to Head Lawan Guinea\" data-type=\"TextTypeArticle\" id=\"article_5588070\"><figure class=\"articles--iridescent-list--text-item__figure-thumbnail\"><a class=\"ui--a articles--iridescent-list--text-item__figure-thumbnail-link\" data-kanal-page=\"news\" data-template-var=\"url\" href=\"https://www.liputan6.com/news/read/5588070/infografis-timnas-indonesia-u-23-berburu-tiket-terakhir-olimpiade-paris-2024-harapan-dan-head-to-head-lawan-guinea\" title=\"Infografis Timnas Indonesia U-23 Berburu Tiket Terakhir Olimpiade Paris 2024, Harapan, dan Head to Head Lawan Guinea\"><picture class=\"articles--iridescent-list--text-item__figure-image\"><img alt=\"Banner Infografis Guinea vs Timnas Indonesia U-23 Berburu Tiket Terakhir Olimpiade Paris 2024 (Liputan6.com/Abdillah)\" class=\"js-lazyload articles--iridescent-list--text-item__figure-image-lazyload\" data-height=\"112\" data-high-dpi=\"https://cdn0-production-images-kly.akamaized.net/4adcrjzxL-YSJfQ44ZR5KIDv_AM=/400x224/smart/filters:quality(75):strip_icc():format(webp)/kly-media-production/medias/4821113/original/015767200_1714740656-Guinea_vs_Indonesia.jpg\" data-src=\"https://cdn0-production-images-kly.akamaized.net/8SJebE1n4HyiNZcEvlMVlBVbaqw=/200x112/smart/filters:quality(75):strip_icc():format(webp)/kly-media-production/medias/4821113/original/015767200_1714740656-Guinea_vs_Indonesia.jpg\" data-template-var=\"image\" data-width=\"200\" height=\"112\" src=\"https://cdn-production-assets-kly.akamaized.net/assets/images/blank.png\" width=\"200\"/></picture></a></figure><aside class=\"articles--iridescent-list--text-item__details\"><header class=\"articles--iridescent-list--text-item__header\"><a class=\"articles--iridescent-list--text-item__category\" data-template-var=\"category\" href=\"https://www.liputan6.com/news/infografis\">Infografis</a><h4 class=\"articles--iridescent-list--text-item__title\"><a class=\"ui--a articles--iridescent-list--text-item__title-link\" data-kanal-page=\"news\" data-template-var=\"url\" href=\"https://www.liputan6.com/news/read/5588070/infografis-timnas-indonesia-u-23-berburu-tiket-terakhir-olimpiade-paris-2024-harapan-dan-head-to-head-lawan-guinea\" title=\"Infografis Timnas Indonesia U-23 Berburu Tiket Terakhir Olimpiade Paris 2024, Harapan, dan Head to Head Lawan Guinea\"><span class=\"articles--iridescent-list--text-item__title-link-text\" data-template-var=\"title\">Infografis Timnas Indonesia U-23 Berburu Tiket Terakhir Olimpiade Paris 2024, Harapan, dan...</span></a></h4></header><div class=\"articles--iridescent-list--text-item__summary articles--iridescent-list--text-item__summary-seo\" data-template-var=\"summary\">Masih ada secercah harapan untuk Timnas Indonesia U-23 merebut tiket terakhir Olimpiade Paris 2024. Guinea menjadi tantangan yang harus dilalui Garuda Muda dengan kemenangan.</div></aside></article>, <article class=\"articles--iridescent-list--item articles--iridescent-list--video-item\" data-article-id=\"5589254\" data-category=\"ShowBiz\" data-channel=\"ShowBiz\" data-component-name=\"desktop:articles:iridescent-list:video-item\" data-slug=\"video-bernard-hill-bintang-titanic-dan-the-lord-of-the-rings-meninggal-dunia-di-usia-79\" data-template-name=\"article-iridescent-list-video\" data-template-var=\"container\" data-title=\"VIDEO: Bernard Hill, Bintang 'Titanic' dan 'The Lord of the Rings', Meninggal Dunia di Usia 79\" data-type=\"VideoTypeArticle\" id=\"article_5589254\"><aside class=\"articles--iridescent-list--video-item__details\"><header class=\"articles--iridescent-list--video-item__header\"><a class=\"articles--iridescent-list--video-item__category\" data-template-var=\"category\" href=\"https://www.liputan6.com/showbiz\">ShowBiz</a><span class=\"articles--iridescent-list--video-item__datetime\" data-template-var=\"date\"><time class=\"articles--iridescent-list--video-item__time timeago\" datetime=\"2024-05-06T10:17:04+07:00\">06 Mei 2024 10:17</time></span><h4 class=\"articles--iridescent-list--video-item__title\"><a class=\"ui--a articles--iridescent-list--video-item__title-link\" data-kanal-page=\"showbiz\" data-template-var=\"url\" href=\"https://enamplus.liputan6.com/showbiz/read/5589254/video-bernard-hill-bintang-titanic-dan-the-lord-of-the-rings-meninggal-dunia-di-usia-79\" title=\"VIDEO: Bernard Hill, Bintang 'Titanic' dan 'The Lord of the Rings', Meninggal Dunia di Usia 79\"><span class=\"articles--iridescent-list--video-item__title-link-text\" data-template-var=\"title\">VIDEO: Bernard Hill, Bintang 'Titanic' dan 'The Lord of the Rings', Meninggal Dunia di Usi...</span></a></h4></header></aside><div class=\"articles--iridescent-list--video-item__videos-wrapper\"><a class=\"ui--a articles--iridescent-list--video-item__link\" data-kanal-page=\"showbiz\" href=\"https://enamplus.liputan6.com/showbiz/read/5589254/video-bernard-hill-bintang-titanic-dan-the-lord-of-the-rings-meninggal-dunia-di-usia-79\" title=\"VIDEO: Bernard Hill, Bintang 'Titanic' dan 'The Lord of the Rings', Meninggal Dunia di Usia 79\"><figure class=\"articles--iridescent-list--video-item__thumbnail\"><picture class=\"articles--iridescent-list--video-item__thumbnail-image\"><img alt='Bernard Hill, aktor terkenal yang berperan sebagai Kapten Edward Smith dalam \"Titanic\" dan Raja Théoden dalam trilogi \"The Lord of the Rings\", telah meninggal pada usia 79 tahun. Dilaporkan meninggal pada Minggu pagi oleh agennya' class=\"js-lazyload articles--iridescent-list--video-item__thumbnail-image-lazyload\" data-height=\"360\" data-high-dpi=\"https://cdn1-production-images-kly.akamaized.net/odU_X2PSjTjdRW1Zd1YaPcU26B8=/1280x720/smart/filters:quality(75):strip_icc():format(webp)/kly-media-production/thumbnails/4822756/original/039694600_1714965427-bernard-hill-bintang-titanic-dan-the-lord-of-the-rings-meninggal-dunia-di-usia-79-8b48cc.jpg\" data-src=\"https://cdn1-production-images-kly.akamaized.net/zZr7TOE3am2ZBuqlOmQnqQwbaIk=/640x360/smart/filters:quality(75):strip_icc():format(webp)/kly-media-production/thumbnails/4822756/original/039694600_1714965427-bernard-hill-bintang-titanic-dan-the-lord-of-the-rings-meninggal-dunia-di-usia-79-8b48cc.jpg\" data-template-var=\"image\" data-width=\"640\" height=\"360\" src=\"https://cdn-production-assets-kly.akamaized.net/assets/images/blank.png\" width=\"640\"/></picture></figure><span class=\"articles--iridescent-list--video-item__duration\">01:53</span><span class=\"articles--iridescent-list--video-item__play-button\"><i class=\"i-big-play-button\"></i></span></a></div></article>, <article class=\"articles--iridescent-list--item articles--iridescent-list--text-item\" data-article-id=\"5589246\" data-category=\"Ekonomi\" data-channel=\"Bisnis\" data-component-name=\"desktop:articles:iridescent-list:text-item\" data-slug=\"indonesia-masuk-white-list-tokyo-mou-4-tahun-beruntun-ini-manfaatnya\" data-template-name=\"article-iridescent-list-text\" data-template-var=\"container\" data-title=\"Indonesia Masuk White List Tokyo MoU 4 Tahun Beruntun, Ini Manfaatnya\" data-type=\"TextTypeArticle\" id=\"article_5589246\"><figure class=\"articles--iridescent-list--text-item__figure-thumbnail\"><a class=\"ui--a articles--iridescent-list--text-item__figure-thumbnail-link\" data-kanal-page=\"bisnis\" data-template-var=\"url\" href=\"https://www.liputan6.com/bisnis/read/5589246/indonesia-masuk-white-list-tokyo-mou-4-tahun-beruntun-ini-manfaatnya\" title=\"Indonesia Masuk White List Tokyo MoU 4 Tahun Beruntun, Ini Manfaatnya\"><picture class=\"articles--iridescent-list--text-item__figure-image\"><img alt=\"Aktifitas kapal ekspor inpor di pelabuhan Tanjung Priok, Jakarta, Jumat (26/5). Badan Pusat Statistik (BPS) mencatat neraca perdagangan Indonesia mengalami surplus 1,24 miliar . (Liputan6.com/Angga Yuniar)\" class=\"js-lazyload articles--iridescent-list--text-item__figure-image-lazyload\" data-height=\"112\" data-high-dpi=\"https://cdn0-production-images-kly.akamaized.net/4BlFASWTyPP4W2ur-oIo7LP5wD8=/400x224/smart/filters:quality(75):strip_icc():format(webp)/kly-media-production/medias/1605839/original/059165100_1495793906-20170526-Ekspor-Impor-AY4.jpg\" data-src=\"https://cdn0-production-images-kly.akamaized.net/pDWxvGENCMgna-yGttHKzpsPiWk=/200x112/smart/filters:quality(75):strip_icc():format(webp)/kly-media-production/medias/1605839/original/059165100_1495793906-20170526-Ekspor-Impor-AY4.jpg\" data-template-var=\"image\" data-width=\"200\" height=\"112\" src=\"https://cdn-production-assets-kly.akamaized.net/assets/images/blank.png\" width=\"200\"/></picture></a></figure><aside class=\"articles--iridescent-list--text-item__details\"><header class=\"articles--iridescent-list--text-item__header\"><a class=\"articles--iridescent-list--text-item__category\" data-template-var=\"category\" href=\"https://www.liputan6.com/bisnis/ekonomi\">Ekonomi</a><span class=\"articles--iridescent-list--text-item__datetime\" data-template-var=\"date\"><time class=\"articles--iridescent-list--text-item__time timeago\" datetime=\"2024-05-06T10:15:42+07:00\">06 Mei 2024 10:15</time></span><h4 class=\"articles--iridescent-list--text-item__title\"><a class=\"ui--a articles--iridescent-list--text-item__title-link\" data-kanal-page=\"bisnis\" data-template-var=\"url\" href=\"https://www.liputan6.com/bisnis/read/5589246/indonesia-masuk-white-list-tokyo-mou-4-tahun-beruntun-ini-manfaatnya\" title=\"Indonesia Masuk White List Tokyo MoU 4 Tahun Beruntun, Ini Manfaatnya\"><span class=\"articles--iridescent-list--text-item__title-link-text\" data-template-var=\"title\">Indonesia Masuk White List Tokyo MoU 4 Tahun Beruntun, Ini Manfaatnya</span></a></h4></header><div class=\"articles--iridescent-list--text-item__summary articles--iridescent-list--text-item__summary-seo\" data-template-var=\"summary\">Direktur Jenderal Perhubungan Laut Kemen Antoni Arif Priadi menuturkan, pihaknya berupaya menjaga performa kapal Indonesia yang berlayar internasional untuk pertahankan status white list.</div></aside></article>, <article class=\"articles--iridescent-list--item articles--iridescent-list--text-item\" data-article-id=\"5589227\" data-category=\"Energi &amp; Tambang\" data-channel=\"Bisnis\" data-component-name=\"desktop:articles:iridescent-list:text-item\" data-slug=\"hore-rupiah-akhirnya-menguat-ke-15985-per-dolar-as\" data-template-name=\"article-iridescent-list-text\" data-template-var=\"container\" data-title=\"Hore, Rupiah Akhirnya Menguat ke 15.985 per Dolar AS\" data-type=\"TextTypeArticle\" id=\"article_5589227\"><figure class=\"articles--iridescent-list--text-item__figure-thumbnail\"><a class=\"ui--a articles--iridescent-list--text-item__figure-thumbnail-link\" data-kanal-page=\"bisnis\" data-template-var=\"url\" href=\"https://www.liputan6.com/bisnis/read/5589227/hore-rupiah-akhirnya-menguat-ke-15985-per-dolar-as\" title=\"Hore, Rupiah Akhirnya Menguat ke 15.985 per Dolar AS\"><picture class=\"articles--iridescent-list--text-item__figure-image\"><img alt=\"Petugas menghitung uang pecahan US$100 di pusat penukaran uang, Jakarta, , Rabu (12/8/2015). Reshuffle kabinet pemerintahan Jokowi-JK, nilai Rupiah terahadap Dollar AS hingga siang ini menembus Rp 13.849. (Liputan6.com/Johan Tallo)\" class=\"js-lazyload articles--iridescent-list--text-item__figure-image-lazyload\" data-height=\"112\" data-high-dpi=\"https://cdn1-production-images-kly.akamaized.net/SjCXNnOmeNo0u0mHjhLhSrt_J0Q=/400x224/smart/filters:quality(75):strip_icc():format(webp)/kly-media-production/medias/953316/original/021276300_1439363719-20150812-Rupiah-Anjlok4.jpg\" data-src=\"https://cdn1-production-images-kly.akamaized.net/uYb2jA4ned2XFe12baqxZTW1wLw=/200x112/smart/filters:quality(75):strip_icc():format(webp)/kly-media-production/medias/953316/original/021276300_1439363719-20150812-Rupiah-Anjlok4.jpg\" data-template-var=\"image\" data-width=\"200\" height=\"112\" src=\"https://cdn-production-assets-kly.akamaized.net/assets/images/blank.png\" width=\"200\"/></picture></a></figure><aside class=\"articles--iridescent-list--text-item__details\"><header class=\"articles--iridescent-list--text-item__header\"><a class=\"articles--iridescent-list--text-item__category\" data-template-var=\"category\" href=\"https://www.liputan6.com/bisnis/energi-tambang\">Energi &amp; Tambang</a><span class=\"articles--iridescent-list--text-item__datetime\" data-template-var=\"date\"><time class=\"articles--iridescent-list--text-item__time timeago\" datetime=\"2024-05-06T10:15:26+07:00\">06 Mei 2024 10:15</time></span><h4 class=\"articles--iridescent-list--text-item__title\"><a class=\"ui--a articles--iridescent-list--text-item__title-link\" data-kanal-page=\"bisnis\" data-template-var=\"url\" href=\"https://www.liputan6.com/bisnis/read/5589227/hore-rupiah-akhirnya-menguat-ke-15985-per-dolar-as\" title=\"Hore, Rupiah Akhirnya Menguat ke 15.985 per Dolar AS\"><span class=\"articles--iridescent-list--text-item__title-link-text\" data-template-var=\"title\">Hore, Rupiah Akhirnya Menguat ke 15.985 per Dolar AS</span></a></h4></header><div class=\"articles--iridescent-list--text-item__summary articles--iridescent-list--text-item__summary-seo\" data-template-var=\"summary\">Rupiah hari ini menguat tinggalkan level 16.000 per dolar AS didorong data Non-Farm Payroll (NFP) dan Purchasing Managers' Index (PMI) Manufaktur ISM Amerika Serikat (AS) lebih lemah dari perkiraan.</div></aside></article>, <article class=\"articles--iridescent-list--item articles--iridescent-list--text-item\" data-article-id=\"5589066\" data-category=\"Oto News\" data-channel=\"Otomotif\" data-component-name=\"desktop:articles:iridescent-list:text-item\" data-slug=\"wuling-pamer-mobil-listrik-terbaru-cloud-ev-di-depan-komunitas-asuhannya\" data-template-name=\"article-iridescent-list-text\" data-template-var=\"container\" data-title=\"Wuling Pamer Mobil Listrik Terbaru Cloud EV di Depan Komunitas Asuhannya\" data-type=\"TextTypeArticle\" id=\"article_5589066\"><figure class=\"articles--iridescent-list--text-item__figure-thumbnail\"><a class=\"ui--a articles--iridescent-list--text-item__figure-thumbnail-link\" data-kanal-page=\"otomotif\" data-template-var=\"url\" href=\"https://www.liputan6.com/otomotif/read/5589066/wuling-pamer-mobil-listrik-terbaru-cloud-ev-di-depan-komunitas-asuhannya\" title=\"Wuling Pamer Mobil Listrik Terbaru Cloud EV di Depan Komunitas Asuhannya\"><picture class=\"articles--iridescent-list--text-item__figure-image\"><img alt=\"Wuling Cloud EV dalam ajang Periklindo Electric Vehicle Show (PEVS) 2024. (Dok. Wuling)\" class=\"js-lazyload articles--iridescent-list--text-item__figure-image-lazyload\" data-height=\"112\" data-high-dpi=\"https://cdn0-production-images-kly.akamaized.net/yGjRrL_uSiXWMxQqn1DVBaSI-bw=/400x224/smart/filters:quality(75):strip_icc():format(webp)/kly-media-production/medias/4822193/original/068877700_1714886027-Wuling_Cloud_EV_4.jpg\" data-src=\"https://cdn0-production-images-kly.akamaized.net/0X4WduymPniXUfnXriKfbn6rLe4=/200x112/smart/filters:quality(75):strip_icc():format(webp)/kly-media-production/medias/4822193/original/068877700_1714886027-Wuling_Cloud_EV_4.jpg\" data-template-var=\"image\" data-width=\"200\" height=\"112\" src=\"https://cdn-production-assets-kly.akamaized.net/assets/images/blank.png\" width=\"200\"/></picture></a></figure><aside class=\"articles--iridescent-list--text-item__details\"><header class=\"articles--iridescent-list--text-item__header\"><a class=\"articles--iridescent-list--text-item__category\" data-template-var=\"category\" href=\"https://www.liputan6.com/otomotif/oto-news\">Oto News</a><span class=\"articles--iridescent-list--text-item__datetime\" data-template-var=\"date\"><time class=\"articles--iridescent-list--text-item__time timeago\" datetime=\"2024-05-06T10:11:59+07:00\">06 Mei 2024 10:11</time></span><h4 class=\"articles--iridescent-list--text-item__title\"><a class=\"ui--a articles--iridescent-list--text-item__title-link\" data-kanal-page=\"otomotif\" data-template-var=\"url\" href=\"https://www.liputan6.com/otomotif/read/5589066/wuling-pamer-mobil-listrik-terbaru-cloud-ev-di-depan-komunitas-asuhannya\" title=\"Wuling Pamer Mobil Listrik Terbaru Cloud EV di Depan Komunitas Asuhannya\"><span class=\"articles--iridescent-list--text-item__title-link-text\" data-template-var=\"title\">Wuling Pamer Mobil Listrik Terbaru Cloud EV di Depan Komunitas Asuhannya</span></a></h4></header><div class=\"articles--iridescent-list--text-item__summary articles--iridescent-list--text-item__summary-seo\" data-template-var=\"summary\">Perwakilan komunitas dari pabrikan asal Cina ini, mencoba langsung sensasi berkendara Wuling Cloud EV</div></aside></article>, <article class=\"articles--iridescent-list--item articles--iridescent-list--text-item\" data-article-id=\"5589102\" data-category=\"Surabaya\" data-channel=\"Surabaya\" data-component-name=\"desktop:articles:iridescent-list:text-item\" data-slug=\"daftar-pilkada-surabaya-ke-pkb-eri-armuji-ingin-satukan-kelompok-nasionalis-dan-religius\" data-template-name=\"article-iridescent-list-text\" data-template-var=\"container\" data-title=\"Daftar Pilkada Surabaya ke PKB, Eri-Armuji Ingin Satukan Kelompok Nasionalis dan Religius\" data-type=\"TextTypeArticle\" id=\"article_5589102\"><figure class=\"articles--iridescent-list--text-item__figure-thumbnail\"><a class=\"ui--a articles--iridescent-list--text-item__figure-thumbnail-link\" data-kanal-page=\"surabaya\" data-template-var=\"url\" href=\"https://www.liputan6.com/surabaya/read/5589102/daftar-pilkada-surabaya-ke-pkb-eri-armuji-ingin-satukan-kelompok-nasionalis-dan-religius\" title=\"Daftar Pilkada Surabaya ke PKB, Eri-Armuji Ingin Satukan Kelompok Nasionalis dan Religius\"><picture class=\"articles--iridescent-list--text-item__figure-image\"><img alt=\"Eri-Armuji daftar Pilkada Surabaya ke PKB. (Dian Kurniawan/Liputan6.com)\" class=\"js-lazyload articles--iridescent-list--text-item__figure-image-lazyload\" data-height=\"112\" data-high-dpi=\"https://cdn0-production-images-kly.akamaized.net/i067DCZVWXaLXscj2VHcmuHKlFo=/400x224/smart/filters:quality(75):strip_icc():format(webp)/kly-media-production/medias/4822588/original/085729100_1714954861-IMG-20240505-WA0046.jpg\" data-src=\"https://cdn0-production-images-kly.akamaized.net/L1LUktmo_hWC7Vvi22aaMg3yjO8=/200x112/smart/filters:quality(75):strip_icc():format(webp)/kly-media-production/medias/4822588/original/085729100_1714954861-IMG-20240505-WA0046.jpg\" data-template-var=\"image\" data-width=\"200\" height=\"112\" src=\"https://cdn-production-assets-kly.akamaized.net/assets/images/blank.png\" width=\"200\"/></picture></a></figure><aside class=\"articles--iridescent-list--text-item__details\"><header class=\"articles--iridescent-list--text-item__header\"><a class=\"articles--iridescent-list--text-item__category\" data-template-var=\"category\" href=\"https://www.liputan6.com/surabaya\">Surabaya</a><span class=\"articles--iridescent-list--text-item__datetime\" data-template-var=\"date\"><time class=\"articles--iridescent-list--text-item__time timeago\" datetime=\"2024-05-06T10:09:17+07:00\">06 Mei 2024 10:09</time></span><h4 class=\"articles--iridescent-list--text-item__title\"><a class=\"ui--a articles--iridescent-list--text-item__title-link\" data-kanal-page=\"surabaya\" data-template-var=\"url\" href=\"https://www.liputan6.com/surabaya/read/5589102/daftar-pilkada-surabaya-ke-pkb-eri-armuji-ingin-satukan-kelompok-nasionalis-dan-religius\" title=\"Daftar Pilkada Surabaya ke PKB, Eri-Armuji Ingin Satukan Kelompok Nasionalis dan Religius\"><span class=\"articles--iridescent-list--text-item__title-link-text\" data-template-var=\"title\">Daftar Pilkada Surabaya ke PKB, Eri-Armuji Ingin Satukan Kelompok Nasionalis dan Religius</span></a></h4></header><div class=\"articles--iridescent-list--text-item__summary articles--iridescent-list--text-item__summary-seo\" data-template-var=\"summary\">Eri Cahyadi dan Armudji mendaftar sebagai bacawali dan bacawawali Pilkada Surabaya 2024 di kantor DPC Partai Kebangkitan Bangsa (PKB).</div></aside></article>, <article class=\"articles--iridescent-list--item articles--iridescent-list--text-item\" data-article-id=\"5584262\" data-category=\"Citizen6\" data-channel=\"Citizen6\" data-component-name=\"desktop:articles:iridescent-list:text-item\" data-slug=\"5-risiko-kesehatan-yang-mengancam-jika-anda-terlalu-sering-makan-cookies\" data-template-name=\"article-iridescent-list-text\" data-template-var=\"container\" data-title=\"5 Risiko Kesehatan yang Mengancam jika Anda Terlalu Sering Makan Cookies\" data-type=\"TextTypeArticle\" id=\"article_5584262\"><figure class=\"articles--iridescent-list--text-item__figure-thumbnail\"><a class=\"ui--a articles--iridescent-list--text-item__figure-thumbnail-link\" data-kanal-page=\"citizen6\" data-template-var=\"url\" href=\"https://www.liputan6.com/citizen6/read/5584262/5-risiko-kesehatan-yang-mengancam-jika-anda-terlalu-sering-makan-cookies\" title=\"5 Risiko Kesehatan yang Mengancam jika Anda Terlalu Sering Makan Cookies\"><picture class=\"articles--iridescent-list--text-item__figure-image\"><img alt=\"Ilustrasi Cookies Credit: pexels.com/pixabay\" class=\"js-lazyload articles--iridescent-list--text-item__figure-image-lazyload\" data-height=\"112\" data-high-dpi=\"https://cdn1-production-images-kly.akamaized.net/JemDzxdMTVsHTkZpayEX3dK9U5I=/400x224/smart/filters:quality(75):strip_icc():format(webp)/kly-media-production/medias/3191323/original/097320100_1595833703-stack-oatmeal-cookies-with-dried-fruits-nuts_219795-69.jpg\" data-src=\"https://cdn1-production-images-kly.akamaized.net/Qlllfy4n_lklhyPBfxfZCanaFVY=/200x112/smart/filters:quality(75):strip_icc():format(webp)/kly-media-production/medias/3191323/original/097320100_1595833703-stack-oatmeal-cookies-with-dried-fruits-nuts_219795-69.jpg\" data-template-var=\"image\" data-width=\"200\" height=\"112\" src=\"https://cdn-production-assets-kly.akamaized.net/assets/images/blank.png\" width=\"200\"/></picture></a></figure><aside class=\"articles--iridescent-list--text-item__details\"><header class=\"articles--iridescent-list--text-item__header\"><a class=\"articles--iridescent-list--text-item__category\" data-template-var=\"category\" href=\"https://www.liputan6.com/citizen6\">Citizen6</a><span class=\"articles--iridescent-list--text-item__datetime\" data-template-var=\"date\"><time class=\"articles--iridescent-list--text-item__time timeago\" datetime=\"2024-05-06T10:06:59+07:00\">06 Mei 2024 10:06</time></span><h4 class=\"articles--iridescent-list--text-item__title\"><a class=\"ui--a articles--iridescent-list--text-item__title-link\" data-kanal-page=\"citizen6\" data-template-var=\"url\" href=\"https://www.liputan6.com/citizen6/read/5584262/5-risiko-kesehatan-yang-mengancam-jika-anda-terlalu-sering-makan-cookies\" title=\"5 Risiko Kesehatan yang Mengancam jika Anda Terlalu Sering Makan Cookies\"><span class=\"articles--iridescent-list--text-item__title-link-text\" data-template-var=\"title\">5 Risiko Kesehatan yang Mengancam jika Anda Terlalu Sering Makan Cookies</span></a></h4></header><div class=\"articles--iridescent-list--text-item__summary articles--iridescent-list--text-item__summary-seo\" data-template-var=\"summary\">Meskipun enak, ini yang tubuh Anda rasakan saat mengonsumsi cookies. Ada apa saja?</div></aside></article>, <article class=\"articles--iridescent-list--item articles--iridescent-list--text-item\" data-article-id=\"5589204\" data-category=\"Hot\" data-channel=\"Hot\" data-component-name=\"desktop:articles:iridescent-list:text-item\" data-slug=\"7-penyebab-sakit-tenggorokan-pahami-cara-pengobatannya\" data-template-name=\"article-iridescent-list-text\" data-template-var=\"container\" data-title=\"7 Penyebab Sakit Tenggorokan, Pahami Cara Pengobatannya\" data-type=\"TextTypeArticle\" id=\"article_5589204\"><figure class=\"articles--iridescent-list--text-item__figure-thumbnail\"><a class=\"ui--a articles--iridescent-list--text-item__figure-thumbnail-link\" data-kanal-page=\"hot\" data-template-var=\"url\" href=\"https://www.liputan6.com/hot/read/5589204/7-penyebab-sakit-tenggorokan-pahami-cara-pengobatannya\" title=\"7 Penyebab Sakit Tenggorokan, Pahami Cara Pengobatannya\"><picture class=\"articles--iridescent-list--text-item__figure-image\"><img alt=\"Ilustrasi sakit tenggorokan (sumber: iStock)\" class=\"js-lazyload articles--iridescent-list--text-item__figure-image-lazyload\" data-height=\"112\" data-high-dpi=\"https://cdn1-production-images-kly.akamaized.net/eloN12aY1yu1VixNypjy28nc5kw=/400x224/smart/filters:quality(75):strip_icc():format(webp)/kly-media-production/medias/2788625/original/060592800_1556192779-iStock-511735794.jpg\" data-src=\"https://cdn1-production-images-kly.akamaized.net/Nfy9ceX7L0PvcyQbXfNdmdZ7JlQ=/200x112/smart/filters:quality(75):strip_icc():format(webp)/kly-media-production/medias/2788625/original/060592800_1556192779-iStock-511735794.jpg\" data-template-var=\"image\" data-width=\"200\" height=\"112\" src=\"https://cdn-production-assets-kly.akamaized.net/assets/images/blank.png\" width=\"200\"/></picture></a></figure><aside class=\"articles--iridescent-list--text-item__details\"><header class=\"articles--iridescent-list--text-item__header\"><a class=\"articles--iridescent-list--text-item__category\" data-template-var=\"category\" href=\"https://www.liputan6.com/hot\">Hot</a><span class=\"articles--iridescent-list--text-item__datetime\" data-template-var=\"date\"><time class=\"articles--iridescent-list--text-item__time timeago\" datetime=\"2024-05-06T10:05:18+07:00\">06 Mei 2024 10:05</time></span><h4 class=\"articles--iridescent-list--text-item__title\"><a class=\"ui--a articles--iridescent-list--text-item__title-link\" data-kanal-page=\"hot\" data-template-var=\"url\" href=\"https://www.liputan6.com/hot/read/5589204/7-penyebab-sakit-tenggorokan-pahami-cara-pengobatannya\" title=\"7 Penyebab Sakit Tenggorokan, Pahami Cara Pengobatannya\"><span class=\"articles--iridescent-list--text-item__title-link-text\" data-template-var=\"title\">7 Penyebab Sakit Tenggorokan, Pahami Cara Pengobatannya</span></a></h4></header><div class=\"articles--iridescent-list--text-item__summary articles--iridescent-list--text-item__summary-seo\" data-template-var=\"summary\">Penyebab, gejala dan pengobatan sakit tenggorokan.</div></aside></article>, <article class=\"articles--iridescent-list--item articles--iridescent-list--text-item\" data-article-id=\"5589141\" data-category=\"Health Info\" data-channel=\"Health\" data-component-name=\"desktop:articles:iridescent-list:text-item\" data-slug=\"atasi-kekurangan-dokter-kemenkes-kembangkan-program-pendidikan-dokter-spesialis-berbasis-rumah-sakit\" data-template-name=\"article-iridescent-list-text\" data-template-var=\"container\" data-title=\"Atasi Kekurangan Dokter, Kemenkes Kembangkan Program Pendidikan Dokter Spesialis Berbasis Rumah Sakit\" data-type=\"TextTypeArticle\" id=\"article_5589141\"><figure class=\"articles--iridescent-list--text-item__figure-thumbnail\"><a class=\"ui--a articles--iridescent-list--text-item__figure-thumbnail-link\" data-kanal-page=\"health\" data-template-var=\"url\" href=\"https://www.liputan6.com/health/read/5589141/atasi-kekurangan-dokter-kemenkes-kembangkan-program-pendidikan-dokter-spesialis-berbasis-rumah-sakit\" title=\"Atasi Kekurangan Dokter, Kemenkes Kembangkan Program Pendidikan Dokter Spesialis Berbasis Rumah Sakit\"><picture class=\"articles--iridescent-list--text-item__figure-image\"><img alt=\"Dokter (Foto: Ilustrasi AI)\" class=\"js-lazyload articles--iridescent-list--text-item__figure-image-lazyload\" data-height=\"112\" data-high-dpi=\"https://cdn1-production-images-kly.akamaized.net/TFON1LzOcRD1r2HX9avg-lCRSB4=/400x224/smart/filters:quality(75):strip_icc():format(webp)/kly-media-production/medias/4732686/original/050629200_1706843688-fotor-ai-2024020210121.jpg\" data-src=\"https://cdn1-production-images-kly.akamaized.net/NC0-sl5WseCH4O-r_GIJZ7AGgt4=/200x112/smart/filters:quality(75):strip_icc():format(webp)/kly-media-production/medias/4732686/original/050629200_1706843688-fotor-ai-2024020210121.jpg\" data-template-var=\"image\" data-width=\"200\" height=\"112\" src=\"https://cdn-production-assets-kly.akamaized.net/assets/images/blank.png\" width=\"200\"/></picture></a></figure><aside class=\"articles--iridescent-list--text-item__details\"><header class=\"articles--iridescent-list--text-item__header\"><a class=\"articles--iridescent-list--text-item__category\" data-template-var=\"category\" href=\"https://www.liputan6.com/health/health-info\">Health Info</a><span class=\"articles--iridescent-list--text-item__datetime\" data-template-var=\"date\"><time class=\"articles--iridescent-list--text-item__time timeago\" datetime=\"2024-05-06T10:00:42+07:00\">06 Mei 2024 10:00</time></span><h4 class=\"articles--iridescent-list--text-item__title\"><a class=\"ui--a articles--iridescent-list--text-item__title-link\" data-kanal-page=\"health\" data-template-var=\"url\" href=\"https://www.liputan6.com/health/read/5589141/atasi-kekurangan-dokter-kemenkes-kembangkan-program-pendidikan-dokter-spesialis-berbasis-rumah-sakit\" title=\"Atasi Kekurangan Dokter, Kemenkes Kembangkan Program Pendidikan Dokter Spesialis Berbasis Rumah Sakit\"><span class=\"articles--iridescent-list--text-item__title-link-text\" data-template-var=\"title\">Atasi Kekurangan Dokter, Kemenkes Kembangkan Program Pendidikan Dokter Spesialis Berbasis ...</span></a></h4></header><div class=\"articles--iridescent-list--text-item__summary articles--iridescent-list--text-item__summary-seo\" data-template-var=\"summary\">Sistem pendidikan dokter spesialis berbasis rumah sakit maupun berbasis universitas akan berjalan beriringan guna menciptakan Indonesia yang lebih sehat dan adil.</div></aside></article>, <article class=\"articles--iridescent-list--item articles--iridescent-list--text-item\" data-article-id=\"5589214\" data-category=\"Lifestyle\" data-channel=\"Lifestyle\" data-component-name=\"desktop:articles:iridescent-list:text-item\" data-slug=\"acara-kafe-ulang-tahun-baekhyun-exo-hampir-ricuh-tuai-kritikan-sampai-harus-libatkan-polisi\" data-template-name=\"article-iridescent-list-text\" data-template-var=\"container\" data-title=\"Acara Kafe Ulang Tahun Baekhyun EXO Hampir Ricuh, Tuai Kritikan sampai Harus Libatkan Polisi\" data-type=\"TextTypeArticle\" id=\"article_5589214\"><figure class=\"articles--iridescent-list--text-item__figure-thumbnail\"><a class=\"ui--a articles--iridescent-list--text-item__figure-thumbnail-link\" data-kanal-page=\"lifestyle\" data-template-var=\"url\" href=\"https://www.liputan6.com/lifestyle/read/5589214/acara-kafe-ulang-tahun-baekhyun-exo-hampir-ricuh-tuai-kritikan-sampai-harus-libatkan-polisi\" title=\"Acara Kafe Ulang Tahun Baekhyun EXO Hampir Ricuh, Tuai Kritikan sampai Harus Libatkan Polisi\"><picture class=\"articles--iridescent-list--text-item__figure-image\"><img alt=\"Baekhyun EXO. (Instagram/ inb100_official)\" class=\"js-lazyload articles--iridescent-list--text-item__figure-image-lazyload\" data-height=\"112\" data-high-dpi=\"https://cdn1-production-images-kly.akamaized.net/bHbWXwbr1lc0eNcIiD0ojz36sxo=/400x224/smart/filters:quality(75):strip_icc():format(webp)/kly-media-production/medias/4722886/original/054169300_1705904044-Snapinsta.app_417956658_886312102988836_7827582316638103578_n_1080.jpg\" data-src=\"https://cdn1-production-images-kly.akamaized.net/5AstJuzRGmZhknqeaz996ddkrwI=/200x112/smart/filters:quality(75):strip_icc():format(webp)/kly-media-production/medias/4722886/original/054169300_1705904044-Snapinsta.app_417956658_886312102988836_7827582316638103578_n_1080.jpg\" data-template-var=\"image\" data-width=\"200\" height=\"112\" src=\"https://cdn-production-assets-kly.akamaized.net/assets/images/blank.png\" width=\"200\"/></picture></a></figure><aside class=\"articles--iridescent-list--text-item__details\"><header class=\"articles--iridescent-list--text-item__header\"><a class=\"articles--iridescent-list--text-item__category\" data-template-var=\"category\" href=\"https://www.liputan6.com/lifestyle\">Lifestyle</a><span class=\"articles--iridescent-list--text-item__datetime\" data-template-var=\"date\"><time class=\"articles--iridescent-list--text-item__time timeago\" datetime=\"2024-05-06T10:00:00+07:00\">06 Mei 2024 10:00</time></span><h4 class=\"articles--iridescent-list--text-item__title\"><a class=\"ui--a articles--iridescent-list--text-item__title-link\" data-kanal-page=\"lifestyle\" data-template-var=\"url\" href=\"https://www.liputan6.com/lifestyle/read/5589214/acara-kafe-ulang-tahun-baekhyun-exo-hampir-ricuh-tuai-kritikan-sampai-harus-libatkan-polisi\" title=\"Acara Kafe Ulang Tahun Baekhyun EXO Hampir Ricuh, Tuai Kritikan sampai Harus Libatkan Polisi\"><span class=\"articles--iridescent-list--text-item__title-link-text\" data-template-var=\"title\">Acara Kafe Ulang Tahun Baekhyun EXO Hampir Ricuh, Tuai Kritikan sampai Harus Libatkan Poli...</span></a></h4></header><div class=\"articles--iridescent-list--text-item__summary articles--iridescent-list--text-item__summary-seo\" data-template-var=\"summary\">Acara temu penggemar yang digelar saat ulang tahun Baekyun EXO mendapat banyak kritikan, mulai dari antrean melambat dan hampir ricuh.</div></aside></article>, <article class=\"articles--iridescent-list--item articles--iridescent-list--text-item\" data-article-id=\"5589169\" data-category=\"Blink-Blink\" data-channel=\"ShowBiz\" data-component-name=\"desktop:articles:iridescent-list:text-item\" data-slug=\"6-potret-mahalini-dan-rizky-febian-jalani-upacara-mepamit-di-bali-minta-izin-leluhur-untuk-menikah\" data-template-name=\"article-iridescent-list-text\" data-template-var=\"container\" data-title=\"6 Potret Mahalini dan Rizky Febian Jalani Upacara Mepamit di Bali, Minta Izin Leluhur untuk Menikah\" data-type=\"TextTypeArticle\" id=\"article_5589169\"><figure class=\"articles--iridescent-list--text-item__figure-thumbnail\"><a class=\"ui--a articles--iridescent-list--text-item__figure-thumbnail-link\" data-kanal-page=\"showbiz\" data-template-var=\"url\" href=\"https://www.liputan6.com/showbiz/read/5589169/6-potret-mahalini-dan-rizky-febian-jalani-upacara-mepamit-di-bali-minta-izin-leluhur-untuk-menikah\" title=\"6 Potret Mahalini dan Rizky Febian Jalani Upacara Mepamit di Bali, Minta Izin Leluhur untuk Menikah\"><picture class=\"articles--iridescent-list--text-item__figure-image\"><img alt=\"Rizky Febian dan Mahalini menjalani upacara Dharma Suaka dilanjutkan dengan Mepamit. Calon pengantin wanita minta izin kepada leluhur untuk menikah. (Foto: Dok. Instagram @rfasmusic)\" class=\"js-lazyload articles--iridescent-list--text-item__figure-image-lazyload\" data-height=\"112\" data-high-dpi=\"https://cdn1-production-images-kly.akamaized.net/1hDeLwo7Zv2Omudf9WyTSAdwszE=/400x224/smart/filters:quality(75):strip_icc():format(webp)/kly-media-production/medias/4822648/original/039496400_1714960891-Mahalini_0.jpg\" data-src=\"https://cdn1-production-images-kly.akamaized.net/bFkW2lfvlZoHcdsGgzstszEqeUk=/200x112/smart/filters:quality(75):strip_icc():format(webp)/kly-media-production/medias/4822648/original/039496400_1714960891-Mahalini_0.jpg\" data-template-var=\"image\" data-width=\"200\" height=\"112\" src=\"https://cdn-production-assets-kly.akamaized.net/assets/images/blank.png\" width=\"200\"/></picture></a></figure><aside class=\"articles--iridescent-list--text-item__details\"><header class=\"articles--iridescent-list--text-item__header\"><a class=\"articles--iridescent-list--text-item__category\" data-template-var=\"category\" href=\"https://www.liputan6.com/showbiz/blink-blink\">Blink-Blink</a><span class=\"articles--iridescent-list--text-item__datetime\" data-template-var=\"date\"><time class=\"articles--iridescent-list--text-item__time timeago\" datetime=\"2024-05-06T10:00:00+07:00\">06 Mei 2024 10:00</time></span><h4 class=\"articles--iridescent-list--text-item__title\"><a class=\"ui--a articles--iridescent-list--text-item__title-link\" data-kanal-page=\"showbiz\" data-template-var=\"url\" href=\"https://www.liputan6.com/showbiz/read/5589169/6-potret-mahalini-dan-rizky-febian-jalani-upacara-mepamit-di-bali-minta-izin-leluhur-untuk-menikah\" title=\"6 Potret Mahalini dan Rizky Febian Jalani Upacara Mepamit di Bali, Minta Izin Leluhur untuk Menikah\"><span class=\"articles--iridescent-list--text-item__title-link-text\" data-template-var=\"title\">6 Potret Mahalini dan Rizky Febian Jalani Upacara Mepamit di Bali, Minta Izin Leluhur untu...</span></a></h4></header><div class=\"articles--iridescent-list--text-item__summary articles--iridescent-list--text-item__summary-seo\" data-template-var=\"summary\">Rizky Febian dan Mahalini menjalani upacara Dharma Suaka dilanjutkan dengan Mepamit. Calon pengantin wanita minta izin kepada leluhur untuk menikah.</div></aside></article>, <article class=\"articles--iridescent-list--item articles--iridescent-list--text-item\" data-article-id=\"5586614\" data-category=\"Bisnis\" data-channel=\"Bisnis\" data-component-name=\"desktop:articles:iridescent-list:text-item\" data-slug=\"mau-kerja-di-industri-makanan-dan-minuman-anak-usaha-orang-tua-group-ini-buka-lowongan\" data-template-name=\"article-iridescent-list-text\" data-template-var=\"container\" data-title=\"Mau Kerja di Industri Makanan dan Minuman? Anak Usaha Orang Tua Group Ini Buka Lowongan\" data-type=\"TextTypeArticle\" id=\"article_5586614\"><figure class=\"articles--iridescent-list--text-item__figure-thumbnail\"><a class=\"ui--a articles--iridescent-list--text-item__figure-thumbnail-link\" data-kanal-page=\"bisnis\" data-template-var=\"url\" href=\"https://www.liputan6.com/bisnis/read/5586614/mau-kerja-di-industri-makanan-dan-minuman-anak-usaha-orang-tua-group-ini-buka-lowongan\" title=\"Mau Kerja di Industri Makanan dan Minuman? Anak Usaha Orang Tua Group Ini Buka Lowongan\"><picture class=\"articles--iridescent-list--text-item__figure-image\"><img alt=\"PT CS2 Pola Sehat\" class=\"js-lazyload articles--iridescent-list--text-item__figure-image-lazyload\" data-height=\"112\" data-high-dpi=\"https://cdn0-production-images-kly.akamaized.net/Bi-t5LD79g6okpppgm_cfuUY-qs=/400x224/smart/filters:quality(75):strip_icc():format(webp)/kly-media-production/medias/4819217/original/048904200_1714632078-CS2.jpg\" data-src=\"https://cdn0-production-images-kly.akamaized.net/NApw-6yf8PEl4oHyLCKTUj2-X4g=/200x112/smart/filters:quality(75):strip_icc():format(webp)/kly-media-production/medias/4819217/original/048904200_1714632078-CS2.jpg\" data-template-var=\"image\" data-width=\"200\" height=\"112\" src=\"https://cdn-production-assets-kly.akamaized.net/assets/images/blank.png\" width=\"200\"/></picture></a></figure><aside class=\"articles--iridescent-list--text-item__details\"><header class=\"articles--iridescent-list--text-item__header\"><a class=\"articles--iridescent-list--text-item__category\" data-template-var=\"category\" href=\"https://www.liputan6.com/bisnis\">Bisnis</a><span class=\"articles--iridescent-list--text-item__datetime\" data-template-var=\"date\"><time class=\"articles--iridescent-list--text-item__time timeago\" datetime=\"2024-05-06T10:00:00+07:00\">06 Mei 2024 10:00</time></span><h4 class=\"articles--iridescent-list--text-item__title\"><a class=\"ui--a articles--iridescent-list--text-item__title-link\" data-kanal-page=\"bisnis\" data-template-var=\"url\" href=\"https://www.liputan6.com/bisnis/read/5586614/mau-kerja-di-industri-makanan-dan-minuman-anak-usaha-orang-tua-group-ini-buka-lowongan\" title=\"Mau Kerja di Industri Makanan dan Minuman? Anak Usaha Orang Tua Group Ini Buka Lowongan\"><span class=\"articles--iridescent-list--text-item__title-link-text\" data-template-var=\"title\">Mau Kerja di Industri Makanan dan Minuman? Anak Usaha Orang Tua Group Ini Buka Lowongan</span></a></h4></header><div class=\"articles--iridescent-list--text-item__summary articles--iridescent-list--text-item__summary-seo\" data-template-var=\"summary\">Terdapat berbagai merek yang sudah diproduksi oleh PT CS2 Pola Sehat, salah satunya adalah brand Teh Gelas yang telah menjadi pemimpin pasar di industri Teh dalam kemasan siap minum sejak tahun 2007.</div></aside></article>, <article class=\"articles--iridescent-list--item articles--iridescent-list--text-item\" data-article-id=\"5589221\" data-category=\"Bali Nusra\" data-channel=\"Regional\" data-component-name=\"desktop:articles:iridescent-list:text-item\" data-slug=\"mengenal-mepamit-dan-dharma-suaka-prosesi-jelang-pernikahan-mahalini-dan-rizky-febian\" data-template-name=\"article-iridescent-list-text\" data-template-var=\"container\" data-title=\"Mengenal Mepamit dan Dharma Suaka, Prosesi Jelang Pernikahan Mahalini dan Rizky Febian\" data-type=\"TextTypeArticle\" id=\"article_5589221\"><figure class=\"articles--iridescent-list--text-item__figure-thumbnail\"><a class=\"ui--a articles--iridescent-list--text-item__figure-thumbnail-link\" data-kanal-page=\"regional\" data-template-var=\"url\" href=\"https://www.liputan6.com/regional/read/5589221/mengenal-mepamit-dan-dharma-suaka-prosesi-jelang-pernikahan-mahalini-dan-rizky-febian\" title=\"Mengenal Mepamit dan Dharma Suaka, Prosesi Jelang Pernikahan Mahalini dan Rizky Febian\"><picture class=\"articles--iridescent-list--text-item__figure-image\"><img alt=\"Rizky Febian dan Mahalini menjalani upacara Dharma Suaka dilanjutkan dengan Mepamit. Calon pengantin wanita minta izin kepada leluhur untuk menikah. (Foto: Dok. Instagram @rfasmusic)\" class=\"js-lazyload articles--iridescent-list--text-item__figure-image-lazyload\" data-height=\"112\" data-high-dpi=\"https://cdn1-production-images-kly.akamaized.net/5IfI0j0sgbiECbeSWHS5lyLBgv8=/400x224/smart/filters:quality(75):strip_icc():format(webp)/kly-media-production/medias/4822680/original/064901500_1714962526-Mahalini_4.jpg\" data-src=\"https://cdn1-production-images-kly.akamaized.net/74mCktXhbthswT5stA8rwwcXifQ=/200x112/smart/filters:quality(75):strip_icc():format(webp)/kly-media-production/medias/4822680/original/064901500_1714962526-Mahalini_4.jpg\" data-template-var=\"image\" data-width=\"200\" height=\"112\" src=\"https://cdn-production-assets-kly.akamaized.net/assets/images/blank.png\" width=\"200\"/></picture></a></figure><aside class=\"articles--iridescent-list--text-item__details\"><header class=\"articles--iridescent-list--text-item__header\"><a class=\"articles--iridescent-list--text-item__category\" data-template-var=\"category\" href=\"https://www.liputan6.com/regional/denpasar\">Bali Nusra</a><span class=\"articles--iridescent-list--text-item__datetime\" data-template-var=\"date\"><time class=\"articles--iridescent-list--text-item__time timeago\" datetime=\"2024-05-06T09:58:54+07:00\">06 Mei 2024 09:58</time></span><h4 class=\"articles--iridescent-list--text-item__title\"><a class=\"ui--a articles--iridescent-list--text-item__title-link\" data-kanal-page=\"regional\" data-template-var=\"url\" href=\"https://www.liputan6.com/regional/read/5589221/mengenal-mepamit-dan-dharma-suaka-prosesi-jelang-pernikahan-mahalini-dan-rizky-febian\" title=\"Mengenal Mepamit dan Dharma Suaka, Prosesi Jelang Pernikahan Mahalini dan Rizky Febian\"><span class=\"articles--iridescent-list--text-item__title-link-text\" data-template-var=\"title\">Mengenal Mepamit dan Dharma Suaka, Prosesi Jelang Pernikahan Mahalini dan Rizky Febian</span></a></h4></header><div class=\"articles--iridescent-list--text-item__summary articles--iridescent-list--text-item__summary-seo\" data-template-var=\"summary\">Prosesi mepamit dilaksanakan di rumah pengantin wanita. Sementara itu, calon pengantin pria akan membawa banten atau seserahan bersama pihak keluarga.</div></aside></article>, <article class=\"articles--iridescent-list--item articles--iridescent-list--text-item\" data-article-id=\"5589203\" data-category=\"Hot\" data-channel=\"Hot\" data-component-name=\"desktop:articles:iridescent-list:text-item\" data-slug=\"8-momen-akikah-baby-lily-anak-angkat-raffi-nagita-sederhana-bernuansa-pink\" data-template-name=\"article-iridescent-list-text\" data-template-var=\"container\" data-title=\"8 Momen Akikah Baby Lily Anak Angkat Raffi-Nagita, Sederhana Bernuansa Pink\" data-type=\"TextTypeArticle\" id=\"article_5589203\"><figure class=\"articles--iridescent-list--text-item__figure-thumbnail\"><a class=\"ui--a articles--iridescent-list--text-item__figure-thumbnail-link\" data-kanal-page=\"hot\" data-template-var=\"url\" href=\"https://www.liputan6.com/hot/read/5589203/8-momen-akikah-baby-lily-anak-angkat-raffi-nagita-sederhana-bernuansa-pink\" title=\"8 Momen Akikah Baby Lily Anak Angkat Raffi-Nagita, Sederhana Bernuansa Pink\"><picture class=\"articles--iridescent-list--text-item__figure-image\"><img alt=\"Momen akikah baby Lily anak angkat Raffi-Nagita. (sumber: Instagram/rieta_amilia/chevirgo)\" class=\"js-lazyload articles--iridescent-list--text-item__figure-image-lazyload\" data-height=\"112\" data-high-dpi=\"https://cdn1-production-images-kly.akamaized.net/d0k_E0Me95tiUv2nTI0UXIgou70=/400x224/smart/filters:quality(75):strip_icc():format(webp)/kly-media-production/medias/4822700/original/010290600_1714963154-hl.jpg\" data-src=\"https://cdn1-production-images-kly.akamaized.net/GM6txz1pLLHl3faCjArcCNXilIU=/200x112/smart/filters:quality(75):strip_icc():format(webp)/kly-media-production/medias/4822700/original/010290600_1714963154-hl.jpg\" data-template-var=\"image\" data-width=\"200\" height=\"112\" src=\"https://cdn-production-assets-kly.akamaized.net/assets/images/blank.png\" width=\"200\"/></picture></a></figure><aside class=\"articles--iridescent-list--text-item__details\"><header class=\"articles--iridescent-list--text-item__header\"><a class=\"articles--iridescent-list--text-item__category\" data-template-var=\"category\" href=\"https://www.liputan6.com/hot\">Hot</a><span class=\"articles--iridescent-list--text-item__datetime\" data-template-var=\"date\"><time class=\"articles--iridescent-list--text-item__time timeago\" datetime=\"2024-05-06T09:55:48+07:00\">06 Mei 2024 09:55</time></span><h4 class=\"articles--iridescent-list--text-item__title\"><a class=\"ui--a articles--iridescent-list--text-item__title-link\" data-kanal-page=\"hot\" data-template-var=\"url\" href=\"https://www.liputan6.com/hot/read/5589203/8-momen-akikah-baby-lily-anak-angkat-raffi-nagita-sederhana-bernuansa-pink\" title=\"8 Momen Akikah Baby Lily Anak Angkat Raffi-Nagita, Sederhana Bernuansa Pink\"><span class=\"articles--iridescent-list--text-item__title-link-text\" data-template-var=\"title\">8 Momen Akikah Baby Lily Anak Angkat Raffi-Nagita, Sederhana Bernuansa Pink</span></a></h4></header><div class=\"articles--iridescent-list--text-item__summary articles--iridescent-list--text-item__summary-seo\" data-template-var=\"summary\">Acara akikah baby Lily digelar sederhana di kediaman Raffi-Nagita.</div></aside></article>, <article class=\"articles--iridescent-list--item articles--iridescent-list--text-item\" data-article-id=\"5589134\" data-category=\"Saham\" data-channel=\"Saham\" data-component-name=\"desktop:articles:iridescent-list:text-item\" data-slug=\"menanti-angka-pdb-indonesia-hingga-kebijakan-the-fed-saham-ini-menarik-dipelototi\" data-template-name=\"article-iridescent-list-text\" data-template-var=\"container\" data-title=\"Menanti Angka PDB Indonesia hingga Kebijakan The Fed, Saham Ini Menarik Dipelototi\" data-type=\"TextTypeArticle\" id=\"article_5589134\"><figure class=\"articles--iridescent-list--text-item__figure-thumbnail\"><a class=\"ui--a articles--iridescent-list--text-item__figure-thumbnail-link\" data-kanal-page=\"saham\" data-template-var=\"url\" href=\"https://www.liputan6.com/saham/read/5589134/menanti-angka-pdb-indonesia-hingga-kebijakan-the-fed-saham-ini-menarik-dipelototi\" title=\"Menanti Angka PDB Indonesia hingga Kebijakan The Fed, Saham Ini Menarik Dipelototi\"><picture class=\"articles--iridescent-list--text-item__figure-image\"><img alt=\"Pengunjung melintas dilayar pergerakan saham di BEI, Jakarta, Senin (30/12/2019). Pada penutupan IHSG 2019 ditutup melemah cukup signifikan 29,78 (0,47%) ke posisi 6.194.50. (Liputan6.com/Angga Yuniar)\" class=\"js-lazyload articles--iridescent-list--text-item__figure-image-lazyload\" data-height=\"112\" data-high-dpi=\"https://cdn0-production-images-kly.akamaized.net/sDyTS0Bl6dsh7KurUDL5EH6LkH4=/400x224/smart/filters:quality(75):strip_icc():format(webp)/kly-media-production/medias/3008994/original/036183300_1577703439-20191230-Akhir-2019_-IHSG-Ditutup-Melemah-5.jpg\" data-src=\"https://cdn0-production-images-kly.akamaized.net/f-ITWc-qQFQu7XhMGSQpo6FFcNQ=/200x112/smart/filters:quality(75):strip_icc():format(webp)/kly-media-production/medias/3008994/original/036183300_1577703439-20191230-Akhir-2019_-IHSG-Ditutup-Melemah-5.jpg\" data-template-var=\"image\" data-width=\"200\" height=\"112\" src=\"https://cdn-production-assets-kly.akamaized.net/assets/images/blank.png\" width=\"200\"/></picture></a></figure><aside class=\"articles--iridescent-list--text-item__details\"><header class=\"articles--iridescent-list--text-item__header\"><a class=\"articles--iridescent-list--text-item__category\" data-template-var=\"category\" href=\"https://www.liputan6.com/saham\">Saham</a><span class=\"articles--iridescent-list--text-item__datetime\" data-template-var=\"date\"><time class=\"articles--iridescent-list--text-item__time timeago\" datetime=\"2024-05-06T09:55:02+07:00\">06 Mei 2024 09:55</time></span><h4 class=\"articles--iridescent-list--text-item__title\"><a class=\"ui--a articles--iridescent-list--text-item__title-link\" data-kanal-page=\"saham\" data-template-var=\"url\" href=\"https://www.liputan6.com/saham/read/5589134/menanti-angka-pdb-indonesia-hingga-kebijakan-the-fed-saham-ini-menarik-dipelototi\" title=\"Menanti Angka PDB Indonesia hingga Kebijakan The Fed, Saham Ini Menarik Dipelototi\"><span class=\"articles--iridescent-list--text-item__title-link-text\" data-template-var=\"title\">Menanti Angka PDB Indonesia hingga Kebijakan The Fed, Saham Ini Menarik Dipelototi</span></a></h4></header><div class=\"articles--iridescent-list--text-item__summary articles--iridescent-list--text-item__summary-seo\" data-template-var=\"summary\">Pada Minggu ini terdapat beberapa agenda penting dari beberapa emiten yang pergerakannya berpengaruh terhadap Indeks Harga Saham Gabungan (IHSG). Salah satunya United Tractors Tbk (UNTR) yang pada hari ini merupakan ex-date dividen.</div></aside></article>, <article class=\"articles--iridescent-list--item articles--iridescent-list--text-item\" data-article-id=\"5589219\" data-category=\"Peristiwa\" data-channel=\"News\" data-component-name=\"desktop:articles:iridescent-list:text-item\" data-slug=\"mengenal-tradisi-upacara-adat-bali-mepamit-yang-digelar-mahalini-dan-rizky-febian-jelang-menikah\" data-template-name=\"article-iridescent-list-text\" data-template-var=\"container\" data-title=\"Mengenal Tradisi Upacara Adat Bali Mepamit yang Digelar Mahalini dan Rizky Febian Jelang Menikah\" data-type=\"TextTypeArticle\" id=\"article_5589219\"><figure class=\"articles--iridescent-list--text-item__figure-thumbnail\"><a class=\"ui--a articles--iridescent-list--text-item__figure-thumbnail-link\" data-kanal-page=\"news\" data-template-var=\"url\" href=\"https://www.liputan6.com/news/read/5589219/mengenal-tradisi-upacara-adat-bali-mepamit-yang-digelar-mahalini-dan-rizky-febian-jelang-menikah\" title=\"Mengenal Tradisi Upacara Adat Bali Mepamit yang Digelar Mahalini dan Rizky Febian Jelang Menikah\"><picture class=\"articles--iridescent-list--text-item__figure-image\"><img alt=\"Rizky Febian dan Mahalini menjalani upacara Dharma Suaka dilanjutkan dengan Mepamit. Calon pengantin wanita minta izin kepada leluhur untuk menikah. (Foto: Dok. Instagram @rfasmusic)\" class=\"js-lazyload articles--iridescent-list--text-item__figure-image-lazyload\" data-height=\"112\" data-high-dpi=\"https://cdn1-production-images-kly.akamaized.net/eGfHcJFrkJs2NmKDJ4rDWjGPAhU=/400x224/smart/filters:quality(75):strip_icc():format(webp)/kly-media-production/medias/4822678/original/040878300_1714962526-Mahalini_3.jpg\" data-src=\"https://cdn1-production-images-kly.akamaized.net/Pl-4Q57D-8MHDgOmxNncYS6CuuY=/200x112/smart/filters:quality(75):strip_icc():format(webp)/kly-media-production/medias/4822678/original/040878300_1714962526-Mahalini_3.jpg\" data-template-var=\"image\" data-width=\"200\" height=\"112\" src=\"https://cdn-production-assets-kly.akamaized.net/assets/images/blank.png\" width=\"200\"/></picture></a></figure><aside class=\"articles--iridescent-list--text-item__details\"><header class=\"articles--iridescent-list--text-item__header\"><a class=\"articles--iridescent-list--text-item__category\" data-template-var=\"category\" href=\"https://www.liputan6.com/news/peristiwa\">Peristiwa</a><span class=\"articles--iridescent-list--text-item__datetime\" data-template-var=\"date\"><time class=\"articles--iridescent-list--text-item__time timeago\" datetime=\"2024-05-06T09:50:50+07:00\">06 Mei 2024 09:50</time></span><h4 class=\"articles--iridescent-list--text-item__title\"><a class=\"ui--a articles--iridescent-list--text-item__title-link\" data-kanal-page=\"news\" data-template-var=\"url\" href=\"https://www.liputan6.com/news/read/5589219/mengenal-tradisi-upacara-adat-bali-mepamit-yang-digelar-mahalini-dan-rizky-febian-jelang-menikah\" title=\"Mengenal Tradisi Upacara Adat Bali Mepamit yang Digelar Mahalini dan Rizky Febian Jelang Menikah\"><span class=\"articles--iridescent-list--text-item__title-link-text\" data-template-var=\"title\">Mengenal Tradisi Upacara Adat Bali Mepamit yang Digelar Mahalini dan Rizky Febian Jelang M...</span></a></h4></header><div class=\"articles--iridescent-list--text-item__summary articles--iridescent-list--text-item__summary-seo\" data-template-var=\"summary\">Apakah itu Mepamit dan Dharma Suaka yang merupakan upacara adat Bali jelang menikah? Keduanya memiliki makna berbeda.</div></aside></article>, <article class=\"articles--iridescent-list--item articles--iridescent-list--text-item\" data-article-id=\"5589191\" data-category=\"Bisnis\" data-channel=\"Bisnis\" data-component-name=\"desktop:articles:iridescent-list:text-item\" data-slug=\"ekonom-ramal-skor-pmi-manufaktur-indonesia-bakal-turun-kenapa\" data-template-name=\"article-iridescent-list-text\" data-template-var=\"container\" data-title=\"Ekonom Ramal Skor PMI Manufaktur Indonesia Bakal Turun, Kenapa?\" data-type=\"TextTypeArticle\" id=\"article_5589191\"><figure class=\"articles--iridescent-list--text-item__figure-thumbnail\"><a class=\"ui--a articles--iridescent-list--text-item__figure-thumbnail-link\" data-kanal-page=\"bisnis\" data-template-var=\"url\" href=\"https://www.liputan6.com/bisnis/read/5589191/ekonom-ramal-skor-pmi-manufaktur-indonesia-bakal-turun-kenapa\" title=\"Ekonom Ramal Skor PMI Manufaktur Indonesia Bakal Turun, Kenapa?\"><picture class=\"articles--iridescent-list--text-item__figure-image\"><img alt=\"Persiapan keberangkatan kapal besar (Direct Call) pembawa kontainer yang membawa ekspor Indonesia ke Amerika Serikat (AS) di Pelabuhan Tanjung Priok, Jakarta, Selasa (15/5). (Liputan6.com/Angga Yuniar)\" class=\"js-lazyload articles--iridescent-list--text-item__figure-image-lazyload\" data-height=\"112\" data-high-dpi=\"https://cdn0-production-images-kly.akamaized.net/7HColY5IvRSk5PeL9t4MoVSvF6w=/400x224/smart/filters:quality(75):strip_icc():format(webp)/kly-media-production/medias/2214586/original/019809400_1526387289-20180515-Kapal-Ekspor-7.jpg\" data-src=\"https://cdn0-production-images-kly.akamaized.net/IeU9bYkG2_IS1HZ2uznDzHbgULg=/200x112/smart/filters:quality(75):strip_icc():format(webp)/kly-media-production/medias/2214586/original/019809400_1526387289-20180515-Kapal-Ekspor-7.jpg\" data-template-var=\"image\" data-width=\"200\" height=\"112\" src=\"https://cdn-production-assets-kly.akamaized.net/assets/images/blank.png\" width=\"200\"/></picture></a></figure><aside class=\"articles--iridescent-list--text-item__details\"><header class=\"articles--iridescent-list--text-item__header\"><a class=\"articles--iridescent-list--text-item__category\" data-template-var=\"category\" href=\"https://www.liputan6.com/bisnis\">Bisnis</a><span class=\"articles--iridescent-list--text-item__datetime\" data-template-var=\"date\"><time class=\"articles--iridescent-list--text-item__time timeago\" datetime=\"2024-05-06T09:46:32+07:00\">06 Mei 2024 09:46</time></span><h4 class=\"articles--iridescent-list--text-item__title\"><a class=\"ui--a articles--iridescent-list--text-item__title-link\" data-kanal-page=\"bisnis\" data-template-var=\"url\" href=\"https://www.liputan6.com/bisnis/read/5589191/ekonom-ramal-skor-pmi-manufaktur-indonesia-bakal-turun-kenapa\" title=\"Ekonom Ramal Skor PMI Manufaktur Indonesia Bakal Turun, Kenapa?\"><span class=\"articles--iridescent-list--text-item__title-link-text\" data-template-var=\"title\">Ekonom Ramal Skor PMI Manufaktur Indonesia Bakal Turun, Kenapa?</span></a></h4></header><div class=\"articles--iridescent-list--text-item__summary articles--iridescent-list--text-item__summary-seo\" data-template-var=\"summary\">PMI Manufaktur Indonesia pada April 2024 turun ke level 52,9 dari posisi tertinggi 54,2 pada Maret 2024. Padahal pada April lalu ada faktor musiman seperti Lebaran.</div></aside></article>, <article class=\"articles--iridescent-list--item articles--iridescent-list--video-item\" data-article-id=\"5589183\" data-category=\"Bola\" data-channel=\"Bola\" data-component-name=\"desktop:articles:iridescent-list:video-item\" data-slug=\"video-ganda-putra-china-kunci-kemenangan-di-thomas-cup-2024\" data-template-name=\"article-iridescent-list-video\" data-template-var=\"container\" data-title=\"VIDEO: Ganda Putra China Kunci Kemenangan di Thomas Cup 2024\" data-type=\"VideoTypeArticle\" id=\"article_5589183\"><aside class=\"articles--iridescent-list--video-item__details\"><header class=\"articles--iridescent-list--video-item__header\"><a class=\"articles--iridescent-list--video-item__category\" data-template-var=\"category\" href=\"https://www.liputan6.com/bola\">Bola</a><span class=\"articles--iridescent-list--video-item__datetime\" data-template-var=\"date\"><time class=\"articles--iridescent-list--video-item__time timeago\" datetime=\"2024-05-06T09:43:00+07:00\">06 Mei 2024 09:43</time></span><h4 class=\"articles--iridescent-list--video-item__title\"><a class=\"ui--a articles--iridescent-list--video-item__title-link\" data-kanal-page=\"bola\" data-template-var=\"url\" href=\"https://enamplus.liputan6.com/bola/read/5589183/video-ganda-putra-china-kunci-kemenangan-di-thomas-cup-2024\" title=\"VIDEO: Ganda Putra China Kunci Kemenangan di Thomas Cup 2024\"><span class=\"articles--iridescent-list--video-item__title-link-text\" data-template-var=\"title\">VIDEO: Ganda Putra China Kunci Kemenangan di Thomas Cup 2024</span></a></h4></header></aside><div class=\"articles--iridescent-list--video-item__videos-wrapper\"><a class=\"ui--a articles--iridescent-list--video-item__link\" data-kanal-page=\"bola\" href=\"https://enamplus.liputan6.com/bola/read/5589183/video-ganda-putra-china-kunci-kemenangan-di-thomas-cup-2024\" title=\"VIDEO: Ganda Putra China Kunci Kemenangan di Thomas Cup 2024\"><figure class=\"articles--iridescent-list--video-item__thumbnail\"><picture class=\"articles--iridescent-list--video-item__thumbnail-image\"><img alt=\"Di Chengdu, tim bulutangkis putra China berhasil mengalahkan Indonesia dengan skor 3-1 untuk meraih gelar juara Thomas Cup yang ke-11. Kemenangan krusial dicetak oleh pasangan He Jiting dan Ren Xiangyu yang mengatasi Muhammad Shohibul Fikri dan Bagas...\" class=\"js-lazyload articles--iridescent-list--video-item__thumbnail-image-lazyload\" data-height=\"360\" data-high-dpi=\"https://cdn1-production-images-kly.akamaized.net/5UrlommBaeliEy4Y2Hps-10EoMw=/1280x720/smart/filters:quality(75):strip_icc():format(webp)/kly-media-production/thumbnails/4822668/original/032851000_1714961822-ganda-putra-china-kunci-kemenangan-di-thomas-cup-2024-b81a0d.jpg\" data-src=\"https://cdn1-production-images-kly.akamaized.net/2kAYGHPLWSpn83v4aR2H6bvQFuY=/640x360/smart/filters:quality(75):strip_icc():format(webp)/kly-media-production/thumbnails/4822668/original/032851000_1714961822-ganda-putra-china-kunci-kemenangan-di-thomas-cup-2024-b81a0d.jpg\" data-template-var=\"image\" data-width=\"640\" height=\"360\" src=\"https://cdn-production-assets-kly.akamaized.net/assets/images/blank.png\" width=\"640\"/></picture></figure><span class=\"articles--iridescent-list--video-item__duration\">02:09</span><span class=\"articles--iridescent-list--video-item__play-button\"><i class=\"i-big-play-button\"></i></span></a></div></article>, <article class=\"articles--iridescent-list--item articles--iridescent-list--text-item\" data-article-id=\"5589205\" data-category=\"Saham\" data-channel=\"Saham\" data-component-name=\"desktop:articles:iridescent-list:text-item\" data-slug=\"ihsg-berbalik-arah-memerah-harga-saham-goto-menguat\" data-template-name=\"article-iridescent-list-text\" data-template-var=\"container\" data-title=\"IHSG Berbalik Arah Memerah, Harga Saham GOTO Menguat\" data-type=\"TextTypeArticle\" id=\"article_5589205\"><figure class=\"articles--iridescent-list--text-item__figure-thumbnail\"><a class=\"ui--a articles--iridescent-list--text-item__figure-thumbnail-link\" data-kanal-page=\"saham\" data-template-var=\"url\" href=\"https://www.liputan6.com/saham/read/5589205/ihsg-berbalik-arah-memerah-harga-saham-goto-menguat\" title=\"IHSG Berbalik Arah Memerah, Harga Saham GOTO Menguat\"><picture class=\"articles--iridescent-list--text-item__figure-image\"><img alt=\"Pekerja melintasi layar pergerakan Indeks Harga Saham Gabungan (IHSG) di BEI, Jakarta, Rabu (16/5). Meski terjebak di zona merah, IHSG berhasil mengakhiri perdagangan di level 5.841. (Liputan6.com/Angga Yuniar)\" class=\"js-lazyload articles--iridescent-list--text-item__figure-image-lazyload\" data-height=\"112\" data-high-dpi=\"https://cdn0-production-images-kly.akamaized.net/Ksfjy8xEciDl9kLhmXCDNGBgra4=/400x224/smart/filters:quality(75):strip_icc():format(webp)/kly-media-production/medias/2216040/original/006512100_1526473915-20180516-IHSG-6.jpg\" data-src=\"https://cdn0-production-images-kly.akamaized.net/CC4SBFQ8NhbNAkLVm9umWEFti_o=/200x112/smart/filters:quality(75):strip_icc():format(webp)/kly-media-production/medias/2216040/original/006512100_1526473915-20180516-IHSG-6.jpg\" data-template-var=\"image\" data-width=\"200\" height=\"112\" src=\"https://cdn-production-assets-kly.akamaized.net/assets/images/blank.png\" width=\"200\"/></picture></a></figure><aside class=\"articles--iridescent-list--text-item__details\"><header class=\"articles--iridescent-list--text-item__header\"><a class=\"articles--iridescent-list--text-item__category\" data-template-var=\"category\" href=\"https://www.liputan6.com/saham\">Saham</a><span class=\"articles--iridescent-list--text-item__datetime\" data-template-var=\"date\"><time class=\"articles--iridescent-list--text-item__time timeago\" datetime=\"2024-05-06T09:41:51+07:00\">06 Mei 2024 09:41</time></span><h4 class=\"articles--iridescent-list--text-item__title\"><a class=\"ui--a articles--iridescent-list--text-item__title-link\" data-kanal-page=\"saham\" data-template-var=\"url\" href=\"https://www.liputan6.com/saham/read/5589205/ihsg-berbalik-arah-memerah-harga-saham-goto-menguat\" title=\"IHSG Berbalik Arah Memerah, Harga Saham GOTO Menguat\"><span class=\"articles--iridescent-list--text-item__title-link-text\" data-template-var=\"title\">IHSG Berbalik Arah Memerah, Harga Saham GOTO Menguat</span></a></h4></header><div class=\"articles--iridescent-list--text-item__summary articles--iridescent-list--text-item__summary-seo\" data-template-var=\"summary\">Sempat menguat pada pembukaan perdagangan, laju Indeks Harga Saham Gabungan (IHSG) berbalik arah memerah pada Senin, 6 Mei 2024.</div></aside></article>, <article class=\"articles--iridescent-list--item articles--iridescent-list--text-item\" data-article-id=\"5588734\" data-category=\"Travel\" data-channel=\"Lifestyle\" data-component-name=\"desktop:articles:iridescent-list:text-item\" data-slug=\"10-bandara-terbersih-di-dunia-versi-skytrax-terbanyak-dari-asia\" data-template-name=\"article-iridescent-list-text\" data-template-var=\"container\" data-title=\"10 Bandara Terbersih di Dunia Versi Skytrax, Terbanyak dari Asia\" data-type=\"TextTypeArticle\" id=\"article_5588734\"><figure class=\"articles--iridescent-list--text-item__figure-thumbnail\"><a class=\"ui--a articles--iridescent-list--text-item__figure-thumbnail-link\" data-kanal-page=\"lifestyle\" data-template-var=\"url\" href=\"https://www.liputan6.com/lifestyle/read/5588734/10-bandara-terbersih-di-dunia-versi-skytrax-terbanyak-dari-asia\" title=\"10 Bandara Terbersih di Dunia Versi Skytrax, Terbanyak dari Asia\"><picture class=\"articles--iridescent-list--text-item__figure-image\"><img alt=\"Waving deck yang berada di lantai 5 Bandara Haneda, Jepang dengan pemandangan sunrise yang cantik (Liputan6.com/Pool/Maulidinov)\" class=\"js-lazyload articles--iridescent-list--text-item__figure-image-lazyload\" data-height=\"112\" data-high-dpi=\"https://cdn0-production-images-kly.akamaized.net/sWBmgSBLg4vUWHsBfEbeDLYOFps=/0x0:4032x2272/400x224/filters:quality(75):strip_icc():format(webp)/kly-media-production/medias/1986548/original/050718600_1520843914-IMG_0487_1_.jpg\" data-src=\"https://cdn0-production-images-kly.akamaized.net/xPQnIqS6fsGPXJTKRQ-PCC7RXEM=/0x0:4032x2272/200x112/filters:quality(75):strip_icc():format(webp)/kly-media-production/medias/1986548/original/050718600_1520843914-IMG_0487_1_.jpg\" data-template-var=\"image\" data-width=\"200\" height=\"112\" src=\"https://cdn-production-assets-kly.akamaized.net/assets/images/blank.png\" width=\"200\"/></picture></a></figure><aside class=\"articles--iridescent-list--text-item__details\"><header class=\"articles--iridescent-list--text-item__header\"><a class=\"articles--iridescent-list--text-item__category\" data-template-var=\"category\" href=\"https://www.liputan6.com/lifestyle/travel\">Travel</a><span class=\"articles--iridescent-list--text-item__datetime\" data-template-var=\"date\"><time class=\"articles--iridescent-list--text-item__time timeago\" datetime=\"2024-05-06T09:31:51+07:00\">06 Mei 2024 09:31</time></span><h4 class=\"articles--iridescent-list--text-item__title\"><a class=\"ui--a articles--iridescent-list--text-item__title-link\" data-kanal-page=\"lifestyle\" data-template-var=\"url\" href=\"https://www.liputan6.com/lifestyle/read/5588734/10-bandara-terbersih-di-dunia-versi-skytrax-terbanyak-dari-asia\" title=\"10 Bandara Terbersih di Dunia Versi Skytrax, Terbanyak dari Asia\"><span class=\"articles--iridescent-list--text-item__title-link-text\" data-template-var=\"title\">10 Bandara Terbersih di Dunia Versi Skytrax, Terbanyak dari Asia</span></a></h4></header><div class=\"articles--iridescent-list--text-item__summary articles--iridescent-list--text-item__summary-seo\" data-template-var=\"summary\">Ada yang bisa menebak siapa posisi pertama di daftar 10 bandara terbersih di dunia versi Skytrax?</div></aside></article>, <article class=\"articles--iridescent-list--item articles--iridescent-list--text-item\" data-article-id=\"5588878\" data-category=\"Tech News\" data-channel=\"Tekno\" data-component-name=\"desktop:articles:iridescent-list:text-item\" data-slug=\"google-larang-iklan-yang-promosikan-situs-web-dan-aplikasi-berisi-pornografi-deepfake\" data-template-name=\"article-iridescent-list-text\" data-template-var=\"container\" data-title=\"Google Larang Iklan yang Promosikan Situs Web dan Aplikasi Berisi Pornografi Deepfake\" data-type=\"TextTypeArticle\" id=\"article_5588878\"><figure class=\"articles--iridescent-list--text-item__figure-thumbnail\"><a class=\"ui--a articles--iridescent-list--text-item__figure-thumbnail-link\" data-kanal-page=\"tekno\" data-template-var=\"url\" href=\"https://www.liputan6.com/tekno/read/5588878/google-larang-iklan-yang-promosikan-situs-web-dan-aplikasi-berisi-pornografi-deepfake\" title=\"Google Larang Iklan yang Promosikan Situs Web dan Aplikasi Berisi Pornografi Deepfake\"><picture class=\"articles--iridescent-list--text-item__figure-image\"><img alt=\"Suasana kantor pusat Google di Googleplex, Mountain View, Palo Alto, California. Liputan6.com/Jeko Iqbal Reza\" class=\"js-lazyload articles--iridescent-list--text-item__figure-image-lazyload\" data-height=\"112\" data-high-dpi=\"https://cdn0-production-images-kly.akamaized.net/EvG6auBB9RZ0aA1ZvzEimK0VoVw=/400x224/smart/filters:quality(75):strip_icc():format(webp)/kly-media-production/medias/1596368/original/063998300_1494999161-google-06.jpg\" data-src=\"https://cdn0-production-images-kly.akamaized.net/l-rhliqchY89j_hHA1YHPKYgZIQ=/200x112/smart/filters:quality(75):strip_icc():format(webp)/kly-media-production/medias/1596368/original/063998300_1494999161-google-06.jpg\" data-template-var=\"image\" data-width=\"200\" height=\"112\" src=\"https://cdn-production-assets-kly.akamaized.net/assets/images/blank.png\" width=\"200\"/></picture></a></figure><aside class=\"articles--iridescent-list--text-item__details\"><header class=\"articles--iridescent-list--text-item__header\"><a class=\"articles--iridescent-list--text-item__category\" data-template-var=\"category\" href=\"https://www.liputan6.com/tekno/berita\">Tech News</a><span class=\"articles--iridescent-list--text-item__datetime\" data-template-var=\"date\"><time class=\"articles--iridescent-list--text-item__time timeago\" datetime=\"2024-05-06T09:30:41+07:00\">06 Mei 2024 09:30</time></span><h4 class=\"articles--iridescent-list--text-item__title\"><a class=\"ui--a articles--iridescent-list--text-item__title-link\" data-kanal-page=\"tekno\" data-template-var=\"url\" href=\"https://www.liputan6.com/tekno/read/5588878/google-larang-iklan-yang-promosikan-situs-web-dan-aplikasi-berisi-pornografi-deepfake\" title=\"Google Larang Iklan yang Promosikan Situs Web dan Aplikasi Berisi Pornografi Deepfake\"><span class=\"articles--iridescent-list--text-item__title-link-text\" data-template-var=\"title\">Google Larang Iklan yang Promosikan Situs Web dan Aplikasi Berisi Pornografi Deepfake</span></a></h4></header><div class=\"articles--iridescent-list--text-item__summary articles--iridescent-list--text-item__summary-seo\" data-template-var=\"summary\">Google secara tegas melarang pengiklan mempromosikan situs web dan aplikasi atau layanan yang menghasilkan pornografi deepfake.</div></aside></article>, <article class=\"articles--iridescent-list--item articles--iridescent-list--text-item\" data-article-id=\"5589060\" data-category=\"Bisnis\" data-channel=\"Bisnis\" data-component-name=\"desktop:articles:iridescent-list:text-item\" data-slug=\"erick-thohir-bpk-bakal-audit-keuangan-indofarma\" data-template-name=\"article-iridescent-list-text\" data-template-var=\"container\" data-title=\"Erick Thohir: BPK Bakal Audit Keuangan Indofarma\" data-type=\"TextTypeArticle\" id=\"article_5589060\"><figure class=\"articles--iridescent-list--text-item__figure-thumbnail\"><a class=\"ui--a articles--iridescent-list--text-item__figure-thumbnail-link\" data-kanal-page=\"bisnis\" data-template-var=\"url\" href=\"https://www.liputan6.com/bisnis/read/5589060/erick-thohir-bpk-bakal-audit-keuangan-indofarma\" title=\"Erick Thohir: BPK Bakal Audit Keuangan Indofarma\"><picture class=\"articles--iridescent-list--text-item__figure-image\"><img alt=\"Menteri BUMN Erick Thohir pun memberikan pesan kepada Menteri BUMN di Pemerintahan selanjutnya. (dok: Tira)\" class=\"js-lazyload articles--iridescent-list--text-item__figure-image-lazyload\" data-height=\"112\" data-high-dpi=\"https://cdn0-production-images-kly.akamaized.net/dAfthHVYheCy2glV-2bjJOd38rs=/400x224/smart/filters:quality(75):strip_icc():format(webp)/kly-media-production/medias/4822496/original/033041300_1714915158-IMG-20240505-WA0044.jpg\" data-src=\"https://cdn0-production-images-kly.akamaized.net/m3PcQWx8t9loyegR0i9n7v5Rulk=/200x112/smart/filters:quality(75):strip_icc():format(webp)/kly-media-production/medias/4822496/original/033041300_1714915158-IMG-20240505-WA0044.jpg\" data-template-var=\"image\" data-width=\"200\" height=\"112\" src=\"https://cdn-production-assets-kly.akamaized.net/assets/images/blank.png\" width=\"200\"/></picture></a></figure><aside class=\"articles--iridescent-list--text-item__details\"><header class=\"articles--iridescent-list--text-item__header\"><a class=\"articles--iridescent-list--text-item__category\" data-template-var=\"category\" href=\"https://www.liputan6.com/bisnis\">Bisnis</a><span class=\"articles--iridescent-list--text-item__datetime\" data-template-var=\"date\"><time class=\"articles--iridescent-list--text-item__time timeago\" datetime=\"2024-05-06T09:30:39+07:00\">06 Mei 2024 09:30</time></span><h4 class=\"articles--iridescent-list--text-item__title\"><a class=\"ui--a articles--iridescent-list--text-item__title-link\" data-kanal-page=\"bisnis\" data-template-var=\"url\" href=\"https://www.liputan6.com/bisnis/read/5589060/erick-thohir-bpk-bakal-audit-keuangan-indofarma\" title=\"Erick Thohir: BPK Bakal Audit Keuangan Indofarma\"><span class=\"articles--iridescent-list--text-item__title-link-text\" data-template-var=\"title\">Erick Thohir: BPK Bakal Audit Keuangan Indofarma</span></a></h4></header><div class=\"articles--iridescent-list--text-item__summary articles--iridescent-list--text-item__summary-seo\" data-template-var=\"summary\">Menteri BUMN Erick Thohir menegaskan pihaknya akan menggandeng Badan Pemeriksa Keuangan (BPK) untuk mengaudit PT Indofarma.</div></aside></article>, <article class=\"articles--iridescent-list--item articles--iridescent-list--text-item\" data-article-id=\"5589008\" data-category=\"Islami\" data-channel=\"Islami\" data-component-name=\"desktop:articles:iridescent-list:text-item\" data-slug=\"mengenaskan-penyesalan-orang-kafir-yang-mengolok-olok-nabi-di-hari-kiamat\" data-template-name=\"article-iridescent-list-text\" data-template-var=\"container\" data-title=\"Mengenaskan, Penyesalan Orang Kafir yang Mengolok-olok Nabi di Hari Kiamat\" data-type=\"TextTypeArticle\" id=\"article_5589008\"><figure class=\"articles--iridescent-list--text-item__figure-thumbnail\"><a class=\"ui--a articles--iridescent-list--text-item__figure-thumbnail-link\" data-kanal-page=\"islami\" data-template-var=\"url\" href=\"https://www.liputan6.com/islami/read/5589008/mengenaskan-penyesalan-orang-kafir-yang-mengolok-olok-nabi-di-hari-kiamat\" title=\"Mengenaskan, Penyesalan Orang Kafir yang Mengolok-olok Nabi di Hari Kiamat\"><picture class=\"articles--iridescent-list--text-item__figure-image\"><img alt=\"Ilustrasi asteroid. \" class=\"js-lazyload articles--iridescent-list--text-item__figure-image-lazyload\" data-height=\"112\" data-high-dpi=\"https://cdn0-production-images-kly.akamaized.net/aRQq9hSJQxI-hX7tg_EcCpOhbDg=/400x224/smart/filters:quality(75):strip_icc():format(webp)/kly-media-production/medias/914040/original/046285900_1435639131-717846main_pia16610_full.jpg\" data-src=\"https://cdn0-production-images-kly.akamaized.net/KN9FClB2oQ4mPTFKCvE1hsvytWU=/200x112/smart/filters:quality(75):strip_icc():format(webp)/kly-media-production/medias/914040/original/046285900_1435639131-717846main_pia16610_full.jpg\" data-template-var=\"image\" data-width=\"200\" height=\"112\" src=\"https://cdn-production-assets-kly.akamaized.net/assets/images/blank.png\" width=\"200\"/></picture></a></figure><aside class=\"articles--iridescent-list--text-item__details\"><header class=\"articles--iridescent-list--text-item__header\"><a class=\"articles--iridescent-list--text-item__category\" data-template-var=\"category\" href=\"https://www.liputan6.com/islami\">Islami</a><span class=\"articles--iridescent-list--text-item__datetime\" data-template-var=\"date\"><time class=\"articles--iridescent-list--text-item__time timeago\" datetime=\"2024-05-06T09:30:07+07:00\">06 Mei 2024 09:30</time></span><h4 class=\"articles--iridescent-list--text-item__title\"><a class=\"ui--a articles--iridescent-list--text-item__title-link\" data-kanal-page=\"islami\" data-template-var=\"url\" href=\"https://www.liputan6.com/islami/read/5589008/mengenaskan-penyesalan-orang-kafir-yang-mengolok-olok-nabi-di-hari-kiamat\" title=\"Mengenaskan, Penyesalan Orang Kafir yang Mengolok-olok Nabi di Hari Kiamat\"><span class=\"articles--iridescent-list--text-item__title-link-text\" data-template-var=\"title\">Mengenaskan, Penyesalan Orang Kafir yang Mengolok-olok Nabi di Hari Kiamat</span></a></h4></header><div class=\"articles--iridescent-list--text-item__summary articles--iridescent-list--text-item__summary-seo\" data-template-var=\"summary\">Orang kafir tidak percaya kiamat yang datangnya merupakan suatu keniscayaan.</div></aside></article>, <article class=\"articles--iridescent-list--item articles--iridescent-list--text-item\" data-article-id=\"5589144\" data-category=\"Selebritis\" data-channel=\"ShowBiz\" data-component-name=\"desktop:articles:iridescent-list:text-item\" data-slug=\"alasan-ria-ricis-gugat-cerai-teuku-ryan-yang-tersebar-jagat-maya-pengacara-bereaksi\" data-template-name=\"article-iridescent-list-text\" data-template-var=\"container\" data-title=\"Alasan Ria Ricis Gugat Cerai Teuku Ryan yang Tersebar Jagat Maya, Pengacara Bereaksi\" data-type=\"TextTypeArticle\" id=\"article_5589144\"><figure class=\"articles--iridescent-list--text-item__figure-thumbnail\"><a class=\"ui--a articles--iridescent-list--text-item__figure-thumbnail-link\" data-kanal-page=\"showbiz\" data-template-var=\"url\" href=\"https://www.liputan6.com/showbiz/read/5589144/alasan-ria-ricis-gugat-cerai-teuku-ryan-yang-tersebar-jagat-maya-pengacara-bereaksi\" title=\"Alasan Ria Ricis Gugat Cerai Teuku Ryan yang Tersebar Jagat Maya, Pengacara Bereaksi\"><picture class=\"articles--iridescent-list--text-item__figure-image\"><img alt=\"Potret Kompak Teuku Ryan dan Ria Ricis Saat Liburan (Sumber: Instagram/teukuryan)\" class=\"js-lazyload articles--iridescent-list--text-item__figure-image-lazyload\" data-height=\"112\" data-high-dpi=\"https://cdn1-production-images-kly.akamaized.net/5iZIohGxxA5_FJqMRXKXcbwMJws=/400x224/smart/filters:quality(75):strip_icc():format(webp)/kly-media-production/medias/4659588/original/074830000_1700707264-Snapinsta.app_275220629_485088603241063_6991819807916517073_n_1080.jpg\" data-src=\"https://cdn1-production-images-kly.akamaized.net/Qa5TOjkgw_vP1l4R6ebpUZWMghE=/200x112/smart/filters:quality(75):strip_icc():format(webp)/kly-media-production/medias/4659588/original/074830000_1700707264-Snapinsta.app_275220629_485088603241063_6991819807916517073_n_1080.jpg\" data-template-var=\"image\" data-width=\"200\" height=\"112\" src=\"https://cdn-production-assets-kly.akamaized.net/assets/images/blank.png\" width=\"200\"/></picture></a></figure><aside class=\"articles--iridescent-list--text-item__details\"><header class=\"articles--iridescent-list--text-item__header\"><a class=\"articles--iridescent-list--text-item__category\" data-template-var=\"category\" href=\"https://www.liputan6.com/showbiz/celeb\">Selebritis</a><span class=\"articles--iridescent-list--text-item__datetime\" data-template-var=\"date\"><time class=\"articles--iridescent-list--text-item__time timeago\" datetime=\"2024-05-06T09:30:00+07:00\">06 Mei 2024 09:30</time></span><h4 class=\"articles--iridescent-list--text-item__title\"><a class=\"ui--a articles--iridescent-list--text-item__title-link\" data-kanal-page=\"showbiz\" data-template-var=\"url\" href=\"https://www.liputan6.com/showbiz/read/5589144/alasan-ria-ricis-gugat-cerai-teuku-ryan-yang-tersebar-jagat-maya-pengacara-bereaksi\" title=\"Alasan Ria Ricis Gugat Cerai Teuku Ryan yang Tersebar Jagat Maya, Pengacara Bereaksi\"><span class=\"articles--iridescent-list--text-item__title-link-text\" data-template-var=\"title\">Alasan Ria Ricis Gugat Cerai Teuku Ryan yang Tersebar Jagat Maya, Pengacara Bereaksi</span></a></h4></header><div class=\"articles--iridescent-list--text-item__summary articles--iridescent-list--text-item__summary-seo\" data-template-var=\"summary\">Ria Ricis dan Teuku Ryan resmi berpisah pada Jumat, 3 Mei 2024.</div></aside></article>, <article class=\"articles--iridescent-list--item articles--iridescent-list--text-item\" data-article-id=\"5589188\" data-category=\"Peristiwa\" data-channel=\"News\" data-component-name=\"desktop:articles:iridescent-list:text-item\" data-slug=\"indonesia-tidak-diterjang-gelombang-panas-ini-penjelasan-bmkg\" data-template-name=\"article-iridescent-list-text\" data-template-var=\"container\" data-title=\"Indonesia Tidak Diterjang Gelombang Panas, Ini Penjelasan BMKG\" data-type=\"TextTypeArticle\" id=\"article_5589188\"><figure class=\"articles--iridescent-list--text-item__figure-thumbnail\"><a class=\"ui--a articles--iridescent-list--text-item__figure-thumbnail-link\" data-kanal-page=\"news\" data-template-var=\"url\" href=\"https://www.liputan6.com/news/read/5589188/indonesia-tidak-diterjang-gelombang-panas-ini-penjelasan-bmkg\" title=\"Indonesia Tidak Diterjang Gelombang Panas, Ini Penjelasan BMKG\"><picture class=\"articles--iridescent-list--text-item__figure-image\"><img alt=\"Ultraviolet akan terasa mulai panas pukul 10.00 WIB atau 11.00 WIB. (Liputan6.com/Faizal  Fanani)\" class=\"js-lazyload articles--iridescent-list--text-item__figure-image-lazyload\" data-height=\"112\" data-high-dpi=\"https://cdn1-production-images-kly.akamaized.net/AmAm1k_2fIvh15J5RMpXKfjWVQ8=/400x224/smart/filters:quality(75):strip_icc():format(webp)/kly-media-production/medias/4395251/original/024316600_1681461846-Cuaca-Panas-Melanda-Jakarta-Faizal-2.jpg\" data-src=\"https://cdn1-production-images-kly.akamaized.net/TQkTZyKlXVH_mit3lqtnPHv77zw=/200x112/smart/filters:quality(75):strip_icc():format(webp)/kly-media-production/medias/4395251/original/024316600_1681461846-Cuaca-Panas-Melanda-Jakarta-Faizal-2.jpg\" data-template-var=\"image\" data-width=\"200\" height=\"112\" src=\"https://cdn-production-assets-kly.akamaized.net/assets/images/blank.png\" width=\"200\"/></picture></a></figure><aside class=\"articles--iridescent-list--text-item__details\"><header class=\"articles--iridescent-list--text-item__header\"><a class=\"articles--iridescent-list--text-item__category\" data-template-var=\"category\" href=\"https://www.liputan6.com/news/peristiwa\">Peristiwa</a><span class=\"articles--iridescent-list--text-item__datetime\" data-template-var=\"date\"><time class=\"articles--iridescent-list--text-item__time timeago\" datetime=\"2024-05-06T09:21:25+07:00\">06 Mei 2024 09:21</time></span><h4 class=\"articles--iridescent-list--text-item__title\"><a class=\"ui--a articles--iridescent-list--text-item__title-link\" data-kanal-page=\"news\" data-template-var=\"url\" href=\"https://www.liputan6.com/news/read/5589188/indonesia-tidak-diterjang-gelombang-panas-ini-penjelasan-bmkg\" title=\"Indonesia Tidak Diterjang Gelombang Panas, Ini Penjelasan BMKG\"><span class=\"articles--iridescent-list--text-item__title-link-text\" data-template-var=\"title\">Indonesia Tidak Diterjang Gelombang Panas, Ini Penjelasan BMKG</span></a></h4></header><div class=\"articles--iridescent-list--text-item__summary articles--iridescent-list--text-item__summary-seo\" data-template-var=\"summary\">Suhu udara maksimum tertinggi di Indonesia selama sepekan terakhir tercatat terjadi di Palu 37,8°C pada 23 April lalu.</div></aside></article>, <article class=\"articles--iridescent-list--item articles--iridescent-list--text-item\" data-article-id=\"5589156\" data-category=\"Hot\" data-channel=\"Hot\" data-component-name=\"desktop:articles:iridescent-list:text-item\" data-slug=\"7-potret-pacar-armand-anak-farah-quinn-bule-amerika-teman-sekolah\" data-template-name=\"article-iridescent-list-text\" data-template-var=\"container\" data-title=\"7 Potret Pacar Armand Anak Farah Quinn Bule Amerika, Teman Sekolah\" data-type=\"TextTypeArticle\" id=\"article_5589156\"><figure class=\"articles--iridescent-list--text-item__figure-thumbnail\"><a class=\"ui--a articles--iridescent-list--text-item__figure-thumbnail-link\" data-kanal-page=\"hot\" data-template-var=\"url\" href=\"https://www.liputan6.com/hot/read/5589156/7-potret-pacar-armand-anak-farah-quinn-bule-amerika-teman-sekolah\" title=\"7 Potret Pacar Armand Anak Farah Quinn Bule Amerika, Teman Sekolah\"><picture class=\"articles--iridescent-list--text-item__figure-image\"><img alt=\"Potret Pacar Armand Anak Farah Quinn Bule Amerika Sumber: Instagram/farahquinnofficial)\" class=\"js-lazyload articles--iridescent-list--text-item__figure-image-lazyload\" data-height=\"112\" data-high-dpi=\"https://cdn1-production-images-kly.akamaized.net/_2G3htIsnTdmiLV6A2u_EySGAo4=/400x224/smart/filters:quality(75):strip_icc():format(webp)/kly-media-production/medias/4822637/original/099032100_1714960116-page.jpg\" data-src=\"https://cdn1-production-images-kly.akamaized.net/cnjWghNgjbvOiLKo31s0kT8-JqY=/200x112/smart/filters:quality(75):strip_icc():format(webp)/kly-media-production/medias/4822637/original/099032100_1714960116-page.jpg\" data-template-var=\"image\" data-width=\"200\" height=\"112\" src=\"https://cdn-production-assets-kly.akamaized.net/assets/images/blank.png\" width=\"200\"/></picture></a></figure><aside class=\"articles--iridescent-list--text-item__details\"><header class=\"articles--iridescent-list--text-item__header\"><a class=\"articles--iridescent-list--text-item__category\" data-template-var=\"category\" href=\"https://www.liputan6.com/hot\">Hot</a><span class=\"articles--iridescent-list--text-item__datetime\" data-template-var=\"date\"><time class=\"articles--iridescent-list--text-item__time timeago\" datetime=\"2024-05-06T09:20:35+07:00\">06 Mei 2024 09:20</time></span><h4 class=\"articles--iridescent-list--text-item__title\"><a class=\"ui--a articles--iridescent-list--text-item__title-link\" data-kanal-page=\"hot\" data-template-var=\"url\" href=\"https://www.liputan6.com/hot/read/5589156/7-potret-pacar-armand-anak-farah-quinn-bule-amerika-teman-sekolah\" title=\"7 Potret Pacar Armand Anak Farah Quinn Bule Amerika, Teman Sekolah\"><span class=\"articles--iridescent-list--text-item__title-link-text\" data-template-var=\"title\">7 Potret Pacar Armand Anak Farah Quinn Bule Amerika, Teman Sekolah</span></a></h4></header><div class=\"articles--iridescent-list--text-item__summary articles--iridescent-list--text-item__summary-seo\" data-template-var=\"summary\">Farah Quinn sudah izinkan Armand memiliki pacar di usia 14 tahun.</div></aside></article>, <article class=\"articles--iridescent-list--item articles--iridescent-list--text-item\" data-article-id=\"5589185\" data-category=\"Jawa Barat\" data-channel=\"Regional\" data-component-name=\"desktop:articles:iridescent-list:text-item\" data-slug=\"ratusan-warga-purwakarta-keracunan-massal-usai-menyantap-hidangan-hajatan\" data-template-name=\"article-iridescent-list-text\" data-template-var=\"container\" data-title=\"Ratusan Warga Purwakarta Keracunan Massal Usai Menyantap Hidangan Hajatan\" data-type=\"TextTypeArticle\" id=\"article_5589185\"><figure class=\"articles--iridescent-list--text-item__figure-thumbnail\"><a class=\"ui--a articles--iridescent-list--text-item__figure-thumbnail-link\" data-kanal-page=\"regional\" data-template-var=\"url\" href=\"https://www.liputan6.com/regional/read/5589185/ratusan-warga-purwakarta-keracunan-massal-usai-menyantap-hidangan-hajatan\" title=\"Ratusan Warga Purwakarta Keracunan Massal Usai Menyantap Hidangan Hajatan\"><picture class=\"articles--iridescent-list--text-item__figure-image\"><img alt=\"Ratusan warga Kampung Sukamulya, Desa Pasirmunjul, Kecamatan Sukatani, Kabupaten Purwakarta, Jabar, mengalami keracunan massal usai menyantap hidangan hajatan. (Liputan6.com/ Asep Mulyana)\" class=\"js-lazyload articles--iridescent-list--text-item__figure-image-lazyload\" data-height=\"112\" data-high-dpi=\"https://cdn1-production-images-kly.akamaized.net/gfwiTNtWbCdKNE2rzFrJFA_TzJM=/400x224/smart/filters:quality(75):strip_icc():format(webp)/kly-media-production/medias/4822670/original/086149400_1714961919-WhatsApp_Image_2024-05-06_at_09.13.10.jpeg\" data-src=\"https://cdn1-production-images-kly.akamaized.net/sYjYRTkQXmSvCFWpBVtV4LaASf8=/200x112/smart/filters:quality(75):strip_icc():format(webp)/kly-media-production/medias/4822670/original/086149400_1714961919-WhatsApp_Image_2024-05-06_at_09.13.10.jpeg\" data-template-var=\"image\" data-width=\"200\" height=\"112\" src=\"https://cdn-production-assets-kly.akamaized.net/assets/images/blank.png\" width=\"200\"/></picture></a></figure><aside class=\"articles--iridescent-list--text-item__details\"><header class=\"articles--iridescent-list--text-item__header\"><a class=\"articles--iridescent-list--text-item__category\" data-template-var=\"category\" href=\"https://www.liputan6.com/regional/bandung\">Jawa Barat</a><span class=\"articles--iridescent-list--text-item__datetime\" data-template-var=\"date\"><time class=\"articles--iridescent-list--text-item__time timeago\" datetime=\"2024-05-06T09:19:12+07:00\">06 Mei 2024 09:19</time></span><h4 class=\"articles--iridescent-list--text-item__title\"><a class=\"ui--a articles--iridescent-list--text-item__title-link\" data-kanal-page=\"regional\" data-template-var=\"url\" href=\"https://www.liputan6.com/regional/read/5589185/ratusan-warga-purwakarta-keracunan-massal-usai-menyantap-hidangan-hajatan\" title=\"Ratusan Warga Purwakarta Keracunan Massal Usai Menyantap Hidangan Hajatan\"><span class=\"articles--iridescent-list--text-item__title-link-text\" data-template-var=\"title\">Ratusan Warga Purwakarta Keracunan Massal Usai Menyantap Hidangan Hajatan</span></a></h4></header><div class=\"articles--iridescent-list--text-item__summary articles--iridescent-list--text-item__summary-seo\" data-template-var=\"summary\">Ratusan warga Kampung Sukamulya, Desa Pasirmunjul, Kecamatan Sukatani, Kabupaten Purwakarta, Jabar, mengalami keracunan massal usai menyantap hidangan hajatan.</div></aside></article>, <article class=\"articles--iridescent-list--item articles--iridescent-list--text-item\" data-article-id=\"5589178\" data-category=\"Peristiwa\" data-channel=\"News\" data-component-name=\"desktop:articles:iridescent-list:text-item\" data-slug=\"ditetapkan-tersangka-pelaku-mutilasi-istri-di-cianjur-dites-kejiwaan-hari-ini\" data-template-name=\"article-iridescent-list-text\" data-template-var=\"container\" data-title=\"Ditetapkan Tersangka, Pelaku Mutilasi Istri di Cianjur Dites Kejiwaan Hari ini\" data-type=\"TextTypeArticle\" id=\"article_5589178\"><figure class=\"articles--iridescent-list--text-item__figure-thumbnail\"><a class=\"ui--a articles--iridescent-list--text-item__figure-thumbnail-link\" data-kanal-page=\"news\" data-template-var=\"url\" href=\"https://www.liputan6.com/news/read/5589178/ditetapkan-tersangka-pelaku-mutilasi-istri-di-cianjur-dites-kejiwaan-hari-ini\" title=\"Ditetapkan Tersangka, Pelaku Mutilasi Istri di Cianjur Dites Kejiwaan Hari ini\"><picture class=\"articles--iridescent-list--text-item__figure-image\"><img alt=\"Petugas Polres Ciamis tengah melakukan olah TKP di lokasi pembunuhan dan mutilasi di Dusun Sindangjaya, Desa Cisontrol, Kecamatan Rancah, Kabupaten Ciamis, Jawa Barat. (Liputan6.com/Jayadi Supriadin)\" class=\"js-lazyload articles--iridescent-list--text-item__figure-image-lazyload\" data-height=\"112\" data-high-dpi=\"https://cdn1-production-images-kly.akamaized.net/xHyLJK1mfN-0Mx3vkpZQ3FMfO2A=/400x224/smart/filters:quality(75):strip_icc():format(webp)/kly-media-production/medias/4821296/original/011121900_1714750250-pembunuhan_dan_mutilasi_ciamis.jpg\" data-src=\"https://cdn1-production-images-kly.akamaized.net/toLsnuoj5WUKOw5MNPBdLmPzeoQ=/200x112/smart/filters:quality(75):strip_icc():format(webp)/kly-media-production/medias/4821296/original/011121900_1714750250-pembunuhan_dan_mutilasi_ciamis.jpg\" data-template-var=\"image\" data-width=\"200\" height=\"112\" src=\"https://cdn-production-assets-kly.akamaized.net/assets/images/blank.png\" width=\"200\"/></picture></a></figure><aside class=\"articles--iridescent-list--text-item__details\"><header class=\"articles--iridescent-list--text-item__header\"><a class=\"articles--iridescent-list--text-item__category\" data-template-var=\"category\" href=\"https://www.liputan6.com/news/peristiwa\">Peristiwa</a><span class=\"articles--iridescent-list--text-item__datetime\" data-template-var=\"date\"><time class=\"articles--iridescent-list--text-item__time timeago\" datetime=\"2024-05-06T09:18:11+07:00\">06 Mei 2024 09:18</time></span><h4 class=\"articles--iridescent-list--text-item__title\"><a class=\"ui--a articles--iridescent-list--text-item__title-link\" data-kanal-page=\"news\" data-template-var=\"url\" href=\"https://www.liputan6.com/news/read/5589178/ditetapkan-tersangka-pelaku-mutilasi-istri-di-cianjur-dites-kejiwaan-hari-ini\" title=\"Ditetapkan Tersangka, Pelaku Mutilasi Istri di Cianjur Dites Kejiwaan Hari ini\"><span class=\"articles--iridescent-list--text-item__title-link-text\" data-template-var=\"title\">Ditetapkan Tersangka, Pelaku Mutilasi Istri di Cianjur Dites Kejiwaan Hari ini</span></a></h4></header><div class=\"articles--iridescent-list--text-item__summary articles--iridescent-list--text-item__summary-seo\" data-template-var=\"summary\">Menurut Akmal, hasil dari tes kejiwaan Tarsum, pelaku mutilasi istri nantinya dapat menjadi pertimbangan proses penegakan hukum terhadap tersangka.</div></aside></article>, <article class=\"articles--iridescent-list--item articles--iridescent-list--text-item\" data-article-id=\"5589174\" data-category=\"Energi &amp; Tambang\" data-channel=\"Bisnis\" data-component-name=\"desktop:articles:iridescent-list:text-item\" data-slug=\"harga-emas-antam-turun-lagi-hari-ini-6-mei-2024-cek-rinciannya\" data-template-name=\"article-iridescent-list-text\" data-template-var=\"container\" data-title=\"Harga Emas Antam Turun Lagi Hari Ini 6 Mei 2024, Cek Rinciannya\" data-type=\"TextTypeArticle\" id=\"article_5589174\"><figure class=\"articles--iridescent-list--text-item__figure-thumbnail\"><a class=\"ui--a articles--iridescent-list--text-item__figure-thumbnail-link\" data-kanal-page=\"bisnis\" data-template-var=\"url\" href=\"https://www.liputan6.com/bisnis/read/5589174/harga-emas-antam-turun-lagi-hari-ini-6-mei-2024-cek-rinciannya\" title=\"Harga Emas Antam Turun Lagi Hari Ini 6 Mei 2024, Cek Rinciannya\"><picture class=\"articles--iridescent-list--text-item__figure-image\"><img alt=\"Petugas menunjukkan koleksi lempengan emas di Pegadaian, Jakarta, Selasa (18/5/2021). Untuk emas Antam satuan terkecil dengan ukuran 0,5 gram dijual Rp 518.500, naik Rp 2.000 dari harga sebelumnya. (Liputan6.com/Johan Tallo)\" class=\"js-lazyload articles--iridescent-list--text-item__figure-image-lazyload\" data-height=\"112\" data-high-dpi=\"https://cdn0-production-images-kly.akamaized.net/djjVj3FipbJo1PRFh48Up8tgHk0=/400x224/smart/filters:quality(75):strip_icc():format(webp)/kly-media-production/medias/3458472/original/044284300_1621321946-20210518-Harga-Emas-Antam-5.jpg\" data-src=\"https://cdn0-production-images-kly.akamaized.net/rfFNO_UvWfU-OT7dwyMjolk1mbM=/200x112/smart/filters:quality(75):strip_icc():format(webp)/kly-media-production/medias/3458472/original/044284300_1621321946-20210518-Harga-Emas-Antam-5.jpg\" data-template-var=\"image\" data-width=\"200\" height=\"112\" src=\"https://cdn-production-assets-kly.akamaized.net/assets/images/blank.png\" width=\"200\"/></picture></a></figure><aside class=\"articles--iridescent-list--text-item__details\"><header class=\"articles--iridescent-list--text-item__header\"><a class=\"articles--iridescent-list--text-item__category\" data-template-var=\"category\" href=\"https://www.liputan6.com/bisnis/energi-tambang\">Energi &amp; Tambang</a><span class=\"articles--iridescent-list--text-item__datetime\" data-template-var=\"date\"><time class=\"articles--iridescent-list--text-item__time timeago\" datetime=\"2024-05-06T09:15:08+07:00\">06 Mei 2024 09:15</time></span><h4 class=\"articles--iridescent-list--text-item__title\"><a class=\"ui--a articles--iridescent-list--text-item__title-link\" data-kanal-page=\"bisnis\" data-template-var=\"url\" href=\"https://www.liputan6.com/bisnis/read/5589174/harga-emas-antam-turun-lagi-hari-ini-6-mei-2024-cek-rinciannya\" title=\"Harga Emas Antam Turun Lagi Hari Ini 6 Mei 2024, Cek Rinciannya\"><span class=\"articles--iridescent-list--text-item__title-link-text\" data-template-var=\"title\">Harga Emas Antam Turun Lagi Hari Ini 6 Mei 2024, Cek Rinciannya</span></a></h4></header><div class=\"articles--iridescent-list--text-item__summary articles--iridescent-list--text-item__summary-seo\" data-template-var=\"summary\">Harga emas Antam hari ini, Senin (6/5/2024), turun tipis Rp 3.000. Demikian juga harga emas Antam untuk pembelian kembali atau buyback turun Rp 3.000 per gram</div></aside></article>, <article class=\"articles--iridescent-list--item articles--iridescent-list--text-item\" data-article-id=\"5589152\" data-category=\"Hot\" data-channel=\"Hot\" data-component-name=\"desktop:articles:iridescent-list:text-item\" data-slug=\"ekosistem-adalah-hubungan-timbal-balik-makhluk-hidup-dengan-lingkungan-simak-ciri-cirinya\" data-template-name=\"article-iridescent-list-text\" data-template-var=\"container\" data-title=\"Ekosistem Adalah Hubungan Timbal Balik Makhluk Hidup dengan Lingkungan, Simak Ciri-Cirinya\" data-type=\"TextTypeArticle\" id=\"article_5589152\"><figure class=\"articles--iridescent-list--text-item__figure-thumbnail\"><a class=\"ui--a articles--iridescent-list--text-item__figure-thumbnail-link\" data-kanal-page=\"hot\" data-template-var=\"url\" href=\"https://www.liputan6.com/hot/read/5589152/ekosistem-adalah-hubungan-timbal-balik-makhluk-hidup-dengan-lingkungan-simak-ciri-cirinya\" title=\"Ekosistem Adalah Hubungan Timbal Balik Makhluk Hidup dengan Lingkungan, Simak Ciri-Cirinya\"><picture class=\"articles--iridescent-list--text-item__figure-image\"><img alt=\"Ilustrasi pohon, hutan. (Photo by Daniel Tseng on Unsplash)\" class=\"js-lazyload articles--iridescent-list--text-item__figure-image-lazyload\" data-height=\"112\" data-high-dpi=\"https://cdn0-production-images-kly.akamaized.net/2RGt1CP9b8yJCBoDYHKR-OhRgmI=/400x224/smart/filters:quality(75):strip_icc():format(webp)/kly-media-production/medias/4655366/original/003140000_1700462599-daniel-tseng-73lmMKhi2U8-unsplash.jpg\" data-src=\"https://cdn0-production-images-kly.akamaized.net/fJlg_jnlzMkd-KQu9sMNv6RZp3Q=/200x112/smart/filters:quality(75):strip_icc():format(webp)/kly-media-production/medias/4655366/original/003140000_1700462599-daniel-tseng-73lmMKhi2U8-unsplash.jpg\" data-template-var=\"image\" data-width=\"200\" height=\"112\" src=\"https://cdn-production-assets-kly.akamaized.net/assets/images/blank.png\" width=\"200\"/></picture></a></figure><aside class=\"articles--iridescent-list--text-item__details\"><header class=\"articles--iridescent-list--text-item__header\"><a class=\"articles--iridescent-list--text-item__category\" data-template-var=\"category\" href=\"https://www.liputan6.com/hot\">Hot</a><span class=\"articles--iridescent-list--text-item__datetime\" data-template-var=\"date\"><time class=\"articles--iridescent-list--text-item__time timeago\" datetime=\"2024-05-06T09:10:38+07:00\">06 Mei 2024 09:10</time></span><h4 class=\"articles--iridescent-list--text-item__title\"><a class=\"ui--a articles--iridescent-list--text-item__title-link\" data-kanal-page=\"hot\" data-template-var=\"url\" href=\"https://www.liputan6.com/hot/read/5589152/ekosistem-adalah-hubungan-timbal-balik-makhluk-hidup-dengan-lingkungan-simak-ciri-cirinya\" title=\"Ekosistem Adalah Hubungan Timbal Balik Makhluk Hidup dengan Lingkungan, Simak Ciri-Cirinya\"><span class=\"articles--iridescent-list--text-item__title-link-text\" data-template-var=\"title\">Ekosistem Adalah Hubungan Timbal Balik Makhluk Hidup dengan Lingkungan, Simak Ciri-Cirinya</span></a></h4></header><div class=\"articles--iridescent-list--text-item__summary articles--iridescent-list--text-item__summary-seo\" data-template-var=\"summary\">Ekosistem mencakup segala bentuk kehidupan, mulai dari mikroorganisme hingga makhluk hidup yang kompleks, serta unsur-unsur non-hidup seperti udara, air, tanah dan iklim.</div></aside></article>, <article class=\"articles--iridescent-list--item articles--iridescent-list--text-item\" data-article-id=\"5587769\" data-category=\"Citizen6\" data-channel=\"Citizen6\" data-component-name=\"desktop:articles:iridescent-list:text-item\" data-slug=\"tak-disangka-ternyata-ada-6-efek-stres-yang-memicu-gangguan-pencernaan\" data-template-name=\"article-iridescent-list-text\" data-template-var=\"container\" data-title=\"Tak Disangka, Ternyata Ada 6 Efek Stres yang Memicu Gangguan Pencernaan\" data-type=\"TextTypeArticle\" id=\"article_5587769\"><figure class=\"articles--iridescent-list--text-item__figure-thumbnail\"><a class=\"ui--a articles--iridescent-list--text-item__figure-thumbnail-link\" data-kanal-page=\"citizen6\" data-template-var=\"url\" href=\"https://www.liputan6.com/citizen6/read/5587769/tak-disangka-ternyata-ada-6-efek-stres-yang-memicu-gangguan-pencernaan\" title=\"Tak Disangka, Ternyata Ada 6 Efek Stres yang Memicu Gangguan Pencernaan\"><picture class=\"articles--iridescent-list--text-item__figure-image\"><img alt=\"Ilustrasi Depresi Credit: freepik.com\" class=\"js-lazyload articles--iridescent-list--text-item__figure-image-lazyload\" data-height=\"112\" data-high-dpi=\"https://cdn0-production-images-kly.akamaized.net/T1ogNCSshBNZQPZ253YXAaZunEo=/400x224/smart/filters:quality(75):strip_icc():format(webp)/kly-media-production/medias/3152904/original/070386700_1592208404-emotional-young-woman-was-depressed-sofa_1150-15515.jpg\" data-src=\"https://cdn0-production-images-kly.akamaized.net/RlZkwBpoi7XgfftnL_l-dC1FkXw=/200x112/smart/filters:quality(75):strip_icc():format(webp)/kly-media-production/medias/3152904/original/070386700_1592208404-emotional-young-woman-was-depressed-sofa_1150-15515.jpg\" data-template-var=\"image\" data-width=\"200\" height=\"112\" src=\"https://cdn-production-assets-kly.akamaized.net/assets/images/blank.png\" width=\"200\"/></picture></a></figure><aside class=\"articles--iridescent-list--text-item__details\"><header class=\"articles--iridescent-list--text-item__header\"><a class=\"articles--iridescent-list--text-item__category\" data-template-var=\"category\" href=\"https://www.liputan6.com/citizen6\">Citizen6</a><span class=\"articles--iridescent-list--text-item__datetime\" data-template-var=\"date\"><time class=\"articles--iridescent-list--text-item__time timeago\" datetime=\"2024-05-06T09:03:59+07:00\">06 Mei 2024 09:03</time></span><h4 class=\"articles--iridescent-list--text-item__title\"><a class=\"ui--a articles--iridescent-list--text-item__title-link\" data-kanal-page=\"citizen6\" data-template-var=\"url\" href=\"https://www.liputan6.com/citizen6/read/5587769/tak-disangka-ternyata-ada-6-efek-stres-yang-memicu-gangguan-pencernaan\" title=\"Tak Disangka, Ternyata Ada 6 Efek Stres yang Memicu Gangguan Pencernaan\"><span class=\"articles--iridescent-list--text-item__title-link-text\" data-template-var=\"title\">Tak Disangka, Ternyata Ada 6 Efek Stres yang Memicu Gangguan Pencernaan</span></a></h4></header><div class=\"articles--iridescent-list--text-item__summary articles--iridescent-list--text-item__summary-seo\" data-template-var=\"summary\">Mungkin ada lebih banyak hubungan antara stres dan kesehatan pencernaan daripada yang Anda sadari.</div></aside></article>, <article class=\"articles--iridescent-list--item articles--iridescent-list--text-item\" data-article-id=\"5589139\" data-category=\"Surabaya\" data-channel=\"Surabaya\" data-component-name=\"desktop:articles:iridescent-list:text-item\" data-slug=\"gempa-magnitudo-43-kembali-menggoyang-tuban-minggu-malam-5-mei-terasa-hingga-bawean\" data-template-name=\"article-iridescent-list-text\" data-template-var=\"container\" data-title=\"Gempa Magnitudo 4,3 Kembali Menggoyang Tuban Minggu Malam 5 Mei, Terasa hingga Bawean\" data-type=\"TextTypeArticle\" id=\"article_5589139\"><figure class=\"articles--iridescent-list--text-item__figure-thumbnail\"><a class=\"ui--a articles--iridescent-list--text-item__figure-thumbnail-link\" data-kanal-page=\"surabaya\" data-template-var=\"url\" href=\"https://www.liputan6.com/surabaya/read/5589139/gempa-magnitudo-43-kembali-menggoyang-tuban-minggu-malam-5-mei-terasa-hingga-bawean\" title=\"Gempa Magnitudo 4,3 Kembali Menggoyang Tuban Minggu Malam 5 Mei, Terasa hingga Bawean\"><picture class=\"articles--iridescent-list--text-item__figure-image\"><img alt=\"Gempa Magnitudo 5,6 mengguncang wilayah Tuban, Jatim, Rabu sore (3/4/2024). (Liputan6.com/ Dok BMKG)\" class=\"js-lazyload articles--iridescent-list--text-item__figure-image-lazyload\" data-height=\"112\" data-high-dpi=\"https://cdn0-production-images-kly.akamaized.net/OGw5-j1SewT9g80JZRNNC2jTRDY=/400x224/smart/filters:quality(75):strip_icc():format(webp)/kly-media-production/medias/4793200/original/000467300_1712136047-gempa_tuban_ok4.jpg\" data-src=\"https://cdn0-production-images-kly.akamaized.net/600HjNvW6_vhFHdUpcL5edwB790=/200x112/smart/filters:quality(75):strip_icc():format(webp)/kly-media-production/medias/4793200/original/000467300_1712136047-gempa_tuban_ok4.jpg\" data-template-var=\"image\" data-width=\"200\" height=\"112\" src=\"https://cdn-production-assets-kly.akamaized.net/assets/images/blank.png\" width=\"200\"/></picture></a></figure><aside class=\"articles--iridescent-list--text-item__details\"><header class=\"articles--iridescent-list--text-item__header\"><a class=\"articles--iridescent-list--text-item__category\" data-template-var=\"category\" href=\"https://www.liputan6.com/surabaya\">Surabaya</a><span class=\"articles--iridescent-list--text-item__datetime\" data-template-var=\"date\"><time class=\"articles--iridescent-list--text-item__time timeago\" datetime=\"2024-05-06T09:02:29+07:00\">06 Mei 2024 09:02</time></span><h4 class=\"articles--iridescent-list--text-item__title\"><a class=\"ui--a articles--iridescent-list--text-item__title-link\" data-kanal-page=\"surabaya\" data-template-var=\"url\" href=\"https://www.liputan6.com/surabaya/read/5589139/gempa-magnitudo-43-kembali-menggoyang-tuban-minggu-malam-5-mei-terasa-hingga-bawean\" title=\"Gempa Magnitudo 4,3 Kembali Menggoyang Tuban Minggu Malam 5 Mei, Terasa hingga Bawean\"><span class=\"articles--iridescent-list--text-item__title-link-text\" data-template-var=\"title\">Gempa Magnitudo 4,3 Kembali Menggoyang Tuban Minggu Malam 5 Mei, Terasa hingga Bawean</span></a></h4></header><div class=\"articles--iridescent-list--text-item__summary articles--iridescent-list--text-item__summary-seo\" data-template-var=\"summary\">Hasil analisis BMKG menunjukkan gempabumi ini memiliki parameter dengan magnitudo 4,3. Episenter gempabumi terletak pada koordinat 5.73° LS; 112.52° BT tepatnya di laut pada jarak 140 km arah Timur Laut Tuban, dengan kedalaman 5 Km.</div></aside></article>, <article class=\"articles--iridescent-list--item articles--iridescent-list--text-item\" data-article-id=\"5589167\" data-category=\"Saham\" data-channel=\"Saham\" data-component-name=\"desktop:articles:iridescent-list:text-item\" data-slug=\"bursa-saham-asia-beragam-di-tengah-harapan-penurunan-suku-bunga-the-fed\" data-template-name=\"article-iridescent-list-text\" data-template-var=\"container\" data-title=\"Bursa Saham Asia Beragam di Tengah Harapan Penurunan Suku Bunga The Fed\" data-type=\"TextTypeArticle\" id=\"article_5589167\"><figure class=\"articles--iridescent-list--text-item__figure-thumbnail\"><a class=\"ui--a articles--iridescent-list--text-item__figure-thumbnail-link\" data-kanal-page=\"saham\" data-template-var=\"url\" href=\"https://www.liputan6.com/saham/read/5589167/bursa-saham-asia-beragam-di-tengah-harapan-penurunan-suku-bunga-the-fed\" title=\"Bursa Saham Asia Beragam di Tengah Harapan Penurunan Suku Bunga The Fed\"><picture class=\"articles--iridescent-list--text-item__figure-image\"><img alt=\"Ilustrasi bursa saham Asia (Foto by AI)\" class=\"js-lazyload articles--iridescent-list--text-item__figure-image-lazyload\" data-height=\"112\" data-high-dpi=\"https://cdn0-production-images-kly.akamaized.net/742v24k0sDfGu-KxVgj6H-WSDC4=/400x224/smart/filters:quality(75):strip_icc():format(webp)/kly-media-production/medias/4822442/original/096602100_1714908432-fotor-ai-20240505174744.jpg\" data-src=\"https://cdn0-production-images-kly.akamaized.net/g_b7jkgl8C9inpdBFMOdjS-wcEs=/200x112/smart/filters:quality(75):strip_icc():format(webp)/kly-media-production/medias/4822442/original/096602100_1714908432-fotor-ai-20240505174744.jpg\" data-template-var=\"image\" data-width=\"200\" height=\"112\" src=\"https://cdn-production-assets-kly.akamaized.net/assets/images/blank.png\" width=\"200\"/></picture></a></figure><aside class=\"articles--iridescent-list--text-item__details\"><header class=\"articles--iridescent-list--text-item__header\"><a class=\"articles--iridescent-list--text-item__category\" data-template-var=\"category\" href=\"https://www.liputan6.com/saham\">Saham</a><span class=\"articles--iridescent-list--text-item__datetime\" data-template-var=\"date\"><time class=\"articles--iridescent-list--text-item__time timeago\" datetime=\"2024-05-06T09:01:19+07:00\">06 Mei 2024 09:01</time></span><h4 class=\"articles--iridescent-list--text-item__title\"><a class=\"ui--a articles--iridescent-list--text-item__title-link\" data-kanal-page=\"saham\" data-template-var=\"url\" href=\"https://www.liputan6.com/saham/read/5589167/bursa-saham-asia-beragam-di-tengah-harapan-penurunan-suku-bunga-the-fed\" title=\"Bursa Saham Asia Beragam di Tengah Harapan Penurunan Suku Bunga The Fed\"><span class=\"articles--iridescent-list--text-item__title-link-text\" data-template-var=\"title\">Bursa Saham Asia Beragam di Tengah Harapan Penurunan Suku Bunga The Fed</span></a></h4></header><div class=\"articles--iridescent-list--text-item__summary articles--iridescent-list--text-item__summary-seo\" data-template-var=\"summary\">Di tengah bursa saham Asia Pasifik yang bervariasi, investor menanti keputusan suku bunga the Reserve Bank of Australia pada Selasa pekan ini dan data perdagangan China.</div></aside></article>, <article class=\"articles--iridescent-list--item articles--iridescent-list--text-item\" data-article-id=\"5589143\" data-category=\"Ekonomi\" data-channel=\"Bisnis\" data-component-name=\"desktop:articles:iridescent-list:text-item\" data-slug=\"genjot-wirausaha-baru-bahlil-cs-buka-peluang-investasi-di-surakarta\" data-template-name=\"article-iridescent-list-text\" data-template-var=\"container\" data-title=\"Genjot Wirausaha Baru, Bahlil Cs Buka Peluang Investasi di Surakarta\" data-type=\"TextTypeArticle\" id=\"article_5589143\"><figure class=\"articles--iridescent-list--text-item__figure-thumbnail\"><a class=\"ui--a articles--iridescent-list--text-item__figure-thumbnail-link\" data-kanal-page=\"bisnis\" data-template-var=\"url\" href=\"https://www.liputan6.com/bisnis/read/5589143/genjot-wirausaha-baru-bahlil-cs-buka-peluang-investasi-di-surakarta\" title=\"Genjot Wirausaha Baru, Bahlil Cs Buka Peluang Investasi di Surakarta\"><picture class=\"articles--iridescent-list--text-item__figure-image\"><img alt=\"Wali Kota Solo Gibran Rakabuming Raka menyulap rumah dinas wali kota menjadi pasar takjil setiap Sabtu dan Minggu selama bulan Ramadan.(Liputan6.com/Fajar Abrori)\" class=\"js-lazyload articles--iridescent-list--text-item__figure-image-lazyload\" data-height=\"112\" data-high-dpi=\"https://cdn0-production-images-kly.akamaized.net/25GXLJW_Byols1l-1Ax7uMBupsk=/400x224/smart/filters:quality(75):strip_icc():format(webp)/kly-media-production/medias/3432233/original/046757700_1618725454-20210417_155627.jpg\" data-src=\"https://cdn0-production-images-kly.akamaized.net/xdOH0NWoCxDv9NPodxGEK2-WFZQ=/200x112/smart/filters:quality(75):strip_icc():format(webp)/kly-media-production/medias/3432233/original/046757700_1618725454-20210417_155627.jpg\" data-template-var=\"image\" data-width=\"200\" height=\"112\" src=\"https://cdn-production-assets-kly.akamaized.net/assets/images/blank.png\" width=\"200\"/></picture></a></figure><aside class=\"articles--iridescent-list--text-item__details\"><header class=\"articles--iridescent-list--text-item__header\"><a class=\"articles--iridescent-list--text-item__category\" data-template-var=\"category\" href=\"https://www.liputan6.com/bisnis/ekonomi\">Ekonomi</a><span class=\"articles--iridescent-list--text-item__datetime\" data-template-var=\"date\"><time class=\"articles--iridescent-list--text-item__time timeago\" datetime=\"2024-05-06T09:00:50+07:00\">06 Mei 2024 09:00</time></span><h4 class=\"articles--iridescent-list--text-item__title\"><a class=\"ui--a articles--iridescent-list--text-item__title-link\" data-kanal-page=\"bisnis\" data-template-var=\"url\" href=\"https://www.liputan6.com/bisnis/read/5589143/genjot-wirausaha-baru-bahlil-cs-buka-peluang-investasi-di-surakarta\" title=\"Genjot Wirausaha Baru, Bahlil Cs Buka Peluang Investasi di Surakarta\"><span class=\"articles--iridescent-list--text-item__title-link-text\" data-template-var=\"title\">Genjot Wirausaha Baru, Bahlil Cs Buka Peluang Investasi di Surakarta</span></a></h4></header><div class=\"articles--iridescent-list--text-item__summary articles--iridescent-list--text-item__summary-seo\" data-template-var=\"summary\">Solo Great Sale tahun ini mengambil tema Grebeg Investasi, dengan harapan mendorong penanaman modal baik lokal maupun asing untuk mengembangkan investasi Jawa Tengah, khususnya Surakarta.</div></aside></article>, <article class=\"articles--iridescent-list--item articles--iridescent-list--text-item\" data-article-id=\"5588595\" data-category=\"Travel\" data-channel=\"Lifestyle\" data-component-name=\"desktop:articles:iridescent-list:text-item\" data-slug=\"pesona-labuan-bajo-debut-di-instagram-boynextdoor-itu-penuh-dengan-mimpi\" data-template-name=\"article-iridescent-list-text\" data-template-var=\"container\" data-title=\"Pesona Labuan Bajo Debut di Instagram BOYNEXTDOOR: Itu Penuh dengan Mimpi\" data-type=\"TextTypeArticle\" id=\"article_5588595\"><figure class=\"articles--iridescent-list--text-item__figure-thumbnail\"><a class=\"ui--a articles--iridescent-list--text-item__figure-thumbnail-link\" data-kanal-page=\"lifestyle\" data-template-var=\"url\" href=\"https://www.liputan6.com/lifestyle/read/5588595/pesona-labuan-bajo-debut-di-instagram-boynextdoor-itu-penuh-dengan-mimpi\" title=\"Pesona Labuan Bajo Debut di Instagram BOYNEXTDOOR: Itu Penuh dengan Mimpi\"><picture class=\"articles--iridescent-list--text-item__figure-image\"><img alt=\"Foto konsep&amp;nbsp;BOYNEXTDOOR untuk album mini kedua mereka,&amp;nbsp;[HOW?]. (dok. Instagram @boynextdoor_official/https://www.instagram.com/p/C5QpLtHB2Yp/)\" class=\"js-lazyload articles--iridescent-list--text-item__figure-image-lazyload\" data-height=\"112\" data-high-dpi=\"https://cdn0-production-images-kly.akamaized.net/rsCr7_I1xjhXs1snQGi_2Rc68fA=/0x257:1280x978/400x224/filters:quality(75):strip_icc():format(webp)/kly-media-production/medias/4821823/original/095939400_1714821929-1.jpg\" data-src=\"https://cdn0-production-images-kly.akamaized.net/UfQCTjVksja39jz3pTXq0lb-8i8=/0x257:1280x978/200x112/filters:quality(75):strip_icc():format(webp)/kly-media-production/medias/4821823/original/095939400_1714821929-1.jpg\" data-template-var=\"image\" data-width=\"200\" height=\"112\" src=\"https://cdn-production-assets-kly.akamaized.net/assets/images/blank.png\" width=\"200\"/></picture></a></figure><aside class=\"articles--iridescent-list--text-item__details\"><header class=\"articles--iridescent-list--text-item__header\"><a class=\"articles--iridescent-list--text-item__category\" data-template-var=\"category\" href=\"https://www.liputan6.com/lifestyle/travel\">Travel</a><span class=\"articles--iridescent-list--text-item__datetime\" data-template-var=\"date\"><time class=\"articles--iridescent-list--text-item__time timeago\" datetime=\"2024-05-06T09:00:40+07:00\">06 Mei 2024 09:00</time></span><h4 class=\"articles--iridescent-list--text-item__title\"><a class=\"ui--a articles--iridescent-list--text-item__title-link\" data-kanal-page=\"lifestyle\" data-template-var=\"url\" href=\"https://www.liputan6.com/lifestyle/read/5588595/pesona-labuan-bajo-debut-di-instagram-boynextdoor-itu-penuh-dengan-mimpi\" title=\"Pesona Labuan Bajo Debut di Instagram BOYNEXTDOOR: Itu Penuh dengan Mimpi\"><span class=\"articles--iridescent-list--text-item__title-link-text\" data-template-var=\"title\">Pesona Labuan Bajo Debut di Instagram BOYNEXTDOOR: Itu Penuh dengan Mimpi</span></a></h4></header><div class=\"articles--iridescent-list--text-item__summary articles--iridescent-list--text-item__summary-seo\" data-template-var=\"summary\">Ada rekaman liburan ke Labuan Bajo di antara sederet unggahan online yang dibagikan ulang di Instagram Story grup idol K-pop BOYNEXTDOOR, Jumat, 3 Mei 2024.</div></aside></article>, <article class=\"articles--iridescent-list--item articles--iridescent-list--text-item\" data-article-id=\"5588976\" data-category=\"Liga Inggris\" data-channel=\"Bola\" data-component-name=\"desktop:articles:iridescent-list:text-item\" data-slug=\"pemain-real-madrid-tolak-pinangan-manchester-united-prioritaskan-susul-lionel-messi\" data-template-name=\"article-iridescent-list-text\" data-template-var=\"container\" data-title=\"Pemain Real Madrid Tolak Pinangan Manchester United, Prioritaskan Susul Lionel Messi\" data-type=\"TextTypeArticle\" id=\"article_5588976\"><figure class=\"articles--iridescent-list--text-item__figure-thumbnail\"><a class=\"ui--a articles--iridescent-list--text-item__figure-thumbnail-link\" data-kanal-page=\"bola\" data-template-var=\"url\" href=\"https://www.liputan6.com/bola/read/5588976/pemain-real-madrid-tolak-pinangan-manchester-united-prioritaskan-susul-lionel-messi\" title=\"Pemain Real Madrid Tolak Pinangan Manchester United, Prioritaskan Susul Lionel Messi\"><picture class=\"articles--iridescent-list--text-item__figure-image\"><img alt=\"Nacho dari Real Madrid, tengah, merayakan kemenangannya setelah memenangkan pertandingan sepak bola leg kedua babak 16 besar Liga Champions antara Real Madrid dan RB Leipzig di stadion Santiago Bernabeu di Madrid, Spanyol, Rabu, 6 Maret 2024. (AP Photo/Manu Fernandez)\" class=\"js-lazyload articles--iridescent-list--text-item__figure-image-lazyload\" data-height=\"112\" data-high-dpi=\"https://cdn1-production-images-kly.akamaized.net/pFP5WTGYAsw7C8CEcP1BZ96-cJc=/400x224/smart/filters:quality(75):strip_icc():format(webp)/kly-media-production/medias/4764429/original/063024900_1709763912-AP24066793012087.jpg\" data-src=\"https://cdn1-production-images-kly.akamaized.net/6XOtM7jnGq3zAg0AM4JXjvr3RIU=/200x112/smart/filters:quality(75):strip_icc():format(webp)/kly-media-production/medias/4764429/original/063024900_1709763912-AP24066793012087.jpg\" data-template-var=\"image\" data-width=\"200\" height=\"112\" src=\"https://cdn-production-assets-kly.akamaized.net/assets/images/blank.png\" width=\"200\"/></picture></a></figure><aside class=\"articles--iridescent-list--text-item__details\"><header class=\"articles--iridescent-list--text-item__header\"><a class=\"articles--iridescent-list--text-item__category\" data-template-var=\"category\" href=\"https://www.liputan6.com/bola/liga-inggris\">Liga Inggris</a><span class=\"articles--iridescent-list--text-item__datetime\" data-template-var=\"date\"><time class=\"articles--iridescent-list--text-item__time timeago\" datetime=\"2024-05-06T09:00:32+07:00\">06 Mei 2024 09:00</time></span><h4 class=\"articles--iridescent-list--text-item__title\"><a class=\"ui--a articles--iridescent-list--text-item__title-link\" data-kanal-page=\"bola\" data-template-var=\"url\" href=\"https://www.liputan6.com/bola/read/5588976/pemain-real-madrid-tolak-pinangan-manchester-united-prioritaskan-susul-lionel-messi\" title=\"Pemain Real Madrid Tolak Pinangan Manchester United, Prioritaskan Susul Lionel Messi\"><span class=\"articles--iridescent-list--text-item__title-link-text\" data-template-var=\"title\">Pemain Real Madrid Tolak Pinangan Manchester United, Prioritaskan Susul Lionel Messi</span></a></h4></header><div class=\"articles--iridescent-list--text-item__summary articles--iridescent-list--text-item__summary-seo\" data-template-var=\"summary\">Manchester United harus mengubur mimpinya merekrut pemain Real Madrid. Sang pemain lebih suka mengikuti Messi.</div></aside></article>, <article class=\"articles--iridescent-list--item articles--iridescent-list--text-item\" data-article-id=\"5588351\" data-category=\"Jawa Barat\" data-channel=\"Regional\" data-component-name=\"desktop:articles:iridescent-list:text-item\" data-slug=\"waspada-sinar-maksimum-matahari-jangan-malas-keluar-rumah-pakai-sunscreen\" data-template-name=\"article-iridescent-list-text\" data-template-var=\"container\" data-title=\"Waspada Sinar Maksimum Matahari! Jangan Malas Keluar Rumah Pakai Sunscreen\" data-type=\"TextTypeArticle\" id=\"article_5588351\"><figure class=\"articles--iridescent-list--text-item__figure-thumbnail\"><a class=\"ui--a articles--iridescent-list--text-item__figure-thumbnail-link\" data-kanal-page=\"regional\" data-template-var=\"url\" href=\"https://www.liputan6.com/regional/read/5588351/waspada-sinar-maksimum-matahari-jangan-malas-keluar-rumah-pakai-sunscreen\" title=\"Waspada Sinar Maksimum Matahari! Jangan Malas Keluar Rumah Pakai Sunscreen\"><picture class=\"articles--iridescent-list--text-item__figure-image\"><img alt=\"Ilustrasi terik matahari | pexels.com/@h-ng-xuan-vien-1346154\" class=\"js-lazyload articles--iridescent-list--text-item__figure-image-lazyload\" data-height=\"112\" data-high-dpi=\"https://cdn0-production-images-kly.akamaized.net/5GwV3qwzQG1jnD-_rusbW6HU0k0=/400x224/smart/filters:quality(75):strip_icc():format(webp)/kly-media-production/medias/3053890/original/041230400_1582025884-photo-of-two-women-standing-by-wall-posing-while-blocking-2612744.jpg\" data-src=\"https://cdn0-production-images-kly.akamaized.net/RdbnXCEXefHEDBtb7s81za0U4pY=/200x112/smart/filters:quality(75):strip_icc():format(webp)/kly-media-production/medias/3053890/original/041230400_1582025884-photo-of-two-women-standing-by-wall-posing-while-blocking-2612744.jpg\" data-template-var=\"image\" data-width=\"200\" height=\"112\" src=\"https://cdn-production-assets-kly.akamaized.net/assets/images/blank.png\" width=\"200\"/></picture></a></figure><aside class=\"articles--iridescent-list--text-item__details\"><header class=\"articles--iridescent-list--text-item__header\"><a class=\"articles--iridescent-list--text-item__category\" data-template-var=\"category\" href=\"https://www.liputan6.com/regional/bandung\">Jawa Barat</a><span class=\"articles--iridescent-list--text-item__datetime\" data-template-var=\"date\"><time class=\"articles--iridescent-list--text-item__time timeago\" datetime=\"2024-05-06T09:00:05+07:00\">06 Mei 2024 09:00</time></span><h4 class=\"articles--iridescent-list--text-item__title\"><a class=\"ui--a articles--iridescent-list--text-item__title-link\" data-kanal-page=\"regional\" data-template-var=\"url\" href=\"https://www.liputan6.com/regional/read/5588351/waspada-sinar-maksimum-matahari-jangan-malas-keluar-rumah-pakai-sunscreen\" title=\"Waspada Sinar Maksimum Matahari! Jangan Malas Keluar Rumah Pakai Sunscreen\"><span class=\"articles--iridescent-list--text-item__title-link-text\" data-template-var=\"title\">Waspada Sinar Maksimum Matahari! Jangan Malas Keluar Rumah Pakai Sunscreen</span></a></h4></header><div class=\"articles--iridescent-list--text-item__summary articles--iridescent-list--text-item__summary-seo\" data-template-var=\"summary\">Kebiasaan memakai sunscreen sebelum ke luar rumah sangat penting untuk melindungi kulit Anda dari paparan sinar matahari secara berlebihan.</div></aside></article>, <article class=\"articles--iridescent-list--item articles--iridescent-list--text-item\" data-article-id=\"5589133\" data-category=\"Hot\" data-channel=\"Hot\" data-component-name=\"desktop:articles:iridescent-list:text-item\" data-slug=\"sempat-dijuluki-presiden-jomblo-ini-7-momen-lamaran-chand-kelvin-dan-dea-sahirah\" data-template-name=\"article-iridescent-list-text\" data-template-var=\"container\" data-title=\"Sempat Dijuluki 'Presiden Jomblo', Ini 7 Momen Lamaran Chand Kelvin dan Dea Sahirah\" data-type=\"TextTypeArticle\" id=\"article_5589133\"><figure class=\"articles--iridescent-list--text-item__figure-thumbnail\"><a class=\"ui--a articles--iridescent-list--text-item__figure-thumbnail-link\" data-kanal-page=\"hot\" data-template-var=\"url\" href=\"https://www.liputan6.com/hot/read/5589133/sempat-dijuluki-presiden-jomblo-ini-7-momen-lamaran-chand-kelvin-dan-dea-sahirah\" title=\"Sempat Dijuluki 'Presiden Jomblo', Ini 7 Momen Lamaran Chand Kelvin dan Dea Sahirah\"><picture class=\"articles--iridescent-list--text-item__figure-image\"><img alt=\"Pertunangan Chand Kelvin dan Dea Sahirah (Sumber: Instagram/thepotomoto)\" class=\"js-lazyload articles--iridescent-list--text-item__figure-image-lazyload\" data-height=\"112\" data-high-dpi=\"https://cdn1-production-images-kly.akamaized.net/wKJP4a6_1pbB2VEGzsETSkLHLME=/400x224/smart/filters:quality(75):strip_icc():format(webp)/kly-media-production/medias/4822626/original/073962600_1714958496-page.jpg\" data-src=\"https://cdn1-production-images-kly.akamaized.net/6EVqRWUTYurPoenuyJUO_WjVdq4=/200x112/smart/filters:quality(75):strip_icc():format(webp)/kly-media-production/medias/4822626/original/073962600_1714958496-page.jpg\" data-template-var=\"image\" data-width=\"200\" height=\"112\" src=\"https://cdn-production-assets-kly.akamaized.net/assets/images/blank.png\" width=\"200\"/></picture></a></figure><aside class=\"articles--iridescent-list--text-item__details\"><header class=\"articles--iridescent-list--text-item__header\"><a class=\"articles--iridescent-list--text-item__category\" data-template-var=\"category\" href=\"https://www.liputan6.com/hot\">Hot</a><span class=\"articles--iridescent-list--text-item__datetime\" data-template-var=\"date\"><time class=\"articles--iridescent-list--text-item__time timeago\" datetime=\"2024-05-06T09:00:04+07:00\">06 Mei 2024 09:00</time></span><h4 class=\"articles--iridescent-list--text-item__title\"><a class=\"ui--a articles--iridescent-list--text-item__title-link\" data-kanal-page=\"hot\" data-template-var=\"url\" href=\"https://www.liputan6.com/hot/read/5589133/sempat-dijuluki-presiden-jomblo-ini-7-momen-lamaran-chand-kelvin-dan-dea-sahirah\" title=\"Sempat Dijuluki 'Presiden Jomblo', Ini 7 Momen Lamaran Chand Kelvin dan Dea Sahirah\"><span class=\"articles--iridescent-list--text-item__title-link-text\" data-template-var=\"title\">Sempat Dijuluki 'Presiden Jomblo', Ini 7 Momen Lamaran Chand Kelvin dan Dea Sahirah</span></a></h4></header><div class=\"articles--iridescent-list--text-item__summary articles--iridescent-list--text-item__summary-seo\" data-template-var=\"summary\">Chand Kelvin akhirnya mengungkap sosok calon istri di momen tunangan.</div></aside></article>, <article class=\"articles--iridescent-list--item articles--iridescent-list--text-item\" data-article-id=\"5588967\" data-category=\"Selebritis\" data-channel=\"ShowBiz\" data-component-name=\"desktop:articles:iridescent-list:text-item\" data-slug=\"alasan-di-balik-gugatan-cerai-ria-ricis-terhadap-teuku-ryan-terkuak\" data-template-name=\"article-iridescent-list-text\" data-template-var=\"container\" data-title=\"Alasan di Balik Gugatan Cerai Ria Ricis terhadap Teuku Ryan Terkuak\" data-type=\"TextTypeArticle\" id=\"article_5588967\"><figure class=\"articles--iridescent-list--text-item__figure-thumbnail\"><a class=\"ui--a articles--iridescent-list--text-item__figure-thumbnail-link\" data-kanal-page=\"showbiz\" data-template-var=\"url\" href=\"https://www.liputan6.com/showbiz/read/5588967/alasan-di-balik-gugatan-cerai-ria-ricis-terhadap-teuku-ryan-terkuak\" title=\"Alasan di Balik Gugatan Cerai Ria Ricis terhadap Teuku Ryan Terkuak\"><picture class=\"articles--iridescent-list--text-item__figure-image\"><img alt=\"Kali ini Ria Ricis dan sang suami, Teuku Ryan tampil kompak mengenakan busana hitam. Adik Oki Setiana Dewi tampak menawan memakai baju hitam polos. Sementara Teuku Ryan mengenakan batik berwarna hitam.(Liputan6.com/IG/@riaricis1795)\" class=\"js-lazyload articles--iridescent-list--text-item__figure-image-lazyload\" data-height=\"112\" data-high-dpi=\"https://cdn0-production-images-kly.akamaized.net/UxzyNTOHmg2tG5qeWhapoukFV0o=/400x224/smart/filters:quality(75):strip_icc():format(webp)/kly-media-production/medias/3633155/original/003597500_1636961570-4._rc.jpg\" data-src=\"https://cdn0-production-images-kly.akamaized.net/rxsSEJrCMl5yyF6mymhUr9nErE4=/200x112/smart/filters:quality(75):strip_icc():format(webp)/kly-media-production/medias/3633155/original/003597500_1636961570-4._rc.jpg\" data-template-var=\"image\" data-width=\"200\" height=\"112\" src=\"https://cdn-production-assets-kly.akamaized.net/assets/images/blank.png\" width=\"200\"/></picture></a></figure><aside class=\"articles--iridescent-list--text-item__details\"><header class=\"articles--iridescent-list--text-item__header\"><a class=\"articles--iridescent-list--text-item__category\" data-template-var=\"category\" href=\"https://www.liputan6.com/showbiz/celeb\">Selebritis</a><span class=\"articles--iridescent-list--text-item__datetime\" data-template-var=\"date\"><time class=\"articles--iridescent-list--text-item__time timeago\" datetime=\"2024-05-06T09:00:00+07:00\">06 Mei 2024 09:00</time></span><h4 class=\"articles--iridescent-list--text-item__title\"><a class=\"ui--a articles--iridescent-list--text-item__title-link\" data-kanal-page=\"showbiz\" data-template-var=\"url\" href=\"https://www.liputan6.com/showbiz/read/5588967/alasan-di-balik-gugatan-cerai-ria-ricis-terhadap-teuku-ryan-terkuak\" title=\"Alasan di Balik Gugatan Cerai Ria Ricis terhadap Teuku Ryan Terkuak\"><span class=\"articles--iridescent-list--text-item__title-link-text\" data-template-var=\"title\">Alasan di Balik Gugatan Cerai Ria Ricis terhadap Teuku Ryan Terkuak</span></a></h4></header><div class=\"articles--iridescent-list--text-item__summary articles--iridescent-list--text-item__summary-seo\" data-template-var=\"summary\">Terungkap alasan Ria Ricis menggugat cerai Teuku Ryan.</div></aside></article>, <article class=\"articles--iridescent-list--item articles--iridescent-list--text-item\" data-article-id=\"5589158\" data-category=\"Bank\" data-channel=\"Bisnis\" data-component-name=\"desktop:articles:iridescent-list:text-item\" data-slug=\"jadi-korban-investasi-bodong-nasabah-disarankan-tempuh-jalur-hukum\" data-template-name=\"article-iridescent-list-text\" data-template-var=\"container\" data-title=\"Jadi Korban Investasi Bodong, Nasabah Disarankan Tempuh Jalur Hukum\" data-type=\"TextTypeArticle\" id=\"article_5589158\"><figure class=\"articles--iridescent-list--text-item__figure-thumbnail\"><a class=\"ui--a articles--iridescent-list--text-item__figure-thumbnail-link\" data-kanal-page=\"bisnis\" data-template-var=\"url\" href=\"https://www.liputan6.com/bisnis/read/5589158/jadi-korban-investasi-bodong-nasabah-disarankan-tempuh-jalur-hukum\" title=\"Jadi Korban Investasi Bodong, Nasabah Disarankan Tempuh Jalur Hukum\"><picture class=\"articles--iridescent-list--text-item__figure-image\"><img alt=\"Ilustrasi investasi Bodong (Liputan6.com/Andri Wiranuari)\" class=\"js-lazyload articles--iridescent-list--text-item__figure-image-lazyload\" data-height=\"112\" data-high-dpi=\"https://cdn0-production-images-kly.akamaized.net/lWLzbWAA_etqrQ7-H5xDdBRHva8=/400x224/smart/filters:quality(75):strip_icc():format(webp)/kly-media-production/medias/683068/original/ilustrasi-investasi-bodong-140528-andri.jpg\" data-src=\"https://cdn0-production-images-kly.akamaized.net/3jqVjqKVwZo6nbbp-RtayhV1uhk=/200x112/smart/filters:quality(75):strip_icc():format(webp)/kly-media-production/medias/683068/original/ilustrasi-investasi-bodong-140528-andri.jpg\" data-template-var=\"image\" data-width=\"200\" height=\"112\" src=\"https://cdn-production-assets-kly.akamaized.net/assets/images/blank.png\" width=\"200\"/></picture></a></figure><aside class=\"articles--iridescent-list--text-item__details\"><header class=\"articles--iridescent-list--text-item__header\"><a class=\"articles--iridescent-list--text-item__category\" data-template-var=\"category\" href=\"https://www.liputan6.com/bisnis/bank\">Bank</a><span class=\"articles--iridescent-list--text-item__datetime\" data-template-var=\"date\"><time class=\"articles--iridescent-list--text-item__time timeago\" datetime=\"2024-05-06T08:50:43+07:00\">06 Mei 2024 08:50</time></span><h4 class=\"articles--iridescent-list--text-item__title\"><a class=\"ui--a articles--iridescent-list--text-item__title-link\" data-kanal-page=\"bisnis\" data-template-var=\"url\" href=\"https://www.liputan6.com/bisnis/read/5589158/jadi-korban-investasi-bodong-nasabah-disarankan-tempuh-jalur-hukum\" title=\"Jadi Korban Investasi Bodong, Nasabah Disarankan Tempuh Jalur Hukum\"><span class=\"articles--iridescent-list--text-item__title-link-text\" data-template-var=\"title\">Jadi Korban Investasi Bodong, Nasabah Disarankan Tempuh Jalur Hukum</span></a></h4></header><div class=\"articles--iridescent-list--text-item__summary articles--iridescent-list--text-item__summary-seo\" data-template-var=\"summary\">menurut pengamat perbankan, nasabah BTN bersikap naif dan mau untung sendiri ketika menerima tawaran menyimpan dana berbunga tidak logis.</div></aside></article>, <article class=\"articles--iridescent-list--item articles--iridescent-list--text-item\" data-article-id=\"5589124\" data-category=\"Hot\" data-channel=\"Hot\" data-component-name=\"desktop:articles:iridescent-list:text-item\" data-slug=\"butuh-waktu-5-hari-diputar-ini-lagu-terpanjang-di-dunia-yang-pernah-direkam\" data-template-name=\"article-iridescent-list-text\" data-template-var=\"container\" data-title=\"Butuh Waktu 5 Hari Diputar, Ini Lagu Terpanjang di Dunia yang Pernah Direkam\" data-type=\"TextTypeArticle\" id=\"article_5589124\"><figure class=\"articles--iridescent-list--text-item__figure-thumbnail\"><a class=\"ui--a articles--iridescent-list--text-item__figure-thumbnail-link\" data-kanal-page=\"hot\" data-template-var=\"url\" href=\"https://www.liputan6.com/hot/read/5589124/butuh-waktu-5-hari-diputar-ini-lagu-terpanjang-di-dunia-yang-pernah-direkam\" title=\"Butuh Waktu 5 Hari Diputar, Ini Lagu Terpanjang di Dunia yang Pernah Direkam\"><picture class=\"articles--iridescent-list--text-item__figure-image\"><img alt=\"Ilustrasi lagu, musik, lirik, gitar. (Image by Freepik)\" class=\"js-lazyload articles--iridescent-list--text-item__figure-image-lazyload\" data-height=\"112\" data-high-dpi=\"https://cdn1-production-images-kly.akamaized.net/GqtEHxfTgaOcUy2SrDN31J4HlYg=/400x224/smart/filters:quality(75):strip_icc():format(webp)/kly-media-production/medias/4730270/original/098698400_1706605982-girl-learning-how-play-guitar-home.jpg\" data-src=\"https://cdn1-production-images-kly.akamaized.net/D1PoRLECC5aH8xke8z-IXOur5Yc=/200x112/smart/filters:quality(75):strip_icc():format(webp)/kly-media-production/medias/4730270/original/098698400_1706605982-girl-learning-how-play-guitar-home.jpg\" data-template-var=\"image\" data-width=\"200\" height=\"112\" src=\"https://cdn-production-assets-kly.akamaized.net/assets/images/blank.png\" width=\"200\"/></picture></a></figure><aside class=\"articles--iridescent-list--text-item__details\"><header class=\"articles--iridescent-list--text-item__header\"><a class=\"articles--iridescent-list--text-item__category\" data-template-var=\"category\" href=\"https://www.liputan6.com/hot\">Hot</a><span class=\"articles--iridescent-list--text-item__datetime\" data-template-var=\"date\"><time class=\"articles--iridescent-list--text-item__time timeago\" datetime=\"2024-05-06T08:50:03+07:00\">06 Mei 2024 08:50</time></span><h4 class=\"articles--iridescent-list--text-item__title\"><a class=\"ui--a articles--iridescent-list--text-item__title-link\" data-kanal-page=\"hot\" data-template-var=\"url\" href=\"https://www.liputan6.com/hot/read/5589124/butuh-waktu-5-hari-diputar-ini-lagu-terpanjang-di-dunia-yang-pernah-direkam\" title=\"Butuh Waktu 5 Hari Diputar, Ini Lagu Terpanjang di Dunia yang Pernah Direkam\"><span class=\"articles--iridescent-list--text-item__title-link-text\" data-template-var=\"title\">Butuh Waktu 5 Hari Diputar, Ini Lagu Terpanjang di Dunia yang Pernah Direkam</span></a></h4></header><div class=\"articles--iridescent-list--text-item__summary articles--iridescent-list--text-item__summary-seo\" data-template-var=\"summary\">Lima hari baru habis mendengarkannya, ini adalah lagu terpanjang yang pernah direkam di dunia.</div></aside></article>, <article class=\"articles--iridescent-list--item articles--iridescent-list--text-item\" data-article-id=\"5589147\" data-category=\"Peristiwa\" data-channel=\"News\" data-component-name=\"desktop:articles:iridescent-list:text-item\" data-slug=\"kpk-sampaikan-detail-dakwaan-gratifikasi-dan-tppu-hakim-agung-gazalba-saleh-hari-ini\" data-template-name=\"article-iridescent-list-text\" data-template-var=\"container\" data-title=\"KPK Sampaikan Detail Dakwaan Gratifikasi dan TPPU Hakim Agung Gazalba Saleh Hari Ini\" data-type=\"TextTypeArticle\" id=\"article_5589147\"><figure class=\"articles--iridescent-list--text-item__figure-thumbnail\"><a class=\"ui--a articles--iridescent-list--text-item__figure-thumbnail-link\" data-kanal-page=\"news\" data-template-var=\"url\" href=\"https://www.liputan6.com/news/read/5589147/kpk-sampaikan-detail-dakwaan-gratifikasi-dan-tppu-hakim-agung-gazalba-saleh-hari-ini\" title=\"KPK Sampaikan Detail Dakwaan Gratifikasi dan TPPU Hakim Agung Gazalba Saleh Hari Ini\"><picture class=\"articles--iridescent-list--text-item__figure-image\"><img alt=\"Hakim Agung, Gazalba Saleh sesaat sebelum rilis penahanan di Gedung Merah Putih KPK, Jakarta, Kamis (8/12/2022). Gazalba Saleh ditahan usai penyidik melakukan pemeriksaan. Gazalba ditahan di Rumah Tahanan (Rutan) KPK Pomdam Jaya, Jakarta Selatan, selama 20 hari ke depan. (Liputan6.com/Helmi Fithriansyah)\" class=\"js-lazyload articles--iridescent-list--text-item__figure-image-lazyload\" data-height=\"112\" data-high-dpi=\"https://cdn0-production-images-kly.akamaized.net/LBs0qFFYkii3zfAoE0SmNN43aCY=/400x224/smart/filters:quality(75):strip_icc():format(webp)/kly-media-production/medias/4254483/original/026353500_1670502645-20221208-KPK-Tahan-Hakim-Agung-Gazalba-Saleh--Helmi-4.jpg\" data-src=\"https://cdn0-production-images-kly.akamaized.net/aGEwB502rB4fYHTsd7qZCVEmM8M=/200x112/smart/filters:quality(75):strip_icc():format(webp)/kly-media-production/medias/4254483/original/026353500_1670502645-20221208-KPK-Tahan-Hakim-Agung-Gazalba-Saleh--Helmi-4.jpg\" data-template-var=\"image\" data-width=\"200\" height=\"112\" src=\"https://cdn-production-assets-kly.akamaized.net/assets/images/blank.png\" width=\"200\"/></picture></a></figure><aside class=\"articles--iridescent-list--text-item__details\"><header class=\"articles--iridescent-list--text-item__header\"><a class=\"articles--iridescent-list--text-item__category\" data-template-var=\"category\" href=\"https://www.liputan6.com/news/peristiwa\">Peristiwa</a><span class=\"articles--iridescent-list--text-item__datetime\" data-template-var=\"date\"><time class=\"articles--iridescent-list--text-item__time timeago\" datetime=\"2024-05-06T08:44:26+07:00\">06 Mei 2024 08:44</time></span><h4 class=\"articles--iridescent-list--text-item__title\"><a class=\"ui--a articles--iridescent-list--text-item__title-link\" data-kanal-page=\"news\" data-template-var=\"url\" href=\"https://www.liputan6.com/news/read/5589147/kpk-sampaikan-detail-dakwaan-gratifikasi-dan-tppu-hakim-agung-gazalba-saleh-hari-ini\" title=\"KPK Sampaikan Detail Dakwaan Gratifikasi dan TPPU Hakim Agung Gazalba Saleh Hari Ini\"><span class=\"articles--iridescent-list--text-item__title-link-text\" data-template-var=\"title\">KPK Sampaikan Detail Dakwaan Gratifikasi dan TPPU Hakim Agung Gazalba Saleh Hari Ini</span></a></h4></header><div class=\"articles--iridescent-list--text-item__summary articles--iridescent-list--text-item__summary-seo\" data-template-var=\"summary\">Tim jaksa dari KPK memastikan hadir dan membacakan detail dakwaan terhadap Gazalba Saleh.</div></aside></article>, <article class=\"articles--iridescent-list--item articles--iridescent-list--text-item\" data-article-id=\"5589113\" data-category=\"Hot\" data-channel=\"Hot\" data-component-name=\"desktop:articles:iridescent-list:text-item\" data-slug=\"penyakit-polio-bisa-menyerang-sistem-saraf-ketahui-gejala-dan-penyebabnya\" data-template-name=\"article-iridescent-list-text\" data-template-var=\"container\" data-title=\"Penyakit Polio Bisa Menyerang Sistem Saraf, Ketahui Gejala dan Penyebabnya\" data-type=\"TextTypeArticle\" id=\"article_5589113\"><figure class=\"articles--iridescent-list--text-item__figure-thumbnail\"><a class=\"ui--a articles--iridescent-list--text-item__figure-thumbnail-link\" data-kanal-page=\"hot\" data-template-var=\"url\" href=\"https://www.liputan6.com/hot/read/5589113/penyakit-polio-bisa-menyerang-sistem-saraf-ketahui-gejala-dan-penyebabnya\" title=\"Penyakit Polio Bisa Menyerang Sistem Saraf, Ketahui Gejala dan Penyebabnya\"><picture class=\"articles--iridescent-list--text-item__figure-image\"><img alt=\"Paul merupakan orang terakhir yang bertahan hidup dengan paru-paru besi usai terinfeksi polio saat usianya baru 6 tahun. | pexels.com/@shvetsa\" class=\"js-lazyload articles--iridescent-list--text-item__figure-image-lazyload\" data-height=\"112\" data-high-dpi=\"https://cdn1-production-images-kly.akamaized.net/SauN1PMS71w8ZdcLxNZ2TWntp6U=/400x224/smart/filters:quality(75):strip_icc():format(webp)/kly-media-production/medias/3350923/original/040365600_1610796353-pexels-anna-shvets-4225923.jpg\" data-src=\"https://cdn1-production-images-kly.akamaized.net/d6IYOSIQh8jTuIQnm9AwxK0_Q34=/200x112/smart/filters:quality(75):strip_icc():format(webp)/kly-media-production/medias/3350923/original/040365600_1610796353-pexels-anna-shvets-4225923.jpg\" data-template-var=\"image\" data-width=\"200\" height=\"112\" src=\"https://cdn-production-assets-kly.akamaized.net/assets/images/blank.png\" width=\"200\"/></picture></a></figure><aside class=\"articles--iridescent-list--text-item__details\"><header class=\"articles--iridescent-list--text-item__header\"><a class=\"articles--iridescent-list--text-item__category\" data-template-var=\"category\" href=\"https://www.liputan6.com/hot\">Hot</a><span class=\"articles--iridescent-list--text-item__datetime\" data-template-var=\"date\"><time class=\"articles--iridescent-list--text-item__time timeago\" datetime=\"2024-05-06T08:40:42+07:00\">06 Mei 2024 08:40</time></span><h4 class=\"articles--iridescent-list--text-item__title\"><a class=\"ui--a articles--iridescent-list--text-item__title-link\" data-kanal-page=\"hot\" data-template-var=\"url\" href=\"https://www.liputan6.com/hot/read/5589113/penyakit-polio-bisa-menyerang-sistem-saraf-ketahui-gejala-dan-penyebabnya\" title=\"Penyakit Polio Bisa Menyerang Sistem Saraf, Ketahui Gejala dan Penyebabnya\"><span class=\"articles--iridescent-list--text-item__title-link-text\" data-template-var=\"title\">Penyakit Polio Bisa Menyerang Sistem Saraf, Ketahui Gejala dan Penyebabnya</span></a></h4></header><div class=\"articles--iridescent-list--text-item__summary articles--iridescent-list--text-item__summary-seo\" data-template-var=\"summary\">Penyakit polio dapat menular melalui kontak langsung dengan individu yang terinfeksi, serta melalui konsumsi makanan atau air yang terkontaminasi virus polio.</div></aside></article>, <article class=\"articles--iridescent-list--item articles--iridescent-list--text-item\" data-article-id=\"5589135\" data-category=\"Ekonomi\" data-channel=\"Bisnis\" data-component-name=\"desktop:articles:iridescent-list:text-item\" data-slug=\"erick-thohir-tantangan-ekonomi-dunia-makin-seram\" data-template-name=\"article-iridescent-list-text\" data-template-var=\"container\" data-title=\"Erick Thohir: Tantangan Ekonomi Dunia Makin Seram\" data-type=\"TextTypeArticle\" id=\"article_5589135\"><figure class=\"articles--iridescent-list--text-item__figure-thumbnail\"><a class=\"ui--a articles--iridescent-list--text-item__figure-thumbnail-link\" data-kanal-page=\"bisnis\" data-template-var=\"url\" href=\"https://www.liputan6.com/bisnis/read/5589135/erick-thohir-tantangan-ekonomi-dunia-makin-seram\" title=\"Erick Thohir: Tantangan Ekonomi Dunia Makin Seram\"><picture class=\"articles--iridescent-list--text-item__figure-image\"><img alt=\"Menteri Badan Usaha Milik Negara (BUMN) Erick Thohir (Foto: Istimewa)\" class=\"js-lazyload articles--iridescent-list--text-item__figure-image-lazyload\" data-height=\"112\" data-high-dpi=\"https://cdn0-production-images-kly.akamaized.net/6CJs5ITsqiiffyRKXKwaYpaItiA=/400x224/smart/filters:quality(75):strip_icc():format(webp)/kly-media-production/medias/4822587/original/009446000_1714954758-IMG-20240505-WA0014.jpg\" data-src=\"https://cdn0-production-images-kly.akamaized.net/8ncDhsKSICS-8jOJcm_CFgiPlXY=/200x112/smart/filters:quality(75):strip_icc():format(webp)/kly-media-production/medias/4822587/original/009446000_1714954758-IMG-20240505-WA0014.jpg\" data-template-var=\"image\" data-width=\"200\" height=\"112\" src=\"https://cdn-production-assets-kly.akamaized.net/assets/images/blank.png\" width=\"200\"/></picture></a></figure><aside class=\"articles--iridescent-list--text-item__details\"><header class=\"articles--iridescent-list--text-item__header\"><a class=\"articles--iridescent-list--text-item__category\" data-template-var=\"category\" href=\"https://www.liputan6.com/bisnis/ekonomi\">Ekonomi</a><span class=\"articles--iridescent-list--text-item__datetime\" data-template-var=\"date\"><time class=\"articles--iridescent-list--text-item__time timeago\" datetime=\"2024-05-06T08:40:18+07:00\">06 Mei 2024 08:40</time></span><h4 class=\"articles--iridescent-list--text-item__title\"><a class=\"ui--a articles--iridescent-list--text-item__title-link\" data-kanal-page=\"bisnis\" data-template-var=\"url\" href=\"https://www.liputan6.com/bisnis/read/5589135/erick-thohir-tantangan-ekonomi-dunia-makin-seram\" title=\"Erick Thohir: Tantangan Ekonomi Dunia Makin Seram\"><span class=\"articles--iridescent-list--text-item__title-link-text\" data-template-var=\"title\">Erick Thohir: Tantangan Ekonomi Dunia Makin Seram</span></a></h4></header><div class=\"articles--iridescent-list--text-item__summary articles--iridescent-list--text-item__summary-seo\" data-template-var=\"summary\">Menteri Badan Usaha Milik Negara (BUMN) Erick Thohir menuturkan, ekonomi menjadi sebuah ketidakpastian dan persaingan dunia makin tajam.</div></aside></article>, <article class=\"articles--iridescent-list--item articles--iridescent-list--text-item\" data-article-id=\"5589088\" data-category=\"Selebritis\" data-channel=\"ShowBiz\" data-component-name=\"desktop:articles:iridescent-list:text-item\" data-slug=\"sule-jelaskan-rizky-febian-mahalini-jalani-upacara-adat-dharma-suaka-sebut-bukan-resepsi\" data-template-name=\"article-iridescent-list-text\" data-template-var=\"container\" data-title=\"Sule Jelaskan Rizky Febian - Mahalini Jalani Upacara Adat Dharma Suaka, Sebut Bukan Resepsi\" data-type=\"TextTypeArticle\" id=\"article_5589088\"><figure class=\"articles--iridescent-list--text-item__figure-thumbnail\"><a class=\"ui--a articles--iridescent-list--text-item__figure-thumbnail-link\" data-kanal-page=\"showbiz\" data-template-var=\"url\" href=\"https://www.liputan6.com/showbiz/read/5589088/sule-jelaskan-rizky-febian-mahalini-jalani-upacara-adat-dharma-suaka-sebut-bukan-resepsi\" title=\"Sule Jelaskan Rizky Febian - Mahalini Jalani Upacara Adat Dharma Suaka, Sebut Bukan Resepsi\"><picture class=\"articles--iridescent-list--text-item__figure-image\"><img alt=\"Sule dan Rizky Febian. (Instagram/ ferdinan_sule)\" class=\"js-lazyload articles--iridescent-list--text-item__figure-image-lazyload\" data-height=\"112\" data-high-dpi=\"https://cdn1-production-images-kly.akamaized.net/-kvK3hebG-mN4hb2zDRVe5jfjVM=/400x224/smart/filters:quality(75):strip_icc():format(webp)/kly-media-production/medias/4822572/original/037473000_1714952130-Snapinsta.app_440258609_18444399745028417_1497425434520055134_n_1080.jpg\" data-src=\"https://cdn1-production-images-kly.akamaized.net/sSq4S0vV17M8gPGP_osVwx_WHi8=/200x112/smart/filters:quality(75):strip_icc():format(webp)/kly-media-production/medias/4822572/original/037473000_1714952130-Snapinsta.app_440258609_18444399745028417_1497425434520055134_n_1080.jpg\" data-template-var=\"image\" data-width=\"200\" height=\"112\" src=\"https://cdn-production-assets-kly.akamaized.net/assets/images/blank.png\" width=\"200\"/></picture></a></figure><aside class=\"articles--iridescent-list--text-item__details\"><header class=\"articles--iridescent-list--text-item__header\"><a class=\"articles--iridescent-list--text-item__category\" data-template-var=\"category\" href=\"https://www.liputan6.com/showbiz/celeb\">Selebritis</a><span class=\"articles--iridescent-list--text-item__datetime\" data-template-var=\"date\"><time class=\"articles--iridescent-list--text-item__time timeago\" datetime=\"2024-05-06T08:37:08+07:00\">06 Mei 2024 08:37</time></span><h4 class=\"articles--iridescent-list--text-item__title\"><a class=\"ui--a articles--iridescent-list--text-item__title-link\" data-kanal-page=\"showbiz\" data-template-var=\"url\" href=\"https://www.liputan6.com/showbiz/read/5589088/sule-jelaskan-rizky-febian-mahalini-jalani-upacara-adat-dharma-suaka-sebut-bukan-resepsi\" title=\"Sule Jelaskan Rizky Febian - Mahalini Jalani Upacara Adat Dharma Suaka, Sebut Bukan Resepsi\"><span class=\"articles--iridescent-list--text-item__title-link-text\" data-template-var=\"title\">Sule Jelaskan Rizky Febian - Mahalini Jalani Upacara Adat Dharma Suaka, Sebut Bukan Reseps...</span></a></h4></header><div class=\"articles--iridescent-list--text-item__summary articles--iridescent-list--text-item__summary-seo\" data-template-var=\"summary\">Dalam caption, Sule menegaskan bahwa posisi Rizky Febian maupun Mahalini sama-sama masih berstatus sebagai calon pengantin.</div></aside></article>, <article class=\"articles--iridescent-list--item articles--iridescent-list--text-item\" data-article-id=\"5589111\" data-category=\"Internet\" data-channel=\"Tekno\" data-component-name=\"desktop:articles:iridescent-list:text-item\" data-slug=\"jerman-dan-sekutunya-tuding-rusia-gencarkan-serangan-siber-apa-data-yang-diincar\" data-template-name=\"article-iridescent-list-text\" data-template-var=\"container\" data-title=\"Jerman dan Sekutunya Tuding Rusia Gencarkan Serangan Siber, Apa Data yang Diincar?\" data-type=\"TextTypeArticle\" id=\"article_5589111\"><figure class=\"articles--iridescent-list--text-item__figure-thumbnail\"><a class=\"ui--a articles--iridescent-list--text-item__figure-thumbnail-link\" data-kanal-page=\"tekno\" data-template-var=\"url\" href=\"https://www.liputan6.com/tekno/read/5589111/jerman-dan-sekutunya-tuding-rusia-gencarkan-serangan-siber-apa-data-yang-diincar\" title=\"Jerman dan Sekutunya Tuding Rusia Gencarkan Serangan Siber, Apa Data yang Diincar?\"><picture class=\"articles--iridescent-list--text-item__figure-image\"><img alt=\"4 Cara Pebisnis UMKM Lindungi Diri dari Serangan Siber dan Pulihkan Data Akibat Bencana Alam. (Doc: Extravytes Indonesia)\" class=\"js-lazyload articles--iridescent-list--text-item__figure-image-lazyload\" data-height=\"112\" data-high-dpi=\"https://cdn0-production-images-kly.akamaized.net/gSv4Bay0y6tHhO2_SndvsPmltKY=/400x224/smart/filters:quality(75):strip_icc():format(webp)/kly-media-production/medias/4452780/original/002117000_1685879636-Ilustrasi_Serangan_Siber_01.jpg\" data-src=\"https://cdn0-production-images-kly.akamaized.net/Chk1LSkQyDqyBquUCzRDjnOfjl4=/200x112/smart/filters:quality(75):strip_icc():format(webp)/kly-media-production/medias/4452780/original/002117000_1685879636-Ilustrasi_Serangan_Siber_01.jpg\" data-template-var=\"image\" data-width=\"200\" height=\"112\" src=\"https://cdn-production-assets-kly.akamaized.net/assets/images/blank.png\" width=\"200\"/></picture></a></figure><aside class=\"articles--iridescent-list--text-item__details\"><header class=\"articles--iridescent-list--text-item__header\"><a class=\"articles--iridescent-list--text-item__category\" data-template-var=\"category\" href=\"https://www.liputan6.com/tekno/internet\">Internet</a><span class=\"articles--iridescent-list--text-item__datetime\" data-template-var=\"date\"><time class=\"articles--iridescent-list--text-item__time timeago\" datetime=\"2024-05-06T08:30:29+07:00\">06 Mei 2024 08:30</time></span><h4 class=\"articles--iridescent-list--text-item__title\"><a class=\"ui--a articles--iridescent-list--text-item__title-link\" data-kanal-page=\"tekno\" data-template-var=\"url\" href=\"https://www.liputan6.com/tekno/read/5589111/jerman-dan-sekutunya-tuding-rusia-gencarkan-serangan-siber-apa-data-yang-diincar\" title=\"Jerman dan Sekutunya Tuding Rusia Gencarkan Serangan Siber, Apa Data yang Diincar?\"><span class=\"articles--iridescent-list--text-item__title-link-text\" data-template-var=\"title\">Jerman dan Sekutunya Tuding Rusia Gencarkan Serangan Siber, Apa Data yang Diincar?</span></a></h4></header><div class=\"articles--iridescent-list--text-item__summary articles--iridescent-list--text-item__summary-seo\" data-template-var=\"summary\">Jerman beserta Republik Ceko, aliansi NATO, dan Departemen Luar Negeri AS, menuding Rusia melancarkan serangan siber terhadap perusahaan-perusahaan pertahanan dan kedirgantaraan serta partai yang berkuasa.</div></aside></article>, <article class=\"articles--iridescent-list--item articles--iridescent-list--text-item\" data-article-id=\"5588847\" data-category=\"Islami\" data-channel=\"Islami\" data-component-name=\"desktop:articles:iridescent-list:text-item\" data-slug=\"gus-baha-kiai-gak-bahagia-itu-dosa-besar\" data-template-name=\"article-iridescent-list-text\" data-template-var=\"container\" data-title=\"Gus Baha: Kiai gak Bahagia Itu Dosa Besar\" data-type=\"TextTypeArticle\" id=\"article_5588847\"><figure class=\"articles--iridescent-list--text-item__figure-thumbnail\"><a class=\"ui--a articles--iridescent-list--text-item__figure-thumbnail-link\" data-kanal-page=\"islami\" data-template-var=\"url\" href=\"https://www.liputan6.com/islami/read/5588847/gus-baha-kiai-gak-bahagia-itu-dosa-besar\" title=\"Gus Baha: Kiai gak Bahagia Itu Dosa Besar\"><picture class=\"articles--iridescent-list--text-item__figure-image\"><img alt=\"Gus Baha (TikTok)\" class=\"js-lazyload articles--iridescent-list--text-item__figure-image-lazyload\" data-height=\"112\" data-high-dpi=\"https://cdn1-production-images-kly.akamaized.net/dU1mD1Vq98LsCp99dAx5pQbE-aw=/400x224/smart/filters:quality(75):strip_icc():format(webp)/kly-media-production/medias/4802318/original/004401300_1713190326-WhatsApp_Image_2024-04-15_at_17.08.40.jpeg\" data-src=\"https://cdn1-production-images-kly.akamaized.net/t9aMRauE_au64m7AyZnJIVp8gkc=/200x112/smart/filters:quality(75):strip_icc():format(webp)/kly-media-production/medias/4802318/original/004401300_1713190326-WhatsApp_Image_2024-04-15_at_17.08.40.jpeg\" data-template-var=\"image\" data-width=\"200\" height=\"112\" src=\"https://cdn-production-assets-kly.akamaized.net/assets/images/blank.png\" width=\"200\"/></picture></a></figure><aside class=\"articles--iridescent-list--text-item__details\"><header class=\"articles--iridescent-list--text-item__header\"><a class=\"articles--iridescent-list--text-item__category\" data-template-var=\"category\" href=\"https://www.liputan6.com/islami\">Islami</a><span class=\"articles--iridescent-list--text-item__datetime\" data-template-var=\"date\"><time class=\"articles--iridescent-list--text-item__time timeago\" datetime=\"2024-05-06T08:30:07+07:00\">06 Mei 2024 08:30</time></span><h4 class=\"articles--iridescent-list--text-item__title\"><a class=\"ui--a articles--iridescent-list--text-item__title-link\" data-kanal-page=\"islami\" data-template-var=\"url\" href=\"https://www.liputan6.com/islami/read/5588847/gus-baha-kiai-gak-bahagia-itu-dosa-besar\" title=\"Gus Baha: Kiai gak Bahagia Itu Dosa Besar\"><span class=\"articles--iridescent-list--text-item__title-link-text\" data-template-var=\"title\">Gus Baha: Kiai gak Bahagia Itu Dosa Besar</span></a></h4></header><div class=\"articles--iridescent-list--text-item__summary articles--iridescent-list--text-item__summary-seo\" data-template-var=\"summary\">Gus Baha menyatakan akan bahaya sampai kiai tidak bahagia, apalagi kiai sampai bertengkar dengan istrinya dan diketahui santrinya, ini penyebabnya.</div></aside></article>, <article class=\"articles--iridescent-list--item articles--iridescent-list--text-item\" data-article-id=\"5589042\" data-category=\"Peristiwa\" data-channel=\"News\" data-component-name=\"desktop:articles:iridescent-list:text-item\" data-slug=\"top-3-news-baju-olahraga-dan-ucapan-ini-diduga-jadi-pemicu-mahasiswa-stip-tewas-dianiaya-senior\" data-template-name=\"article-iridescent-list-text\" data-template-var=\"container\" data-title=\"Top 3 News: Baju Olahraga dan Ucapan Ini Diduga Jadi Pemicu Mahasiswa STIP Tewas Dianiaya Senior\" data-type=\"TextTypeArticle\" id=\"article_5589042\"><figure class=\"articles--iridescent-list--text-item__figure-thumbnail\"><a class=\"ui--a articles--iridescent-list--text-item__figure-thumbnail-link\" data-kanal-page=\"news\" data-template-var=\"url\" href=\"https://www.liputan6.com/news/read/5589042/top-3-news-baju-olahraga-dan-ucapan-ini-diduga-jadi-pemicu-mahasiswa-stip-tewas-dianiaya-senior\" title=\"Top 3 News: Baju Olahraga dan Ucapan Ini Diduga Jadi Pemicu Mahasiswa STIP Tewas Dianiaya Senior\"><picture class=\"articles--iridescent-list--text-item__figure-image\"><img alt=\"Sebanyak 431 taruna tingkat dua Sekolah Tinggi Ilmu Pelayaran (STIP) Jakarta mengikuti psikotes di kampus STIP Jakarta, Senin (30/1).\" class=\"js-lazyload articles--iridescent-list--text-item__figure-image-lazyload\" data-height=\"112\" data-high-dpi=\"https://cdn1-production-images-kly.akamaized.net/W6bQqcZY3e_zVJy5ZuZaE5D0DU4=/400x224/smart/filters:quality(75):strip_icc():format(webp)/kly-media-production/medias/1491666/original/049865800_1485779123-STIP_Jakarta.jpg\" data-src=\"https://cdn1-production-images-kly.akamaized.net/iCjKOYIolJylhdmKVNtKjkcel2U=/200x112/smart/filters:quality(75):strip_icc():format(webp)/kly-media-production/medias/1491666/original/049865800_1485779123-STIP_Jakarta.jpg\" data-template-var=\"image\" data-width=\"200\" height=\"112\" src=\"https://cdn-production-assets-kly.akamaized.net/assets/images/blank.png\" width=\"200\"/></picture></a></figure><aside class=\"articles--iridescent-list--text-item__details\"><header class=\"articles--iridescent-list--text-item__header\"><a class=\"articles--iridescent-list--text-item__category\" data-template-var=\"category\" href=\"https://www.liputan6.com/news/peristiwa\">Peristiwa</a><span class=\"articles--iridescent-list--text-item__datetime\" data-template-var=\"date\"><time class=\"articles--iridescent-list--text-item__time timeago\" datetime=\"2024-05-06T08:30:00+07:00\">06 Mei 2024 08:30</time></span><h4 class=\"articles--iridescent-list--text-item__title\"><a class=\"ui--a articles--iridescent-list--text-item__title-link\" data-kanal-page=\"news\" data-template-var=\"url\" href=\"https://www.liputan6.com/news/read/5589042/top-3-news-baju-olahraga-dan-ucapan-ini-diduga-jadi-pemicu-mahasiswa-stip-tewas-dianiaya-senior\" title=\"Top 3 News: Baju Olahraga dan Ucapan Ini Diduga Jadi Pemicu Mahasiswa STIP Tewas Dianiaya Senior\"><span class=\"articles--iridescent-list--text-item__title-link-text\" data-template-var=\"title\">Top 3 News: Baju Olahraga dan Ucapan Ini Diduga Jadi Pemicu Mahasiswa STIP Tewas Dianiaya ...</span></a></h4></header><div class=\"articles--iridescent-list--text-item__summary articles--iridescent-list--text-item__summary-seo\" data-template-var=\"summary\">Polisi mengungkap pemicu penganiayaan yang menyebabkan mahasiswa tingkat 1 Sekolah Tinggi Ilmu Pelayaran (STIP) Jakarta bernama Putu Satria Ananta Rustika alias P (19) tewas. Itulah top 3 news hari ini.</div></aside></article>, <article class=\"articles--iridescent-list--item articles--iridescent-list--text-item\" data-article-id=\"5587665\" data-category=\"Travel\" data-channel=\"Lifestyle\" data-component-name=\"desktop:articles:iridescent-list:text-item\" data-slug=\"6-fakta-menarik-gunung-nokilalaki-di-sulawesi-bagian-taman-nasional-lore-lindu\" data-template-name=\"article-iridescent-list-text\" data-template-var=\"container\" data-title=\"6 Fakta Menarik Gunung Nokilalaki di Sulawesi, Bagian Taman Nasional Lore Lindu\" data-type=\"TextTypeArticle\" id=\"article_5587665\"><figure class=\"articles--iridescent-list--text-item__figure-thumbnail\"><a class=\"ui--a articles--iridescent-list--text-item__figure-thumbnail-link\" data-kanal-page=\"lifestyle\" data-template-var=\"url\" href=\"https://www.liputan6.com/lifestyle/read/5587665/6-fakta-menarik-gunung-nokilalaki-di-sulawesi-bagian-taman-nasional-lore-lindu\" title=\"6 Fakta Menarik Gunung Nokilalaki di Sulawesi, Bagian Taman Nasional Lore Lindu\"><picture class=\"articles--iridescent-list--text-item__figure-image\"><img alt=\"Kelompok pendaki di Gunung Nokilalaki di Sulawesi. (Dok: IG @pencintaalamsulteng_ https://www.instagram.com/p/Ci1ORtIvJGs/?igsh=aWx0Ym1idDczb25l)\" class=\"js-lazyload articles--iridescent-list--text-item__figure-image-lazyload\" data-height=\"112\" data-high-dpi=\"https://cdn1-production-images-kly.akamaized.net/QimJjMvNUyHtWkr328wGtQMM4wc=/400x224/smart/filters:quality(75):strip_icc():format(webp)/kly-media-production/medias/4820731/original/015756700_1714723986-WhatsApp_Image_2024-05-03_at_14.45.41.jpeg\" data-src=\"https://cdn1-production-images-kly.akamaized.net/bhwOUWwEH4P0Z1Gguah82s_dPY8=/200x112/smart/filters:quality(75):strip_icc():format(webp)/kly-media-production/medias/4820731/original/015756700_1714723986-WhatsApp_Image_2024-05-03_at_14.45.41.jpeg\" data-template-var=\"image\" data-width=\"200\" height=\"112\" src=\"https://cdn-production-assets-kly.akamaized.net/assets/images/blank.png\" width=\"200\"/></picture></a></figure><aside class=\"articles--iridescent-list--text-item__details\"><header class=\"articles--iridescent-list--text-item__header\"><a class=\"articles--iridescent-list--text-item__category\" data-template-var=\"category\" href=\"https://www.liputan6.com/lifestyle/travel\">Travel</a><span class=\"articles--iridescent-list--text-item__datetime\" data-template-var=\"date\"><time class=\"articles--iridescent-list--text-item__time timeago\" datetime=\"2024-05-06T08:30:00+07:00\">06 Mei 2024 08:30</time></span><h4 class=\"articles--iridescent-list--text-item__title\"><a class=\"ui--a articles--iridescent-list--text-item__title-link\" data-kanal-page=\"lifestyle\" data-template-var=\"url\" href=\"https://www.liputan6.com/lifestyle/read/5587665/6-fakta-menarik-gunung-nokilalaki-di-sulawesi-bagian-taman-nasional-lore-lindu\" title=\"6 Fakta Menarik Gunung Nokilalaki di Sulawesi, Bagian Taman Nasional Lore Lindu\"><span class=\"articles--iridescent-list--text-item__title-link-text\" data-template-var=\"title\">6 Fakta Menarik Gunung Nokilalaki di Sulawesi, Bagian Taman Nasional Lore Lindu</span></a></h4></header><div class=\"articles--iridescent-list--text-item__summary articles--iridescent-list--text-item__summary-seo\" data-template-var=\"summary\">Mendaki Gunung Nokilalaki bisa menjadi pemanasan sebelum mendaki gunung yang lebih sulit karena durasi pendakian singkat selama satu atau dua hari.</div></aside></article>, <article class=\"articles--iridescent-list--item articles--iridescent-list--text-item\" data-article-id=\"5589127\" data-category=\"Ekonomi\" data-channel=\"Bisnis\" data-component-name=\"desktop:articles:iridescent-list:text-item\" data-slug=\"buntut-kekerasan-stip-jakarta-kemenhub-evaluasi-seluruh-sekolah-kedinasan\" data-template-name=\"article-iridescent-list-text\" data-template-var=\"container\" data-title=\"Buntut Kekerasan STIP Jakarta, Kemenhub Evaluasi Seluruh Sekolah Kedinasan\" data-type=\"TextTypeArticle\" id=\"article_5589127\"><figure class=\"articles--iridescent-list--text-item__figure-thumbnail\"><a class=\"ui--a articles--iridescent-list--text-item__figure-thumbnail-link\" data-kanal-page=\"bisnis\" data-template-var=\"url\" href=\"https://www.liputan6.com/bisnis/read/5589127/buntut-kekerasan-stip-jakarta-kemenhub-evaluasi-seluruh-sekolah-kedinasan\" title=\"Buntut Kekerasan STIP Jakarta, Kemenhub Evaluasi Seluruh Sekolah Kedinasan\"><picture class=\"articles--iridescent-list--text-item__figure-image\"><img alt=\"Peristiwa kekerasan yang terjadi di Kampus Sekolah Tinggi Ilmu Pelayaran (STIP) menyisakan duka bagi seluruh taruna (Liputan6.com/Johan Tallo).\" class=\"js-lazyload articles--iridescent-list--text-item__figure-image-lazyload\" data-height=\"112\" data-high-dpi=\"https://cdn0-production-images-kly.akamaized.net/G2UHtMGYKtJi7vs2c-XuLTHrk3U=/400x224/smart/filters:quality(75):strip_icc():format(webp)/kly-media-production/medias/670902/original/1.jpg\" data-src=\"https://cdn0-production-images-kly.akamaized.net/EhXhf_6Uj_elGLdIi0iHLZT009s=/200x112/smart/filters:quality(75):strip_icc():format(webp)/kly-media-production/medias/670902/original/1.jpg\" data-template-var=\"image\" data-width=\"200\" height=\"112\" src=\"https://cdn-production-assets-kly.akamaized.net/assets/images/blank.png\" width=\"200\"/></picture></a></figure><aside class=\"articles--iridescent-list--text-item__details\"><header class=\"articles--iridescent-list--text-item__header\"><a class=\"articles--iridescent-list--text-item__category\" data-template-var=\"category\" href=\"https://www.liputan6.com/bisnis/ekonomi\">Ekonomi</a><span class=\"articles--iridescent-list--text-item__datetime\" data-template-var=\"date\"><time class=\"articles--iridescent-list--text-item__time timeago\" datetime=\"2024-05-06T08:21:59+07:00\">06 Mei 2024 08:21</time></span><h4 class=\"articles--iridescent-list--text-item__title\"><a class=\"ui--a articles--iridescent-list--text-item__title-link\" data-kanal-page=\"bisnis\" data-template-var=\"url\" href=\"https://www.liputan6.com/bisnis/read/5589127/buntut-kekerasan-stip-jakarta-kemenhub-evaluasi-seluruh-sekolah-kedinasan\" title=\"Buntut Kekerasan STIP Jakarta, Kemenhub Evaluasi Seluruh Sekolah Kedinasan\"><span class=\"articles--iridescent-list--text-item__title-link-text\" data-template-var=\"title\">Buntut Kekerasan STIP Jakarta, Kemenhub Evaluasi Seluruh Sekolah Kedinasan</span></a></h4></header><div class=\"articles--iridescent-list--text-item__summary articles--iridescent-list--text-item__summary-seo\" data-template-var=\"summary\">Juru Bicara Menteri Perhubungan Adita Irawati menanggapi aksi kekerasan yang kembali terjadi di Sekolah Tinggi Pelayaran, atau STIP Jakarta.</div></aside></article>, <article class=\"articles--iridescent-list--item articles--iridescent-list--text-item\" data-article-id=\"5589137\" data-category=\"Megapolitan\" data-channel=\"News\" data-component-name=\"desktop:articles:iridescent-list:text-item\" data-slug=\"kabupaten-bekasi-boyong-tropi-juara-umum-mtq-ke-38-jabar\" data-template-name=\"article-iridescent-list-text\" data-template-var=\"container\" data-title=\"Kabupaten Bekasi Boyong Tropi Juara Umum MTQ ke-38 Jabar \" data-type=\"TextTypeArticle\" id=\"article_5589137\"><figure class=\"articles--iridescent-list--text-item__figure-thumbnail\"><a class=\"ui--a articles--iridescent-list--text-item__figure-thumbnail-link\" data-kanal-page=\"news\" data-template-var=\"url\" href=\"https://www.liputan6.com/news/read/5589137/kabupaten-bekasi-boyong-tropi-juara-umum-mtq-ke-38-jabar\" title=\"Kabupaten Bekasi Boyong Tropi Juara Umum MTQ ke-38 Jabar \"><picture class=\"articles--iridescent-list--text-item__figure-image\"><img alt=\"Pj Bupati Bekasi Dani Ramdan menerima trophy bergilir Juara Umum MTQ ke-38 tingkat Jawa Barat, dari Sekda Jabar, Herman Suryatman, di Plaza Pemkab Bekasi, pada Sabtu (04/05/2024) malam.\" class=\"js-lazyload articles--iridescent-list--text-item__figure-image-lazyload\" data-height=\"112\" data-high-dpi=\"https://cdn1-production-images-kly.akamaized.net/EkBs_sTNhmrLEKHTYv3lpuj-a1Y=/400x224/smart/filters:quality(75):strip_icc():format(webp)/kly-media-production/medias/4822634/original/090735800_1714958708-WhatsApp_Image_2024-05-05_at_21.48.39__1_.jpeg\" data-src=\"https://cdn1-production-images-kly.akamaized.net/i67Yaqj1f4G3pm2OkUSr3grKiuI=/200x112/smart/filters:quality(75):strip_icc():format(webp)/kly-media-production/medias/4822634/original/090735800_1714958708-WhatsApp_Image_2024-05-05_at_21.48.39__1_.jpeg\" data-template-var=\"image\" data-width=\"200\" height=\"112\" src=\"https://cdn-production-assets-kly.akamaized.net/assets/images/blank.png\" width=\"200\"/></picture></a></figure><aside class=\"articles--iridescent-list--text-item__details\"><header class=\"articles--iridescent-list--text-item__header\"><a class=\"articles--iridescent-list--text-item__category\" data-template-var=\"category\" href=\"https://www.liputan6.com/news/megapolitan\">Megapolitan</a><span class=\"articles--iridescent-list--text-item__datetime\" data-template-var=\"date\"><time class=\"articles--iridescent-list--text-item__time timeago\" datetime=\"2024-05-06T08:18:05+07:00\">06 Mei 2024 08:18</time></span><h4 class=\"articles--iridescent-list--text-item__title\"><a class=\"ui--a articles--iridescent-list--text-item__title-link\" data-kanal-page=\"news\" data-template-var=\"url\" href=\"https://www.liputan6.com/news/read/5589137/kabupaten-bekasi-boyong-tropi-juara-umum-mtq-ke-38-jabar\" title=\"Kabupaten Bekasi Boyong Tropi Juara Umum MTQ ke-38 Jabar \"><span class=\"articles--iridescent-list--text-item__title-link-text\" data-template-var=\"title\">Kabupaten Bekasi Boyong Tropi Juara Umum MTQ ke-38 Jabar </span></a></h4></header><div class=\"articles--iridescent-list--text-item__summary articles--iridescent-list--text-item__summary-seo\" data-template-var=\"summary\">Kabupaten Bekasi sekaligus menggeser dominasi Kota Bandung yang sudah 9 kali berturut-turut menjadi Juara Umum MTQ Jawa Barat.</div></aside></article>, <article class=\"articles--iridescent-list--item articles--iridescent-list--text-item\" data-article-id=\"5589122\" data-category=\"Pemilu\" data-channel=\"Pemilu\" data-component-name=\"desktop:articles:iridescent-list:text-item\" data-slug=\"kpu-minta-bali-terapkan-kampanye-hijau-untuk-jaga-pariwisata\" data-template-name=\"article-iridescent-list-text\" data-template-var=\"container\" data-title=\"KPU Minta Bali Terapkan Kampanye Hijau untuk Jaga Pariwisata\" data-type=\"TextTypeArticle\" id=\"article_5589122\"><figure class=\"articles--iridescent-list--text-item__figure-thumbnail\"><a class=\"ui--a articles--iridescent-list--text-item__figure-thumbnail-link\" data-kanal-page=\"pemilu\" data-template-var=\"url\" href=\"https://www.liputan6.com/pemilu/read/5589122/kpu-minta-bali-terapkan-kampanye-hijau-untuk-jaga-pariwisata\" title=\"KPU Minta Bali Terapkan Kampanye Hijau untuk Jaga Pariwisata\"><picture class=\"articles--iridescent-list--text-item__figure-image\"><img alt=\"Ketua Divisi Bidang Teknis Komisi Pemilihan Umum (KPU) Idham Holik mengumumkan hasil pengecekan dokumen persyaratan pendaftaran partai politik (parpol) yang mendaftar ke Pemilihan Umum (Pemilu) 2024 ke KPU hari ini, Sabtu (6/8/2022). (Dok. Liputan6.com/Winda Nelfira)\" class=\"js-lazyload articles--iridescent-list--text-item__figure-image-lazyload\" data-height=\"112\" data-high-dpi=\"https://cdn0-production-images-kly.akamaized.net/L2ErdCkxXtXB_SFpdUK4DZX3F0Q=/400x224/smart/filters:quality(75):strip_icc():format(webp)/kly-media-production/medias/4114931/original/036699900_1659785252-IMG_20220806_170343.jpg\" data-src=\"https://cdn0-production-images-kly.akamaized.net/DVbwfJoqb0EJ8d3swu2FsGuu6QY=/200x112/smart/filters:quality(75):strip_icc():format(webp)/kly-media-production/medias/4114931/original/036699900_1659785252-IMG_20220806_170343.jpg\" data-template-var=\"image\" data-width=\"200\" height=\"112\" src=\"https://cdn-production-assets-kly.akamaized.net/assets/images/blank.png\" width=\"200\"/></picture></a></figure><aside class=\"articles--iridescent-list--text-item__details\"><header class=\"articles--iridescent-list--text-item__header\"><a class=\"articles--iridescent-list--text-item__category\" data-template-var=\"category\" href=\"https://www.liputan6.com/pemilu\">Pemilu</a><span class=\"articles--iridescent-list--text-item__datetime\" data-template-var=\"date\"><time class=\"articles--iridescent-list--text-item__time timeago\" datetime=\"2024-05-06T08:15:08+07:00\">06 Mei 2024 08:15</time></span><h4 class=\"articles--iridescent-list--text-item__title\"><a class=\"ui--a articles--iridescent-list--text-item__title-link\" data-kanal-page=\"pemilu\" data-template-var=\"url\" href=\"https://www.liputan6.com/pemilu/read/5589122/kpu-minta-bali-terapkan-kampanye-hijau-untuk-jaga-pariwisata\" title=\"KPU Minta Bali Terapkan Kampanye Hijau untuk Jaga Pariwisata\"><span class=\"articles--iridescent-list--text-item__title-link-text\" data-template-var=\"title\">KPU Minta Bali Terapkan Kampanye Hijau untuk Jaga Pariwisata</span></a></h4></header><div class=\"articles--iridescent-list--text-item__summary articles--iridescent-list--text-item__summary-seo\" data-template-var=\"summary\">Idham menyebut tidak hanya Bali sebagai daerah pariwisata yang tidak boleh dirusak, kampanye hijau juga ditekankan di daerah lain lantaran kondisi pemanasan global memprihatinkan.</div></aside></article>, <article class=\"articles--iridescent-list--item articles--iridescent-list--text-item\" data-article-id=\"5589005\" data-category=\"Peristiwa\" data-channel=\"News\" data-component-name=\"desktop:articles:iridescent-list:text-item\" data-slug=\"cuaca-besok-selasa-7-mei-2024-jakarta-cerah-berawan-pagi-dan-malam\" data-template-name=\"article-iridescent-list-text\" data-template-var=\"container\" data-title=\"Cuaca Besok Selasa 7 Mei 2024: Jakarta Cerah Berawan Pagi dan Malam\" data-type=\"TextTypeArticle\" id=\"article_5589005\"><figure class=\"articles--iridescent-list--text-item__figure-thumbnail\"><a class=\"ui--a articles--iridescent-list--text-item__figure-thumbnail-link\" data-kanal-page=\"news\" data-template-var=\"url\" href=\"https://www.liputan6.com/news/read/5589005/cuaca-besok-selasa-7-mei-2024-jakarta-cerah-berawan-pagi-dan-malam\" title=\"Cuaca Besok Selasa 7 Mei 2024: Jakarta Cerah Berawan Pagi dan Malam\"><picture class=\"articles--iridescent-list--text-item__figure-image\"><img alt=\"Prakiraan cuaca Jakarta hari ini, Jumat (14/4/2023), akan cerah dengan suhu udara sangat panas. (Liputan6.com/Faizal  Fanani)\" class=\"js-lazyload articles--iridescent-list--text-item__figure-image-lazyload\" data-height=\"112\" data-high-dpi=\"https://cdn1-production-images-kly.akamaized.net/ESo-C1ToRhiycRGmeK_Ony9nBLI=/400x224/smart/filters:quality(75):strip_icc():format(webp)/kly-media-production/medias/4395253/original/066382500_1681461848-Cuaca-Panas-Melanda-Jakarta-Faizal-5.jpg\" data-src=\"https://cdn1-production-images-kly.akamaized.net/OyklPxrOFI8Di8ckylZyEkeVw6c=/200x112/smart/filters:quality(75):strip_icc():format(webp)/kly-media-production/medias/4395253/original/066382500_1681461848-Cuaca-Panas-Melanda-Jakarta-Faizal-5.jpg\" data-template-var=\"image\" data-width=\"200\" height=\"112\" src=\"https://cdn-production-assets-kly.akamaized.net/assets/images/blank.png\" width=\"200\"/></picture></a></figure><aside class=\"articles--iridescent-list--text-item__details\"><header class=\"articles--iridescent-list--text-item__header\"><a class=\"articles--iridescent-list--text-item__category\" data-template-var=\"category\" href=\"https://www.liputan6.com/news/peristiwa\">Peristiwa</a><span class=\"articles--iridescent-list--text-item__datetime\" data-template-var=\"date\"><time class=\"articles--iridescent-list--text-item__time timeago\" datetime=\"2024-05-06T08:15:00+07:00\">06 Mei 2024 08:15</time></span><h4 class=\"articles--iridescent-list--text-item__title\"><a class=\"ui--a articles--iridescent-list--text-item__title-link\" data-kanal-page=\"news\" data-template-var=\"url\" href=\"https://www.liputan6.com/news/read/5589005/cuaca-besok-selasa-7-mei-2024-jakarta-cerah-berawan-pagi-dan-malam\" title=\"Cuaca Besok Selasa 7 Mei 2024: Jakarta Cerah Berawan Pagi dan Malam\"><span class=\"articles--iridescent-list--text-item__title-link-text\" data-template-var=\"title\">Cuaca Besok Selasa 7 Mei 2024: Jakarta Cerah Berawan Pagi dan Malam</span></a></h4></header><div class=\"articles--iridescent-list--text-item__summary articles--iridescent-list--text-item__summary-seo\" data-template-var=\"summary\">Jakarta di pagi hari besok, Selasa 7 Mei 2024 seluruh langitnya diprediksi cerah berawan, tidak nampak hujan sama sekali. Begitulah prakiraan cuaca besok.</div></aside></article>, <article class=\"articles--iridescent-list--item articles--iridescent-list--text-item\" data-article-id=\"5589123\" data-category=\"Surabaya\" data-channel=\"Surabaya\" data-component-name=\"desktop:articles:iridescent-list:text-item\" data-slug=\"sukses-kelola-bumd-jatim-bos-pt-dabn-hadi-mulyo-utomo-diganjar-pwi-jatim-award-2024\" data-template-name=\"article-iridescent-list-text\" data-template-var=\"container\" data-title=\"Sukses Kelola BUMD Jatim, Bos PT DABN Hadi Mulyo Utomo Diganjar PWI Jatim Award 2024\" data-type=\"TextTypeArticle\" id=\"article_5589123\"><figure class=\"articles--iridescent-list--text-item__figure-thumbnail\"><a class=\"ui--a articles--iridescent-list--text-item__figure-thumbnail-link\" data-kanal-page=\"surabaya\" data-template-var=\"url\" href=\"https://www.liputan6.com/surabaya/read/5589123/sukses-kelola-bumd-jatim-bos-pt-dabn-hadi-mulyo-utomo-diganjar-pwi-jatim-award-2024\" title=\"Sukses Kelola BUMD Jatim, Bos PT DABN Hadi Mulyo Utomo Diganjar PWI Jatim Award 2024\"><picture class=\"articles--iridescent-list--text-item__figure-image\"><img alt=\"Hadi Mulyo Utomo ditunjuk jadi Plt BUMD Delta Artha Bahari Nusantara (Istimewa).\" class=\"js-lazyload articles--iridescent-list--text-item__figure-image-lazyload\" data-height=\"112\" data-high-dpi=\"https://cdn1-production-images-kly.akamaized.net/uhLD-ecYxdS4Ihnvl3irp0ER78s=/400x224/smart/filters:quality(75):strip_icc():format(webp)/kly-media-production/medias/4456011/original/015761700_1686097882-WhatsApp_Image_2023-06-06_at_19.47.42.jpeg\" data-src=\"https://cdn1-production-images-kly.akamaized.net/kzKHooDeBj5igQFr7g54AkeSNi0=/200x112/smart/filters:quality(75):strip_icc():format(webp)/kly-media-production/medias/4456011/original/015761700_1686097882-WhatsApp_Image_2023-06-06_at_19.47.42.jpeg\" data-template-var=\"image\" data-width=\"200\" height=\"112\" src=\"https://cdn-production-assets-kly.akamaized.net/assets/images/blank.png\" width=\"200\"/></picture></a></figure><aside class=\"articles--iridescent-list--text-item__details\"><header class=\"articles--iridescent-list--text-item__header\"><a class=\"articles--iridescent-list--text-item__category\" data-template-var=\"category\" href=\"https://www.liputan6.com/surabaya\">Surabaya</a><span class=\"articles--iridescent-list--text-item__datetime\" data-template-var=\"date\"><time class=\"articles--iridescent-list--text-item__time timeago\" datetime=\"2024-05-06T08:07:41+07:00\">06 Mei 2024 08:07</time></span><h4 class=\"articles--iridescent-list--text-item__title\"><a class=\"ui--a articles--iridescent-list--text-item__title-link\" data-kanal-page=\"surabaya\" data-template-var=\"url\" href=\"https://www.liputan6.com/surabaya/read/5589123/sukses-kelola-bumd-jatim-bos-pt-dabn-hadi-mulyo-utomo-diganjar-pwi-jatim-award-2024\" title=\"Sukses Kelola BUMD Jatim, Bos PT DABN Hadi Mulyo Utomo Diganjar PWI Jatim Award 2024\"><span class=\"articles--iridescent-list--text-item__title-link-text\" data-template-var=\"title\">Sukses Kelola BUMD Jatim, Bos PT DABN Hadi Mulyo Utomo Diganjar PWI Jatim Award 2024</span></a></h4></header><div class=\"articles--iridescent-list--text-item__summary articles--iridescent-list--text-item__summary-seo\" data-template-var=\"summary\">Alumni aktivis PMII Unair itu mendapat anugerah PWI Jatim Award 2024 untuk kategori Effectiveness Leadership. Penghargaan itu disampaikan langsung oleh Ketua PWI Jatim, Lutfil Hakim di malam resepsi puncak Hari Pers Nasional pada 28 April 2024 di Jember.</div></aside></article>, <article class=\"articles--iridescent-list--item articles--iridescent-list--photo-item\" data-channel=\"Foto\" data-component-name=\"desktop:articles:iridescent-list:photo-item\" data-slug=\"ac-milan-gagal-menang-atas-genoa-di-san-siro\" data-template-name=\"article-iridescent-list-photo\" data-template-var=\"container\" data-type=\"PhotoTypeArticle\" id=\"article_5589105\"><aside class=\"articles--iridescent-list--photo-item__details\"><header class=\"articles--iridescent-list--photo-item__header\"><a class=\"articles--iridescent-list--photo-item__category\" data-template-var=\"category\" href=\"https://www.liputan6.com/photo/bola\">Bola</a><span class=\"articles--iridescent-list--photo-item__datetime\" data-template-var=\"date\"><time class=\"articles--iridescent-list--photo-item__time timeago\" datetime=\"2024-05-06T08:05:02+07:00\">06 Mei 2024 08:05</time></span><h4 class=\"articles--iridescent-list--photo-item__title\"><a class=\"ui--a articles--iridescent-list--photo-item__title-link\" data-kanal-page=\"photo\" data-template-var=\"url\" href=\"https://www.liputan6.com/photo/read/5589105/ac-milan-gagal-menang-atas-genoa-di-san-siro\" title=\"AC Milan Gagal Menang atas Genoa di San Siro\"><span class=\"articles--iridescent-list--photo-item__title-link-text\" data-template-var=\"title\">AC Milan Gagal Menang atas Genoa di San Siro</span></a></h4></header></aside><div class=\"articles--iridescent-list--photo-item__images-wrapper\"><div class=\"articles--iridescent-list--photo-item__main\"><a class=\"ui--a articles--iridescent-list--photo-item__figure-main-link\" data-kanal-page=\"photo\" href=\"https://www.liputan6.com/photo/read/5589105/ac-milan-gagal-menang-atas-genoa-di-san-siro\" title=\"AC Milan Gagal Menang atas Genoa di San Siro\"><figure class=\"articles--iridescent-list--photo-item__figure-main\"><picture class=\"articles--iridescent-list--photo-item__figure-image\"><img alt=\"Penyerang AC Milan Olivier Giroud berselebrasi dengan rekan setimnya setelah mencetak gol ketiga ke gawang  Genoa pertandingan pekan ke-35 Serie A 2023/2024 di San Siro, Minggu (05/05/2024) malam WIB. (AP Photo/Luca Bruno)\" class=\"js-lazyload articles--iridescent-list--photo-item__figure-image-lazyload\" data-height=\"288\" data-high-dpi=\"https://cdn1-production-images-kly.akamaized.net/lgx2QsjG1t6hbWTJFfHdF53Wjx4=/766x576/smart/filters:quality(75):strip_icc():format(webp)/kly-media-production/medias/4822593/original/077717700_1714955614-Hasil_Liga_Italia_AC_Milan_VS_Genoa-AP__1_.jpg\" data-src=\"https://cdn1-production-images-kly.akamaized.net/YUIJ30k9FuQiqN55iYHbAlhw7rg=/383x288/smart/filters:quality(75):strip_icc():format(webp)/kly-media-production/medias/4822593/original/077717700_1714955614-Hasil_Liga_Italia_AC_Milan_VS_Genoa-AP__1_.jpg\" data-template-var=\"image\" data-width=\"383\" height=\"288\" src=\"https://cdn-production-assets-kly.akamaized.net/assets/images/blank.png\" width=\"383\"/></picture></figure></a></div><div class=\"articles--iridescent-list--photo-item__main-overlay\"> </div><div class=\"articles--iridescent-list--photo-item__aside\"><a class=\"ui--a articles--iridescent-list--photo-item__figure-aside-link\" data-kanal-page=\"photo\" href=\"https://www.liputan6.com/photo/read/5589105/ac-milan-gagal-menang-atas-genoa-di-san-siro\" title=\"AC Milan Gagal Menang atas Genoa di San Siro\"><figure class=\"articles--iridescent-list--photo-item__figure-aside\"><picture class=\"articles--iridescent-list--photo-item__figure-image\"><img alt=\"AC Milan gagal meraih kemenangan setelah bermain imbang 3-3 kala menjamu Genoa. (AP Photo/Luca Bruno)\" class=\"js-lazyload articles--iridescent-list--photo-item__figure-image-lazyload\" data-height=\"143\" data-high-dpi=\"https://cdn1-production-images-kly.akamaized.net/UMqA2IMckPkOuPAZwnDKFJ2P40Q=/0x239:5599x3395/510x286/filters:quality(75):strip_icc():format(webp)/kly-media-production/medias/4822594/original/095167800_1714955618-Hasil_Liga_Italia_AC_Milan_VS_Genoa-AP__2_.jpg\" data-src=\"https://cdn1-production-images-kly.akamaized.net/f7qyuaLAXK4QKCQMd1OOXT7xySg=/0x239:5599x3395/255x143/filters:quality(75):strip_icc():format(webp)/kly-media-production/medias/4822594/original/095167800_1714955618-Hasil_Liga_Italia_AC_Milan_VS_Genoa-AP__2_.jpg\" data-template-var=\"image\" data-width=\"255\" height=\"143\" src=\"https://cdn-production-assets-kly.akamaized.net/assets/images/blank.png\" width=\"255\"/></picture></figure></a><a class=\"ui--a articles--iridescent-list--photo-item__figure-aside-link\" data-kanal-page=\"photo\" href=\"https://www.liputan6.com/photo/read/5589105/ac-milan-gagal-menang-atas-genoa-di-san-siro\" title=\"AC Milan Gagal Menang atas Genoa di San Siro\"><figure class=\"articles--iridescent-list--photo-item__figure-aside\"><picture class=\"articles--iridescent-list--photo-item__figure-image\"><img alt=\"Gol-gol Milan dihasilkan Alessandro Florenzi, Matteo Gabbia, dan Olivier Giroud. (AP Photo/Luca Bruno)\" class=\"js-lazyload articles--iridescent-list--photo-item__figure-image-lazyload\" data-height=\"143\" data-high-dpi=\"https://cdn1-production-images-kly.akamaized.net/E9R9gwbCnX3_fJaVdtnnArpDmSM=/0x216:5254x3177/510x286/filters:quality(75):strip_icc():format(webp)/kly-media-production/medias/4822595/original/067996200_1714955621-Hasil_Liga_Italia_AC_Milan_VS_Genoa-AP__3_.jpg\" data-src=\"https://cdn1-production-images-kly.akamaized.net/vu_dq1aklVOb_sq0ZWlnxqAEPUo=/0x216:5254x3177/255x143/filters:quality(75):strip_icc():format(webp)/kly-media-production/medias/4822595/original/067996200_1714955621-Hasil_Liga_Italia_AC_Milan_VS_Genoa-AP__3_.jpg\" data-template-var=\"image\" data-width=\"255\" height=\"143\" src=\"https://cdn-production-assets-kly.akamaized.net/assets/images/blank.png\" width=\"255\"/></picture></figure></a><div class=\"articles--iridescent-list--photo-item__overlay\"><a class=\"ui--a articles--iridescent-list--photo-item__overlay-link\" data-kanal-page=\"photo\" href=\"https://www.liputan6.com/photo/read/5589105/ac-milan-gagal-menang-atas-genoa-di-san-siro\"> +3</a></div></div></div></article>, <article class=\"articles--iridescent-list--item articles--iridescent-list--text-item\" data-article-id=\"5588954\" data-category=\"Citizen6\" data-channel=\"Citizen6\" data-component-name=\"desktop:articles:iridescent-list:text-item\" data-slug=\"4-zodiak-ini-sering-jatuh-cinta-pada-orang-yang-tak-bisa-dimiliki\" data-template-name=\"article-iridescent-list-text\" data-template-var=\"container\" data-title=\"4 Zodiak Ini Sering Jatuh Cinta Pada Orang yang Tak Bisa Dimiliki\" data-type=\"TextTypeArticle\" id=\"article_5588954\"><figure class=\"articles--iridescent-list--text-item__figure-thumbnail\"><a class=\"ui--a articles--iridescent-list--text-item__figure-thumbnail-link\" data-kanal-page=\"citizen6\" data-template-var=\"url\" href=\"https://www.liputan6.com/citizen6/read/5588954/4-zodiak-ini-sering-jatuh-cinta-pada-orang-yang-tak-bisa-dimiliki\" title=\"4 Zodiak Ini Sering Jatuh Cinta Pada Orang yang Tak Bisa Dimiliki\"><picture class=\"articles--iridescent-list--text-item__figure-image\"><img alt=\"Ada pasangan yang akan mengakhiri hubungan mereka jika tidak mendapatkan restu dari orang sekitar (Foto: Unsplash.com/Everton Vila)\" class=\"js-lazyload articles--iridescent-list--text-item__figure-image-lazyload\" data-height=\"112\" data-high-dpi=\"https://cdn0-production-images-kly.akamaized.net/ZJI1phT14JllH1qrwLtZdrCTYMU=/400x224/smart/filters:quality(75):strip_icc():format(webp)/kly-media-production/medias/4551063/original/098855400_1692926923-everton-vila-AsahNlC0VhQ-unsplash.jpg\" data-src=\"https://cdn0-production-images-kly.akamaized.net/ARpeMWC-VZodb_xX98kXoA00akk=/200x112/smart/filters:quality(75):strip_icc():format(webp)/kly-media-production/medias/4551063/original/098855400_1692926923-everton-vila-AsahNlC0VhQ-unsplash.jpg\" data-template-var=\"image\" data-width=\"200\" height=\"112\" src=\"https://cdn-production-assets-kly.akamaized.net/assets/images/blank.png\" width=\"200\"/></picture></a></figure><aside class=\"articles--iridescent-list--text-item__details\"><header class=\"articles--iridescent-list--text-item__header\"><a class=\"articles--iridescent-list--text-item__category\" data-template-var=\"category\" href=\"https://www.liputan6.com/citizen6\">Citizen6</a><span class=\"articles--iridescent-list--text-item__datetime\" data-template-var=\"date\"><time class=\"articles--iridescent-list--text-item__time timeago\" datetime=\"2024-05-06T08:04:26+07:00\">06 Mei 2024 08:04</time></span><h4 class=\"articles--iridescent-list--text-item__title\"><a class=\"ui--a articles--iridescent-list--text-item__title-link\" data-kanal-page=\"citizen6\" data-template-var=\"url\" href=\"https://www.liputan6.com/citizen6/read/5588954/4-zodiak-ini-sering-jatuh-cinta-pada-orang-yang-tak-bisa-dimiliki\" title=\"4 Zodiak Ini Sering Jatuh Cinta Pada Orang yang Tak Bisa Dimiliki\"><span class=\"articles--iridescent-list--text-item__title-link-text\" data-template-var=\"title\">4 Zodiak Ini Sering Jatuh Cinta Pada Orang yang Tak Bisa Dimiliki</span></a></h4></header><div class=\"articles--iridescent-list--text-item__summary articles--iridescent-list--text-item__summary-seo\" data-template-var=\"summary\">Beberapa zodiak ini selalu jatuh cinta pada orang-orang yang sulit dijangkau.</div></aside></article>, <article class=\"articles--iridescent-list--item articles--iridescent-list--text-item\" data-article-id=\"5589101\" data-category=\"Internasional\" data-channel=\"Global\" data-component-name=\"desktop:articles:iridescent-list:text-item\" data-slug=\"banjir-di-brasil-75-orang-tewas-dan-103-hilang\" data-template-name=\"article-iridescent-list-text\" data-template-var=\"container\" data-title=\"Banjir di Brasil: 75 Orang Tewas dan 103 Hilang\" data-type=\"TextTypeArticle\" id=\"article_5589101\"><figure class=\"articles--iridescent-list--text-item__figure-thumbnail\"><a class=\"ui--a articles--iridescent-list--text-item__figure-thumbnail-link\" data-kanal-page=\"global\" data-template-var=\"url\" href=\"https://www.liputan6.com/global/read/5589101/banjir-di-brasil-75-orang-tewas-dan-103-hilang\" title=\"Banjir di Brasil: 75 Orang Tewas dan 103 Hilang\"><picture class=\"articles--iridescent-list--text-item__figure-image\"><img alt=\"Seorang tentara membantu seorang wanita mengungsi dari lingkungan yang terendam hujan lebat di Canoas, Negara Bagian Rio Grande do Sul, Brasil, Sabtu (4/5/2024).&amp;nbsp;(Dok. AP Photo/Carlos Macedo)\" class=\"js-lazyload articles--iridescent-list--text-item__figure-image-lazyload\" data-height=\"112\" data-high-dpi=\"https://cdn1-production-images-kly.akamaized.net/K9MvCBrRv5Rn7JJytCXZKe_kuE8=/400x224/smart/filters:quality(75):strip_icc():format(webp)/kly-media-production/medias/4822570/original/047651500_1714951658-Untitled.jpg\" data-src=\"https://cdn1-production-images-kly.akamaized.net/7-SUgtLVJm9N7nlnr2_M1Zqy_rE=/200x112/smart/filters:quality(75):strip_icc():format(webp)/kly-media-production/medias/4822570/original/047651500_1714951658-Untitled.jpg\" data-template-var=\"image\" data-width=\"200\" height=\"112\" src=\"https://cdn-production-assets-kly.akamaized.net/assets/images/blank.png\" width=\"200\"/></picture></a></figure><aside class=\"articles--iridescent-list--text-item__details\"><header class=\"articles--iridescent-list--text-item__header\"><a class=\"articles--iridescent-list--text-item__category\" data-template-var=\"category\" href=\"https://www.liputan6.com/global/internasional\">Internasional</a><span class=\"articles--iridescent-list--text-item__datetime\" data-template-var=\"date\"><time class=\"articles--iridescent-list--text-item__time timeago\" datetime=\"2024-05-06T08:03:02+07:00\">06 Mei 2024 08:03</time></span><h4 class=\"articles--iridescent-list--text-item__title\"><a class=\"ui--a articles--iridescent-list--text-item__title-link\" data-kanal-page=\"global\" data-template-var=\"url\" href=\"https://www.liputan6.com/global/read/5589101/banjir-di-brasil-75-orang-tewas-dan-103-hilang\" title=\"Banjir di Brasil: 75 Orang Tewas dan 103 Hilang\"><span class=\"articles--iridescent-list--text-item__title-link-text\" data-template-var=\"title\">Banjir di Brasil: 75 Orang Tewas dan 103 Hilang</span></a></h4></header><div class=\"articles--iridescent-list--text-item__summary articles--iridescent-list--text-item__summary-seo\" data-template-var=\"summary\">Kehancuran yang terjadi di Negara Bagian Rio Grande do Sul, Brasil, dikonfirmasi belum pernah terjadi sebelumnya.</div></aside></article>, <article class=\"articles--iridescent-list--item articles--iridescent-list--text-item\" data-article-id=\"5587540\" data-category=\"Travel\" data-channel=\"Lifestyle\" data-component-name=\"desktop:articles:iridescent-list:text-item\" data-slug=\"tempat-wisata-rawan-copet-di-eropa-terungkap-colosseum-hingga-air-mancur-trevi-di-italia-masuk-daftar\" data-template-name=\"article-iridescent-list-text\" data-template-var=\"container\" data-title=\"Tempat Wisata Rawan Copet di Eropa Terungkap, Colosseum hingga Air Mancur Trevi di Italia Masuk Daftar\" data-type=\"TextTypeArticle\" id=\"article_5587540\"><figure class=\"articles--iridescent-list--text-item__figure-thumbnail\"><a class=\"ui--a articles--iridescent-list--text-item__figure-thumbnail-link\" data-kanal-page=\"lifestyle\" data-template-var=\"url\" href=\"https://www.liputan6.com/lifestyle/read/5587540/tempat-wisata-rawan-copet-di-eropa-terungkap-colosseum-hingga-air-mancur-trevi-di-italia-masuk-daftar\" title=\"Tempat Wisata Rawan Copet di Eropa Terungkap, Colosseum hingga Air Mancur Trevi di Italia Masuk Daftar\"><picture class=\"articles--iridescent-list--text-item__figure-image\"><img alt=\"Amalfi, Italia. (dok. unsplash/Tom Podmore)\" class=\"js-lazyload articles--iridescent-list--text-item__figure-image-lazyload\" data-height=\"112\" data-high-dpi=\"https://cdn1-production-images-kly.akamaized.net/8MCMB87kr1_ASrv15HGFcjiOM78=/400x224/smart/filters:quality(75):strip_icc():format(webp)/kly-media-production/medias/4198718/original/052066700_1666319427-tom-podmore-1zkHXas1GIo-unsplash.jpg\" data-src=\"https://cdn1-production-images-kly.akamaized.net/9QMKbJ-h8eZQi4zxou00zgxC_0k=/200x112/smart/filters:quality(75):strip_icc():format(webp)/kly-media-production/medias/4198718/original/052066700_1666319427-tom-podmore-1zkHXas1GIo-unsplash.jpg\" data-template-var=\"image\" data-width=\"200\" height=\"112\" src=\"https://cdn-production-assets-kly.akamaized.net/assets/images/blank.png\" width=\"200\"/></picture></a></figure><aside class=\"articles--iridescent-list--text-item__details\"><header class=\"articles--iridescent-list--text-item__header\"><a class=\"articles--iridescent-list--text-item__category\" data-template-var=\"category\" href=\"https://www.liputan6.com/lifestyle/travel\">Travel</a><span class=\"articles--iridescent-list--text-item__datetime\" data-template-var=\"date\"><time class=\"articles--iridescent-list--text-item__time timeago\" datetime=\"2024-05-06T08:01:00+07:00\">06 Mei 2024 08:01</time></span><h4 class=\"articles--iridescent-list--text-item__title\"><a class=\"ui--a articles--iridescent-list--text-item__title-link\" data-kanal-page=\"lifestyle\" data-template-var=\"url\" href=\"https://www.liputan6.com/lifestyle/read/5587540/tempat-wisata-rawan-copet-di-eropa-terungkap-colosseum-hingga-air-mancur-trevi-di-italia-masuk-daftar\" title=\"Tempat Wisata Rawan Copet di Eropa Terungkap, Colosseum hingga Air Mancur Trevi di Italia Masuk Daftar\"><span class=\"articles--iridescent-list--text-item__title-link-text\" data-template-var=\"title\">Tempat Wisata Rawan Copet di Eropa Terungkap, Colosseum hingga Air Mancur Trevi di Italia ...</span></a></h4></header><div class=\"articles--iridescent-list--text-item__summary articles--iridescent-list--text-item__summary-seo\" data-template-var=\"summary\">Italia berada di posisi teratas, dengan proporsi kasus pencopetan tertinggi dibandingkan negara mana pun di Eropa yang diikuti oleh Prancis dan Spanyol.</div></aside></article>, <article class=\"articles--iridescent-list--item articles--iridescent-list--text-item\" data-article-id=\"5589104\" data-category=\"Ekonomi\" data-channel=\"Bisnis\" data-component-name=\"desktop:articles:iridescent-list:text-item\" data-slug=\"bumn-sering-jadi-sponsor-olahraga-erick-thohir-ini-apresiasi-tanpa-ada-paksaan\" data-template-name=\"article-iridescent-list-text\" data-template-var=\"container\" data-title=\"BUMN Sering Jadi Sponsor Olahraga, Erick Thohir: Ini Apresiasi, Tanpa Ada Paksaan\" data-type=\"TextTypeArticle\" id=\"article_5589104\"><figure class=\"articles--iridescent-list--text-item__figure-thumbnail\"><a class=\"ui--a articles--iridescent-list--text-item__figure-thumbnail-link\" data-kanal-page=\"bisnis\" data-template-var=\"url\" href=\"https://www.liputan6.com/bisnis/read/5589104/bumn-sering-jadi-sponsor-olahraga-erick-thohir-ini-apresiasi-tanpa-ada-paksaan\" title=\"BUMN Sering Jadi Sponsor Olahraga, Erick Thohir: Ini Apresiasi, Tanpa Ada Paksaan\"><picture class=\"articles--iridescent-list--text-item__figure-image\"><img alt=\"Menteri Badan Usaha Milik Negara (BUMN) Erick Thohir (Foto: Istimewa)\" class=\"js-lazyload articles--iridescent-list--text-item__figure-image-lazyload\" data-height=\"112\" data-high-dpi=\"https://cdn0-production-images-kly.akamaized.net/ZAClg0YTEi8wzhzy5zXuA4tdZl4=/400x224/smart/filters:quality(75):strip_icc():format(webp)/kly-media-production/medias/4822586/original/082406100_1714954715-IMG-20240505-WA0003.jpg\" data-src=\"https://cdn0-production-images-kly.akamaized.net/i9Yb-ETM_xBjYE3nB1yaCR-q9ac=/200x112/smart/filters:quality(75):strip_icc():format(webp)/kly-media-production/medias/4822586/original/082406100_1714954715-IMG-20240505-WA0003.jpg\" data-template-var=\"image\" data-width=\"200\" height=\"112\" src=\"https://cdn-production-assets-kly.akamaized.net/assets/images/blank.png\" width=\"200\"/></picture></a></figure><aside class=\"articles--iridescent-list--text-item__details\"><header class=\"articles--iridescent-list--text-item__header\"><a class=\"articles--iridescent-list--text-item__category\" data-template-var=\"category\" href=\"https://www.liputan6.com/bisnis/ekonomi\">Ekonomi</a><span class=\"articles--iridescent-list--text-item__datetime\" data-template-var=\"date\"><time class=\"articles--iridescent-list--text-item__time timeago\" datetime=\"2024-05-06T08:00:44+07:00\">06 Mei 2024 08:00</time></span><h4 class=\"articles--iridescent-list--text-item__title\"><a class=\"ui--a articles--iridescent-list--text-item__title-link\" data-kanal-page=\"bisnis\" data-template-var=\"url\" href=\"https://www.liputan6.com/bisnis/read/5589104/bumn-sering-jadi-sponsor-olahraga-erick-thohir-ini-apresiasi-tanpa-ada-paksaan\" title=\"BUMN Sering Jadi Sponsor Olahraga, Erick Thohir: Ini Apresiasi, Tanpa Ada Paksaan\"><span class=\"articles--iridescent-list--text-item__title-link-text\" data-template-var=\"title\">BUMN Sering Jadi Sponsor Olahraga, Erick Thohir: Ini Apresiasi, Tanpa Ada Paksaan</span></a></h4></header><div class=\"articles--iridescent-list--text-item__summary articles--iridescent-list--text-item__summary-seo\" data-template-var=\"summary\">Menteri Badan Usaha Milik Negara (BUMN) Erick Thohir menuturkan,  dana CSR BUMN juga digunakan untuk mendukung sektor olahraga.</div></aside></article>, <article class=\"articles--iridescent-list--item articles--iridescent-list--text-item\" data-article-id=\"5589114\" data-category=\"Crypto\" data-channel=\"Crypto\" data-component-name=\"desktop:articles:iridescent-list:text-item\" data-slug=\"harga-kripto-hari-ini-6-mei-2024-bitcoin-cs-merangkak-ke-zona-hijau\" data-template-name=\"article-iridescent-list-text\" data-template-var=\"container\" data-title=\"Harga Kripto Hari Ini 6 Mei 2024: Bitcoin Cs Merangkak ke Zona Hijau\" data-type=\"TextTypeArticle\" id=\"article_5589114\"><figure class=\"articles--iridescent-list--text-item__figure-thumbnail\"><a class=\"ui--a articles--iridescent-list--text-item__figure-thumbnail-link\" data-kanal-page=\"crypto\" data-template-var=\"url\" href=\"https://www.liputan6.com/crypto/read/5589114/harga-kripto-hari-ini-6-mei-2024-bitcoin-cs-merangkak-ke-zona-hijau\" title=\"Harga Kripto Hari Ini 6 Mei 2024: Bitcoin Cs Merangkak ke Zona Hijau\"><picture class=\"articles--iridescent-list--text-item__figure-image\"><img alt=\"Ilustrasi aset kripto Bitcoin. (Foto By AI)\" class=\"js-lazyload articles--iridescent-list--text-item__figure-image-lazyload\" data-height=\"112\" data-high-dpi=\"https://cdn0-production-images-kly.akamaized.net/84ADQc8sNJcrVe-SBVsxmbEIK20=/400x224/smart/filters:quality(75):strip_icc():format(webp)/kly-media-production/medias/4816485/original/067351800_1714383642-fotor-ai-20240429133817.jpg\" data-src=\"https://cdn0-production-images-kly.akamaized.net/KX4290JH68jRLnmfA10Qymy9z7s=/200x112/smart/filters:quality(75):strip_icc():format(webp)/kly-media-production/medias/4816485/original/067351800_1714383642-fotor-ai-20240429133817.jpg\" data-template-var=\"image\" data-width=\"200\" height=\"112\" src=\"https://cdn-production-assets-kly.akamaized.net/assets/images/blank.png\" width=\"200\"/></picture></a></figure><aside class=\"articles--iridescent-list--text-item__details\"><header class=\"articles--iridescent-list--text-item__header\"><a class=\"articles--iridescent-list--text-item__category\" data-template-var=\"category\" href=\"https://www.liputan6.com/crypto\">Crypto</a><span class=\"articles--iridescent-list--text-item__datetime\" data-template-var=\"date\"><time class=\"articles--iridescent-list--text-item__time timeago\" datetime=\"2024-05-06T08:00:03+07:00\">06 Mei 2024 08:00</time></span><h4 class=\"articles--iridescent-list--text-item__title\"><a class=\"ui--a articles--iridescent-list--text-item__title-link\" data-kanal-page=\"crypto\" data-template-var=\"url\" href=\"https://www.liputan6.com/crypto/read/5589114/harga-kripto-hari-ini-6-mei-2024-bitcoin-cs-merangkak-ke-zona-hijau\" title=\"Harga Kripto Hari Ini 6 Mei 2024: Bitcoin Cs Merangkak ke Zona Hijau\"><span class=\"articles--iridescent-list--text-item__title-link-text\" data-template-var=\"title\">Harga Kripto Hari Ini 6 Mei 2024: Bitcoin Cs Merangkak ke Zona Hijau</span></a></h4></header><div class=\"articles--iridescent-list--text-item__summary articles--iridescent-list--text-item__summary-seo\" data-template-var=\"summary\">Harga kripto jajaran teratas cenderung bervariasi pada perdagangan Senin, 6 Mei 2024. Harga bitcoin naik terbatas pada awal pekan ini.</div></aside></article>]\n"
          ]
        }
      ]
    },
    {
      "cell_type": "markdown",
      "source": [
        "On the Liputan 6 website, we started by adjusting the categories needed with those that could be accessed on the website:\n",
        "- The **Politics** category can be accessed by adding the slug `news/politik`\n",
        "- The **Sports** category can be accessed by adding the slug `bola/sports`\n",
        "- The **Business** category can be accessed by adding the slug `bisnis`\n",
        "- The **Entertainment** category can be accessed by adding the slug `showbiz`\n",
        "\n"
      ],
      "metadata": {
        "id": "tr2rSCTAdo6L"
      }
    },
    {
      "cell_type": "code",
      "source": [
        "def get_liputan_data(category):\n",
        "  base_url = \"https://www.liputan6.com\"\n",
        "  url = f\"{base_url}/{category.lower()}\"\n",
        "  result = []\n",
        "  label = \"\"\n",
        "  if category == 'news/politik':\n",
        "    label = 'politics'\n",
        "  elif category == 'bola/sports':\n",
        "    label = 'sports'\n",
        "  elif category == 'bisnis':\n",
        "    label = 'business'\n",
        "  elif category == 'showbiz':\n",
        "    label = 'entertainment'\n",
        "  try:\n",
        "    response = requests.get(url)\n",
        "    soup = BeautifulSoup(response.content, 'html.parser')\n",
        "    articles = soup.select(\".articles--iridescent-list article\")\n",
        "    for article in articles:\n",
        "        title = article.get('data-title')\n",
        "        if title != None:\n",
        "          result.append({\n",
        "              'text': title,\n",
        "              'media': 'Liputan 6',\n",
        "              'label': label\n",
        "          })\n",
        "        summary = article.select_one('.articles--iridescent-list--text-item__summary')\n",
        "        if summary != None:\n",
        "          result.append({\n",
        "              'text': summary.text.strip(),\n",
        "              'media': 'Liputan 6',\n",
        "              'label': label\n",
        "          })\n",
        "  except Exception as error:\n",
        "    print(error)\n",
        "    result = {'error': error}\n",
        "  return result"
      ],
      "metadata": {
        "id": "xOXRBBdU-GWA",
        "execution": {
          "iopub.status.busy": "2024-04-22T11:33:29.774955Z",
          "iopub.execute_input": "2024-04-22T11:33:29.775460Z",
          "iopub.status.idle": "2024-04-22T11:33:29.783494Z",
          "shell.execute_reply.started": "2024-04-22T11:33:29.775430Z",
          "shell.execute_reply": "2024-04-22T11:33:29.782598Z"
        },
        "trusted": true
      },
      "execution_count": 3,
      "outputs": []
    },
    {
      "cell_type": "markdown",
      "source": [
        "On the CNN Indonesia website, we started by adjusting the categories needed with those that can be accessed on the website:\n",
        "- The **Politics** category can be accessed by adding the slug `nasional/politik`.\n",
        "- The **Sports** category can be accessed by adding the slug `olahraga`\n",
        "- The **Business** category can be accessed by adding the slug `ekonomi/bisnis`\n",
        "- The **Entertainment** category can be accessed by adding the slug `hiburan`\n",
        "\n"
      ],
      "metadata": {
        "id": "f9zAwgOigykD"
      }
    },
    {
      "cell_type": "code",
      "source": [
        "def get_cnn_data(category):\n",
        "  base_url = \"https://www.cnnindonesia.com\"\n",
        "  url = f\"{base_url}/{category.lower()}\"\n",
        "  result = []\n",
        "  label = \"\"\n",
        "  if category == 'nasional/politik':\n",
        "    label = 'politics'\n",
        "  elif category == 'olahraga':\n",
        "    label = 'sports'\n",
        "  elif category == 'ekonomi/bisnis':\n",
        "    label = 'business'\n",
        "  elif category == 'hiburan':\n",
        "    label = 'entertainment'\n",
        "  try:\n",
        "    response = requests.get(url)\n",
        "    soup = BeautifulSoup(response.content, 'html.parser')\n",
        "    articles = soup.select(\"div.nhl-list article.flex-grow\")\n",
        "    for article in articles:\n",
        "      tagA = article.select_one('a.flex')\n",
        "      if tagA and tagA.has_attr('dtr-ttl'):\n",
        "          title = tagA['dtr-ttl'].strip()\n",
        "          result.append({\n",
        "              'text': title,\n",
        "              'media': 'CNN Indonesia',\n",
        "              'label': label\n",
        "          })\n",
        "  except Exception as error:\n",
        "    print(error)\n",
        "    result = {'error': error}\n",
        "  return result"
      ],
      "metadata": {
        "id": "P-jJ6bjjM2SR",
        "execution": {
          "iopub.status.busy": "2024-04-22T11:33:29.785587Z",
          "iopub.execute_input": "2024-04-22T11:33:29.786345Z",
          "iopub.status.idle": "2024-04-22T11:33:29.796184Z",
          "shell.execute_reply.started": "2024-04-22T11:33:29.786308Z",
          "shell.execute_reply": "2024-04-22T11:33:29.795351Z"
        },
        "trusted": true
      },
      "execution_count": 4,
      "outputs": []
    },
    {
      "cell_type": "markdown",
      "source": [
        "On the Tempo website, we started by adjusting the categories needed with those that can be accessed on the website:\n",
        "(Note: there is a slug difference on the Tempo website because the category is located in front)\n",
        "- The **Politics** category can be accessed at `https://nasional.tempo.co/politik`\n",
        "- The **Sports** category can be accessed at `https://sports.tempo.co/`\n",
        "- The **Business** category can be accessed at `https://bisnis.tempo.co/`\n",
        "- The **Entertainment** category can be accessed at `https://www.tempo.co/tag/dunia-hiburan`\n",
        "\n"
      ],
      "metadata": {
        "id": "8iX7q_rXg78L"
      }
    },
    {
      "cell_type": "code",
      "source": [
        "def get_tempo_data(url):\n",
        "  url = f\"{url}\"\n",
        "  result = []\n",
        "  label = \"\"\n",
        "  if url == 'https://nasional.tempo.co/politik':\n",
        "    label = 'politics'\n",
        "  elif url == 'https://sport.tempo.co/':\n",
        "    label = 'sports'\n",
        "  elif url == 'https://bisnis.tempo.co/':\n",
        "    label = 'business'\n",
        "  elif url == 'https://www.tempo.co/tag/dunia-hiburan':\n",
        "    label = 'entertainment'\n",
        "  try:\n",
        "    response = requests.get(url)\n",
        "    soup = BeautifulSoup(response.content, 'html.parser')\n",
        "    articles = soup.select(\".overflow .card-box\")\n",
        "    for article in articles:\n",
        "      title = article.select_one('article h2.title a')\n",
        "      if title != None:\n",
        "        result.append({\n",
        "            'text': title.text.strip(),\n",
        "            'media': 'Tempo',\n",
        "            'label': label\n",
        "        })\n",
        "      summary = article.select_one('article p')\n",
        "      if summary != None:\n",
        "        result.append({\n",
        "            'text': summary.text.strip(),\n",
        "            'media': 'Tempo',\n",
        "            'label': label\n",
        "        })\n",
        "  except Exception as error:\n",
        "    print(error)\n",
        "    result = {'error': error}\n",
        "  return result"
      ],
      "metadata": {
        "id": "IoBWVdJROK-s",
        "execution": {
          "iopub.status.busy": "2024-04-22T11:33:29.797291Z",
          "iopub.execute_input": "2024-04-22T11:33:29.798182Z",
          "iopub.status.idle": "2024-04-22T11:33:29.816955Z",
          "shell.execute_reply.started": "2024-04-22T11:33:29.798150Z",
          "shell.execute_reply": "2024-04-22T11:33:29.815703Z"
        },
        "trusted": true
      },
      "execution_count": 5,
      "outputs": []
    },
    {
      "cell_type": "markdown",
      "source": [
        "Next, the web scrapping results from each website in the previous user-defined function will be stored in the `output` array. With a total of **721 data** containing **news headlines**, **news summary**, **category labels**, and **media sources**. In this case, news headlines from 3 website sources and news conclusions from 2 website sources (Liputan 6 and Tempo) are taken.\n",
        "\n",
        "(Note: each time this web scrapping is run, it can produce a different amount of data depending on the number of news on each website on that day)."
      ],
      "metadata": {
        "id": "BFOMUx2Phuvv"
      }
    },
    {
      "cell_type": "code",
      "source": [
        "liputan6_category = ['news/politik', 'bola/sports', 'bisnis', 'showbiz']\n",
        "cnn_category = ['nasional/politik', 'olahraga', 'ekonomi/bisnis', 'hiburan']\n",
        "tempo_category = ['https://nasional.tempo.co/politik', 'https://sport.tempo.co/', 'https://bisnis.tempo.co/', 'https://www.tempo.co/tag/dunia-hiburan']\n",
        "\n",
        "output = []\n",
        "for c in liputan6_category:\n",
        "  output += get_liputan_data(c)\n",
        "for c in cnn_category:\n",
        "  output += get_cnn_data(c)\n",
        "for c in tempo_category:\n",
        "  output += get_tempo_data(c)\n",
        "print(len(output))"
      ],
      "metadata": {
        "id": "TCdJakXWP4n9",
        "execution": {
          "iopub.status.busy": "2024-04-22T11:33:29.818438Z",
          "iopub.execute_input": "2024-04-22T11:33:29.819500Z",
          "iopub.status.idle": "2024-04-22T11:33:34.850532Z",
          "shell.execute_reply.started": "2024-04-22T11:33:29.819360Z",
          "shell.execute_reply": "2024-04-22T11:33:34.849331Z"
        },
        "trusted": true,
        "colab": {
          "base_uri": "https://localhost:8080/"
        },
        "outputId": "fdd2e28e-9f30-4d0e-b647-ae4e3358a645"
      },
      "execution_count": 6,
      "outputs": [
        {
          "output_type": "stream",
          "name": "stdout",
          "text": [
            "721\n"
          ]
        }
      ]
    },
    {
      "cell_type": "markdown",
      "source": [
        "### Text Preprocessing\n",
        "In NLP, the information to be extracted contains structurally inappropriate data. Therefore, it is necessary to convert it into structured data for further use (sentiment analysis, topic modelling, etc.)."
      ],
      "metadata": {
        "id": "AbICUXr2pCTv"
      }
    },
    {
      "cell_type": "code",
      "source": [
        "import string\n",
        "import re"
      ],
      "metadata": {
        "id": "W1sHZcBEiySt",
        "execution": {
          "iopub.status.busy": "2024-04-22T11:33:34.853765Z",
          "iopub.execute_input": "2024-04-22T11:33:34.854268Z",
          "iopub.status.idle": "2024-04-22T11:33:37.583389Z",
          "shell.execute_reply.started": "2024-04-22T11:33:34.854227Z",
          "shell.execute_reply": "2024-04-22T11:33:37.581968Z"
        },
        "trusted": true
      },
      "execution_count": 7,
      "outputs": []
    },
    {
      "cell_type": "code",
      "source": [
        "# Convert text to lowercase\n",
        "for o in output:\n",
        "  o['clean_text'] = str.lower(o['text'])"
      ],
      "metadata": {
        "id": "uRcYXgC8b1Po",
        "execution": {
          "iopub.status.busy": "2024-04-22T11:33:37.585088Z",
          "iopub.execute_input": "2024-04-22T11:33:37.585774Z",
          "iopub.status.idle": "2024-04-22T11:33:37.591106Z",
          "shell.execute_reply.started": "2024-04-22T11:33:37.585738Z",
          "shell.execute_reply": "2024-04-22T11:33:37.589877Z"
        },
        "trusted": true
      },
      "execution_count": 8,
      "outputs": []
    },
    {
      "cell_type": "code",
      "source": [
        "# Deleting numbers\n",
        "for o in output:\n",
        "  o['clean_text'] = re.sub(r\"\\d+\", \"\", o['clean_text'])"
      ],
      "metadata": {
        "id": "BIrEpR7ukdka",
        "execution": {
          "iopub.status.busy": "2024-04-22T11:33:37.593004Z",
          "iopub.execute_input": "2024-04-22T11:33:37.593465Z",
          "iopub.status.idle": "2024-04-22T11:33:37.606625Z",
          "shell.execute_reply.started": "2024-04-22T11:33:37.593423Z",
          "shell.execute_reply": "2024-04-22T11:33:37.605023Z"
        },
        "trusted": true
      },
      "execution_count": 9,
      "outputs": []
    },
    {
      "cell_type": "code",
      "source": [
        "# Removing punctuation marks\n",
        "# Note: if there is punctuation, it will be replaced with spaces, not deleted\n",
        "translation_table = str.maketrans(string.punctuation, ' ' * len(string.punctuation))\n",
        "for o in output:\n",
        "  o['clean_text'] = o['clean_text'].translate(translation_table)"
      ],
      "metadata": {
        "id": "fdaRWPmQ3efQ",
        "execution": {
          "iopub.status.busy": "2024-04-22T11:33:37.613670Z",
          "iopub.execute_input": "2024-04-22T11:33:37.614125Z",
          "iopub.status.idle": "2024-04-22T11:33:37.622180Z",
          "shell.execute_reply.started": "2024-04-22T11:33:37.614093Z",
          "shell.execute_reply": "2024-04-22T11:33:37.621160Z"
        },
        "trusted": true
      },
      "execution_count": 10,
      "outputs": []
    },
    {
      "cell_type": "code",
      "source": [
        "# Removing whitespace (blank characters)\n",
        "for o in output:\n",
        "  o['clean_text'] = o['clean_text'].strip()"
      ],
      "metadata": {
        "id": "s2taxJZz30A5",
        "execution": {
          "iopub.status.busy": "2024-04-22T11:33:37.623628Z",
          "iopub.execute_input": "2024-04-22T11:33:37.624865Z",
          "iopub.status.idle": "2024-04-22T11:33:37.634108Z",
          "shell.execute_reply.started": "2024-04-22T11:33:37.624805Z",
          "shell.execute_reply": "2024-04-22T11:33:37.632606Z"
        },
        "trusted": true
      },
      "execution_count": 11,
      "outputs": []
    },
    {
      "cell_type": "code",
      "source": [
        "# Removing excess whitepace\n",
        "for o in output:\n",
        "  o['clean_text'] = re.sub(\"\\s\\s+\" , \" \", o['clean_text'])"
      ],
      "metadata": {
        "id": "8o25jscV3_h3",
        "execution": {
          "iopub.status.busy": "2024-04-22T11:33:37.635712Z",
          "iopub.execute_input": "2024-04-22T11:33:37.636214Z",
          "iopub.status.idle": "2024-04-22T11:33:37.646509Z",
          "shell.execute_reply.started": "2024-04-22T11:33:37.636171Z",
          "shell.execute_reply": "2024-04-22T11:33:37.645557Z"
        },
        "trusted": true
      },
      "execution_count": 12,
      "outputs": []
    },
    {
      "cell_type": "code",
      "source": [
        "# Deleting single character\n",
        "for o in output:\n",
        "  o['clean_text'] = re.sub(r\"\\b[a-zA-Z]\\b\", \"\", o['clean_text'])"
      ],
      "metadata": {
        "id": "p2RB-ornNi7r",
        "execution": {
          "iopub.status.busy": "2024-04-22T11:33:37.647904Z",
          "iopub.execute_input": "2024-04-22T11:33:37.648254Z",
          "iopub.status.idle": "2024-04-22T11:33:37.659293Z",
          "shell.execute_reply.started": "2024-04-22T11:33:37.648227Z",
          "shell.execute_reply": "2024-04-22T11:33:37.657978Z"
        },
        "trusted": true
      },
      "execution_count": 13,
      "outputs": []
    },
    {
      "cell_type": "markdown",
      "source": [
        "### Stemming\n",
        "Stemming is text processing in which words are trimmed to their basic form or **basic word**, referred to as \"stem\", by removing affixes and affixes. The purpose of stemming is to produce **consistent representations** of words that share the same root, thus facilitating text analysis by treating morphological variations of the words as the same form. The Sastrawi Library provides facilities to perform stemming in Indonesian using the `StemmerFactory`, which allows users to access customised Indonesian stemming algorithms."
      ],
      "metadata": {
        "id": "f2jMbN8BuSav"
      }
    },
    {
      "cell_type": "code",
      "source": [
        "# Stemming\n",
        "%pip install Sastrawi\n",
        "from Sastrawi.Stemmer.StemmerFactory import StemmerFactory\n",
        "factory = StemmerFactory()\n",
        "stemmer = factory.create_stemmer()\n",
        "for o in output:\n",
        "  o['clean_text'] = stemmer.stem(o['clean_text'])"
      ],
      "metadata": {
        "id": "bdU2hO87NgEH",
        "execution": {
          "iopub.status.busy": "2024-04-22T11:33:52.569544Z",
          "iopub.execute_input": "2024-04-22T11:33:52.569984Z",
          "iopub.status.idle": "2024-04-22T11:35:17.172251Z",
          "shell.execute_reply.started": "2024-04-22T11:33:52.569949Z",
          "shell.execute_reply": "2024-04-22T11:35:17.171042Z"
        },
        "trusted": true,
        "colab": {
          "base_uri": "https://localhost:8080/"
        },
        "outputId": "6dd8bca4-959b-4fc0-95cd-6d0918c6853c"
      },
      "execution_count": 14,
      "outputs": [
        {
          "output_type": "stream",
          "name": "stdout",
          "text": [
            "Collecting Sastrawi\n",
            "  Downloading Sastrawi-1.0.1-py2.py3-none-any.whl (209 kB)\n",
            "\u001b[2K     \u001b[90m━━━━━━━━━━━━━━━━━━━━━━━━━━━━━━━━━━━━━━━━\u001b[0m \u001b[32m209.7/209.7 kB\u001b[0m \u001b[31m1.8 MB/s\u001b[0m eta \u001b[36m0:00:00\u001b[0m\n",
            "\u001b[?25hInstalling collected packages: Sastrawi\n",
            "Successfully installed Sastrawi-1.0.1\n"
          ]
        }
      ]
    },
    {
      "cell_type": "markdown",
      "source": [
        "### Filtering (Stopword Removal)\n",
        "Filtering is text processing where **common words** that do not add value in content understanding, such as \"and\", \"or\", and \"which\", are **removed** from the text. This is done to improve the quality of text analysis by focusing on more meaningful words. In this case we use the **Sastrawi** library provides a tool that facilitates this process by using `StopWordRemoverFactory` which allows users to access a list of **Bahasa Indonesia** stopwords and remove them from the text easily."
      ],
      "metadata": {
        "id": "yRS0ecnSstQT"
      }
    },
    {
      "cell_type": "code",
      "source": [
        "# Filtering (Stopword Removal)\n",
        "# To see the list of stopwords that have been defined in the Sastrawi library, you can use the following code\n",
        "from Sastrawi.StopWordRemover.StopWordRemoverFactory import StopWordRemoverFactory\n",
        "factory = StopWordRemoverFactory()\n",
        "stopwords = factory.get_stop_words()\n",
        "print(stopwords)"
      ],
      "metadata": {
        "colab": {
          "base_uri": "https://localhost:8080/"
        },
        "id": "WwuTjb3GFYXF",
        "outputId": "1af312c3-6465-4450-9e15-a8cefba633c8",
        "execution": {
          "iopub.status.busy": "2024-04-22T11:33:37.660632Z",
          "iopub.execute_input": "2024-04-22T11:33:37.661388Z",
          "iopub.status.idle": "2024-04-22T11:33:52.549368Z",
          "shell.execute_reply.started": "2024-04-22T11:33:37.661346Z",
          "shell.execute_reply": "2024-04-22T11:33:52.547770Z"
        },
        "trusted": true
      },
      "execution_count": 15,
      "outputs": [
        {
          "output_type": "stream",
          "name": "stdout",
          "text": [
            "['yang', 'untuk', 'pada', 'ke', 'para', 'namun', 'menurut', 'antara', 'dia', 'dua', 'ia', 'seperti', 'jika', 'jika', 'sehingga', 'kembali', 'dan', 'tidak', 'ini', 'karena', 'kepada', 'oleh', 'saat', 'harus', 'sementara', 'setelah', 'belum', 'kami', 'sekitar', 'bagi', 'serta', 'di', 'dari', 'telah', 'sebagai', 'masih', 'hal', 'ketika', 'adalah', 'itu', 'dalam', 'bisa', 'bahwa', 'atau', 'hanya', 'kita', 'dengan', 'akan', 'juga', 'ada', 'mereka', 'sudah', 'saya', 'terhadap', 'secara', 'agar', 'lain', 'anda', 'begitu', 'mengapa', 'kenapa', 'yaitu', 'yakni', 'daripada', 'itulah', 'lagi', 'maka', 'tentang', 'demi', 'dimana', 'kemana', 'pula', 'sambil', 'sebelum', 'sesudah', 'supaya', 'guna', 'kah', 'pun', 'sampai', 'sedangkan', 'selagi', 'sementara', 'tetapi', 'apakah', 'kecuali', 'sebab', 'selain', 'seolah', 'seraya', 'seterusnya', 'tanpa', 'agak', 'boleh', 'dapat', 'dsb', 'dst', 'dll', 'dahulu', 'dulunya', 'anu', 'demikian', 'tapi', 'ingin', 'juga', 'nggak', 'mari', 'nanti', 'melainkan', 'oh', 'ok', 'seharusnya', 'sebetulnya', 'setiap', 'setidaknya', 'sesuatu', 'pasti', 'saja', 'toh', 'ya', 'walau', 'tolong', 'tentu', 'amat', 'apalagi', 'bagaimanapun']\n"
          ]
        }
      ]
    },
    {
      "cell_type": "code",
      "source": [
        "factory = StopWordRemoverFactory()\n",
        "stopword = factory.create_stop_word_remover()\n",
        "for o in output:\n",
        "  o['clean_text'] = stopword.remove(o['clean_text'])"
      ],
      "metadata": {
        "id": "G3X4XX7_McgU",
        "execution": {
          "iopub.status.busy": "2024-04-22T11:33:52.551218Z",
          "iopub.execute_input": "2024-04-22T11:33:52.551573Z",
          "iopub.status.idle": "2024-04-22T11:33:52.567842Z",
          "shell.execute_reply.started": "2024-04-22T11:33:52.551540Z",
          "shell.execute_reply": "2024-04-22T11:33:52.566089Z"
        },
        "trusted": true
      },
      "execution_count": 16,
      "outputs": []
    },
    {
      "cell_type": "markdown",
      "source": [
        "**It is also worth noting that here I run Stemming first before Stopword Removal to ensure the words from the dataset return to the base word first before running Stopword Removal.**"
      ],
      "metadata": {
        "id": "Wpx-QL9W47sa"
      }
    },
    {
      "cell_type": "code",
      "source": [
        "# Convert data to dataframe format\n",
        "df = pd.DataFrame(output)\n",
        "df.head()"
      ],
      "metadata": {
        "colab": {
          "base_uri": "https://localhost:8080/",
          "height": 206
        },
        "id": "qRI0glAfRJcY",
        "outputId": "739f2e09-a0d7-437a-aa87-fa3b89f32d6e",
        "execution": {
          "iopub.status.busy": "2024-04-22T11:35:17.247828Z",
          "iopub.execute_input": "2024-04-22T11:35:17.248180Z",
          "iopub.status.idle": "2024-04-22T11:35:17.445664Z",
          "shell.execute_reply.started": "2024-04-22T11:35:17.248152Z",
          "shell.execute_reply": "2024-04-22T11:35:17.444250Z"
        },
        "trusted": true
      },
      "execution_count": 17,
      "outputs": [
        {
          "output_type": "execute_result",
          "data": {
            "text/plain": [
              "                                                text      media     label  \\\n",
              "0  PAN: Pembentukan Klub Presiden Akan Temui Bany...  Liputan 6  politics   \n",
              "1  Saleh menilai rencana wadah berkumpulnya para ...  Liputan 6  politics   \n",
              "2  Melihat Dampak Politik dari Rencana Prabowo Me...  Liputan 6  politics   \n",
              "3  Direktur Eksekutif Institute for Democracy & S...  Liputan 6  politics   \n",
              "4  Gerindra: Jangan Adu Domba Relawan dan TKN Pra...  Liputan 6  politics   \n",
              "\n",
              "                                          clean_text  \n",
              "0        pan bentuk klub presiden temu banyak hambat  \n",
              "1  saleh nilai rencana wadah kumpul presiden akan...  \n",
              "2  lihat dampak politik rencana prabowo bentuk pr...  \n",
              "3  direktur eksekutif institute for democracy str...  \n",
              "4  gerindra jangan adu domba rawan tkn prabowo gi...  "
            ],
            "text/html": [
              "\n",
              "  <div id=\"df-041f9d1e-deb6-4ecc-ac1d-ab6577abe1e4\" class=\"colab-df-container\">\n",
              "    <div>\n",
              "<style scoped>\n",
              "    .dataframe tbody tr th:only-of-type {\n",
              "        vertical-align: middle;\n",
              "    }\n",
              "\n",
              "    .dataframe tbody tr th {\n",
              "        vertical-align: top;\n",
              "    }\n",
              "\n",
              "    .dataframe thead th {\n",
              "        text-align: right;\n",
              "    }\n",
              "</style>\n",
              "<table border=\"1\" class=\"dataframe\">\n",
              "  <thead>\n",
              "    <tr style=\"text-align: right;\">\n",
              "      <th></th>\n",
              "      <th>text</th>\n",
              "      <th>media</th>\n",
              "      <th>label</th>\n",
              "      <th>clean_text</th>\n",
              "    </tr>\n",
              "  </thead>\n",
              "  <tbody>\n",
              "    <tr>\n",
              "      <th>0</th>\n",
              "      <td>PAN: Pembentukan Klub Presiden Akan Temui Bany...</td>\n",
              "      <td>Liputan 6</td>\n",
              "      <td>politics</td>\n",
              "      <td>pan bentuk klub presiden temu banyak hambat</td>\n",
              "    </tr>\n",
              "    <tr>\n",
              "      <th>1</th>\n",
              "      <td>Saleh menilai rencana wadah berkumpulnya para ...</td>\n",
              "      <td>Liputan 6</td>\n",
              "      <td>politics</td>\n",
              "      <td>saleh nilai rencana wadah kumpul presiden akan...</td>\n",
              "    </tr>\n",
              "    <tr>\n",
              "      <th>2</th>\n",
              "      <td>Melihat Dampak Politik dari Rencana Prabowo Me...</td>\n",
              "      <td>Liputan 6</td>\n",
              "      <td>politics</td>\n",
              "      <td>lihat dampak politik rencana prabowo bentuk pr...</td>\n",
              "    </tr>\n",
              "    <tr>\n",
              "      <th>3</th>\n",
              "      <td>Direktur Eksekutif Institute for Democracy &amp; S...</td>\n",
              "      <td>Liputan 6</td>\n",
              "      <td>politics</td>\n",
              "      <td>direktur eksekutif institute for democracy str...</td>\n",
              "    </tr>\n",
              "    <tr>\n",
              "      <th>4</th>\n",
              "      <td>Gerindra: Jangan Adu Domba Relawan dan TKN Pra...</td>\n",
              "      <td>Liputan 6</td>\n",
              "      <td>politics</td>\n",
              "      <td>gerindra jangan adu domba rawan tkn prabowo gi...</td>\n",
              "    </tr>\n",
              "  </tbody>\n",
              "</table>\n",
              "</div>\n",
              "    <div class=\"colab-df-buttons\">\n",
              "\n",
              "  <div class=\"colab-df-container\">\n",
              "    <button class=\"colab-df-convert\" onclick=\"convertToInteractive('df-041f9d1e-deb6-4ecc-ac1d-ab6577abe1e4')\"\n",
              "            title=\"Convert this dataframe to an interactive table.\"\n",
              "            style=\"display:none;\">\n",
              "\n",
              "  <svg xmlns=\"http://www.w3.org/2000/svg\" height=\"24px\" viewBox=\"0 -960 960 960\">\n",
              "    <path d=\"M120-120v-720h720v720H120Zm60-500h600v-160H180v160Zm220 220h160v-160H400v160Zm0 220h160v-160H400v160ZM180-400h160v-160H180v160Zm440 0h160v-160H620v160ZM180-180h160v-160H180v160Zm440 0h160v-160H620v160Z\"/>\n",
              "  </svg>\n",
              "    </button>\n",
              "\n",
              "  <style>\n",
              "    .colab-df-container {\n",
              "      display:flex;\n",
              "      gap: 12px;\n",
              "    }\n",
              "\n",
              "    .colab-df-convert {\n",
              "      background-color: #E8F0FE;\n",
              "      border: none;\n",
              "      border-radius: 50%;\n",
              "      cursor: pointer;\n",
              "      display: none;\n",
              "      fill: #1967D2;\n",
              "      height: 32px;\n",
              "      padding: 0 0 0 0;\n",
              "      width: 32px;\n",
              "    }\n",
              "\n",
              "    .colab-df-convert:hover {\n",
              "      background-color: #E2EBFA;\n",
              "      box-shadow: 0px 1px 2px rgba(60, 64, 67, 0.3), 0px 1px 3px 1px rgba(60, 64, 67, 0.15);\n",
              "      fill: #174EA6;\n",
              "    }\n",
              "\n",
              "    .colab-df-buttons div {\n",
              "      margin-bottom: 4px;\n",
              "    }\n",
              "\n",
              "    [theme=dark] .colab-df-convert {\n",
              "      background-color: #3B4455;\n",
              "      fill: #D2E3FC;\n",
              "    }\n",
              "\n",
              "    [theme=dark] .colab-df-convert:hover {\n",
              "      background-color: #434B5C;\n",
              "      box-shadow: 0px 1px 3px 1px rgba(0, 0, 0, 0.15);\n",
              "      filter: drop-shadow(0px 1px 2px rgba(0, 0, 0, 0.3));\n",
              "      fill: #FFFFFF;\n",
              "    }\n",
              "  </style>\n",
              "\n",
              "    <script>\n",
              "      const buttonEl =\n",
              "        document.querySelector('#df-041f9d1e-deb6-4ecc-ac1d-ab6577abe1e4 button.colab-df-convert');\n",
              "      buttonEl.style.display =\n",
              "        google.colab.kernel.accessAllowed ? 'block' : 'none';\n",
              "\n",
              "      async function convertToInteractive(key) {\n",
              "        const element = document.querySelector('#df-041f9d1e-deb6-4ecc-ac1d-ab6577abe1e4');\n",
              "        const dataTable =\n",
              "          await google.colab.kernel.invokeFunction('convertToInteractive',\n",
              "                                                    [key], {});\n",
              "        if (!dataTable) return;\n",
              "\n",
              "        const docLinkHtml = 'Like what you see? Visit the ' +\n",
              "          '<a target=\"_blank\" href=https://colab.research.google.com/notebooks/data_table.ipynb>data table notebook</a>'\n",
              "          + ' to learn more about interactive tables.';\n",
              "        element.innerHTML = '';\n",
              "        dataTable['output_type'] = 'display_data';\n",
              "        await google.colab.output.renderOutput(dataTable, element);\n",
              "        const docLink = document.createElement('div');\n",
              "        docLink.innerHTML = docLinkHtml;\n",
              "        element.appendChild(docLink);\n",
              "      }\n",
              "    </script>\n",
              "  </div>\n",
              "\n",
              "\n",
              "<div id=\"df-bd017ff0-b0c8-476d-96e4-81ec31fe5bc8\">\n",
              "  <button class=\"colab-df-quickchart\" onclick=\"quickchart('df-bd017ff0-b0c8-476d-96e4-81ec31fe5bc8')\"\n",
              "            title=\"Suggest charts\"\n",
              "            style=\"display:none;\">\n",
              "\n",
              "<svg xmlns=\"http://www.w3.org/2000/svg\" height=\"24px\"viewBox=\"0 0 24 24\"\n",
              "     width=\"24px\">\n",
              "    <g>\n",
              "        <path d=\"M19 3H5c-1.1 0-2 .9-2 2v14c0 1.1.9 2 2 2h14c1.1 0 2-.9 2-2V5c0-1.1-.9-2-2-2zM9 17H7v-7h2v7zm4 0h-2V7h2v10zm4 0h-2v-4h2v4z\"/>\n",
              "    </g>\n",
              "</svg>\n",
              "  </button>\n",
              "\n",
              "<style>\n",
              "  .colab-df-quickchart {\n",
              "      --bg-color: #E8F0FE;\n",
              "      --fill-color: #1967D2;\n",
              "      --hover-bg-color: #E2EBFA;\n",
              "      --hover-fill-color: #174EA6;\n",
              "      --disabled-fill-color: #AAA;\n",
              "      --disabled-bg-color: #DDD;\n",
              "  }\n",
              "\n",
              "  [theme=dark] .colab-df-quickchart {\n",
              "      --bg-color: #3B4455;\n",
              "      --fill-color: #D2E3FC;\n",
              "      --hover-bg-color: #434B5C;\n",
              "      --hover-fill-color: #FFFFFF;\n",
              "      --disabled-bg-color: #3B4455;\n",
              "      --disabled-fill-color: #666;\n",
              "  }\n",
              "\n",
              "  .colab-df-quickchart {\n",
              "    background-color: var(--bg-color);\n",
              "    border: none;\n",
              "    border-radius: 50%;\n",
              "    cursor: pointer;\n",
              "    display: none;\n",
              "    fill: var(--fill-color);\n",
              "    height: 32px;\n",
              "    padding: 0;\n",
              "    width: 32px;\n",
              "  }\n",
              "\n",
              "  .colab-df-quickchart:hover {\n",
              "    background-color: var(--hover-bg-color);\n",
              "    box-shadow: 0 1px 2px rgba(60, 64, 67, 0.3), 0 1px 3px 1px rgba(60, 64, 67, 0.15);\n",
              "    fill: var(--button-hover-fill-color);\n",
              "  }\n",
              "\n",
              "  .colab-df-quickchart-complete:disabled,\n",
              "  .colab-df-quickchart-complete:disabled:hover {\n",
              "    background-color: var(--disabled-bg-color);\n",
              "    fill: var(--disabled-fill-color);\n",
              "    box-shadow: none;\n",
              "  }\n",
              "\n",
              "  .colab-df-spinner {\n",
              "    border: 2px solid var(--fill-color);\n",
              "    border-color: transparent;\n",
              "    border-bottom-color: var(--fill-color);\n",
              "    animation:\n",
              "      spin 1s steps(1) infinite;\n",
              "  }\n",
              "\n",
              "  @keyframes spin {\n",
              "    0% {\n",
              "      border-color: transparent;\n",
              "      border-bottom-color: var(--fill-color);\n",
              "      border-left-color: var(--fill-color);\n",
              "    }\n",
              "    20% {\n",
              "      border-color: transparent;\n",
              "      border-left-color: var(--fill-color);\n",
              "      border-top-color: var(--fill-color);\n",
              "    }\n",
              "    30% {\n",
              "      border-color: transparent;\n",
              "      border-left-color: var(--fill-color);\n",
              "      border-top-color: var(--fill-color);\n",
              "      border-right-color: var(--fill-color);\n",
              "    }\n",
              "    40% {\n",
              "      border-color: transparent;\n",
              "      border-right-color: var(--fill-color);\n",
              "      border-top-color: var(--fill-color);\n",
              "    }\n",
              "    60% {\n",
              "      border-color: transparent;\n",
              "      border-right-color: var(--fill-color);\n",
              "    }\n",
              "    80% {\n",
              "      border-color: transparent;\n",
              "      border-right-color: var(--fill-color);\n",
              "      border-bottom-color: var(--fill-color);\n",
              "    }\n",
              "    90% {\n",
              "      border-color: transparent;\n",
              "      border-bottom-color: var(--fill-color);\n",
              "    }\n",
              "  }\n",
              "</style>\n",
              "\n",
              "  <script>\n",
              "    async function quickchart(key) {\n",
              "      const quickchartButtonEl =\n",
              "        document.querySelector('#' + key + ' button');\n",
              "      quickchartButtonEl.disabled = true;  // To prevent multiple clicks.\n",
              "      quickchartButtonEl.classList.add('colab-df-spinner');\n",
              "      try {\n",
              "        const charts = await google.colab.kernel.invokeFunction(\n",
              "            'suggestCharts', [key], {});\n",
              "      } catch (error) {\n",
              "        console.error('Error during call to suggestCharts:', error);\n",
              "      }\n",
              "      quickchartButtonEl.classList.remove('colab-df-spinner');\n",
              "      quickchartButtonEl.classList.add('colab-df-quickchart-complete');\n",
              "    }\n",
              "    (() => {\n",
              "      let quickchartButtonEl =\n",
              "        document.querySelector('#df-bd017ff0-b0c8-476d-96e4-81ec31fe5bc8 button');\n",
              "      quickchartButtonEl.style.display =\n",
              "        google.colab.kernel.accessAllowed ? 'block' : 'none';\n",
              "    })();\n",
              "  </script>\n",
              "</div>\n",
              "    </div>\n",
              "  </div>\n"
            ],
            "application/vnd.google.colaboratory.intrinsic+json": {
              "type": "dataframe",
              "variable_name": "df",
              "summary": "{\n  \"name\": \"df\",\n  \"rows\": 721,\n  \"fields\": [\n    {\n      \"column\": \"text\",\n      \"properties\": {\n        \"dtype\": \"string\",\n        \"num_unique_values\": 687,\n        \"samples\": [\n          \"Bank Indonesia (BI) menghadiri Pertemuan Menteri Keuangan dan Gubernur Bank Sentral Negara Anggota ASEAN+3 (AFMGM+3) tahun 2024 di di Tblisi, Georgia (3/5)\",\n          \"Kementerian BUMN melakukan rasionalisasi dan perbaikan terhadap keuangan PT Indofarma Tbk untuk meningkatkan kinerja perusahaan\",\n          \"Banyak BUMN Bermasalah, Erick Thohir Beberkan Sebabnya\"\n        ],\n        \"semantic_type\": \"\",\n        \"description\": \"\"\n      }\n    },\n    {\n      \"column\": \"media\",\n      \"properties\": {\n        \"dtype\": \"category\",\n        \"num_unique_values\": 3,\n        \"samples\": [\n          \"Liputan 6\",\n          \"CNN Indonesia\",\n          \"Tempo\"\n        ],\n        \"semantic_type\": \"\",\n        \"description\": \"\"\n      }\n    },\n    {\n      \"column\": \"label\",\n      \"properties\": {\n        \"dtype\": \"category\",\n        \"num_unique_values\": 4,\n        \"samples\": [\n          \"sports\",\n          \"entertainment\",\n          \"politics\"\n        ],\n        \"semantic_type\": \"\",\n        \"description\": \"\"\n      }\n    },\n    {\n      \"column\": \"clean_text\",\n      \"properties\": {\n        \"dtype\": \"string\",\n        \"num_unique_values\": 687,\n        \"samples\": [\n          \"bank indonesia bi hadir temu menteri uang gubernur bank sentral negara anggota asean afmgm tahun di tblisi georgia\",\n          \"menteri bumn laku rasionalisasi baik hadap uang pt indofarma tbk tingkat kerja usaha\",\n          \"banyak bumn masalah erick thohir kan\"\n        ],\n        \"semantic_type\": \"\",\n        \"description\": \"\"\n      }\n    }\n  ]\n}"
            }
          },
          "metadata": {},
          "execution_count": 17
        }
      ]
    },
    {
      "cell_type": "markdown",
      "source": [
        "### Save datasets\n",
        "After the data has gone through the Text Preprocessing stage, the data will be saved in the form of `data.csv`. In this case I use Google Drive to save the `data.csv` (Note: to make it easier, you can use the session storage provided by Google Colab)."
      ],
      "metadata": {
        "id": "dKBHWHZEr_72"
      }
    },
    {
      "cell_type": "code",
      "source": [
        "from google.colab import drive\n",
        "drive.mount('/content/drive')"
      ],
      "metadata": {
        "colab": {
          "base_uri": "https://localhost:8080/"
        },
        "id": "nJPaOUrJhSVl",
        "outputId": "7365634c-24fa-4163-8151-f5409059d096"
      },
      "execution_count": 18,
      "outputs": [
        {
          "output_type": "stream",
          "name": "stdout",
          "text": [
            "Mounted at /content/drive\n"
          ]
        }
      ]
    },
    {
      "cell_type": "code",
      "source": [
        "df.to_csv('/content/drive/MyDrive/data.csv', index = False)"
      ],
      "metadata": {
        "id": "0rbMzD2HX4eK"
      },
      "execution_count": 19,
      "outputs": []
    },
    {
      "cell_type": "code",
      "source": [
        "df = pd.read_csv('/content/drive/MyDrive/data.csv')"
      ],
      "metadata": {
        "id": "Hbs_uxa9X-hs"
      },
      "execution_count": 20,
      "outputs": []
    },
    {
      "cell_type": "markdown",
      "source": [
        "### Tokenizing\n",
        "Tokenizing is the process of **separating text** into small units called tokens, such as words or phrases, for further analysis. It is an important step in text processing that enables more granular processing and understanding of text.\n",
        "\n",
        "The **NLTK** library provides various Tokenizing methods, such as `RegexpTokenizer` which allows users to specify a pattern with regular expressions to separate text into tokens based on a specific pattern, in this case the regular expression pattern `\\w+`. This pattern will separate text into tokens based on alphanumeric characters (letters and numbers), where each token will consist of one or more consecutive alphanumeric characters.\n",
        "\n",
        "And `word_tokenize` which breaks text into tokens based on spaces and punctuation, useful for word tokenisation in languages that use spaces as standard separators.\n",
        "\n",
        "This tokenizing is also done after the data is saved into `data.csv` because if it has been tokenised and saved into `csv` then the format will change to `string`, whereas the desired is `array`."
      ],
      "metadata": {
        "id": "MN1aIUJ9yRur"
      }
    },
    {
      "cell_type": "code",
      "source": [
        "# Tokenizing\n",
        "import nltk\n",
        "nltk.download('punkt')\n",
        "from nltk.tokenize import RegexpTokenizer\n",
        "from nltk.tokenize import word_tokenize\n",
        "tokenizer = RegexpTokenizer(r'\\w+')\n",
        "df['token_text'] = df['clean_text'].apply(word_tokenize)"
      ],
      "metadata": {
        "id": "qSnF-_Lvimrm",
        "execution": {
          "iopub.status.busy": "2024-04-22T11:35:17.173770Z",
          "iopub.execute_input": "2024-04-22T11:35:17.174175Z",
          "iopub.status.idle": "2024-04-22T11:35:17.246421Z",
          "shell.execute_reply.started": "2024-04-22T11:35:17.174144Z",
          "shell.execute_reply": "2024-04-22T11:35:17.245112Z"
        },
        "trusted": true,
        "colab": {
          "base_uri": "https://localhost:8080/"
        },
        "outputId": "6e186716-8991-43ff-f7ec-7b8f73c696da"
      },
      "execution_count": 21,
      "outputs": [
        {
          "output_type": "stream",
          "name": "stderr",
          "text": [
            "[nltk_data] Downloading package punkt to /root/nltk_data...\n",
            "[nltk_data]   Unzipping tokenizers/punkt.zip.\n"
          ]
        }
      ]
    },
    {
      "cell_type": "code",
      "source": [
        "df.head()"
      ],
      "metadata": {
        "colab": {
          "base_uri": "https://localhost:8080/",
          "height": 206
        },
        "id": "Fwt1jxdYiGYO",
        "outputId": "15a6b965-6e32-40c3-f1ca-5ae0bbe69208"
      },
      "execution_count": 22,
      "outputs": [
        {
          "output_type": "execute_result",
          "data": {
            "text/plain": [
              "                                                text      media     label  \\\n",
              "0  PAN: Pembentukan Klub Presiden Akan Temui Bany...  Liputan 6  politics   \n",
              "1  Saleh menilai rencana wadah berkumpulnya para ...  Liputan 6  politics   \n",
              "2  Melihat Dampak Politik dari Rencana Prabowo Me...  Liputan 6  politics   \n",
              "3  Direktur Eksekutif Institute for Democracy & S...  Liputan 6  politics   \n",
              "4  Gerindra: Jangan Adu Domba Relawan dan TKN Pra...  Liputan 6  politics   \n",
              "\n",
              "                                          clean_text  \\\n",
              "0        pan bentuk klub presiden temu banyak hambat   \n",
              "1  saleh nilai rencana wadah kumpul presiden akan...   \n",
              "2  lihat dampak politik rencana prabowo bentuk pr...   \n",
              "3  direktur eksekutif institute for democracy str...   \n",
              "4  gerindra jangan adu domba rawan tkn prabowo gi...   \n",
              "\n",
              "                                          token_text  \n",
              "0  [pan, bentuk, klub, presiden, temu, banyak, ha...  \n",
              "1  [saleh, nilai, rencana, wadah, kumpul, preside...  \n",
              "2  [lihat, dampak, politik, rencana, prabowo, ben...  \n",
              "3  [direktur, eksekutif, institute, for, democrac...  \n",
              "4  [gerindra, jangan, adu, domba, rawan, tkn, pra...  "
            ],
            "text/html": [
              "\n",
              "  <div id=\"df-eecfa997-1177-4e72-bb75-694083721bd0\" class=\"colab-df-container\">\n",
              "    <div>\n",
              "<style scoped>\n",
              "    .dataframe tbody tr th:only-of-type {\n",
              "        vertical-align: middle;\n",
              "    }\n",
              "\n",
              "    .dataframe tbody tr th {\n",
              "        vertical-align: top;\n",
              "    }\n",
              "\n",
              "    .dataframe thead th {\n",
              "        text-align: right;\n",
              "    }\n",
              "</style>\n",
              "<table border=\"1\" class=\"dataframe\">\n",
              "  <thead>\n",
              "    <tr style=\"text-align: right;\">\n",
              "      <th></th>\n",
              "      <th>text</th>\n",
              "      <th>media</th>\n",
              "      <th>label</th>\n",
              "      <th>clean_text</th>\n",
              "      <th>token_text</th>\n",
              "    </tr>\n",
              "  </thead>\n",
              "  <tbody>\n",
              "    <tr>\n",
              "      <th>0</th>\n",
              "      <td>PAN: Pembentukan Klub Presiden Akan Temui Bany...</td>\n",
              "      <td>Liputan 6</td>\n",
              "      <td>politics</td>\n",
              "      <td>pan bentuk klub presiden temu banyak hambat</td>\n",
              "      <td>[pan, bentuk, klub, presiden, temu, banyak, ha...</td>\n",
              "    </tr>\n",
              "    <tr>\n",
              "      <th>1</th>\n",
              "      <td>Saleh menilai rencana wadah berkumpulnya para ...</td>\n",
              "      <td>Liputan 6</td>\n",
              "      <td>politics</td>\n",
              "      <td>saleh nilai rencana wadah kumpul presiden akan...</td>\n",
              "      <td>[saleh, nilai, rencana, wadah, kumpul, preside...</td>\n",
              "    </tr>\n",
              "    <tr>\n",
              "      <th>2</th>\n",
              "      <td>Melihat Dampak Politik dari Rencana Prabowo Me...</td>\n",
              "      <td>Liputan 6</td>\n",
              "      <td>politics</td>\n",
              "      <td>lihat dampak politik rencana prabowo bentuk pr...</td>\n",
              "      <td>[lihat, dampak, politik, rencana, prabowo, ben...</td>\n",
              "    </tr>\n",
              "    <tr>\n",
              "      <th>3</th>\n",
              "      <td>Direktur Eksekutif Institute for Democracy &amp; S...</td>\n",
              "      <td>Liputan 6</td>\n",
              "      <td>politics</td>\n",
              "      <td>direktur eksekutif institute for democracy str...</td>\n",
              "      <td>[direktur, eksekutif, institute, for, democrac...</td>\n",
              "    </tr>\n",
              "    <tr>\n",
              "      <th>4</th>\n",
              "      <td>Gerindra: Jangan Adu Domba Relawan dan TKN Pra...</td>\n",
              "      <td>Liputan 6</td>\n",
              "      <td>politics</td>\n",
              "      <td>gerindra jangan adu domba rawan tkn prabowo gi...</td>\n",
              "      <td>[gerindra, jangan, adu, domba, rawan, tkn, pra...</td>\n",
              "    </tr>\n",
              "  </tbody>\n",
              "</table>\n",
              "</div>\n",
              "    <div class=\"colab-df-buttons\">\n",
              "\n",
              "  <div class=\"colab-df-container\">\n",
              "    <button class=\"colab-df-convert\" onclick=\"convertToInteractive('df-eecfa997-1177-4e72-bb75-694083721bd0')\"\n",
              "            title=\"Convert this dataframe to an interactive table.\"\n",
              "            style=\"display:none;\">\n",
              "\n",
              "  <svg xmlns=\"http://www.w3.org/2000/svg\" height=\"24px\" viewBox=\"0 -960 960 960\">\n",
              "    <path d=\"M120-120v-720h720v720H120Zm60-500h600v-160H180v160Zm220 220h160v-160H400v160Zm0 220h160v-160H400v160ZM180-400h160v-160H180v160Zm440 0h160v-160H620v160ZM180-180h160v-160H180v160Zm440 0h160v-160H620v160Z\"/>\n",
              "  </svg>\n",
              "    </button>\n",
              "\n",
              "  <style>\n",
              "    .colab-df-container {\n",
              "      display:flex;\n",
              "      gap: 12px;\n",
              "    }\n",
              "\n",
              "    .colab-df-convert {\n",
              "      background-color: #E8F0FE;\n",
              "      border: none;\n",
              "      border-radius: 50%;\n",
              "      cursor: pointer;\n",
              "      display: none;\n",
              "      fill: #1967D2;\n",
              "      height: 32px;\n",
              "      padding: 0 0 0 0;\n",
              "      width: 32px;\n",
              "    }\n",
              "\n",
              "    .colab-df-convert:hover {\n",
              "      background-color: #E2EBFA;\n",
              "      box-shadow: 0px 1px 2px rgba(60, 64, 67, 0.3), 0px 1px 3px 1px rgba(60, 64, 67, 0.15);\n",
              "      fill: #174EA6;\n",
              "    }\n",
              "\n",
              "    .colab-df-buttons div {\n",
              "      margin-bottom: 4px;\n",
              "    }\n",
              "\n",
              "    [theme=dark] .colab-df-convert {\n",
              "      background-color: #3B4455;\n",
              "      fill: #D2E3FC;\n",
              "    }\n",
              "\n",
              "    [theme=dark] .colab-df-convert:hover {\n",
              "      background-color: #434B5C;\n",
              "      box-shadow: 0px 1px 3px 1px rgba(0, 0, 0, 0.15);\n",
              "      filter: drop-shadow(0px 1px 2px rgba(0, 0, 0, 0.3));\n",
              "      fill: #FFFFFF;\n",
              "    }\n",
              "  </style>\n",
              "\n",
              "    <script>\n",
              "      const buttonEl =\n",
              "        document.querySelector('#df-eecfa997-1177-4e72-bb75-694083721bd0 button.colab-df-convert');\n",
              "      buttonEl.style.display =\n",
              "        google.colab.kernel.accessAllowed ? 'block' : 'none';\n",
              "\n",
              "      async function convertToInteractive(key) {\n",
              "        const element = document.querySelector('#df-eecfa997-1177-4e72-bb75-694083721bd0');\n",
              "        const dataTable =\n",
              "          await google.colab.kernel.invokeFunction('convertToInteractive',\n",
              "                                                    [key], {});\n",
              "        if (!dataTable) return;\n",
              "\n",
              "        const docLinkHtml = 'Like what you see? Visit the ' +\n",
              "          '<a target=\"_blank\" href=https://colab.research.google.com/notebooks/data_table.ipynb>data table notebook</a>'\n",
              "          + ' to learn more about interactive tables.';\n",
              "        element.innerHTML = '';\n",
              "        dataTable['output_type'] = 'display_data';\n",
              "        await google.colab.output.renderOutput(dataTable, element);\n",
              "        const docLink = document.createElement('div');\n",
              "        docLink.innerHTML = docLinkHtml;\n",
              "        element.appendChild(docLink);\n",
              "      }\n",
              "    </script>\n",
              "  </div>\n",
              "\n",
              "\n",
              "<div id=\"df-157aebda-2616-41b8-a1e3-15c1765f51d8\">\n",
              "  <button class=\"colab-df-quickchart\" onclick=\"quickchart('df-157aebda-2616-41b8-a1e3-15c1765f51d8')\"\n",
              "            title=\"Suggest charts\"\n",
              "            style=\"display:none;\">\n",
              "\n",
              "<svg xmlns=\"http://www.w3.org/2000/svg\" height=\"24px\"viewBox=\"0 0 24 24\"\n",
              "     width=\"24px\">\n",
              "    <g>\n",
              "        <path d=\"M19 3H5c-1.1 0-2 .9-2 2v14c0 1.1.9 2 2 2h14c1.1 0 2-.9 2-2V5c0-1.1-.9-2-2-2zM9 17H7v-7h2v7zm4 0h-2V7h2v10zm4 0h-2v-4h2v4z\"/>\n",
              "    </g>\n",
              "</svg>\n",
              "  </button>\n",
              "\n",
              "<style>\n",
              "  .colab-df-quickchart {\n",
              "      --bg-color: #E8F0FE;\n",
              "      --fill-color: #1967D2;\n",
              "      --hover-bg-color: #E2EBFA;\n",
              "      --hover-fill-color: #174EA6;\n",
              "      --disabled-fill-color: #AAA;\n",
              "      --disabled-bg-color: #DDD;\n",
              "  }\n",
              "\n",
              "  [theme=dark] .colab-df-quickchart {\n",
              "      --bg-color: #3B4455;\n",
              "      --fill-color: #D2E3FC;\n",
              "      --hover-bg-color: #434B5C;\n",
              "      --hover-fill-color: #FFFFFF;\n",
              "      --disabled-bg-color: #3B4455;\n",
              "      --disabled-fill-color: #666;\n",
              "  }\n",
              "\n",
              "  .colab-df-quickchart {\n",
              "    background-color: var(--bg-color);\n",
              "    border: none;\n",
              "    border-radius: 50%;\n",
              "    cursor: pointer;\n",
              "    display: none;\n",
              "    fill: var(--fill-color);\n",
              "    height: 32px;\n",
              "    padding: 0;\n",
              "    width: 32px;\n",
              "  }\n",
              "\n",
              "  .colab-df-quickchart:hover {\n",
              "    background-color: var(--hover-bg-color);\n",
              "    box-shadow: 0 1px 2px rgba(60, 64, 67, 0.3), 0 1px 3px 1px rgba(60, 64, 67, 0.15);\n",
              "    fill: var(--button-hover-fill-color);\n",
              "  }\n",
              "\n",
              "  .colab-df-quickchart-complete:disabled,\n",
              "  .colab-df-quickchart-complete:disabled:hover {\n",
              "    background-color: var(--disabled-bg-color);\n",
              "    fill: var(--disabled-fill-color);\n",
              "    box-shadow: none;\n",
              "  }\n",
              "\n",
              "  .colab-df-spinner {\n",
              "    border: 2px solid var(--fill-color);\n",
              "    border-color: transparent;\n",
              "    border-bottom-color: var(--fill-color);\n",
              "    animation:\n",
              "      spin 1s steps(1) infinite;\n",
              "  }\n",
              "\n",
              "  @keyframes spin {\n",
              "    0% {\n",
              "      border-color: transparent;\n",
              "      border-bottom-color: var(--fill-color);\n",
              "      border-left-color: var(--fill-color);\n",
              "    }\n",
              "    20% {\n",
              "      border-color: transparent;\n",
              "      border-left-color: var(--fill-color);\n",
              "      border-top-color: var(--fill-color);\n",
              "    }\n",
              "    30% {\n",
              "      border-color: transparent;\n",
              "      border-left-color: var(--fill-color);\n",
              "      border-top-color: var(--fill-color);\n",
              "      border-right-color: var(--fill-color);\n",
              "    }\n",
              "    40% {\n",
              "      border-color: transparent;\n",
              "      border-right-color: var(--fill-color);\n",
              "      border-top-color: var(--fill-color);\n",
              "    }\n",
              "    60% {\n",
              "      border-color: transparent;\n",
              "      border-right-color: var(--fill-color);\n",
              "    }\n",
              "    80% {\n",
              "      border-color: transparent;\n",
              "      border-right-color: var(--fill-color);\n",
              "      border-bottom-color: var(--fill-color);\n",
              "    }\n",
              "    90% {\n",
              "      border-color: transparent;\n",
              "      border-bottom-color: var(--fill-color);\n",
              "    }\n",
              "  }\n",
              "</style>\n",
              "\n",
              "  <script>\n",
              "    async function quickchart(key) {\n",
              "      const quickchartButtonEl =\n",
              "        document.querySelector('#' + key + ' button');\n",
              "      quickchartButtonEl.disabled = true;  // To prevent multiple clicks.\n",
              "      quickchartButtonEl.classList.add('colab-df-spinner');\n",
              "      try {\n",
              "        const charts = await google.colab.kernel.invokeFunction(\n",
              "            'suggestCharts', [key], {});\n",
              "      } catch (error) {\n",
              "        console.error('Error during call to suggestCharts:', error);\n",
              "      }\n",
              "      quickchartButtonEl.classList.remove('colab-df-spinner');\n",
              "      quickchartButtonEl.classList.add('colab-df-quickchart-complete');\n",
              "    }\n",
              "    (() => {\n",
              "      let quickchartButtonEl =\n",
              "        document.querySelector('#df-157aebda-2616-41b8-a1e3-15c1765f51d8 button');\n",
              "      quickchartButtonEl.style.display =\n",
              "        google.colab.kernel.accessAllowed ? 'block' : 'none';\n",
              "    })();\n",
              "  </script>\n",
              "</div>\n",
              "    </div>\n",
              "  </div>\n"
            ],
            "application/vnd.google.colaboratory.intrinsic+json": {
              "type": "dataframe",
              "variable_name": "df",
              "summary": "{\n  \"name\": \"df\",\n  \"rows\": 721,\n  \"fields\": [\n    {\n      \"column\": \"text\",\n      \"properties\": {\n        \"dtype\": \"string\",\n        \"num_unique_values\": 687,\n        \"samples\": [\n          \"Bank Indonesia (BI) menghadiri Pertemuan Menteri Keuangan dan Gubernur Bank Sentral Negara Anggota ASEAN+3 (AFMGM+3) tahun 2024 di di Tblisi, Georgia (3/5)\",\n          \"Kementerian BUMN melakukan rasionalisasi dan perbaikan terhadap keuangan PT Indofarma Tbk untuk meningkatkan kinerja perusahaan\",\n          \"Banyak BUMN Bermasalah, Erick Thohir Beberkan Sebabnya\"\n        ],\n        \"semantic_type\": \"\",\n        \"description\": \"\"\n      }\n    },\n    {\n      \"column\": \"media\",\n      \"properties\": {\n        \"dtype\": \"category\",\n        \"num_unique_values\": 3,\n        \"samples\": [\n          \"Liputan 6\",\n          \"CNN Indonesia\",\n          \"Tempo\"\n        ],\n        \"semantic_type\": \"\",\n        \"description\": \"\"\n      }\n    },\n    {\n      \"column\": \"label\",\n      \"properties\": {\n        \"dtype\": \"category\",\n        \"num_unique_values\": 4,\n        \"samples\": [\n          \"sports\",\n          \"entertainment\",\n          \"politics\"\n        ],\n        \"semantic_type\": \"\",\n        \"description\": \"\"\n      }\n    },\n    {\n      \"column\": \"clean_text\",\n      \"properties\": {\n        \"dtype\": \"string\",\n        \"num_unique_values\": 687,\n        \"samples\": [\n          \"bank indonesia bi hadir temu menteri uang gubernur bank sentral negara anggota asean afmgm tahun di tblisi georgia\",\n          \"menteri bumn laku rasionalisasi baik hadap uang pt indofarma tbk tingkat kerja usaha\",\n          \"banyak bumn masalah erick thohir kan\"\n        ],\n        \"semantic_type\": \"\",\n        \"description\": \"\"\n      }\n    },\n    {\n      \"column\": \"token_text\",\n      \"properties\": {\n        \"dtype\": \"object\",\n        \"semantic_type\": \"\",\n        \"description\": \"\"\n      }\n    }\n  ]\n}"
            }
          },
          "metadata": {},
          "execution_count": 22
        }
      ]
    },
    {
      "cell_type": "markdown",
      "source": [
        "### Encoding Categorical Variable\n",
        "From the data we processed, we know that the main task is the classification of words with classes in the `label` column, because `label` has the data type `string` and cannot be processed by the model later, it is necessary to do **Encoding**.\n",
        "\n",
        "With the final result of encoding as printed below, where **Business** is represented with **0**, **Entertainment** is represented with **1**, and so on"
      ],
      "metadata": {
        "id": "62uQSZZLTXou"
      }
    },
    {
      "cell_type": "code",
      "source": [
        "from sklearn.preprocessing import LabelEncoder\n",
        "Encoder = LabelEncoder()\n",
        "y_encoded = Encoder.fit_transform(df[\"label\"])\n",
        "print(\"After encoding:\")\n",
        "for encoded_label, label in zip(np.unique(y_encoded), Encoder.inverse_transform(np.unique(y_encoded))):\n",
        "    print(f\"{encoded_label}: {label}\")"
      ],
      "metadata": {
        "colab": {
          "base_uri": "https://localhost:8080/"
        },
        "id": "ZPsmQ08o4H9A",
        "outputId": "0fdafcc7-af85-44b7-bc83-f6f9a253e7c5",
        "execution": {
          "iopub.status.busy": "2024-04-22T11:35:17.466887Z",
          "iopub.execute_input": "2024-04-22T11:35:17.467358Z",
          "iopub.status.idle": "2024-04-22T11:35:17.476860Z",
          "shell.execute_reply.started": "2024-04-22T11:35:17.467327Z",
          "shell.execute_reply": "2024-04-22T11:35:17.475627Z"
        },
        "trusted": true
      },
      "execution_count": 23,
      "outputs": [
        {
          "output_type": "stream",
          "name": "stdout",
          "text": [
            "After encoding:\n",
            "0: business\n",
            "1: entertainment\n",
            "2: politics\n",
            "3: sports\n"
          ]
        }
      ]
    },
    {
      "cell_type": "markdown",
      "source": [
        "### Vectorizer\n",
        "Vectorizers in the realm of **NLP** are essential tools for converting **text** into a numerical **vector representation** that can be understood by machine learning models. This process involves converting words into numerical form, such as using methods like **TF-IDF** (Term Frequency-Inverse Document Frequency) or Word Embeddings like **Word2Vec** or GloVe.\n",
        "\n",
        "The result is a **vector matrix**, where each row represents the represented text, and each column represents the features present in it, allowing the NLP model to better understand and process the text.\n",
        "\n",
        "Example as shown below\n",
        "\n",
        "![image.png](data:image/png;base64,iVBORw0KGgoAAAANSUhEUgAAAsoAAAEYCAYAAABFiND5AAAgAElEQVR4Ae2dDcx1VZXfbwZGhYJCqaCDHRzowDDSYmAKlSFYGTGKjnSgOFB1BB1GR4MUIxMsjl/FBCtjsRK11Od5tKQS/DYYv6MGgwkdnWiMMU5qZkxqNFVSU011xs6c5ndxPaxnv+fcj3P3uWfvdf5vct9z7/nYZ++91vqv39lnn/PMZvqnHlAPqAfUA+oB9YB6QD2gHlAPqAfUA+oB9YB6QD2gHlAPqAfUA+oB9YB6QD2gHlAPqAfUA+oB9YB6QD2gHlAPqAfUA+oB9YB6QD2gHlAPqAfUA+oB9YB6QD2gHlAPqAfUA+oB9cC4PbC3t3fduDXQ2dUD6oG2HlBstvVKzHWydQy7yo6yY4weqL8VWWNxd3f3gd3d3b/SR30gHyjLB3Z2dn6+s7NzWf2SpRYs6wHpcFmx11cLidm+x+q4cnxAdizHFn3jAhtmg2Uqce3uDxp91AfygbJ84J27dzXLAEvbY/SAdLis2OurhcRs32N1XDk+IDuWY4u+cZE1f0qg63eIvo6k48q2fdZAj8GTYVshHS47FlfVSgGW7Liqr2i/YX0la/6UQA9rLAWD+revD2QN9LCIGaNh0uEYOiFQlh376r2Oy+s7WfOnBDqvceTs6s9cPpA10GPwZNhWSIdj6IZAWXbMpf8qZzNfypo/JdCbGUPOrP4bygeyBnpYxIzRMOlwDB0RKMuOQ+UDlbueb2XNnxLo9Tpfzqr+2pYPZA30GDwZthXS4Ri6IlCWHbeVH3Sexb6WNX9KoBd3tpxR/TOWD2QN9LCIGaNh0uEYOiNQlh3Hyhc670Hfy5o/JdAHO1fOpv4oxQeyBnoMngzbCulwDN0RKMuOpeSPqdcja/6UQMcI7KkHRcT2Zw30sIgZo2HS4Rg6LFCWHSPmohrblDV/SqBjBHaNjqw6L/a9rIEegyfDtkI6vDgWatEKgbLsWIuvRq9n1vwpgY4R2NGdfortyxroYREzRsOkwzF0WKAsO04xV5XY5qz5UwIdI7BLdFTVaTPfyhroMXgybCukw5vFSilaI1CWHUvxxanXI2v+lEDHCOypB0XE9mcN9LCIGaNh0uEYOixQlh0j5qIa25Q1f0qgYwR2jY6sOi/2vayBHoMnw7ZCOrw4FmrRCoGy7FiLr0avZ9b8KYGOEdjRnX6K7csa6GERM0bDpMMxdFigLDtOMVeV2Oas+VMCPXxgv+Qdf9284D/8RfNHt/+PpkSHUp2G94E+fZw10GPwZNhWSIfLjMF141agLDuu4jOwAEzwh//pW2KC3WF8Jmv+lEDnN9JL//P/bH7n6tuak/7phc3Dj3xUM5vN9j/8Zv1TX/S2hv1WCapN9znxN3674fPEi168lfNtWl8d/6BPZg30sIgZo2Fj6fAVr/v8XBtMI5YtT//tK+Y6gn696D9+oyg9ueQV79tvC9/H0JFVQZn+830NNK1b36f8wa37ZZx81sXZ8wn5wuqY1s1vK80P0rr2+b2qHVctG/v+8999RfOYU36r+eWH/4N9HoANDvvlh8/Xs72PH6xah6ntlzV/jiXQUY2GeB35qOMPBIIHZf/9Ucf/WnPZqz62tkCu23d2TkRv3WO1f/4LqVX7NGugx+DJsK0YS4cv/ZOPrKRVpiF++Uu/dHhz1tNf1rzsXd8rQleAT6sf31eNs5z7rQpY3GV85D/6x/v1ZfBknXo8741fmgOWtffil+2tdfwq5yJfWPnp/n5bRLhb1Y5pv6S/uYg49dzf2+9H68+uJTH1z37nDxv8Iy1Lv9fLxVnz51gCHc3oJIs0ILhy5Er/7Iuva8695E/mSQWBIRgsUPg+hMj5/rVzCZTXCzTfh2N8zxroYREzRsPG0mEPyoxsAW+LPukdMrTlCRc8r4ikXhMooye+7+nHVeGeXMPIpOn6P/mt3x2k/z0Mp/rntwmU2/MKg2DpoBnx45kANuB3Osr8K79+rmB5wykZWfPnWAKdBl7tv0970uX7wgX8/otL/12no//BLf/9gNARJIwQDNUHJqgC5XZBG6rfNy03a6DH4MmwrRhLhz2sraoPTNdgBNR0hSXlbOrvmx5fGyjTXkYPrR+BqKv/7GtL+/H833/9/jFHHfsrgz374mE4tY3fJlA+NK+Qzz38Yif8s2u6JevP+9d/euAuAdOc0n7X70P7uqtPsubPsQS6q3E1rvcCzajMKkmDWyt+VGDVJNWnf0yIhzxHn3rpmMVBnzXQwyJmjIaNpcN9QJm4ZVTTw9JQo5rraITXYb6vc2yufYnZdcpKp2Awurjo+HTKxZBzsb190zr5bQLlgzpObDz6V8/Yv5g5/vFPXHk+P6PQ/o4zF6Vp3+v3wf7u6o+s+XMsge5qXG3ruRL0t1ee/LxbVnZsRM8HxeU3fWLlY9fpJ4HyaoG1Tp9uY9+sgR6DJ8O2Yiwd7gvK+D+QZtqCBm4jJhado0ZQpj3eBvTnoql4HlAZjV7UH5tu8+dKy/LbBMoH84v3wyOO+ocr3SXw/cuDkhZXZ/zLqwa1sT9vtO9Z8+dYAh3FKD4omNvH1eQ6bWMkhqDgCvR3/+17O4/lNTJAOPsjUnz4fsGVb1x6tWpBxzGL6obgcfuHUQ07B1NKeIPHoocL2EY/8GFaCX1AXf/xbz55/uFp3ohPRi/qyxzbsgZ6WMSM0bCxdNhD2jJ9SH0avTBtYZlu978ZUEBH0BPTFnRmFf3y5aCRzIm2Mrg9TRvYx2sx3/1x2/pOzPY5l5+CAVy1vTYMTbX+Pvaxv75Qk60OaPEzr/2vDcBlffb4M582f2Zm2XQ/9rfzWXm29NsWgTK5oc3u5Jmu47gAs3yyKO88/SX/ZX+/rikN1Pdpf/SO+X7rjL73tSPnO+7E0/f7Df+2Plt1yfQbG0Bru8PAqDP9YxdU2NHiiueksHfbuehvnpXC/uYLxBL9uA63cH5gnvxOOSz5vWygj9Fxs6vVj7LwfauPaUKOV+lmzZ9jCbR1VO1LDGtiAhCu2x4AcpEYUB5z0vx8JzufLZnuwZzoLme3/XDGtvohMjirBaft75eIN4LTdrxPmAQCouyP5XsJt2bb6l7yuqyBHoMnw7ZiLB3eBJRXHVEmcfu7bqk2oF9o3KJYRGP8VLW0DLugt/Xo0KLyhtrWF7DIAf4tGLTH15H2Ww5Ap5dBCcf+/ms+0wDU1ifpknLQ/S7IJF/YMb4ufPfbqFu6nd/ki7aHP61Mzt/21hQ/oto1eETetHJY/qtXfrC1DkCk7Ue5bfVsW9fXjv/m39+7fz7s1dW3bef062hP28US+3BxSJvwFwamzC+snSyph5UHFyzL77yBa5lPAfBAsT9P+h0I7xoUA9Jtf/wdH7ff6RK/6bK9tWvZMmv+HEuglzWylu1eCGxkI2fdU+gkWRDwCAxPxnoH42qy7dy2Txso47C+HMSLYOBpXILLXx1TTtsVsgfl9M0fdu6uq9y2+mrdg7fysgZ6WMSM0bCxdHgTUPYP9HVpjx8FRQu4c4Z+MahAUkVvTCO6QIbE60Gbi3ZgIS3D71MbKKN53hb0iYc/39cAxzKNZKTOAxRQhZ5zLIMWfht5oW2QxcNwej6/rQ2UyR9mV5bkEc7P+hS2+O3PT7vtWI5Jz81v7Gv7sKTctv38g4/0Sds+bev6gjL50erVNhrcdq5113lQbrt4JMasTPrV24p4I+6IHeLN53d8oquPAHIfX8QgoIs/MSrtt3Fx1gbLHpTxQesn5nDTJvyAi2ZbT33afMvatmyZNX+OJdDLGlnD9vSqNsftAt9u3snsnabt1hGi4p20bWTGyiBgfPl8R4hsOw7e9vAAt858QksvCDwoUxb7Ug+Ci/IWjXan9dHvh+a7ZQ30GDwZthVj6bCHszZ9aItHdM+StWlHW4JlhMp0g6Rnt4p9mYx8+VHPtn18UgU+Up1FY7wGUqcaQZl+SfUY0OHWuPUzUOGh0velfWckEpCxY9r0Fxv6AZI20PSAZWXb0m9LYcbfacDubbZgtNvbjIEfK5v22QAUI5223i/T0UiA0W+371ZP+mNZv9kxLPuCsh8oasvF/hx9v6exh08Qf9iB+PGDUv6CBSgmJ6fn9fmdfkrji37jHOZPnD+9C87IuR/UA8bT83hQpizKTKf/0AavB21+mZbb9Ttr/hxLoLsaV9N6f1sHQchZd5zTC4kfXUjPQ5BYQkJgUic2B08TIU5pxy27eiOYrBx/xUpdKMe2sRxKINJ2R/+dNdDDImaMho2lwx6U0RuSYNcHYCW5mWZYzHdNOfMjh13TtohhkreNJKVg5DWWbam2mQYAXr5ebXBm+w657AtYVifa56dgABe8Woy+po9SsLDj/BLoNNt4APX78N2fi7LTW/0GmZSVHuu3of9+O/nBzr/IDrTF7I7t/KvxPAin5XMuy412QcDxqW8AfOYT677ru68dfb8s8nnfX+t+96BMP6TttvK4GLL200/8tm3pkjnjZrM0nmmHbSOm02P9b3/nI7149qAMp6RAbuX4OwpdF0C276Jl1vw5lkAvamAt23ySQdxy1ts7C863rGx/JZsGqDl5Cso+OFa5cvNXen4OlAflNsFaVndtf2gU2fdF1kCPwZNhWzGWDnsNM51YdUmSTrXG/BfosXIYybL1XUsPRn6uJKOhVk7btC9fnn9eZBGg+WNyf+8LWL4eXTZhGovfr+u7wSMQ2gUjdqzPAdzBtPUsPfT59ek2D7J+ju4qduf2v9mXuth5/Ch6Wi/uIPhj7Hs6p9WX4UdZ7RyLln3t6KcyYMdF56AdwOOyj+9fyvOgvChve9sSR4vqwogwg2X0Zcoy/oI3hd+0TM8t6cWJB+WuKTWUxyCh2TStS3q+Rb+z5s+xBHpRA2vZ5kUBccpZb67qzFlWEUgvCtwC8XWxclJQ5vaIbfPJyR/rv/vbOL5OHpTT0WZ/vL63A3FXv2QN9LCIGaNhY+lwF5SZLqRLkilwA3gselDJ61HX3GPv936amb8j5TXKX5z7Y+27v+tVMyjTHj8FAxssG8mzPvAQmeq97eOXjMSbjblY8dv6gLKfk56OTPqy7bv3Pz+nl1FSGw3lTobtz9IA0O6e2n6pn9nFFz67yFd92fa9Lyj7OcPL4Bwftb5ftEyB24PyonP42MHO1raupbe3H322UX/6u+tYW08/W1vSCyUPysvi0+6qCJQ3/POEZpgxlziTOQXLdeZALau3D4Y0UNqO9dCeiqrVMRVOP0LcdfvGn8sHtr+S9aDsxc4fq+/rQTL9JVCOAcGrtKIEUE71AR8k8THn1N9OR198Im2LbZ8USXaUvejjR+L8hb4lTDSs7Tx+nYeuZYnYH5fze1/ASuuAHptus1x2kWDHM0fVjmPEf1Gfs82DHXOWrRyWbLey/Pp0mx/x9NM+uFhKj0t/M+Jt5yAf+e02kgno+txqt/cNoG3+rB+kYX8bWe+Tk/ra0epMm9KRcN82vvt8an3Qtkzzv2cDLozScu03U5WsPOy8zBdsOgvH2Dl9bgeYl5XBdrtwYWl1Yek1wcr32/13i3uBcgBQxrBcZZkzripm3iG6vnuRapuAnx7nHZpj/XarX7renJHtfv+u7z4REay2nz+3X2/btVwfkukzgfIqiBljn1JB2WIXcPMPf5FUF8Gyf7DH9GfVpdeQdTTK61DtoEy/+/6ibWaLRctV4cuXbd9TKPE5KD2n3+br5iFuGQxZmV3n96PTdsufCzcb4TQQ9Xc6baoJ+1u5XdOD7Pxty76g7O8EpCPc6XmIKfqu7eMfYE370fex7/u0fB871herLu2c/o7Dqsf6/XydBMpBoNcbddXvdnWLc/QRZx5oQHRwIj/9wZe7CoATMOagKRB3rfeBtEp7mQNmZflRH39un+RWKVP7dEO0QDkGBK/SitJBmTjlYS+vGYzgdd2J8qAMYKMLq36YQmG64M9n67qWXof6aHFXueus7wtYbecwrWW5CIj8sR6Usc+qfc5+6YN/Hob9Ofjut/m6UY7Ve9ED6L482x9b+/V+njv5kW1+Dqw92OjX2Si2TV1kVDN9SNGfo+t7Xzv6KUfp1IOuc7Wt9/1o0Gr7+W2+7227LX3scMw6H+tbD8pcHK9TBvtaXVgKlCcMyv69iW2vRPGO0vad+XgmFNxCsn2YCG/r214LZ/vZEsi2/dNbTbY+BWi7ZcX2RaNDdg4/j9CEi20+QaXBYcdq2Q3EXX0jUF4FMWPsUwMo46eM1NmtVXSj66EcnxRt5K/Lzxet91MyuqDcjvejiFMFZeasmt77wQzro3WWHobT4/w2D2ve7v6CJz3efnO31Orb9oYDm/Jj22z02EO1H2W2NpvfpNMQ7bzLln1BGR+1EW/aZSPhy86XbiePWr/0BWU/9cJG2tPzLPvtc7vnk2XHtW33vpG2Kd3fIN/bOd1n2e+s+XMsgV7WyFq2A5g+cawy+mttYx6Vd2b/EIsH6GVPrFKeB3Y/f5htFnApKNvDDmxPnxi2Ovqlh3f/vlMfTALl9YHY97H/njXQY/Bk2FaMpcMkrC598L7ov/t5qBzblvT8XNlVNIFE3nax7t/m03YeXy9/IT9VUGYk0Oy5yoim3f73/WjfPQzbOlv6bR6U/avEui6irAyW3k/ShwnZbiPDtAkfsTnVqU/Z3GDmOft8tOxNKb4u/ntfUKYMD7nU18+v9udY9N2Xkfq93+b7Pi2PATPzhVUG24i/totRexsGFwBclKTnSX9z8dPWZoHyhEeUcRLvuFx1tTlb6kz89iKQvlfQP72M4LU5ni/Tjw6nt7wsWFJQ9k+Jd/1lLTsHbbKHIyjPv/PSCxN9YcdouRk0C5TDcvEhDasJlEmWNuKDFgAnaQL1AwiptrXpgmkoydiPRPqpBMvAy09Xmyoo07f23mVss+hhL/b1Ayw5pl746RLcqk/9IrW9hzlvd9vP3/pnuw1KpfOO7U0YtNnnVZ+nrMxVlpuAMvnQjyrjt8vyt68TFwQ+n/cFZT/Hu+0ixJ+T/G7PW5Hn/XSVZTby5VBXbMAn5Q2B8sRBGafyEMlV5KIrPYLGvx8Up/KvWzPHs9tObPfvmLTttvQjKYxQp0HZ5bg+ONhn0VWnH01Op3YIlDcDYrNjuhQoH8KTYVfUBMr4qZ8Xinakd7HYxyfYRRfQfjoHgOFHlgEtexofSOq6le2fn6A+UwZlDySLBm7oZ5+3UiDzo8apNvltaa7zdrepEOnx/PbzeYG0rgEmA39/99X7CGX5qYcGqeTPtvOusm4TUKZ8PwiFP9Jfy+424+scZ/7OcXxSu9hFJdvSvvdtA7htNJh9/V1gvx/fefDQzpdOV/HTefCXrosP6u8B398h5xzeL9M2pfWxC3FNvQgG1yQOu9rF4QhWRAL4xJn5ECgEggdg9u0azSX4fZlc8fsrPQKBBOX3aYNdC4D0Cg/n9AFNnXFuPwpAUPgpGgSeTfQ356Ztdo5FCdH213I1sBYoh+XiQxpWGygTwz5ho0Hp6CW64BM1AOXf4MMFPbBkI1loCKOBqT74UWXKswe22I8y0DB/HsqZMigDnB4qgZf0PbqAit+n7fkaD8OpTfw27Oy3kx+8PcgfHmzJL+QZn7cW2Ys8avmFZfoaOTu39yP2W2XKoh2bLjcFZcrz0yet/kAo68nT2IAPbWcgyl+02P7k/HTgy8dd2vdpO3wd6G8G3PwFCQzhIbktjinTv5MZkE/f34zNbfoLdQdwPUdQhkA5GPSmzrbqb2C5zdnN6duWiEAaCP58XAV6QeE7QsF0DLtyplzWt41KU5adtw2U2Z7OOaRcYN4LKWUgfm0jOgLl1cDX23WV7wLlQ3gy7IoaQbntTlqqZeiFhyZ0hBFC4C0FG16JlR5vceKTOWWgs2kZmnrxkA4BLjYSa/oP4HC3M81R5BI/AGN97mHY1tnSb2uDNXJhanfyCXnF5y3q1nZxZOdhCVRaG1h2TcHxr1Rjv/TCzZe57HsOUOYc5O90hNi3pes7vu3fguXruw4oc1waO/Q/NocjUrboGnUGrv3rIak38Us92/wsHUyjHgJlgfL+FTWCg2OmYpQGBILVNvrrA8K+MxrghSkti21dQUUZtj/7WZnpkgAhcGxfvySYEKE2QaQcgfJDCSrt101+C5TDcvEhDasRlPFt//AWmtH28BRJ09+O99rCd7SSka8uSLYYYuStDTpI/IyUMTpnZS8aobTyhljmAizqZm1h2aW9i9pALgKqUjC1clnPIIkfYfTl+Zzj1/Pdb+uqG3b3Fy92XlsCzQB1Wnb6m5FJD93paKbtn05BtPV9ljntyKgt/t2VX60/sAdxsuzB+nVBmfaT39OBLzsvS2yxiCEoAzsAu+kFrpVjnNA1NUOgLFA+JNgRfQCX24I4CB9uBXHbsEtYlgU0ty1JAFYe3/2tzK7jOR8ff/ura1/qjODYOQiwZcfRVjtH28hE17m0fjFgC5QP4cmwK8YCZZKfxe6yOO+KVzt+mcaQQNE/dBB9AaqB2/QWbdd5WM++DDAAxpQBqJvm+LZ0wd+isnNsywlYvl+XXUQsqjugBlxanwFt/F7WR/iD1SEt329bVjezu+UU8suy+bp9zuft39eX7bw57WhlsqQ/yalmC/qEO8FcMCyzh5WDv5tdlvW9HWPLNL/DEOvawmKQ+KX+xPMqnIAfWr0pw+rUtsRn2LcLutuOSddlzZ9jCXTaKP1eDE3qn+n1T9ZAD4uYMRomHY4R30MBlvR/u/4hO263v4fw76z5UwJdv0MM4WQqc3y/yBroMXgybCukw+PHWw7NE2DJjjn8SGVs7kdZ86cEenODyKnVh0P4QNZAD4uYMRomHY6hIQJl2XGIXKAy1/errPlTAr2+AeS06rNt+EDWQI/Bk2FbIR2OoSkCZdlxG7lB51juZ1nzpwR6eYfLKdVHY/hA1kAPi5gxGiYdjqExAmXZcYxcoXMe6ndZ86cE+tAOltOpT0rwgayBHoMnw7ZCOhxDcwTKsmMJuUN1+EGTNX9KoGMEtgIjnh2zBnpYxIzRMOlwjPgVKMuOysVl+EDW/CmBLsOoCi7ZIfWBrIEegyfDtkI6HCP+BcqyY6rj+j2OT2TNnxLocYyo4FG/L/OBrIEeFjFjNEw6HEMPBMqy4zJd1/bt+EjW/CmB3o7RFBzq53V9IGugx+DJsK2QDsfQB4Gy7Liuzmv/YXwma/6UQA9jJDm/+nVTH8ga6GERM0bDpMMx9EKgLDtuqvs6Po8PZc2fEug8RpFzqx9z+0DWQI/Bk2FbIR2OoR8CZdkxdx5Qef18Kmv+lED3M4KcV/02tA9kDfSwiBmjYdLhGHoiUJYdh84LKn81H8uaPyXQq3W6nFP9tG0fyBroMXgybCukwzH0RaAsO247T+h87T6XNX9KoNs7Wc6nfhnbB7IGeljEjNEw6XAMvREoy45j5w2d/0EfzJo/JdAxAlvBEc+OWQM9Bk+GbYV0OEb8CpRlR+XiMnwga/7c3d19gAL1UR/IB8rygZ3dvWZnZ+eysHSohu33gEC5jOS6KeSgoZuWoePH9wXZcXwbbBoH2HBfYDf9gkDf/5c/a/RRH8gHyvKBO//b3fkCfVOh0PGD9oBAuf7ETGIXYMmOmwKejs/jQwJlgb0ubCbgAwLlQdm0qMIFynmS49iQIVCWHcf2QZ3/QR8UKE8AkjS6W9bo7hj2ECgXxbKDVkagLMAS4JTjA7rgKccWfeNCoCxQ1ojyBHxAoDwomxZVuEC5/sRMQhdgyY59wU7H5fUdgfIEIGmMEUyds6xRbIFyUSw7aGUEynmT5FjQIVCWHcfyPZ33oO8JlAXKGlGegA8IlAdl06IKFygfTHK1Jn2BsuxYq+9Gq7dAeQKQpNHdskZ3x7CHQLkolh20MgJlAVY0UKm5PbrgqT8eBcoCZY0oT8AHBMqDsmlRhQuU60/MgKEAS3as+QIhUt0FyhOApDFGMHXOskaxBcpFseyglREoC7AiQUrtbdEFT/3xKFAWKGtEeQI+IFAelE2LKlygXH9iBg4FWLJj7RcJUeovUJ4AJGl0t6zR3THsIVAuimUHrYxAWYAVBVAitEMXPPXHo0BZoKwR5Qn4gEB5UDYtqnCBcv2JGUAUYMmOES4UIrRBoBwYkr749R81H/n8tzo/X/jqDweB5M9++fvzc37pmz8ZpPwxRmRrP6dAuSiWHbQyAmUBVgQ4idIGXfDUH48C5cCg/I47P93MZrOFnzOeeE7z7g/dlxVor7n21fNzAum1A2aU+guUB2XTogoXKNefmIFEAZbsGOViofZ2CJQnAMpPfuqzm9e86V0HPje98Z3NMy65cg60xxx7XMMocC4oFCiXNydaoFwUyw5aGYGyAKt2MIlUf13w1B+PAuUJgDLg2gXBlz/vj+ewfMNrb+vcp+vYrvUCZYHyoCSowhf2gEC5/sQMKAqwZMdIFww1t0WgPHFQvv09n5iD8gtf+qoDoMwIM/D8rEuf31xy+dUNI9DMeU7hmHnOth/QfedH728EygLlhSSnjYP2gEBZgFUzlESruy546o9HgfLEQRlAZh6zH1Heed+9zXGPPqE57LDDG+Yw82Gfx598WvPx+76zD8t8f9xJp8y3nX7G2c0ppz5h/xj21xzlcoBZUy8GZdOiChco15+YgUUBluwY7aKh1vYIlCcAyldcde0hb75gJBlIBoaB4k/d/905ADNqfPxjTpyve+/HvrIPxTwYeMSRRzVnnXvB/jrmPnP8W3fu2V938213zsFZoFwOJHMXQKBcFMsOWhmBsgCrViCJWG9d8NQfjwLlCYAy0Nr1Oee8C5u7P/m1Q0D3xjfcvr/Opls890XXz8thf6ZmUOZFz3zOIfsB0AJlgfKgNKjCO3tAoFx/YgYYBViyY8QLhxrbJFCeACj7t1684qZb51MoGAlug2FGn4Fc5iYz19h/DIBff+teY3Ob/ZQNA2rWCZQFyp0kpw2D9oBAWYBVI4xErbMueOqPR4HyBEAZ2DWIZb3ijucAACAASURBVMkDeKeefuYcZlNYBpCBXKZfPPbEk1o/t7ztrvmr5tiP1875svnOOoGyQHlQGlThnT0gUK4/MQONAizZMerFQ23tEihPEJSB2Q9+5hvzOceMLPOmCoNde12cn45h2/xy0Ygy8C1QFih3kpw2DNoDAmUBVm0gErm+uuCpPx4FyhMFZaDXpkgwumx/btpGg5mi4cGY72xjTjIP+TFHGcg+/ykXH7Kf/SETvfWiHFjWw3yDsmlRhQuU60/MgKMAS3aMfAFRU9sEyhMGZeDXXv328htvmQOvvfXi6Ece0/CaOINlRp1Zx5QMe5+yTdNgzrLtxxswAGiNKJcDydhGoFwUyw5aGYGyAKsmCIleV13w1B+PAuWJgzJTLADbhz38EfPpGEDVHXd9bv56OGCX9yPzYR9AmW0Gxcx1NtDmHcrsxzG8SUOgLFAelAZVeGcPCJTrT8zAowBLdox+EVFL+wTKgUGZPwjCdAk/B9kg1y+Zb8x+7/7QffsQzNQK5hpfeuU187/MxzQN/8dG7HimbDCizH7Mb2YUmvnPlAdI235ajgvOGlHu5MpwGwTKAqxaAGQK9dQFT/3xKFAODMqC03HhtKT+Fyj35+FHPnL2F2efPTurfwnbPVKgXH9iBiAFWLLjFC4kamijQFmgrFHfCfiAQLk/rB522Oxvjz9+9rNaYFmgLMCqAT6mUkdd8NQfjwLlCUBSSSObqss4o9wC5f6gfPTRsx984AOzphZYFijXn5iBSAGW7DiVi4nS2ylQFihrRHkCPiBQ3gyUm2bW1ALLAmUBVungMaX66YKn/ngUKE8AkjSKO84obkn9LlDeHJRrgWWBcv2JGZAUYMmOU7qgKLmtAmWBskaUJ+ADAuU8oFwDLAuUBVglQ8fU6qYLnvrjUaA8AUgqaWRTdRlndFugnA+US4dlgXL9iRmYFGDJjlO7qCi1vQJlgbJGlCfgAwLlvKBcMiwLlAVYpQLHFOulC57641GgPAFI0ijuOKO4JfW7QDk/KJcKywLl+hMzQCnAkh2neGFRYpsFygJljShPwAcEysOAcomwLFAWYJUIG1Otky546o9HgfIEIKmkkU3VZZzRbYHycKBcGizv7u4+gLDrU3cf7OzuyYYB/Fh2rDsO0VFsuLe3d13/LOKOZCRDIDQOCKnf1e+LfECg7IRqza/8wRFgeNmnlPcsS4djaAExuyimta0OO8uOddhpUTxlzZ8S6PodYpGzaFu99s0a6GuCZu27rwrKpYwsS4frjVOvsQIs2dH7g76P5w9Z8ye3/ChQH/WBfKAsH9jd22t2dnYuqx1ax6j/OqBcAiwLlMdLqDlhBg3NWZ7KGscvZMdx+j2nv2PDbLlHAl2/Q+R0LpVVjj9kDfRsilFHQeuC8tiwLB0uJ+420UABluy4if/o2Hz+kzV/SqDzGUZOrr7M6QNZA70Ovs1Wyz6gPCYsS4djaIdAWXbMmQNUVn9/ypo/JdD9DSEnVt8N6QNZAz0bgtZRUF9QHguWpcMxtESgLDsOmRNU9ur+lTV/SqBX73g5qfpqmz6QK9Af9ajZ1484Yva9KX1+7ddm3wV6+362/TYM6XAMbREoy47bzBE6V7e/5cqf86EhCXR3R8sJ1Tdj+kCuQH/c42Y/7wuMUz5um7AsHY6hNQJl2XHMnKFzP+R/ufKnQFl/uERPaBfsA7kCXaBc/siyQPmhBFdzshcoy441+2+kuufKnwLlgiEpksOqLf2SR65AFyj3B2VG1LcxsixQ7hcjpWmLQFl2LM0np1qfXPlToCxQ1ohywT6QK9AFypuB8jZgWaAswJoq0JTYbl3w1B+PufKnQLlgSCpRPFSn7YpHrkAXKG8OykPDskB5u7E1lJYJsGTHoXxL5a7nW7nyp0BZoKwR5YJ9IFegC5TzgPKQsDwVUH7LHR9uPviZb4TVncig/IWv/rC5/T2faN789vc399z77bA2BEgj2/Ejn//W3IbYEptGBfBc+VOgXDAkRXVetWv1q+JcgS5QzgfKQ8HyFECZxDybzZrXvOldoZNzRI275W13NUc/8pi5/bAhn0suv7r50jd/EtKWEUEZW2Ezsx9LbMqFT0SfzZU/BcoC5ZABEiXocwW6QDkvKA8By9FBGUg+4sijBMoV5pw7P3p/c9hhhzdnnn1e896PfaX5+H3faS5/3h/PbfmS618XModEBOUXvPiGuc2uufbVzWe//P0Gu57xxHPmtsWuUfKmtSNX/hQoFyhaX/z6jxpujbR92GZOkHtJ4HDOqCMEuftrG+XlCnSBcn5Qzg3LUUEZXXnui66fJ2OB8up3k7ahL6ue48KnX9o87OGPmAOyP+ZJFzxtPiI5ZF7y59vm92igzBQLbHjOeRceYAim0LD+GZdceWD9Nvt6qHPlyp8C5QJB+R13fvrArRF/m4TvJJvzn3Jx9nl+XGVSPrA8lOOq3PUSZa5AFygPA8o5YTkqKD/r0ufPIZkRyBtee9tcYzT1Yj0dGFM3GTgh56SARZ1ueuM75/Z868494XJGNFBmegX5HZul/oRtmYKRrq/9d678KVAuGJSf/NRnz+fykVTs87JX3tycde4Fc4c//jEnzm+f5HJmgXJ5yStXoAuUhwPlXLAcFZRvvu3O+S1edAodI1kLlMvTmq48woOX2OyKq649BKRsUIe81HV8reujgTJTZLDjzvvuPcRWNo0m2iBZrvwpUC4YlAHXLpFhlKbr6rDrmGXrBcrlJa9cgS5QHhaUc8ByVFD2uiNQLk9jvH3avhsMt+UjwIo8xNzXtmNrXhcNlBfBsOX+O+76XCg75sqfAuVKQdmeHn/hS191wLGZK/b6W/fmwsU2bre0zTlmHSM9zB1kNIBRAwuWaFeVtYv1PEg3/E+gPDwobwrLAuX6ILJNW6IB1iqgzMBNW1/UvC6aHW1wrS2/W+7H1jXbLK27QLlAwE2N1Pf3ImGyMu02ystvvGXfse/+5Neax5540vwK/3EnnbL//fQzzj7wEMan7v9uc+rpZ873O+7RJzR8mMzP06+MDrQFkp1Xy+0m81yBLlDeDihvAssC5e3G1lBaFg2wFuUjG1Fum5YxVP9uq9xodrTXwrXld4HyCiNRUxDobQVXjvOYMCE+OLX/AMPAMWDLAxa8podzMkL8+JNPm0/I97dPeLk/+zLf2erG060AMSPPtu4VN906XydQLitZC5S3B7hAbq7PBz4wa44/fvazs8+enbWCBM93mYIOa+pFWfpi+r9oSc4hL6R3LzmG+a5si/iKuGigbDDMK+FSe3NnOWLuz5U/JyPQqWOU/NtAGcft+gDFflK+PdHqR5itjZdeec28HKZX8Kom3ofpwdn2400aEYPF2lfjMlega0Q5HwSvCtPrwrJAuT6IbNOUaIDFdD5yBq+IS9vLYAs5gz9Gkm6r/Xc0O2KjLlvBAwyotU3TrNmOufKnQLnAKRwGyrzdgqtAPjwswVsucGZesZQ6r10RctXPqI3/2C0X5iRb2Ywgp2XYqHLbrZl0X/3eTlLPFegC5e2D8rrTMATK24mpobUrGmDRX7w+7Jhjj2vS9yVzdxKIZjrf0P267fKj2ZG7z9gqnU+OTbte/7ftPs99vlz5U6BcMCgDyN5xcHRGknH29AreJup3jUCz3uDZvvuy+W63RQXK5STsXIEuUB4HlIHlP/3T2d8cddTsW3OxXfCfQLmcuEu1cZ3f0QCLtjOFj7xBnjFYZuClDbzW6auS941ox4ue+Zy5zbAdfY8tuVOAbaO+C3uB5K63aQoCXXJApnWzUd8UlNmP+UU2P5m5Y3asvfrFr7Ntfmlvy2gblbaXxwuUy0nYAuXxAHfVKRaL9vv0p2f/92EPmz0wm83OX6bKU9Bhuxhn6XUp0veIgIV97K4lf5iCB8CBKx4A5y++RbKftSWiHf2D/NyhxpbYsW3+ufVDzctc+XOu3VMQ6JqMvQiUaQevc8O5zzz7vH2BMsi98Q2376+zNjP6zIOBQDSj0hzLlaVtt6VN0RAoC5QXwZ+2rQbvd989++nhh89+vAokI8RT0GH0B31jaboTbRkRsMxGPBdD/mEQh7wSbU6rtZNlVDtiM2yHDbFl28N9vh9q/i5QLnDKRC6HWgbKOLq93s1GhnlIz6703/uxr+wnIeCYuWVssyt/brVwy4wHAK3OvCmDkWogWqAsUBYMrwbDXf0EJD/iEbP/tSokTwWUTW8iL6MCVmSbtbVNdiwnD7bZZ5V1AuUJgzIOwpU9sAsA33Pvt+fAC+wyKR/g5eEL3mJh0zSYY2aOZXOdgWIeGHzSBU+bl8UItUC5LHHIFeiao7wZ+HYBcdt6B8m/sWy6hd8+hRFl06DISwFWWRra19dkx/rtmCt/znVaAl2WQzCiy20RRpYXBTmv5mE/5h3bfkAw6xg15pUvzD3itXC23ZaMLvOWC/bhyWVAmlswHMvotO2n5bi+kSvQBcrbAeW+kKwR5XHjLKfOCbBi2FJ2rN+OufKnQDnwyHRO8VdZ44hGrkAXKA8Pyn/2Z7Of/eLBvbVGkm1UWQMW48RYbm0TYMmOuX1K5fXzqVz5U6AsUNboccE+kCvQBcrDgjKQ/Is5yb0gWSPK/RJhiQAhUI5hS9mxfjvmyp8C5YIhqcQkoDptVzxyBbpAeThQBpKPPHL217PZ7DE2OtxnqRHl7cbWUFomwJIdh/Itlbueb+XKnwJlgbJGlAv2gVyBLlAeBpRzQTJCLFBeLwmWCg0CZdmxVN+cWr1y5U+BcsGQNDWnVnsPTTC5Al2gnB+Ub7hh9jc5RpJt9FmgfKj/16gJAmXZsUa/jVjnXPlToCxQ1ohywT6QK9AFynlB+dprZ3+bE5I1ohwDroANgXIMW8qO9dsxV/4UKBcMSRGv8NSm9cQnV6ALlPOBMpB87LGzr81ms2NsNDjHUiPK68VGqVoiwJIdS/XNqdUrV/4UKAuUNaJcsA/kCnSBch5QdpB8VA449mUIlAVYUwOZkturC5764zFX/hQoFwxJJYuI6rYdEckV6ALlzUD55z+fNVdfvT+SnB2SEWKB8nZiamjtEmDJjkP7mMpfzcdy5U+BskBZI8oF+0CuQBco9wdlIPn3fm/2819MtxgEkgXKqyW+GgBBoBzDlrJj/XbMlT8FygVDUg1JQXUcVkxyBbpAuR8oGySfcMLsvtlsNhgk/wKUH8De+tTdB7t7e7JhAD+WHeuOQ3QUG+7t7V03B91N/9Mtv2FhRzCp/u3rA7lA+ZhjZv/n0Y+e/XhKn4sumv2gafoBMscZJJ944uzzs9ns8E11dtnx0uEYOkHM9o13HVeOD8iO5diib1zkyp9z7ZZA1+8QfR1Jx5Vt+6yBvozUgm0/+uj+oPzTnz443WJbkEzXS4fLjsVVtVKAJTuu6ivab1hfyZo/d3d3dcsvwK0inEKfWH3AraOdnZ3LgjHsVprTF5R//ONZc955s/+3TUgWKA+bMLcJJALlGLaUHeu3IzbMlmw0klG/Q2wzEehc2/OXrIGeTTHqKKgPKBsk/+qvzj61jekWvielw9uLqyE1TIAlOw7pXyp7df/Kmj8l0Kt3vJxUfbVNH8ga6J7KJvB9XVA2SD7ttNndY3SPdDiGtgiUZcdt5gidq9vfsuZPCXR3R8sJ1Tdj+kDWQB+D/kY85zqgPDYk003S4RhaI1CWHcfMGTr3Q/6XNX9KoB/qWDmZ+qIkH8ga6CNC6xinXhWUv/e9WfObvzn7u7FGkq1vpMMxtEegLDuWlEOmXJes+VMCHSOwpxwQUdueNdCNyCayXAWUgeRTTx0fkjGJdDiGDguUZceo+ai2dmXNnxLoGIFdmxOrvsv9LmugTwSQrZnLQNkg+fzzZ2+1Y8ZcSoeXx0MNmiFQlh1r8NMp1DFr/pRAxwjsKTj+1NqYNdDHpMARzr0IlEuDZLpHOhxDhwXKsuPU8lSp7c2aPyXQMQK7VGdVvfr7V9ZAHwFWxzxlFyh/85uz5uSTZ39Xykiy9ZF0uH+clKQxAmXZsSR/nHJdsuZPCXSMwJ5yQERte9ZANyKbyLINlIHkE06Y/X1pkIxJpMMxdFigLDtGzUe1tStr/pRAxwjs2pxY9V3ud1kDfSKAbM1MQRlIPvHE2d8/61mzN9g+JS2lw8vjoQbNECjLjjX46RTqmDV/SqBjBPYUHH9qbcwa6CVR4Rbq4kHZIPmyy2Y3beHUvU4xBR3+wld/2Jx+xtnNLW+7q4kay1FBGdtdc+2r5/Z7/MmnNc+45Mrm7k9+TXb8y7r44b0f+8rcdtiQWHzJ9a9rsG3EeMyaP6cg0BGdQG2qS6D62CtroPfCt3oPMlD+8z9/cCS5ZEiml6Pr8Je++ZPmyU99djObzZrXvOldIRMzMR4RlL/49R81Z559XnPYYYc3z7r0+c0VV13bHHPscc0RRx7V3PnR+0PaMqId3/2h++Y2O+7RJzTPfdH1zUXPfM7cptiW+OyTo0o+Jmv+jC7QJRtSdYsPu5vYOGug18u8vWoOKH/xi7PmUY+a/X3pkBwdlO+599vNGU88Zw7JAuX6NI9Rx9RuH7/vO3NYPuvcC8IBFpodEZRPPf3Muc2wneUlLlqx7StuunV/nW2rfZk1fwqUhxeu859y8dwZEZwu5/vU/d+dO/HRjzym+cjnv9W5X3o8++Lo3Bazbfzmyt9+azm8jYfo46yB3gs36z3o8MNnP+XBvec9b3ZDDa2IqsMkYkYe+WhEuU4detxJpzR8Uo174UtfNc89H/zMNw7Zlu5b2+9ooMyUC7gAm6W2wLZAdLq+9t9Z82dUgS7JyIyocKvqYQ9/ROe8rguffunckde9LSlQrjP5rOKfWQO9BlrMWMcjjpj97+uum700Y5GDFhVVhy+5/Or5RTs6ZaNX62rcKrFSyj7RAIsBHACLOclpH7/ljg/Pt930xncesi3dt7bf0ex4w2tvm9sKm6W2YAoGNv7sl79/yLZ035p+Z82fUQW6NIPyAAvOyC3IdD6QbQOW1623QFmgPCjBqfCt9EBUHWZ+q2maQLk+rWJeK3nL37E0ezI/uWub7VPrMhoov+DFN8xt1fYApt0ZYNS5Vnu11VugXNmTpmZEGzX284FsygUT7Plu+9qSq7zX37o3Fyqu3Bmdtm0s1wHlnffd27z8xlvmT7pyZemBnQB6x52fPrCO8hFD1vtz8p2yoj7IkbZ1rN9ZA30ruKeT9O2BqKDsY0egXB8oo/1dMGy559IrrzkkP3i71/g9GigzFRM7YrPUHlwEsa0tz6f71vQ7a/6cgkCXYlyDYubrmcNySwsnbbslwkgzc5bZ/tgTT5o/ocqTx9xGsTaZWPkrfvb3c5R5/YvNk+bcTANhH+Ym2RUmAM26O+763H7ZgDT7s97247y0g3rw5KzVQ8v8STBroPclOB23lR6Ygg4LlPNrxNC6uwooM71m6Hpsu3yBcn2+mvpI1vw5BYFOO3DM3zbNggdbbn/PJ+YQ2nZFzm0QYJR3HdrDEowu26j0W3fumYvTKqBsx7zslTc3diuU44Hg4x9z4nxuEucAiP1kf6CZdXxufMPt+2LICDfrPFSP2adRz5010LeCezpJ3x6Ygg4LlOuDD+4covV+IMb01h4Qa9tm+9S6jAbKDGphRxug83axEeVod4iz5s8pCLR3ihK+G7gy3YJR3bYXfttIs0Gy1RvQZZSZdx+ybhkoGwBzTivDlkzlIHhsKggvIWcOtW0ngKgj65nwb+upG6PS9lvLYRJg1kDvS3A6bis9MAUdFigPoxND6i+vEiNHtA3mMNjCNn+Hc8i6bLPsaKBMjsdWDM6l/cgdAba1Tf1M963pd9b8OQWBLs24NgUD5+SKva1+TLUAUrn1lX54lQtv0OC4ZaBso78s0/MwQk0dDKJtwr89/Qo0A8hM4wDOOZ7pGHyPeLst7Z+xf2cN9K3gnk7StwemoMMC5fpAGQ3krqMfQDFdtPcrd+Uw26/GZTRQtjsDTLFM7XHKqU+YT+1M19f+O2v+nIJAl2hwXtQOpHbVjW3LPowuLwNlu63SNVGfc9hL422qxc233TmfjsHUD5KbJTh7sI9j2uZUd7VF6/slyKyB3pfgdNxWemAKOmw6wjKqJkQDLOxkt+19DuEuKHdD+US0ZTQ7MsBl9vJ3sG36J4Nk0eyYNX9OQaBLdIBloMz8YUaOAeGuD+1aBsrMLe4CW0CbbTzoZ33ElApGi9/89vfPt1G+3X7j9g0BRd1srrMdp2U/GF7Ub1kDfSu4p5P07YEp6LBAOb9GLNKPXNu4A8rdTXSfUWRyCrmJgRR7VibXuUopJxoo06+W07EdNsSW2JS713YXuZT+z1GPrPlzCgKdo9Nzl7EMlJmDzPSKNgfGwW1e2DJQZhQAGG67Ymy7mgSSudV2xVXXHhgtYJ4yDyByVWpTNXL3ico7mEizBnpfgtNxW+mBKegwUIXuRYUr9CsiYNEu8gz6D1iRT3jIXHY8qNc15C9gGdthQ2xJLk9fOVtDO1apY9b8OQWBXqVTt73PMlC20RfA1b/vmGkROLnB6jJQtlsuBIV/oTi3XwgYRgX806521cnIsn+AA3AG3Dl323znbfffFM6XNdC3gns6Sd8ekA7XBx1tGhQVlNvaGnmd7Fh/PGbNnxLocRxiGSgjQvanJZlszwN1TJEAbBndZToE+ywDZfbhrysBvoAugM1bK7iVRln2xgsTPQDagBgot/XMSQaSOaZtlNv20zKfP2UN9L4Ep+O20gPS4XxxM6YGCbBkxzH9T+d+yP+y5k8J9EMdu00n453G/o+CdJ2bEV6AGbB+0gVPazjOgyrzxyiH/awMfvPqN/vNErDmHcnnnHfhvCxGi/1Ist/X6ubPA0BTbsR3Zvq2l/Q9a6BvBfd0kr49IB0eR4dzx7tAWXbM7VMqr59PZc2fEuh+RpDzqt+G9oGsgd6X4HTcVnpAOhxDTwTKsuPQeUHlr+ZjWfOnBHq1Tpdzqp+27QNZA30ruKeT9O0B6XAMfREoy47bzhM6X7vPZc2fEuj2TpbzqV/G9oGsgd6X4HTcVnpAOhxDbwTKsuPYeUPnf9AHs+ZPCXSMwFZwxLNj1kDfCu7pJH17QDocI34FyrKjcnEZPpA1f0qgyzCqgkt2SH0ga6D3JTgdt5UekA7HiH+BsuyY6rh+j+MTWfOnBHocIyp41O/LfCBroG8F93SSvj0gHY6hBwJl2XGZrmv7dnwka/6UQG/HaAoO9fO6PpA10PsSnI7bSg9Ih2Pog0BZdlxX57X/MD6TNX9KoIcxkpxf/bqpD2QN9K3gnk7StwekwzH0QqAsO26q+zo+jw9lzZ8S6DxGkXOrH3P7QNZA70twOm4rPSAdjqEfAmXZMXceUHn9fCpr/pRA9zOCnFf9NrQPZA30reCeTtK3B6TDMfREoCw7Dp0XVP5qPpY1f0qgV+t0Oaf6ads+kDXQ+xKcjttKD0iHY+iLQFl23Hae0PnafS5r/pRAt3eynE/9MrYPZA30reCeTtK3B3Z3dx/A3vrU3Qe7e3uyYQA/lh3rjkN0FBvu7e1d11eTDxwnUBYQjg2EOn+7DwqUD0hV6B/S4fYYqE0biNna6qz6Hup7suOhfVKbn2TNnxrJqP/KCYfQJ14fcEW8s7NzWWhCVOPmPSBQrj8xAxICLNmxNqCMWt/coPxXUTtK7YohWlO1Y9ZAF5AW3QMC5RhaJVCWHaear0prd9b8KYGOEdilOanqs7lfZQ30ojFRlZMObx4vJWiOQFl2LMEPVYcH7+5kyywS6BiBrcCIZ0eBcjaZK74g6XCM+BUoy47KxWX4QNb8KYEuw6gKLtkh9YGsgV48Kk67gtLhGPEvUJYdUx3X73F8Imv+lECPY0QFj/p9mQ9kDfRpc2jxrZcOx9ADgbLsuEzXtX07PpI1f0qgt2M0BYf6eV0fyBroxaPitCsoHY6hDwJl2XFdndf+w/hM1vwpgR7GSHJ+9eumPpA10KfNocW3XjocQy8EyrLjprqv4/P4UNb8KYHOYxQ5t/oxtw9kDfTiUXHaFZQOx9APgbLsmDsPqLx+PpU1f0qg+xlBzqt+G9oHsgb6tDm0+NZLh2PoiUBZdhw6L6j81Xwsa/6UQK/W6XJO9dO2fSBroBePitOuoHQ4hr4IlGXHbecJna/d57LmTwl0eyfL+dQvY/tA1kCfNocW3/rIOvylb/6kecedn25e86Z3zZf8Hju2hjr/FED5s1/+/tyWQ/VhCeVGtuPdn/xa8/pb95o3v/39zafu/27oWMwm/JEFuoSAUx0E3H19QKCcTeaKLyiqDpOUH3/yac1sNtv/8Jv1feOi5OMiA5b1+7Muff7clvY74jKiHblAfcYlV+7HITF5xJFHNTffdmfYWMwm/FEFuqbgvefebzcf+fy3mi989YchHbYmW5RUV4FyNpkrvqCIOkxiBoqPOfa45vb3fGKubW/duWf+m/URR5YjApZpIva69Mpr9kHL1kdcRrTjC158w9x2L3vlzc0Xv/6j+cXqmWef1xx22OHNnR+9Pxx7ZM2fEQW6hsDFMS98+qXzKzo/2nL6GWeHv61Vg31KqGPWQC8eFaddwYg6zEgV2nbTG995IAnzm/URR7IiAhZa+O4P3deQm7DbcY8+Yb4sQSOHqkM0OzII97CHP6I5/ykXH4jFj9/3nfl6RpqH6suxys2aPyMK9FiGWfW8r7jp1vlVHI6Lg97w2tvmcPzcF12/L0IRHXfV/tF+D05XyRro0+bQ4lsfUYftNi9zWn1Mk7QBLm7h+/URvkcDLLOJAfItb7trbjd+27aIy2h2ZD4yNksvWrHdky542nzALpods+bPiAJdssG5BYnDcuuR6RZpXUkiOC774Nzpdv2ezpznrIFePCpOu4IRdfjU089sjn/Mia0axnq2R9OzaIBl9mFwh9v1/NYc5fpy0Euuf92cKXbed+8hMXfFVdfOt7XxiNm/xmXW/BlRoEs25Y8D1gAAE7xJREFUKsmBOUGLHmb54Ge+Md/nomc+Z9+pmcfME6qANLcs33LHhw/M8WMbV/s8Wc48QBO1tC+YZ2ZPoFMOt17SfQgYGwWyfYF2zp3uq9/DiWbWQJ82hxbf+og6/NgTT+qE4VNOfULD9mj6ERWUvZ0EysNpvu/nnN9tbnkbDF9z7avnoEyuz3nOscvKmj8jCvTYBuo6/3s/9pW5Qz75qc9e6pDs6x92IalwKxPQZrSZj83xu/ENt8/nGdl6lozY3HHX5w6cBzh/3Emn7B/Pfkz/YHK/rzPrmQZy1rkXHNiXh3KYq+b31ffhRDNroBePitOuYEQdRrPQkDaNYL1AeTjtaOvzXOsEyvXZzWwmUO6ZZyIKdC5ByF0OQAuEchtr3bJJKkAtD1Qwz4hbKYwaM4pMmUzSZ9SZcoFZpnYc/chj9keMGSHmIQw+jDizH6PQl1x+9fx4RqKtTpTHqDdl8tAhI8lWd56Stf20HFYwBco9Ra3CwyLqMJqFXrXpBBf8AuVh9aOt33OsM+jKUVapZUS7M6AR5Q2TQkSBLjX47BaHh1KrK0DKrY/0Y9tJKgBsOmWDhAP8ptMigGX2f+FLXzVPVIwa85spG1YmS0atGWXmY+vZD8hOp28AyWyz/bQcNtEJlDcUt4oOj6jDi6ZXoGdsj6Yh0QCrzT4C5WF1v63PN11n7NH2GjjuHpPX20abNz3vmMdnzZ8RBXpM4yw6tzlrGyin0xxwXA+lJBaA2JfPiDD7cGwK2PxmBPqMJ54zP8YeEORhwnRf22bzla1Mfy6+T0Eg0zaP+TtroFcEjVOsakQd5vWX3JlKL7j5jcawfcz4GuLcAuX6ILLND6LZ0e48s0zby1RQWMFP9Uz3qfF31vwZUaBLNSqATIJg2kRaR6ZDsN0+TJ1gX9sPUOZjv1lyBcg+iz52TDo3ue0YeyKWbcC3PxffBcrbTQJZA32K9FlRmyPqsL0vOX17jyXttldVpZpT2+9ogNXW/1PIA9HsyKAaF63pa2eZkslf52OwrM3WNa/Lmj8jCnSpxjWwtVHeRfW0EWbbZxEoI1yU3faxectM0eBhvLZ9bJ2N/AiUtwvEZuN0mTXQK4LGKVY1og6jJzxUjHbZlDGW/Ga96U3q9zX/jgZYbbYQKJeRH9pss2gddgOW7Y42kMxdHfI9d5kXHVvjtqz5M6JAl2xUbnPgmK+/dW+hY6bzgdtAmUTjp1f4dnMbhXnJ9qdjedUc5zVw9vvy9gyCxxKXQLkMIcwa6FOkz4raHFWHefMOzzugKWgYSy7Y0zfyeD2q+btAuQzt3NSHItqR55hsAI4YhB2Ixz4vF9i0f7dxfNb8GVWgt2GIPudg9JbEwZUdUzDsfcVWFq+Fs79ohSPb+jZQZptd3dur4mx/e3iPedGs4yE+ggJQ93ORGOHhPEz1sGPZT1Mvxhf8rIFeETROsaqRdRiN40IcLWKZap7pToRlRMBK7ULOiDgC6dsZ1Y7kfqZ5wh4AMrzh2x3pe9b8GVmgSzU6zmlzkIFUXqEEmPp5xEzP8E+odoEyc4+sLCCYZMRr3YBdyvBvw7C/wMM0jBe8+IaGV8YA7cxRsvnJ9JlAeXxIxg5ZA32K9FlRm6XDZcTcpjkjKmBt2i+1HS871h+PWfOnBHoch+DKjlFgpkQAuoAwAAu8tl2t8woXPm2CwwgNV4gAN+UAyPz2kGzHcU5Amv14PRPvUbb5g7YPo9TpHyFhGw/fsM3203JY38ka6BVB4xSrKh0eNpa2pVUCLNlxW76m8yz2taz5UwK9uLPljOqfsXwga6BPkT4rarN0OIbOCJRlx7Hyhc570Pey5k8J9MHOlbOpP0rxgayBXhE0TrGq0uEYuiNQlh1LyR9Tr0fW/CmBjhHYUw+KiO3PGuhTpM+K2iwdjqHDAmXZMWIuqrFNWfOnBDpGYNfoyKrzYt/LGugVQeMUqyodXhwLtWiFQFl2rMVXo9cza/6UQMcI7OhOP8X2ZQ30KdJnRW2WDsfQYYGy7DjFXFVim7PmTwl0jMAu0VFVp818K2ugVwSNU6yqdHizWClFawTKsmMpvjj1emTNnxLoGIE99aCI2P6sgT5F+qyozdLhGDosUJYdI+aiGtuUNX9KoGMEdo2OrDov9r2sgV4RNE6xqtLhxbFQi1YIlGXHWnw1ej2z5k8JdIzAju70U2xf1kCfIn1W1GbpcAwdFijLjlPMVSW2OWv+lEDHCOwSHVV12sy3sgZ6RdA4xapKhzeLlVK0RqAsO5bii1OvR9b8KYGOEdhTD4qI7c8a6FOkz4raLB2OocMCZdkxYi6qsU1Z86cEOkZg1+jIqvNi38sa6BVB4xSruru7+wD21qfuPtjd25MNA/ix7Fh3HKKj2HBvb++6LPlEoLwYVgRz6p+xfECgnEXiqihEOhxDZ4jZsfRC583nQ7Jjvr4cyy+z5k+NZNR/5YRD6BOvD7gi3tnZuawK0lMlN+oBgXL9iRkgEGDJjmOBoc570Pdyg/JfqYMPdrD6Q/1Rgg9kDfSNME4HD90DAuUYmiNQlh1LyB2qw4MXrdl0WwIdI7AVGPHsKFDOJnPFFyQdjhG/AmXZUbm4DB/Imj8l0GUYVcElO6Q+kDXQi0fFaVdQOhwj/gXKsmOq4/o9jk9kzZ8S6HGMqOBRvy/zgayBPm0OLb710uEYeiBQlh2X6bq2b8dHsuZPCfR2jKbgUD+v6wNZA714VJx2BaXDMfRBoCw7rqvz2n8Yn8maPyXQwxhJzq9+3dQHsgb6tDm0+NZLh2PohUBZdtxU93V8Hh/Kmj8l0HmMIudWP+b2gayBXjwqTruC0uEY+iFQlh1z5wGV18+nsuZPCXQ/I8h51W9D+0DWQJ82hxbfeulwDD0RKMuOQ+cFlb+aj2XNnxLo1Tpdzql+2rYPZA304lFx2hWUDsfQF4Gy7LjtPKHztftc1vwpgW7vZDmf+mVsH8ga6NPm0OJbLx2OoTcCZdlx7Lyh8z/og1nzpwQ6RmArOOLZMWugF4+K066gdDhG/AqUZUfl4jJ8IGv+lECXYVQFl+yQ+kDWQJ82hxbf+sg6fNMb39mc8cRzmseeeNJ8+Zo3vatJfT3K76ig/Nkvf7+54qprm1NOfcLcjhc+/dLmzo/eLzv+Zb1569Irr2me+6LrQ9swm/BHFugo4qt21CtGm9hOoJxN5oovKKoOv/Clr2pms1lzznkXNtdc++o5KPOb9ZvERqnHRgTlL3z1h3NAftjDH9EAVy948Q3N8Y85sTniyKOad3/oPtmxQlh+xU23zuPyWZc+P6T90Ies+TOqQJckpBc98znzq/DX37rX6ZSI0elnnN087qRTmo98/lud+6Xtuufeb8/LxvFtGyM3ka8UrZ3Rl1kDvXhUnHYFI+rw3Z/8WnPYYYc36J+PVUYjWf/Bz3zjwHq/T63fI4LyS65/3Ryq3nLHh/ft9fH7vtMc9+gT5jmrVlstqndEO9LeL379R83lz/vjuT25YBUor5h3Igr0ogAYYxsJg6vxox95TAPYttXBnBdRatvetQ6oxuEZrbF9ogeAtTP6UqC8oogF2C2iDttocjrq+N6PfWWuWRFHlSMCFoM3fFK9Nftiz3Rb7b8j2pE4ZBANPmAgLTonZM2fEQW6xCB9+Y23zB2T0ZS0fjvvu3e+jXl8X/rmTw7Znu7vfwuU407LyBroAWAychMi6jDTLbg97/XKvrOe7fY7yjIaYH3q/u92AhUjzMDWjW+4XXasYPoFzwacde4FzR13fW5uL4HyGhklokCXKLoAMCCMc97ytrv2hYVbIY8/+bR5Qum6FcmVIMcA1Ozv27cOKPNAxu3v+UTz5re//5Dbnghi25QPbrG1rWdknG2+LvqeF9oFymsIWeW7RtRhRq/4tOnCom1t+9eyLhook3vIWf6OpdmCh/m6ttk+tS6j2RE7pOwgUF4jaUQU6FKD06ZgHHPscQ3QSj3tFkjbVTkixS0vHNo+zAvzc8VWAWUgnfMwL9DKYcmIjsEuQsg6zun7j/Ox3sMy86mZSnLJ5Vcf2Ncfp++bQ7NAeQ0hq3zXiDoMDDOC1aYFZ559XidEt+1fy7pogPWOOz891/82ULbcEzEPRLNjW/yQ1zVHecXEEVGg25yilHU2BQNxYW4X8Hr+Uy4+JJkgQtyeBFTfunPPHKwZUWZUmmP4TptMrLyQpQFg858JCmCdY6gH5Zx6+pnz6R42OvCyV968XxdbR3n+lU6MSLOO0elS+jViPQTKK4pYgN0i6vAiUAagu0aba47laIAlUN58wKNUf045odR69q1X1vwZUaD7duw2jrMpGEAqUy4YXbZRXX9+XsODI6cjvEyRYDT3yU999kqgzBQJztU2sgMUewjmlT9+P7YD66z3V55APuvTWzm+/vq+ucBmDfQAMBm5CRF1GBBuewgMbWCbQHlzjRhaZ+35GT8QY+e0hzLbttk+tS6jXfC02UGgvEZGiSjQbU5R0jqbgoGj+vnKvo5ANKPJjP6mH14jB6iy/7IR5Ztvu3MOw7z035fPdwCdOjzjkivn24BzIJypFWxnagZAbq+3s+MBZzvG1mmZP+kJlNcQssp3jajD6Adv+mnTBtbrYb78mtHW15uss4f5yA1pOdzpJH/c8NrbDtmW7lvbb4Fy+b65zKey5s+IAr2sA0vYzsgtItNVF7Yt+zCiuwyU7R2Y3EJrOxfnsFFkplLwGwGkbKAZEWT+NOt52NAe7lj0Tui282jd+sKTNdArB8no1Y+ow/xhCtMNH/8MFLCe7X59hO8RAYuRf6bopfax3BLxL/RFtGNqP2LQ3ylOt9f+O2v+jCjQNRh4GSgDqfy5UAC360M7l4Gy/QUe4DftF6aBECxPuuBp823AMSPVzGm20QKSGoDMfgAzt9n8qHNapn6vD8RdfZY10KOTZuXti6jD9oxDmoz5jZ4IsPJpRZeG5FhvD5z7Z1K46whAc+czxzlKK0OgXIdvLvKbrPkzokAv6rxSti0DZa7guT3ZNg+Yt14Y+C4DZQPetj9kYqPDV1x17b7YMc0C8WO0h6kf1l+IItuY9hHxlqm1s6Rl1kCvHCSjVz+qDvM8A1DM++O50GbJ77Zb+SXFXt+6RAQs3tCE/jOIQl5g8IUcwbMvXXcq+/ZfKcdFtGPat8RhehGb7lPz76z5M6pAl27gZaBsD9qlgAvcIlAGq8tAGdAGePn4hwYZTeZtGwSLvYCcPmNKBesQRh9EJDzAnW1tr7Irvb9rrF/WQI9OmpW3L6oOozNoGGCFdrDkN+trjMlldY4KWDwUTj7g4XPuKPJ6v6iQjI2j2tH7Lwzi33Llt0X4njV/RhXo0g29DJQBXMSI5MIDdcwVZuSXq3o+dttyGSjTD4xAA9fAMn92lFfD2R8/4baa7yse3mBfzutfCWcPBbK+689w+3L0ffNbV1kDvXKQjF596fDm8VKC5kwBsEro56HrIDvWH49Z86cEehyHAHqB5UUBDywz+sJcZeCYUV7eNsG8YTuOUWLK8VDbdqXIa34Abt5YwcgwEN71QB63RSnDAzEAzTpGlu3cWg7rO1kDPTppVt4+6fCwsbQtrRJgyY7b8jWdZ7GvZc2fEujFnS1nVP+M5QNZA71ykIxefelwDJ0RKMuOY+ULnfeg72XNnxLog50rZ1N/lOIDWQM9OmlW3j7pcAzdESjLjqXkj6nXI2v+lEDHCOypB0XE9mcN9MpBMnr1pcMxdFigLDtGzEU1tilr/pRAxwjsGh1ZdV7se1kDPTppVt4+6fDiWKhFKwTKsmMtvhq9nlnzpwQ6RmBHd/opti9roFcOktGrLx2OocMCZdlxirmqxDZnzZ8S6BiBXaKjqk6b+VbWQI9OmpW3Tzq8WayUojUCZdmxFF+cej2y5k8JdIzAnnpQRGx/1kCvHCSjV186HEOHBcqyY8RcVGObsuZPCXSMwK7RkVXnxb6XNdCjk2bl7ZMOL46FWrRCoCw71uKr0euZNX9KoGMEdnSnn2L7sgZ65SAZvfrS4Rg6LFCWHaeYq0psc9b8KYGOEdglOqrqtJlvZQ306KRZefukw5vFSilaI1CWHUvxxanXI2v+lEDHCOypB0XE9mcN9MpBMnr1pcMxdFigLDtGzEU1tilr/pRAxwjsGh1ZdV7se1kDPTppVt4+6fDiWKhFKwTKsmMtvhq9nlnzpwQ6RmBHd/opti9roFcOktGrv7u7+wD21qfuPtjd25MNA/ix7Fh3HKKj2HBvb++6LLlDAl2/Qyi5xrQhgb6zs3NZlkBXIUX3gAYsYgxYoMVTvKiP1mbZsf54xIbZRD8bcWerkQpSD6gH6AHF5nT8QKBcf2IGFgVYsmO0i4Za25MVlKeTitRS9YB6QD1QZg8IlAVYtQJJxHrrgqf+eBQol5nrVCv1gHpAPdCrBwTK9SdmgFGAJTtGvHCosU0C5V6pSAepB9QD6oEye0CgLMCqEUai1lkXPPXHo0C5zFynWqkH1APqgV49IFCuPzEDjQIs2THqxUNt7RIo90pFOkg9oB5QD5TZAwJlAVZtIBK5vrrgqT8eBcpl5jrVSj2gHlAP9OoBgXL9iRlwFGDJjpEvIGpqm0C5VyrSQeoB9YB6oMweECgLsGqCkOh11QVP/fEoUC4z16lW6gH1gHqgVw8IlOtPzMCjAEt2jH4RUUv7BMq9UpEOUg+oB9QDZfaAQFmAVQuATKGeuuCpPx4FymXmOtVKPaAeUA/06gGBcv2JGYAUYMmOU7iQqKGN64Dy/wfS09wAfDK5IAAAAABJRU5ErkJggg==)\n",
        "\n",
        "Where a word (colour in this case) will be converted into numbers, in application it will be converted into a matrix/vector.\n"
      ],
      "metadata": {
        "id": "EsPuvOCZUeh9"
      }
    },
    {
      "cell_type": "markdown",
      "source": [
        "> A method that provides information on how important a word is in a sample data or document in a dataset.\n",
        "\n",
        "To fulfil the needs of the method requested above, **TF-IDF** will be used.\n",
        "\n",
        "> The method of representing words into a set of vectors that describe their use in context, the vector size is 50, and the frequency of words that are taken into account is at least 3. The resulting vector must be based on training results with word input and target context output.\n",
        "\n",
        "To fulfil the requirements of the method requested above, **Word2Vec** will be used."
      ],
      "metadata": {
        "id": "2trK1WptWWez"
      }
    },
    {
      "cell_type": "markdown",
      "source": [
        "### TF-IDF\n",
        "The **TF-IDF** (Term Frequency-Inverse Document Frequency) method is a technique used in **NLP** to give **weight** to words in a document by considering **how often** the word appears in the document and **how common** the word is across the document collection.\n",
        "\n",
        "Using **TF-IDF**, words that appear frequently in one document but rarely appear in another document will have a high weight, thus indicating their importance in a particular document.\n",
        "\n",
        "For example, consider two documents:\n",
        "- Document A with the text \"**cats like to drink milk**\"\n",
        "- Document B with the text \"**dogs like to play ball**\".\n",
        "\n",
        "The word \"**cat**\" will have a high TF-IDF in document A and low in document B, while the word \"dog\" will have the opposite. Thus, the TF-IDF method helps in **extracting relevant** information from the text by giving appropriate weights to the words appearing in the document."
      ],
      "metadata": {
        "id": "p6QkJ8rMSmvb"
      }
    },
    {
      "cell_type": "markdown",
      "source": [
        "**TF-IDF** will be performed using the **sklearn** library.\n",
        "Method `TfidfVectorizer()` when applied to documents/corpus with function `.fit_transform()`, will produce a matrix of size `(len(df[\"clean_text\"]), max_features)`. Above we set `max_feature = 1000`, to get the top 1000 terms with the largest term frequency."
      ],
      "metadata": {
        "id": "5WB88IctYHrF"
      }
    },
    {
      "cell_type": "code",
      "source": [
        "from sklearn.feature_extraction.text import TfidfVectorizer\n",
        "tfidf_vect = TfidfVectorizer(max_features=1000)\n",
        "tfidf_vect.fit(df[\"clean_text\"])"
      ],
      "metadata": {
        "id": "sAFXesk8SvTK",
        "colab": {
          "base_uri": "https://localhost:8080/",
          "height": 75
        },
        "outputId": "a62fc7ca-8a4c-4425-9fba-44bc8facc8cb"
      },
      "execution_count": 24,
      "outputs": [
        {
          "output_type": "execute_result",
          "data": {
            "text/plain": [
              "TfidfVectorizer(max_features=1000)"
            ],
            "text/html": [
              "<style>#sk-container-id-1 {color: black;background-color: white;}#sk-container-id-1 pre{padding: 0;}#sk-container-id-1 div.sk-toggleable {background-color: white;}#sk-container-id-1 label.sk-toggleable__label {cursor: pointer;display: block;width: 100%;margin-bottom: 0;padding: 0.3em;box-sizing: border-box;text-align: center;}#sk-container-id-1 label.sk-toggleable__label-arrow:before {content: \"▸\";float: left;margin-right: 0.25em;color: #696969;}#sk-container-id-1 label.sk-toggleable__label-arrow:hover:before {color: black;}#sk-container-id-1 div.sk-estimator:hover label.sk-toggleable__label-arrow:before {color: black;}#sk-container-id-1 div.sk-toggleable__content {max-height: 0;max-width: 0;overflow: hidden;text-align: left;background-color: #f0f8ff;}#sk-container-id-1 div.sk-toggleable__content pre {margin: 0.2em;color: black;border-radius: 0.25em;background-color: #f0f8ff;}#sk-container-id-1 input.sk-toggleable__control:checked~div.sk-toggleable__content {max-height: 200px;max-width: 100%;overflow: auto;}#sk-container-id-1 input.sk-toggleable__control:checked~label.sk-toggleable__label-arrow:before {content: \"▾\";}#sk-container-id-1 div.sk-estimator input.sk-toggleable__control:checked~label.sk-toggleable__label {background-color: #d4ebff;}#sk-container-id-1 div.sk-label input.sk-toggleable__control:checked~label.sk-toggleable__label {background-color: #d4ebff;}#sk-container-id-1 input.sk-hidden--visually {border: 0;clip: rect(1px 1px 1px 1px);clip: rect(1px, 1px, 1px, 1px);height: 1px;margin: -1px;overflow: hidden;padding: 0;position: absolute;width: 1px;}#sk-container-id-1 div.sk-estimator {font-family: monospace;background-color: #f0f8ff;border: 1px dotted black;border-radius: 0.25em;box-sizing: border-box;margin-bottom: 0.5em;}#sk-container-id-1 div.sk-estimator:hover {background-color: #d4ebff;}#sk-container-id-1 div.sk-parallel-item::after {content: \"\";width: 100%;border-bottom: 1px solid gray;flex-grow: 1;}#sk-container-id-1 div.sk-label:hover label.sk-toggleable__label {background-color: #d4ebff;}#sk-container-id-1 div.sk-serial::before {content: \"\";position: absolute;border-left: 1px solid gray;box-sizing: border-box;top: 0;bottom: 0;left: 50%;z-index: 0;}#sk-container-id-1 div.sk-serial {display: flex;flex-direction: column;align-items: center;background-color: white;padding-right: 0.2em;padding-left: 0.2em;position: relative;}#sk-container-id-1 div.sk-item {position: relative;z-index: 1;}#sk-container-id-1 div.sk-parallel {display: flex;align-items: stretch;justify-content: center;background-color: white;position: relative;}#sk-container-id-1 div.sk-item::before, #sk-container-id-1 div.sk-parallel-item::before {content: \"\";position: absolute;border-left: 1px solid gray;box-sizing: border-box;top: 0;bottom: 0;left: 50%;z-index: -1;}#sk-container-id-1 div.sk-parallel-item {display: flex;flex-direction: column;z-index: 1;position: relative;background-color: white;}#sk-container-id-1 div.sk-parallel-item:first-child::after {align-self: flex-end;width: 50%;}#sk-container-id-1 div.sk-parallel-item:last-child::after {align-self: flex-start;width: 50%;}#sk-container-id-1 div.sk-parallel-item:only-child::after {width: 0;}#sk-container-id-1 div.sk-dashed-wrapped {border: 1px dashed gray;margin: 0 0.4em 0.5em 0.4em;box-sizing: border-box;padding-bottom: 0.4em;background-color: white;}#sk-container-id-1 div.sk-label label {font-family: monospace;font-weight: bold;display: inline-block;line-height: 1.2em;}#sk-container-id-1 div.sk-label-container {text-align: center;}#sk-container-id-1 div.sk-container {/* jupyter's `normalize.less` sets `[hidden] { display: none; }` but bootstrap.min.css set `[hidden] { display: none !important; }` so we also need the `!important` here to be able to override the default hidden behavior on the sphinx rendered scikit-learn.org. See: https://github.com/scikit-learn/scikit-learn/issues/21755 */display: inline-block !important;position: relative;}#sk-container-id-1 div.sk-text-repr-fallback {display: none;}</style><div id=\"sk-container-id-1\" class=\"sk-top-container\"><div class=\"sk-text-repr-fallback\"><pre>TfidfVectorizer(max_features=1000)</pre><b>In a Jupyter environment, please rerun this cell to show the HTML representation or trust the notebook. <br />On GitHub, the HTML representation is unable to render, please try loading this page with nbviewer.org.</b></div><div class=\"sk-container\" hidden><div class=\"sk-item\"><div class=\"sk-estimator sk-toggleable\"><input class=\"sk-toggleable__control sk-hidden--visually\" id=\"sk-estimator-id-1\" type=\"checkbox\" checked><label for=\"sk-estimator-id-1\" class=\"sk-toggleable__label sk-toggleable__label-arrow\">TfidfVectorizer</label><div class=\"sk-toggleable__content\"><pre>TfidfVectorizer(max_features=1000)</pre></div></div></div></div></div>"
            ]
          },
          "metadata": {},
          "execution_count": 24
        }
      ]
    },
    {
      "cell_type": "markdown",
      "source": [
        "Once trained, the `transform` method is used to convert the text into **a TF-IDF** matrix. The result is a sparse matrix that shows the TF-IDF weight of each word in each document."
      ],
      "metadata": {
        "id": "nlFBcp1Wafe0"
      }
    },
    {
      "cell_type": "code",
      "source": [
        "x_tfidf = tfidf_vect.transform(df[\"clean_text\"])\n",
        "print(x_tfidf)"
      ],
      "metadata": {
        "id": "_w6-ovy_SoZ-",
        "colab": {
          "base_uri": "https://localhost:8080/"
        },
        "outputId": "b41b5404-7da5-449d-8f26-2dae61bfb9b7"
      },
      "execution_count": 25,
      "outputs": [
        {
          "output_type": "stream",
          "name": "stdout",
          "text": [
            "  (0, 909)\t0.41321006929200754\n",
            "  (0, 677)\t0.334257289931341\n",
            "  (0, 586)\t0.43337014195541296\n",
            "  (0, 371)\t0.4194051653335505\n",
            "  (0, 91)\t0.407442572859142\n",
            "  (0, 79)\t0.43337014195541296\n",
            "  (1, 975)\t0.27087579893483127\n",
            "  (1, 876)\t0.2556157144089162\n",
            "  (1, 839)\t0.2809960676638709\n",
            "  (1, 732)\t0.23117051131296876\n",
            "  (1, 677)\t0.18134495496206662\n",
            "  (1, 556)\t0.24421780694213752\n",
            "  (1, 481)\t0.5880867265860794\n",
            "  (1, 409)\t0.27087579893483127\n",
            "  (1, 401)\t0.2940433632930397\n",
            "  (1, 73)\t0.2556157144089162\n",
            "  (1, 12)\t0.2556157144089162\n",
            "  (2, 732)\t0.35961052489772516\n",
            "  (2, 678)\t0.3271897242966629\n",
            "  (2, 671)\t0.21073133398921276\n",
            "  (2, 657)\t0.3539633734371024\n",
            "  (2, 437)\t0.42137635844550986\n",
            "  (2, 156)\t0.43711952191859177\n",
            "  (2, 146)\t0.3271897242966629\n",
            "  (2, 91)\t0.34386736142464325\n",
            "  :\t:\n",
            "  (716, 363)\t0.2813848983398858\n",
            "  (716, 350)\t0.5494365991113813\n",
            "  (716, 131)\t0.28908092183309486\n",
            "  (717, 631)\t0.6392276989710746\n",
            "  (717, 213)\t0.5216465940462917\n",
            "  (717, 105)\t0.5650422814162216\n",
            "  (718, 886)\t0.2668013546879893\n",
            "  (718, 562)\t0.3781285223702527\n",
            "  (718, 479)\t0.3276359946299368\n",
            "  (718, 324)\t0.34476947646058903\n",
            "  (718, 257)\t0.3900348812145324\n",
            "  (718, 213)\t0.318290912099567\n",
            "  (718, 105)\t0.34476947646058903\n",
            "  (718, 95)\t0.318290912099567\n",
            "  (718, 56)\t0.2932799190490113\n",
            "  (719, 910)\t0.48784784051145874\n",
            "  (719, 256)\t0.6284673750672766\n",
            "  (719, 27)\t0.6058326856355255\n",
            "  (720, 898)\t0.4229478199071545\n",
            "  (720, 894)\t0.37563054622180597\n",
            "  (720, 682)\t0.4229478199071545\n",
            "  (720, 572)\t0.3035397481704712\n",
            "  (720, 415)\t0.4229478199071545\n",
            "  (720, 324)\t0.36039778644901777\n",
            "  (720, 146)\t0.31658201852871926\n"
          ]
        }
      ]
    },
    {
      "cell_type": "markdown",
      "source": [
        "### Word2Vec\n",
        "The **Word2Vec** method is an approach in **NLP** used to generate **vector representations** of words based on the context in which they appear in a text. In Word2Vec, words that frequently co-occur or have similar contexts will have vector representations that are close to each other in vector space.\n",
        "\n",
        "For example, in the sentence \"**cats like to drink milk**\", the words \"**cats**\" and \"**milk**\" will most likely have vector representations that are **close** to each other because they often appear in the same context. Similarly, words that have different contexts will have different vector representations.\n",
        "\n",
        "By using the **Word2Vec** method, the model can understand the meaning of a word based on its **context in a text**."
      ],
      "metadata": {
        "id": "z068yiGYdOlw"
      }
    },
    {
      "cell_type": "markdown",
      "source": [
        "For the implementation of **Word2Vec**, the **Gensim** library will be used. First of all, the Word2Vec model is initialised with parameters such as `vector_size` to specify the dimension of the word representation vector, `min_count` to specify the minimum number of word occurrences to be considered in model building, `epochs` to specify the number of learning iterations, and `workers` to specify the number of processes to be used during training, usually adjusted to the number of CPUs available."
      ],
      "metadata": {
        "id": "CN0E9raCZaeN"
      }
    },
    {
      "cell_type": "code",
      "source": [
        "import multiprocessing\n",
        "from gensim.models import Word2Vec\n",
        "word2vec_model = Word2Vec(\n",
        "  vector_size=50,\n",
        "  min_count=3,\n",
        "  epochs=100,\n",
        "  workers=multiprocessing.cpu_count()-1\n",
        ")"
      ],
      "metadata": {
        "id": "vptdv82Xbi3i"
      },
      "execution_count": 26,
      "outputs": []
    },
    {
      "cell_type": "markdown",
      "source": [
        "Next, the vocabulary model is built by inserting tokens from the `token_text` column. Then, the model is trained by calling the `train` method using tokens from the same column. The total number of examples is calculated based on the number of tokens in `corpus_count` that have been collected during the previous vocabulary building process."
      ],
      "metadata": {
        "id": "zB6Wr3g3ZyYo"
      }
    },
    {
      "cell_type": "code",
      "source": [
        "word2vec_model.build_vocab(\n",
        "  df['token_text'].tolist()\n",
        ")"
      ],
      "metadata": {
        "id": "sQ_sY1yWSKyI"
      },
      "execution_count": 27,
      "outputs": []
    },
    {
      "cell_type": "code",
      "source": [
        "word2vec_model.train(\n",
        "  df['token_text'].tolist(),\n",
        "  total_examples=word2vec_model.corpus_count,\n",
        "  epochs=word2vec_model.epochs\n",
        ")"
      ],
      "metadata": {
        "colab": {
          "base_uri": "https://localhost:8080/"
        },
        "id": "IOwBVitg-Tx8",
        "outputId": "04f9a8f7-150b-4206-e166-312e09633f79"
      },
      "execution_count": 28,
      "outputs": [
        {
          "output_type": "execute_result",
          "data": {
            "text/plain": [
              "(591461, 889700)"
            ]
          },
          "metadata": {},
          "execution_count": 28
        }
      ]
    },
    {
      "cell_type": "markdown",
      "source": [
        "After the model is trained, the process of calculating **embedding** for each sentence in `df['token_text']` is performed. For each sentence, each token is iterated. If the token exists in the model vocabulary (`word2vec_model.wv`), then it is put into the `valid_tokens` list. Then, if there are valid tokens in the sentence, the average of the representation vectors of the valid words is calculated using numpy, and the result is inserted into the `x_word2vec` list containing the **embedding** for each sentence.\n",
        "\n",
        "In this way, the code generates a **representation vector** for each sentence in the DataFrame `df['token_text']` using the trained **Word2Vec** model."
      ],
      "metadata": {
        "id": "2iQrk_mXZ2aS"
      }
    },
    {
      "cell_type": "code",
      "source": [
        "x_word2vec = []\n",
        "\n",
        "i = 0\n",
        "for sentence in df['token_text']:\n",
        "  sentence_embedding = []\n",
        "  valid_tokens = []\n",
        "  for token in sentence:\n",
        "    if token in word2vec_model.wv:\n",
        "      valid_tokens.append(token)\n",
        "  if valid_tokens:\n",
        "    sentence_embedding = np.mean([word2vec_model.wv[token] for token in valid_tokens], axis=0)\n",
        "    x_word2vec.append(sentence_embedding)\n",
        "  else:\n",
        "    print(token)\n",
        "    print(sentence)\n",
        "    print(i)\n",
        "  i+=1"
      ],
      "metadata": {
        "id": "OcX-RAvxzI2J"
      },
      "execution_count": 29,
      "outputs": []
    },
    {
      "cell_type": "markdown",
      "source": [
        "### SVM & RFC w/ TF-IDF\n",
        "Now we start to perform text classification using **SVM** and **Random Forest** with a vectoriser of **TF-IDF**. As with any machine learning model, we will start by creating training and testing data, in this case we use `train_test_split` with a ratio of **70:30 = train:test**."
      ],
      "metadata": {
        "id": "6261ZSulV7HT"
      }
    },
    {
      "cell_type": "code",
      "source": [
        "from sklearn.metrics import accuracy_score, precision_score, recall_score, f1_score\n",
        "from sklearn import svm\n",
        "from sklearn.ensemble import RandomForestClassifier\n",
        "from sklearn.model_selection import GridSearchCV, train_test_split"
      ],
      "metadata": {
        "id": "eBwxV_DPWfuK"
      },
      "execution_count": 30,
      "outputs": []
    },
    {
      "cell_type": "code",
      "source": [
        "tfidf_train_X, tfidf_test_X, tfidf_train_Y, tfidf_test_Y = train_test_split(x_tfidf,y_encoded,test_size=0.3)"
      ],
      "metadata": {
        "id": "CP0EVFj63u1w",
        "execution": {
          "iopub.status.busy": "2024-04-22T11:35:17.447067Z",
          "iopub.execute_input": "2024-04-22T11:35:17.447428Z",
          "iopub.status.idle": "2024-04-22T11:35:17.465328Z",
          "shell.execute_reply.started": "2024-04-22T11:35:17.447397Z",
          "shell.execute_reply": "2024-04-22T11:35:17.464253Z"
        },
        "trusted": true
      },
      "execution_count": 31,
      "outputs": []
    },
    {
      "cell_type": "code",
      "source": [
        "tfidf_svm_model = svm.SVC()\n",
        "tfidf_svm_model.fit(tfidf_train_X,tfidf_train_Y)\n",
        "tfidf_svm_predictions = tfidf_svm_model.predict(tfidf_test_X)\n",
        "print(\"SVM Accuracy Score: \", accuracy_score(tfidf_svm_predictions, tfidf_test_Y)*100)"
      ],
      "metadata": {
        "colab": {
          "base_uri": "https://localhost:8080/"
        },
        "id": "-sEVp31m5kV3",
        "outputId": "fcd404a2-0441-4e89-9344-e57e00c2e966",
        "execution": {
          "iopub.status.busy": "2024-04-22T11:35:17.553255Z",
          "iopub.execute_input": "2024-04-22T11:35:17.553628Z",
          "iopub.status.idle": "2024-04-22T11:35:17.590975Z",
          "shell.execute_reply.started": "2024-04-22T11:35:17.553597Z",
          "shell.execute_reply": "2024-04-22T11:35:17.589716Z"
        },
        "trusted": true
      },
      "execution_count": 32,
      "outputs": [
        {
          "output_type": "stream",
          "name": "stdout",
          "text": [
            "SVM Accuracy Score:  83.41013824884793\n"
          ]
        }
      ]
    },
    {
      "cell_type": "code",
      "source": [
        "tfidf_rfc_model = RandomForestClassifier()\n",
        "tfidf_rfc_model.fit(tfidf_train_X,tfidf_train_Y)\n",
        "tfidf_rfc_predictions = tfidf_rfc_model.predict(tfidf_test_X)\n",
        "print(\"RFC Accuracy Score: \",accuracy_score(tfidf_rfc_predictions, tfidf_test_Y)*100)"
      ],
      "metadata": {
        "colab": {
          "base_uri": "https://localhost:8080/"
        },
        "id": "eTUQwFPqp8Lq",
        "outputId": "8610fbf1-4d0a-4a62-a0f4-0f1277e6a271"
      },
      "execution_count": 33,
      "outputs": [
        {
          "output_type": "stream",
          "name": "stdout",
          "text": [
            "RFC Accuracy Score:  81.5668202764977\n"
          ]
        }
      ]
    },
    {
      "cell_type": "markdown",
      "source": [
        "Next we will do hyperparameter tuning for the **SVM** and **Random Forest** models. We will also see if the **accuracy** after this stage **remains the same**/**higher**/**lower** and look at the **parameters** used."
      ],
      "metadata": {
        "id": "i1RMKqy1dWfD"
      }
    },
    {
      "cell_type": "code",
      "source": [
        "param_grid = {\n",
        "    'C': [0.1, 1, 10, 100, 1000],                   # Regularization parameter\n",
        "    'kernel': ['linear', 'poly', 'rbf', 'sigmoid'], # Kernel type\n",
        "    'gamma': ['scale', 'auto'],                     # Kernel coefficient\n",
        "    'degree': [2, 3, 4]                             # Polynomial degree (only for 'poly' kernel)\n",
        "}\n",
        "\n",
        "tfidf_grid_svm = GridSearchCV(svm.SVC(), param_grid, cv=5, scoring='accuracy')\n",
        "tfidf_grid_svm.fit(tfidf_train_X,tfidf_train_Y)\n",
        "\n",
        "print(\"Best Parameters:\", tfidf_grid_svm.best_params_)\n",
        "print(\"Current Parameters:\", tfidf_grid_svm.best_estimator_.get_params())"
      ],
      "metadata": {
        "colab": {
          "base_uri": "https://localhost:8080/"
        },
        "id": "S6m_ur6sWajw",
        "outputId": "1f139334-9f92-40f4-9cac-f9d642106cc8"
      },
      "execution_count": 34,
      "outputs": [
        {
          "output_type": "stream",
          "name": "stdout",
          "text": [
            "Best Parameters: {'C': 1000, 'degree': 2, 'gamma': 'auto', 'kernel': 'rbf'}\n",
            "Current Parameters: {'C': 1000, 'break_ties': False, 'cache_size': 200, 'class_weight': None, 'coef0': 0.0, 'decision_function_shape': 'ovr', 'degree': 2, 'gamma': 'auto', 'kernel': 'rbf', 'max_iter': -1, 'probability': False, 'random_state': None, 'shrinking': True, 'tol': 0.001, 'verbose': False}\n"
          ]
        }
      ]
    },
    {
      "cell_type": "code",
      "source": [
        "tfidf_grid_svm_predictions = tfidf_grid_svm.predict(tfidf_test_X)\n",
        "print(\"SVM Accuracy Score (After Parameter Tuning): \", accuracy_score(tfidf_grid_svm_predictions, tfidf_test_Y)*100)"
      ],
      "metadata": {
        "colab": {
          "base_uri": "https://localhost:8080/"
        },
        "id": "XuPx5CWrW2Wr",
        "outputId": "1d480514-5d15-49e8-ea27-9fabbc24d6db"
      },
      "execution_count": 35,
      "outputs": [
        {
          "output_type": "stream",
          "name": "stdout",
          "text": [
            "SVM Accuracy Score (After Parameter Tuning):  88.47926267281106\n"
          ]
        }
      ]
    },
    {
      "cell_type": "code",
      "source": [
        "param_grid = {\n",
        "    'n_estimators' : [90, 100, 115, 130],   # Number of decision trees\n",
        "    'criterion': ['gini', 'entropy'],       # Splitting criteria\n",
        "    'max_features': ['log2', 'sqrt', None]  # Number of features to consider\n",
        "}\n",
        "\n",
        "tfidf_grid_rfc = GridSearchCV(RandomForestClassifier(), param_grid, cv=5, scoring='accuracy')\n",
        "tfidf_grid_rfc.fit(tfidf_train_X, tfidf_train_Y)\n",
        "\n",
        "print(\"Best Parameters:\", tfidf_grid_rfc.best_params_)\n",
        "print(\"Current Parameters:\", tfidf_grid_rfc.best_estimator_.get_params())"
      ],
      "metadata": {
        "colab": {
          "base_uri": "https://localhost:8080/"
        },
        "id": "KG5LYvnNZGN-",
        "outputId": "b7e496c3-a550-432e-994c-b809f0ee1f92"
      },
      "execution_count": 36,
      "outputs": [
        {
          "output_type": "stream",
          "name": "stdout",
          "text": [
            "Best Parameters: {'criterion': 'entropy', 'max_features': 'log2', 'n_estimators': 130}\n",
            "Current Parameters: {'bootstrap': True, 'ccp_alpha': 0.0, 'class_weight': None, 'criterion': 'entropy', 'max_depth': None, 'max_features': 'log2', 'max_leaf_nodes': None, 'max_samples': None, 'min_impurity_decrease': 0.0, 'min_samples_leaf': 1, 'min_samples_split': 2, 'min_weight_fraction_leaf': 0.0, 'n_estimators': 130, 'n_jobs': None, 'oob_score': False, 'random_state': None, 'verbose': 0, 'warm_start': False}\n"
          ]
        }
      ]
    },
    {
      "cell_type": "code",
      "source": [
        "tfidf_grid_rfc_predictions = tfidf_grid_rfc.predict(tfidf_test_X)\n",
        "print(\"RFC Accuracy Score (After Parameter Tuning): \", accuracy_score(tfidf_grid_rfc_predictions, tfidf_test_Y)*100)"
      ],
      "metadata": {
        "colab": {
          "base_uri": "https://localhost:8080/"
        },
        "id": "ixCh4Z4aZUcN",
        "outputId": "ac17e092-c607-416d-f644-a307e74989bf"
      },
      "execution_count": 37,
      "outputs": [
        {
          "output_type": "stream",
          "name": "stdout",
          "text": [
            "RFC Accuracy Score (After Parameter Tuning):  84.7926267281106\n"
          ]
        }
      ]
    },
    {
      "cell_type": "markdown",
      "source": [
        "### SVM & RFC w/ Word2Vec\n",
        "Now we start to perform text classification using **SVM** and **Random Forest** with the vectoriser from **Word2Vec**. As before, we will start by creating training and testing data, in this case we use `train_test_split` with a ratio of **70:30 = train:test**."
      ],
      "metadata": {
        "id": "tQ6i17TGVtv7"
      }
    },
    {
      "cell_type": "code",
      "source": [
        "word2vec_train_X, word2vec_test_X, word2vec_train_Y, word2vec_test_Y = train_test_split(x_word2vec,y_encoded,test_size=0.3)"
      ],
      "metadata": {
        "id": "wDMoeCGHlt5d"
      },
      "execution_count": 38,
      "outputs": []
    },
    {
      "cell_type": "code",
      "source": [
        "word2vec_svm_model = svm.SVC()\n",
        "word2vec_svm_model.fit(word2vec_train_X,word2vec_train_Y)\n",
        "word2vec_svm_predictions = word2vec_svm_model.predict(word2vec_test_X)\n",
        "print(\"SVM Accuracy Score: \", accuracy_score(word2vec_svm_predictions, word2vec_test_Y)*100)"
      ],
      "metadata": {
        "colab": {
          "base_uri": "https://localhost:8080/"
        },
        "id": "FmAn3Dl6l4YP",
        "outputId": "e4706753-7d54-49ad-f603-4160d03212f7"
      },
      "execution_count": 39,
      "outputs": [
        {
          "output_type": "stream",
          "name": "stdout",
          "text": [
            "SVM Accuracy Score:  84.7926267281106\n"
          ]
        }
      ]
    },
    {
      "cell_type": "code",
      "source": [
        "word2vec_rfc_model = RandomForestClassifier()\n",
        "word2vec_rfc_model.fit(word2vec_train_X,word2vec_train_Y)\n",
        "word2vec_rfc_predictions = word2vec_rfc_model.predict(word2vec_test_X)\n",
        "print(\"RFC Accuracy Score: \",accuracy_score(word2vec_rfc_predictions, word2vec_test_Y)*100)"
      ],
      "metadata": {
        "colab": {
          "base_uri": "https://localhost:8080/"
        },
        "id": "SlSvA0vtZrkV",
        "outputId": "7895545f-2f24-46da-9904-6aedcc7b15aa"
      },
      "execution_count": 40,
      "outputs": [
        {
          "output_type": "stream",
          "name": "stdout",
          "text": [
            "RFC Accuracy Score:  87.55760368663594\n"
          ]
        }
      ]
    },
    {
      "cell_type": "markdown",
      "source": [
        "Next we will perform hyperparameter tuning for both models. We will also see if the **accuracy** after this stage **remains the same**/**higher**/**lower** and look at the **parameters** used."
      ],
      "metadata": {
        "id": "v7a407wEeHDN"
      }
    },
    {
      "cell_type": "code",
      "source": [
        "param_grid = {\n",
        "    'C': [0.1, 1, 10, 100, 1000],                   # Regularization parameter\n",
        "    'kernel': ['linear', 'poly', 'rbf', 'sigmoid'], # Kernel type\n",
        "    'gamma': ['scale', 'auto'],                     # Kernel coefficient\n",
        "    'degree': [2, 3, 4]                             # Polynomial degree (only for 'poly' kernel)\n",
        "}\n",
        "\n",
        "word2vec_grid_svm = GridSearchCV(svm.SVC(), param_grid, cv=5, scoring='accuracy')\n",
        "word2vec_grid_svm.fit(word2vec_train_X,word2vec_train_Y)\n",
        "\n",
        "print(\"Best Parameters:\", word2vec_grid_svm.best_params_)\n",
        "print(\"Current Parameters:\", word2vec_grid_svm.best_estimator_.get_params())"
      ],
      "metadata": {
        "colab": {
          "base_uri": "https://localhost:8080/"
        },
        "id": "zUnChuIkjiAL",
        "outputId": "ab0ae96f-cf72-4cf1-a23d-c0dc83e63fb6"
      },
      "execution_count": 41,
      "outputs": [
        {
          "output_type": "stream",
          "name": "stdout",
          "text": [
            "Best Parameters: {'C': 10, 'degree': 2, 'gamma': 'scale', 'kernel': 'rbf'}\n",
            "Current Parameters: {'C': 10, 'break_ties': False, 'cache_size': 200, 'class_weight': None, 'coef0': 0.0, 'decision_function_shape': 'ovr', 'degree': 2, 'gamma': 'scale', 'kernel': 'rbf', 'max_iter': -1, 'probability': False, 'random_state': None, 'shrinking': True, 'tol': 0.001, 'verbose': False}\n"
          ]
        }
      ]
    },
    {
      "cell_type": "code",
      "source": [
        "word2vec_grid_svm_predictions = word2vec_grid_svm.predict(word2vec_test_X)\n",
        "print(\"SVM Accuracy Score (After Parameter Tuning): \", accuracy_score(word2vec_grid_svm_predictions, word2vec_test_Y)*100)"
      ],
      "metadata": {
        "colab": {
          "base_uri": "https://localhost:8080/"
        },
        "id": "je-HP5hfjntj",
        "outputId": "03f65c73-f1b7-4745-e695-20312ee19352"
      },
      "execution_count": 42,
      "outputs": [
        {
          "output_type": "stream",
          "name": "stdout",
          "text": [
            "SVM Accuracy Score (After Parameter Tuning):  86.63594470046083\n"
          ]
        }
      ]
    },
    {
      "cell_type": "code",
      "source": [
        "param_grid = {\n",
        "    'n_estimators' : [90, 100, 115, 130],   # Number of decision trees\n",
        "    'criterion': ['gini', 'entropy'],       # Splitting criteria\n",
        "    'max_features': ['log2', 'sqrt', None]  # Number of features to consider\n",
        "}\n",
        "\n",
        "word2vec_grid_rfc = GridSearchCV(RandomForestClassifier(), param_grid, cv=5, scoring='accuracy')\n",
        "word2vec_grid_rfc.fit(word2vec_train_X,word2vec_train_Y)\n",
        "\n",
        "print(\"Best Parameters:\", word2vec_grid_rfc.best_params_)\n",
        "print(\"Current Parameters:\", word2vec_grid_rfc.best_estimator_.get_params())"
      ],
      "metadata": {
        "colab": {
          "base_uri": "https://localhost:8080/"
        },
        "id": "tzNuzv5Wj0Le",
        "outputId": "397d0e0e-3b41-4d70-de96-2a2b4b028b8e"
      },
      "execution_count": 43,
      "outputs": [
        {
          "output_type": "stream",
          "name": "stdout",
          "text": [
            "Best Parameters: {'criterion': 'gini', 'max_features': 'log2', 'n_estimators': 100}\n",
            "Current Parameters: {'bootstrap': True, 'ccp_alpha': 0.0, 'class_weight': None, 'criterion': 'gini', 'max_depth': None, 'max_features': 'log2', 'max_leaf_nodes': None, 'max_samples': None, 'min_impurity_decrease': 0.0, 'min_samples_leaf': 1, 'min_samples_split': 2, 'min_weight_fraction_leaf': 0.0, 'n_estimators': 100, 'n_jobs': None, 'oob_score': False, 'random_state': None, 'verbose': 0, 'warm_start': False}\n"
          ]
        }
      ]
    },
    {
      "cell_type": "code",
      "source": [
        "word2vec_grid_rfc_predictions = word2vec_grid_rfc.predict(word2vec_test_X)\n",
        "print(\"RFC Accuracy Score (After Parameter Tuning): \", accuracy_score(word2vec_grid_rfc_predictions, word2vec_test_Y)*100)"
      ],
      "metadata": {
        "colab": {
          "base_uri": "https://localhost:8080/"
        },
        "id": "_LcR7jgAj4zn",
        "outputId": "e8a6c3f8-dcc1-4f1d-c2d6-92e15cc3eb4d"
      },
      "execution_count": 44,
      "outputs": [
        {
          "output_type": "stream",
          "name": "stdout",
          "text": [
            "RFC Accuracy Score (After Parameter Tuning):  88.47926267281106\n"
          ]
        }
      ]
    },
    {
      "cell_type": "markdown",
      "source": [
        "### Model Comparison\n",
        "After all the models have been trained and predictions made, it is time to compare the performance of each model with each vectorizer to find which model is the most suitable for this dataset.\n",
        "\n",
        "We start by calculating **the number of each label** to consider what average **score** to take since we are performing a **multiclass classification**.\n",
        "\n",
        "If the dataset has **class imbalance**, then *Weighted Average* can provide a more **representative evaluation** of the model performance across all classes. However, if we want to prioritise each class **evenly**, regardless of its frequency, then *Macro Average* may be more appropriate."
      ],
      "metadata": {
        "id": "AsFLbdK8eKS-"
      }
    },
    {
      "cell_type": "code",
      "source": [
        "business_count = df['label'].value_counts()['business']\n",
        "entertainment_count = df['label'].value_counts()['entertainment']\n",
        "sports_count = df['label'].value_counts()['sports']\n",
        "politics_count = df['label'].value_counts()['politics']\n",
        "\n",
        "print(\"Business data counter: \", business_count)\n",
        "print(\"Entertainment data counter: \", entertainment_count)\n",
        "print(\"Sports data counter: \", sports_count)\n",
        "print(\"Politics data counter: \", politics_count)"
      ],
      "metadata": {
        "colab": {
          "base_uri": "https://localhost:8080/"
        },
        "id": "lDVUwfStORuZ",
        "outputId": "4f095c62-4a34-4a51-fe22-217c1c9bf674"
      },
      "execution_count": 48,
      "outputs": [
        {
          "output_type": "stream",
          "name": "stdout",
          "text": [
            "Business data counter:  196\n",
            "Entertainment data counter:  150\n",
            "Sports data counter:  195\n",
            "Politics data counter:  180\n"
          ]
        }
      ]
    },
    {
      "cell_type": "markdown",
      "source": [
        "Since the number of labels is not too far apart, *Macro Average* will be used as an assessment for **Precision**, **Recall**, and **F1-Score**. (Note: this part can be adjusted according to the web scrapping results at the beginning, because each code run can produce a lot of different data)"
      ],
      "metadata": {
        "id": "l1HvE0MCfT-Y"
      }
    },
    {
      "cell_type": "code",
      "source": [
        "data = {\n",
        "    \"Text Representation\": [\n",
        "        \"TF-IDF\",\n",
        "        \"TF-IDF\",\n",
        "        \"Word2Vec\",\n",
        "        \"Word2Vec\"],\n",
        "    \"Machine Learning Algorithm\": [\n",
        "        \"SVM\",\n",
        "        \"Random Forest\",\n",
        "        \"SVM\",\n",
        "        \"Random Forest\"],\n",
        "    \"Machine Learning Parameter\": [\n",
        "        tfidf_grid_svm.get_params(),\n",
        "        tfidf_grid_rfc.get_params(),\n",
        "        word2vec_svm_model.get_params(),\n",
        "        word2vec_rfc_model.get_params()],\n",
        "    \"Accuracy\": [\n",
        "        accuracy_score(tfidf_test_Y, tfidf_grid_svm_predictions) * 100,\n",
        "        accuracy_score(tfidf_test_Y, tfidf_grid_rfc_predictions) * 100,\n",
        "        accuracy_score(word2vec_test_Y, word2vec_grid_svm_predictions) * 100,\n",
        "        accuracy_score(word2vec_test_Y, word2vec_grid_rfc_predictions) * 100],\n",
        "    \"Precision\": [\n",
        "        precision_score(tfidf_test_Y, tfidf_grid_svm_predictions, average='macro') * 100,\n",
        "        precision_score(tfidf_test_Y, tfidf_grid_rfc_predictions, average='macro') * 100,\n",
        "        precision_score(word2vec_test_Y, word2vec_grid_svm_predictions, average='macro') * 100,\n",
        "        precision_score(word2vec_test_Y, word2vec_grid_rfc_predictions, average='macro') * 100],\n",
        "    \"Recall\": [\n",
        "        recall_score(tfidf_test_Y, tfidf_grid_svm_predictions, average='macro') * 100,\n",
        "        recall_score(tfidf_test_Y, tfidf_grid_rfc_predictions, average='macro') * 100,\n",
        "        recall_score(word2vec_test_Y, word2vec_grid_svm_predictions, average='macro') * 100,\n",
        "        recall_score(word2vec_test_Y, word2vec_grid_rfc_predictions, average='macro') * 100],\n",
        "    \"F1-Score\": [\n",
        "        f1_score(tfidf_test_Y, tfidf_grid_svm_predictions, average='macro') * 100,\n",
        "        f1_score(tfidf_test_Y, tfidf_grid_rfc_predictions, average='macro') * 100,\n",
        "        f1_score(word2vec_test_Y, word2vec_grid_svm_predictions, average='macro') * 100,\n",
        "        f1_score(word2vec_test_Y, word2vec_grid_rfc_predictions, average='macro') * 100],\n",
        "}\n",
        "\n",
        "report = pd.DataFrame(data)\n",
        "report"
      ],
      "metadata": {
        "colab": {
          "base_uri": "https://localhost:8080/",
          "height": 175
        },
        "id": "nbANQBd0LCNS",
        "outputId": "b63ce1fc-7cef-4603-edd2-757232c7e6af"
      },
      "execution_count": 47,
      "outputs": [
        {
          "output_type": "execute_result",
          "data": {
            "text/plain": [
              "  Text Representation Machine Learning Algorithm  \\\n",
              "0              TF-IDF                        SVM   \n",
              "1              TF-IDF              Random Forest   \n",
              "2            Word2Vec                        SVM   \n",
              "3            Word2Vec              Random Forest   \n",
              "\n",
              "                          Machine Learning Parameter   Accuracy  Precision  \\\n",
              "0  {'cv': 5, 'error_score': nan, 'estimator__C': ...  88.479263  89.467935   \n",
              "1  {'cv': 5, 'error_score': nan, 'estimator__boot...  84.792627  85.643988   \n",
              "2  {'C': 1.0, 'break_ties': False, 'cache_size': ...  86.635945  86.490165   \n",
              "3  {'bootstrap': True, 'ccp_alpha': 0.0, 'class_w...  88.479263  88.119518   \n",
              "\n",
              "      Recall   F1-Score  \n",
              "0  89.272133  88.442591  \n",
              "1  85.457516  84.418769  \n",
              "2  86.835953  86.277243  \n",
              "3  88.545354  88.140833  "
            ],
            "text/html": [
              "\n",
              "  <div id=\"df-a47f6313-f407-430b-8909-ed74a2ce7dd7\" class=\"colab-df-container\">\n",
              "    <div>\n",
              "<style scoped>\n",
              "    .dataframe tbody tr th:only-of-type {\n",
              "        vertical-align: middle;\n",
              "    }\n",
              "\n",
              "    .dataframe tbody tr th {\n",
              "        vertical-align: top;\n",
              "    }\n",
              "\n",
              "    .dataframe thead th {\n",
              "        text-align: right;\n",
              "    }\n",
              "</style>\n",
              "<table border=\"1\" class=\"dataframe\">\n",
              "  <thead>\n",
              "    <tr style=\"text-align: right;\">\n",
              "      <th></th>\n",
              "      <th>Text Representation</th>\n",
              "      <th>Machine Learning Algorithm</th>\n",
              "      <th>Machine Learning Parameter</th>\n",
              "      <th>Accuracy</th>\n",
              "      <th>Precision</th>\n",
              "      <th>Recall</th>\n",
              "      <th>F1-Score</th>\n",
              "    </tr>\n",
              "  </thead>\n",
              "  <tbody>\n",
              "    <tr>\n",
              "      <th>0</th>\n",
              "      <td>TF-IDF</td>\n",
              "      <td>SVM</td>\n",
              "      <td>{'cv': 5, 'error_score': nan, 'estimator__C': ...</td>\n",
              "      <td>88.479263</td>\n",
              "      <td>89.467935</td>\n",
              "      <td>89.272133</td>\n",
              "      <td>88.442591</td>\n",
              "    </tr>\n",
              "    <tr>\n",
              "      <th>1</th>\n",
              "      <td>TF-IDF</td>\n",
              "      <td>Random Forest</td>\n",
              "      <td>{'cv': 5, 'error_score': nan, 'estimator__boot...</td>\n",
              "      <td>84.792627</td>\n",
              "      <td>85.643988</td>\n",
              "      <td>85.457516</td>\n",
              "      <td>84.418769</td>\n",
              "    </tr>\n",
              "    <tr>\n",
              "      <th>2</th>\n",
              "      <td>Word2Vec</td>\n",
              "      <td>SVM</td>\n",
              "      <td>{'C': 1.0, 'break_ties': False, 'cache_size': ...</td>\n",
              "      <td>86.635945</td>\n",
              "      <td>86.490165</td>\n",
              "      <td>86.835953</td>\n",
              "      <td>86.277243</td>\n",
              "    </tr>\n",
              "    <tr>\n",
              "      <th>3</th>\n",
              "      <td>Word2Vec</td>\n",
              "      <td>Random Forest</td>\n",
              "      <td>{'bootstrap': True, 'ccp_alpha': 0.0, 'class_w...</td>\n",
              "      <td>88.479263</td>\n",
              "      <td>88.119518</td>\n",
              "      <td>88.545354</td>\n",
              "      <td>88.140833</td>\n",
              "    </tr>\n",
              "  </tbody>\n",
              "</table>\n",
              "</div>\n",
              "    <div class=\"colab-df-buttons\">\n",
              "\n",
              "  <div class=\"colab-df-container\">\n",
              "    <button class=\"colab-df-convert\" onclick=\"convertToInteractive('df-a47f6313-f407-430b-8909-ed74a2ce7dd7')\"\n",
              "            title=\"Convert this dataframe to an interactive table.\"\n",
              "            style=\"display:none;\">\n",
              "\n",
              "  <svg xmlns=\"http://www.w3.org/2000/svg\" height=\"24px\" viewBox=\"0 -960 960 960\">\n",
              "    <path d=\"M120-120v-720h720v720H120Zm60-500h600v-160H180v160Zm220 220h160v-160H400v160Zm0 220h160v-160H400v160ZM180-400h160v-160H180v160Zm440 0h160v-160H620v160ZM180-180h160v-160H180v160Zm440 0h160v-160H620v160Z\"/>\n",
              "  </svg>\n",
              "    </button>\n",
              "\n",
              "  <style>\n",
              "    .colab-df-container {\n",
              "      display:flex;\n",
              "      gap: 12px;\n",
              "    }\n",
              "\n",
              "    .colab-df-convert {\n",
              "      background-color: #E8F0FE;\n",
              "      border: none;\n",
              "      border-radius: 50%;\n",
              "      cursor: pointer;\n",
              "      display: none;\n",
              "      fill: #1967D2;\n",
              "      height: 32px;\n",
              "      padding: 0 0 0 0;\n",
              "      width: 32px;\n",
              "    }\n",
              "\n",
              "    .colab-df-convert:hover {\n",
              "      background-color: #E2EBFA;\n",
              "      box-shadow: 0px 1px 2px rgba(60, 64, 67, 0.3), 0px 1px 3px 1px rgba(60, 64, 67, 0.15);\n",
              "      fill: #174EA6;\n",
              "    }\n",
              "\n",
              "    .colab-df-buttons div {\n",
              "      margin-bottom: 4px;\n",
              "    }\n",
              "\n",
              "    [theme=dark] .colab-df-convert {\n",
              "      background-color: #3B4455;\n",
              "      fill: #D2E3FC;\n",
              "    }\n",
              "\n",
              "    [theme=dark] .colab-df-convert:hover {\n",
              "      background-color: #434B5C;\n",
              "      box-shadow: 0px 1px 3px 1px rgba(0, 0, 0, 0.15);\n",
              "      filter: drop-shadow(0px 1px 2px rgba(0, 0, 0, 0.3));\n",
              "      fill: #FFFFFF;\n",
              "    }\n",
              "  </style>\n",
              "\n",
              "    <script>\n",
              "      const buttonEl =\n",
              "        document.querySelector('#df-a47f6313-f407-430b-8909-ed74a2ce7dd7 button.colab-df-convert');\n",
              "      buttonEl.style.display =\n",
              "        google.colab.kernel.accessAllowed ? 'block' : 'none';\n",
              "\n",
              "      async function convertToInteractive(key) {\n",
              "        const element = document.querySelector('#df-a47f6313-f407-430b-8909-ed74a2ce7dd7');\n",
              "        const dataTable =\n",
              "          await google.colab.kernel.invokeFunction('convertToInteractive',\n",
              "                                                    [key], {});\n",
              "        if (!dataTable) return;\n",
              "\n",
              "        const docLinkHtml = 'Like what you see? Visit the ' +\n",
              "          '<a target=\"_blank\" href=https://colab.research.google.com/notebooks/data_table.ipynb>data table notebook</a>'\n",
              "          + ' to learn more about interactive tables.';\n",
              "        element.innerHTML = '';\n",
              "        dataTable['output_type'] = 'display_data';\n",
              "        await google.colab.output.renderOutput(dataTable, element);\n",
              "        const docLink = document.createElement('div');\n",
              "        docLink.innerHTML = docLinkHtml;\n",
              "        element.appendChild(docLink);\n",
              "      }\n",
              "    </script>\n",
              "  </div>\n",
              "\n",
              "\n",
              "<div id=\"df-b724d5e3-ff0d-44d5-8326-28157f021df3\">\n",
              "  <button class=\"colab-df-quickchart\" onclick=\"quickchart('df-b724d5e3-ff0d-44d5-8326-28157f021df3')\"\n",
              "            title=\"Suggest charts\"\n",
              "            style=\"display:none;\">\n",
              "\n",
              "<svg xmlns=\"http://www.w3.org/2000/svg\" height=\"24px\"viewBox=\"0 0 24 24\"\n",
              "     width=\"24px\">\n",
              "    <g>\n",
              "        <path d=\"M19 3H5c-1.1 0-2 .9-2 2v14c0 1.1.9 2 2 2h14c1.1 0 2-.9 2-2V5c0-1.1-.9-2-2-2zM9 17H7v-7h2v7zm4 0h-2V7h2v10zm4 0h-2v-4h2v4z\"/>\n",
              "    </g>\n",
              "</svg>\n",
              "  </button>\n",
              "\n",
              "<style>\n",
              "  .colab-df-quickchart {\n",
              "      --bg-color: #E8F0FE;\n",
              "      --fill-color: #1967D2;\n",
              "      --hover-bg-color: #E2EBFA;\n",
              "      --hover-fill-color: #174EA6;\n",
              "      --disabled-fill-color: #AAA;\n",
              "      --disabled-bg-color: #DDD;\n",
              "  }\n",
              "\n",
              "  [theme=dark] .colab-df-quickchart {\n",
              "      --bg-color: #3B4455;\n",
              "      --fill-color: #D2E3FC;\n",
              "      --hover-bg-color: #434B5C;\n",
              "      --hover-fill-color: #FFFFFF;\n",
              "      --disabled-bg-color: #3B4455;\n",
              "      --disabled-fill-color: #666;\n",
              "  }\n",
              "\n",
              "  .colab-df-quickchart {\n",
              "    background-color: var(--bg-color);\n",
              "    border: none;\n",
              "    border-radius: 50%;\n",
              "    cursor: pointer;\n",
              "    display: none;\n",
              "    fill: var(--fill-color);\n",
              "    height: 32px;\n",
              "    padding: 0;\n",
              "    width: 32px;\n",
              "  }\n",
              "\n",
              "  .colab-df-quickchart:hover {\n",
              "    background-color: var(--hover-bg-color);\n",
              "    box-shadow: 0 1px 2px rgba(60, 64, 67, 0.3), 0 1px 3px 1px rgba(60, 64, 67, 0.15);\n",
              "    fill: var(--button-hover-fill-color);\n",
              "  }\n",
              "\n",
              "  .colab-df-quickchart-complete:disabled,\n",
              "  .colab-df-quickchart-complete:disabled:hover {\n",
              "    background-color: var(--disabled-bg-color);\n",
              "    fill: var(--disabled-fill-color);\n",
              "    box-shadow: none;\n",
              "  }\n",
              "\n",
              "  .colab-df-spinner {\n",
              "    border: 2px solid var(--fill-color);\n",
              "    border-color: transparent;\n",
              "    border-bottom-color: var(--fill-color);\n",
              "    animation:\n",
              "      spin 1s steps(1) infinite;\n",
              "  }\n",
              "\n",
              "  @keyframes spin {\n",
              "    0% {\n",
              "      border-color: transparent;\n",
              "      border-bottom-color: var(--fill-color);\n",
              "      border-left-color: var(--fill-color);\n",
              "    }\n",
              "    20% {\n",
              "      border-color: transparent;\n",
              "      border-left-color: var(--fill-color);\n",
              "      border-top-color: var(--fill-color);\n",
              "    }\n",
              "    30% {\n",
              "      border-color: transparent;\n",
              "      border-left-color: var(--fill-color);\n",
              "      border-top-color: var(--fill-color);\n",
              "      border-right-color: var(--fill-color);\n",
              "    }\n",
              "    40% {\n",
              "      border-color: transparent;\n",
              "      border-right-color: var(--fill-color);\n",
              "      border-top-color: var(--fill-color);\n",
              "    }\n",
              "    60% {\n",
              "      border-color: transparent;\n",
              "      border-right-color: var(--fill-color);\n",
              "    }\n",
              "    80% {\n",
              "      border-color: transparent;\n",
              "      border-right-color: var(--fill-color);\n",
              "      border-bottom-color: var(--fill-color);\n",
              "    }\n",
              "    90% {\n",
              "      border-color: transparent;\n",
              "      border-bottom-color: var(--fill-color);\n",
              "    }\n",
              "  }\n",
              "</style>\n",
              "\n",
              "  <script>\n",
              "    async function quickchart(key) {\n",
              "      const quickchartButtonEl =\n",
              "        document.querySelector('#' + key + ' button');\n",
              "      quickchartButtonEl.disabled = true;  // To prevent multiple clicks.\n",
              "      quickchartButtonEl.classList.add('colab-df-spinner');\n",
              "      try {\n",
              "        const charts = await google.colab.kernel.invokeFunction(\n",
              "            'suggestCharts', [key], {});\n",
              "      } catch (error) {\n",
              "        console.error('Error during call to suggestCharts:', error);\n",
              "      }\n",
              "      quickchartButtonEl.classList.remove('colab-df-spinner');\n",
              "      quickchartButtonEl.classList.add('colab-df-quickchart-complete');\n",
              "    }\n",
              "    (() => {\n",
              "      let quickchartButtonEl =\n",
              "        document.querySelector('#df-b724d5e3-ff0d-44d5-8326-28157f021df3 button');\n",
              "      quickchartButtonEl.style.display =\n",
              "        google.colab.kernel.accessAllowed ? 'block' : 'none';\n",
              "    })();\n",
              "  </script>\n",
              "</div>\n",
              "    </div>\n",
              "  </div>\n"
            ],
            "application/vnd.google.colaboratory.intrinsic+json": {
              "type": "dataframe",
              "variable_name": "report",
              "summary": "{\n  \"name\": \"report\",\n  \"rows\": 4,\n  \"fields\": [\n    {\n      \"column\": \"Text Representation\",\n      \"properties\": {\n        \"dtype\": \"string\",\n        \"num_unique_values\": 2,\n        \"samples\": [\n          \"Word2Vec\",\n          \"TF-IDF\"\n        ],\n        \"semantic_type\": \"\",\n        \"description\": \"\"\n      }\n    },\n    {\n      \"column\": \"Machine Learning Algorithm\",\n      \"properties\": {\n        \"dtype\": \"string\",\n        \"num_unique_values\": 2,\n        \"samples\": [\n          \"Random Forest\",\n          \"SVM\"\n        ],\n        \"semantic_type\": \"\",\n        \"description\": \"\"\n      }\n    },\n    {\n      \"column\": \"Machine Learning Parameter\",\n      \"properties\": {\n        \"dtype\": \"object\",\n        \"semantic_type\": \"\",\n        \"description\": \"\"\n      }\n    },\n    {\n      \"column\": \"Accuracy\",\n      \"properties\": {\n        \"dtype\": \"number\",\n        \"std\": 1.764842594942557,\n        \"min\": 84.7926267281106,\n        \"max\": 88.47926267281106,\n        \"num_unique_values\": 3,\n        \"samples\": [\n          88.47926267281106,\n          84.7926267281106\n        ],\n        \"semantic_type\": \"\",\n        \"description\": \"\"\n      }\n    },\n    {\n      \"column\": \"Precision\",\n      \"properties\": {\n        \"dtype\": \"number\",\n        \"std\": 1.7031091939109146,\n        \"min\": 85.64398801882756,\n        \"max\": 89.46793516560959,\n        \"num_unique_values\": 4,\n        \"samples\": [\n          85.64398801882756,\n          88.11951754385964\n        ],\n        \"semantic_type\": \"\",\n        \"description\": \"\"\n      }\n    },\n    {\n      \"column\": \"Recall\",\n      \"properties\": {\n        \"dtype\": \"number\",\n        \"std\": 1.7168616792162101,\n        \"min\": 85.45751633986927,\n        \"max\": 89.27213309566251,\n        \"num_unique_values\": 4,\n        \"samples\": [\n          85.45751633986927,\n          88.54535448131507\n        ],\n        \"semantic_type\": \"\",\n        \"description\": \"\"\n      }\n    },\n    {\n      \"column\": \"F1-Score\",\n      \"properties\": {\n        \"dtype\": \"number\",\n        \"std\": 1.8652877777518755,\n        \"min\": 84.41876929409344,\n        \"max\": 88.44259149824968,\n        \"num_unique_values\": 4,\n        \"samples\": [\n          84.41876929409344,\n          88.14083256545263\n        ],\n        \"semantic_type\": \"\",\n        \"description\": \"\"\n      }\n    }\n  ]\n}"
            }
          },
          "metadata": {},
          "execution_count": 47
        }
      ]
    },
    {
      "cell_type": "markdown",
      "source": [
        "### Conclusion\n",
        "1. **TF-IDF vs. Word2Vec Representation**:\n",
        "   - TF-IDF representation achieved slightly higher accuracy for both SVM and Random Forest compared to Word2Vec.\n",
        "   - However, the differences in accuracy are not substantial, indicating that both representations perform reasonably well.\n",
        "\n",
        "2. **SVM vs. Random Forest**:\n",
        "   - For both TF-IDF and Word2Vec representations, SVM consistently outperformed Random Forest in terms of accuracy, precision, recall, and F1-score.\n",
        "   - SVM achieved higher scores across all metrics for both TF-IDF and Word2Vec representations.\n",
        "\n",
        "3. **Parameter Tuning**:\n",
        "   - The machine learning parameters provided for both SVM and Random Forest models were effective in achieving good performance, as evidenced by high accuracy, precision, recall, and F1-score values.\n",
        "\n",
        "4. **Overall Performance**:\n",
        "   - TF-IDF representation combined with SVM and Word2Vec representation combined with Random Forest, resulted in equally good performance among all combinations, with the highest accuracy of 88.48%.\n",
        "\n",
        "In summary, based on the provided results, using SVM with TF-IDF representation and Random Forest with Word2Vec representation appears to be the most effective approach for the given task, achieving the highest accuracy among the evaluated combinations."
      ],
      "metadata": {
        "id": "FmAfrglt_uuL"
      }
    }
  ]
}